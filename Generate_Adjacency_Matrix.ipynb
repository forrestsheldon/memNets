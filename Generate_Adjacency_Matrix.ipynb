{
 "metadata": {
  "name": "",
  "signature": "sha256:b3f2cfd1543f4559aa62dc04168d5ba3c0cf7ee805c327ec601bb9e42a4f8f19"
 },
 "nbformat": 3,
 "nbformat_minor": 0,
 "worksheets": [
  {
   "cells": [
    {
     "cell_type": "heading",
     "level": 1,
     "metadata": {},
     "source": [
      "Generating Adjacency Matrices"
     ]
    },
    {
     "cell_type": "markdown",
     "metadata": {},
     "source": [
      "In this notebook I will put together some routines for creating various types of adjacency matrices.  Most of these have been started elsewhere, but I would like to accumulate them here to go into a package."
     ]
    },
    {
     "cell_type": "code",
     "collapsed": false,
     "input": [
      "import numpy as np\n",
      "import scipy as sp\n",
      "import scipy.sparse as sparse"
     ],
     "language": "python",
     "metadata": {},
     "outputs": [],
     "prompt_number": 1
    },
    {
     "cell_type": "heading",
     "level": 2,
     "metadata": {},
     "source": [
      "1D Chain"
     ]
    },
    {
     "cell_type": "code",
     "collapsed": false,
     "input": [
      "def chain_1d(N, directed=False, bias=0.5):\n",
      "    \"\"\"\n",
      "    Returns the adjacency matrix for a 1D chain in CSR format.  The default behavior returns an undirected network.\n",
      "    The bias gives the probability that a bond goes from i to i+1 versus i+1 to i\n",
      "    \"\"\"\n",
      "    A = sparse.lil_matrix((N, N))\n",
      "    for node in range(N-1):\n",
      "        if directed:\n",
      "            if np.random.rand() > bias:\n",
      "                A[node+1, node] = 1.\n",
      "            else:\n",
      "                A[node, node+1] = 1.\n",
      "        else:\n",
      "            A[node, node+1] = 1.\n",
      "    return A.tocsr()\n"
     ],
     "language": "python",
     "metadata": {},
     "outputs": [],
     "prompt_number": 2
    },
    {
     "cell_type": "code",
     "collapsed": false,
     "input": [
      "A = chain_1d(5, directed=True)\n",
      "A.todense()"
     ],
     "language": "python",
     "metadata": {},
     "outputs": [
      {
       "metadata": {},
       "output_type": "pyout",
       "prompt_number": 3,
       "text": [
        "matrix([[ 0.,  1.,  0.,  0.,  0.],\n",
        "        [ 0.,  0.,  0.,  0.,  0.],\n",
        "        [ 0.,  1.,  0.,  1.,  0.],\n",
        "        [ 0.,  0.,  0.,  0.,  0.],\n",
        "        [ 0.,  0.,  0.,  1.,  0.]])"
       ]
      }
     ],
     "prompt_number": 3
    },
    {
     "cell_type": "heading",
     "level": 2,
     "metadata": {},
     "source": [
      "2D Cubic"
     ]
    },
    {
     "cell_type": "code",
     "collapsed": false,
     "input": [
      "def cubic_2d(lattice_shape, undirected=True, xbias=1, ybias=1 ):\n",
      "    \"\"\"\n",
      "    Returns an adjacency matrix for a 2D cubic lattice with number of nodes specified by\n",
      "    lattice_shape.  If a directed network is requested with no bias, the default configuration is\n",
      "    all bonds going from left to right and top to bottom. (recalling that we index nodes across\n",
      "    rows then columns).  The xbias and ybias give the probability that a bond goes from left to\n",
      "    right versus RL and top to bottom versus BT respectively.\n",
      "    \"\"\"\n",
      "    num_ynodes, num_xnodes = lattice_shape\n",
      "    num_nodes = num_xnodes * num_ynodes\n",
      "    \n",
      "    A = sparse.lil_matrix((num_nodes, num_nodes))\n",
      "    \n",
      "    # Form bond arrays to fill in row bonds and column bonds of the lattice\n",
      "    x_bonds = np.ones(num_xnodes-1)\n",
      "    y_bonds = np.ones(num_ynodes-1)\n",
      "    \n",
      "    # connect each row node to its neighbor to the right\n",
      "    for first_row_node in range(0, num_nodes, num_xnodes):\n",
      "         A[range(first_row_node, first_row_node + num_xnodes - 1),\\\n",
      "          range(first_row_node + 1, first_row_node + num_xnodes)] = x_bonds\n",
      "    \n",
      "    # connect each column node to its neighbor below\n",
      "    for first_col_node in range(0, num_xnodes):\n",
      "         A[range(first_col_node, num_nodes - num_xnodes, num_xnodes),\\\n",
      "          range(first_col_node + num_xnodes, num_nodes, num_xnodes)] = y_bonds\n",
      "    \n",
      "    # If we want an undirected network, just return the symmetrized form\n",
      "    if undirected:\n",
      "        A = A.tocsr()\n",
      "        return A + A.T\n",
      "    else:\n",
      "        # If we want to toggle the direction of the elements (default direction is right and down)\n",
      "        if (xbias != 1) or (ybias !=1):\n",
      "            rows, cols = A.nonzero()\n",
      "        \n",
      "            for i, j in zip(rows, cols):\n",
      "                if np.abs(i-j) == 1: # row bond\n",
      "                    if np.random.rand() > xbias: # overcome the bias with probability 1-xbias\n",
      "                        A[i, j] = 0\n",
      "                        A[j, i] = 1\n",
      "                else: #column bond\n",
      "                    if np.random.rand() > ybias:\n",
      "                        A[i, j] = 0\n",
      "                        A[j, i] = 1\n",
      "        return A.tocsr()"
     ],
     "language": "python",
     "metadata": {},
     "outputs": [],
     "prompt_number": 4
    },
    {
     "cell_type": "code",
     "collapsed": false,
     "input": [
      "cubic_2d((3, 2), undirected=False, xbias=0.5, ybias=0.5).todense()"
     ],
     "language": "python",
     "metadata": {},
     "outputs": [
      {
       "metadata": {},
       "output_type": "pyout",
       "prompt_number": 5,
       "text": [
        "matrix([[ 0.,  0.,  0.,  0.,  0.,  0.],\n",
        "        [ 1.,  0.,  0.,  1.,  0.,  0.],\n",
        "        [ 1.,  0.,  0.,  0.,  0.,  0.],\n",
        "        [ 0.,  0.,  1.,  0.,  0.,  0.],\n",
        "        [ 0.,  0.,  1.,  0.,  0.,  0.],\n",
        "        [ 0.,  0.,  0.,  1.,  1.,  0.]])"
       ]
      }
     ],
     "prompt_number": 5
    },
    {
     "cell_type": "code",
     "collapsed": false,
     "input": [
      "def cubic_2d_random(lattice_shape, concentration, undirected=True, single_bond=False, xbias=1, ybias=1):\n",
      "    \"\"\"\n",
      "    Returns a random 2d lattice with specified concentration in CSR format.  Besides an undirected\n",
      "    network, we may also generate random directed networks of a specified concentration. The\n",
      "    single_bond variable specified whether we may have bonds in both directions or only in one\n",
      "    at a time. The xbias and ybias give the probability that a bond goes from left to\n",
      "    right versus RL and top to bottom versus BT respectively.\n",
      "    \"\"\"\n",
      "    # for an undirected network, we begin with a directed network, choose which bonds to keep and then symmetrize\n",
      "    # Changing the sparsity structure of LIL matrices is faster\n",
      "    if undirected:\n",
      "        A = cubic_2d(lattice_shape, undirected=False).tolil()\n",
      "    # if we want a multiple bond network, we begin with a full undirected network\n",
      "    elif not single_bond:\n",
      "        A = cubic_2d(lattice_shape).tolil()\n",
      "    # for a single bond network, we begin with the directed network and then prune\n",
      "    elif single_bond:\n",
      "        A = cubic_2d(lattice_shape, undirected=False, xbias=xbias, ybias=ybias).tolil()\n",
      "    else:\n",
      "        print \"Invalid parameters defining lattice.  Check undirected and single_bond\"\n",
      "    \n",
      "    # Get nonzero indices\n",
      "    rows, cols = A.nonzero()\n",
      "    # Loop over nonzero elements\n",
      "    for i, j in zip(rows, cols):\n",
      "        if np.random.rand() > concentration:   # Delete the bond with probability 1-concentration\n",
      "            A[i, j] = 0\n",
      "    \n",
      "    A = A.tocsr()\n",
      "    if undirected: # symmetrize before returning\n",
      "        return A + A.T\n",
      "    else:\n",
      "        return A"
     ],
     "language": "python",
     "metadata": {},
     "outputs": [],
     "prompt_number": 6
    },
    {
     "cell_type": "code",
     "collapsed": false,
     "input": [
      "cubic_2d((10,10), undirected=False)"
     ],
     "language": "python",
     "metadata": {},
     "outputs": [
      {
       "metadata": {},
       "output_type": "pyout",
       "prompt_number": 7,
       "text": [
        "<100x100 sparse matrix of type '<type 'numpy.float64'>'\n",
        "\twith 180 stored elements in Compressed Sparse Row format>"
       ]
      }
     ],
     "prompt_number": 7
    },
    {
     "cell_type": "code",
     "collapsed": false,
     "input": [
      "cubic_2d_random((3, 3), 0.5, undirected=False, single_bond=True).todense()"
     ],
     "language": "python",
     "metadata": {},
     "outputs": [
      {
       "metadata": {},
       "output_type": "pyout",
       "prompt_number": 8,
       "text": [
        "matrix([[ 0.,  0.,  0.,  0.,  0.,  0.,  0.,  0.,  0.],\n",
        "        [ 0.,  0.,  1.,  0.,  0.,  0.,  0.,  0.,  0.],\n",
        "        [ 0.,  0.,  0.,  0.,  0.,  0.,  0.,  0.,  0.],\n",
        "        [ 0.,  0.,  0.,  0.,  0.,  0.,  1.,  0.,  0.],\n",
        "        [ 0.,  0.,  0.,  0.,  0.,  1.,  0.,  1.,  0.],\n",
        "        [ 0.,  0.,  0.,  0.,  0.,  0.,  0.,  0.,  0.],\n",
        "        [ 0.,  0.,  0.,  0.,  0.,  0.,  0.,  1.,  0.],\n",
        "        [ 0.,  0.,  0.,  0.,  0.,  0.,  0.,  0.,  1.],\n",
        "        [ 0.,  0.,  0.,  0.,  0.,  0.,  0.,  0.,  0.]])"
       ]
      }
     ],
     "prompt_number": 8
    },
    {
     "cell_type": "code",
     "collapsed": false,
     "input": [
      "def cubic_2d_cylinder(lattice_shape, undirected=True, xbias=1, ybias=1 ):\n",
      "    \"\"\"\n",
      "    Similar to the 2d cubic lattice except that lattice wraps around and connects to itself between\n",
      "    the first and last column\n",
      "    \"\"\"\n",
      "    num_ynodes, num_xnodes = lattice_shape\n",
      "    num_nodes = num_xnodes * num_ynodes\n",
      "    \n",
      "    A = sparse.lil_matrix((num_nodes, num_nodes))\n",
      "    \n",
      "    # Form bond arrays to fill in row bonds and column bonds of the lattice\n",
      "    x_bonds = np.ones(num_xnodes)\n",
      "    y_bonds = np.ones(num_ynodes-1)\n",
      "    \n",
      "    # connect each row node to its neighbor to the right\n",
      "    for first_row_node in range(0, num_nodes, num_xnodes):\n",
      "         A[range(first_row_node, first_row_node + num_xnodes),\\\n",
      "          range(first_row_node + 1, first_row_node + num_xnodes) + [first_row_node]] = x_bonds\n",
      "    \n",
      "    # connect each column node to its neighbor below\n",
      "    for first_col_node in range(0, num_xnodes):\n",
      "         A[range(first_col_node, num_nodes - num_xnodes, num_xnodes),\\\n",
      "          range(first_col_node + num_xnodes, num_nodes, num_xnodes)] = y_bonds\n",
      "    \n",
      "    # If we want an undirected network, just return the symmetrized form\n",
      "    if undirected:\n",
      "        A = A.tocsr()\n",
      "        return A + A.T\n",
      "    else:\n",
      "        # If we want to toggle the direction of the elements (default direction is right and down)\n",
      "        if (xbias != 1) or (ybias !=1):\n",
      "            rows, cols = A.nonzero()\n",
      "        \n",
      "            for i, j in zip(rows, cols):\n",
      "                if np.abs(i-j) == 1 or np.abs(i-j) == num_xnodes-1: # row bond\n",
      "                    if np.random.rand() > xbias: # overcome the bias with probability 1-xbias\n",
      "                        A[i, j] = 0\n",
      "                        A[j, i] = 1\n",
      "                elif np.abs(i-j) == num_xnodes: #column bond\n",
      "                    if np.random.rand() > ybias:\n",
      "                        A[i, j] = 0\n",
      "                        A[j, i] = 1\n",
      "                else:\n",
      "                    print \"Bond %d to %d is neither row nor column bond\" % (i, j)\n",
      "                \n",
      "        return A.tocsr()"
     ],
     "language": "python",
     "metadata": {},
     "outputs": [],
     "prompt_number": 9
    },
    {
     "cell_type": "code",
     "collapsed": false,
     "input": [
      "cubic_2d_cylinder((3, 3)).todense()"
     ],
     "language": "python",
     "metadata": {},
     "outputs": [
      {
       "metadata": {},
       "output_type": "pyout",
       "prompt_number": 10,
       "text": [
        "matrix([[ 0.,  1.,  1.,  1.,  0.,  0.,  0.,  0.,  0.],\n",
        "        [ 1.,  0.,  1.,  0.,  1.,  0.,  0.,  0.,  0.],\n",
        "        [ 1.,  1.,  0.,  0.,  0.,  1.,  0.,  0.,  0.],\n",
        "        [ 1.,  0.,  0.,  0.,  1.,  1.,  1.,  0.,  0.],\n",
        "        [ 0.,  1.,  0.,  1.,  0.,  1.,  0.,  1.,  0.],\n",
        "        [ 0.,  0.,  1.,  1.,  1.,  0.,  0.,  0.,  1.],\n",
        "        [ 0.,  0.,  0.,  1.,  0.,  0.,  0.,  1.,  1.],\n",
        "        [ 0.,  0.,  0.,  0.,  1.,  0.,  1.,  0.,  1.],\n",
        "        [ 0.,  0.,  0.,  0.,  0.,  1.,  1.,  1.,  0.]])"
       ]
      }
     ],
     "prompt_number": 10
    },
    {
     "cell_type": "code",
     "collapsed": false,
     "input": [
      "def cubic_2d_diagonal_periodic(lattice_shape):\n",
      "    \"\"\"\n",
      "    Returns the adjacency matrix for a 2D square lattice in sparse matrix form. The lattice is meant to be\n",
      "    thought of as a displayed 'diagonally' with the corners of the lattice pointing up and periodic boundary conditions.\n",
      "    \"\"\"\n",
      "    num_ynodes, num_xnodes = lattice_shape\n",
      "    num_nodes = num_xnodes * num_ynodes\n",
      "    \n",
      "    A = sparse.lil_matrix((num_nodes, num_nodes))\n",
      "    \n",
      "    # Connect all nodes to the row below them\n",
      "    for node in range(num_nodes - num_xnodes):\n",
      "        A[node, node + num_xnodes] = 1\n",
      "        \n",
      "        row_index = node / num_xnodes\n",
      "        row_parity = row_index % 2\n",
      "        if row_parity == 0:\n",
      "            if node % num_xnodes == 0:\n",
      "                A[node, node + 2*num_xnodes - 1] = 1\n",
      "            else:\n",
      "                A[node, node + num_xnodes - 1] = 1\n",
      "        elif row_parity == 1:\n",
      "            if node % num_xnodes == num_xnodes - 1:\n",
      "                A[node, node + 1] = 1\n",
      "            else:\n",
      "                A[node, node + num_xnodes + 1] = 1\n",
      "        else:\n",
      "            print \"Seems there's a problem\"\n",
      "        \n",
      "    A.tocsr()\n",
      "    \n",
      "    return A + A.T"
     ],
     "language": "python",
     "metadata": {},
     "outputs": [],
     "prompt_number": 9
    },
    {
     "cell_type": "code",
     "collapsed": false,
     "input": [
      "cubic_2d_diagonal_periodic((3, 4)).todense()"
     ],
     "language": "python",
     "metadata": {},
     "outputs": [
      {
       "metadata": {},
       "output_type": "pyout",
       "prompt_number": 10,
       "text": [
        "matrix([[ 0.,  0.,  0.,  0.,  1.,  0.,  0.,  1.,  0.,  0.,  0.,  0.],\n",
        "        [ 0.,  0.,  0.,  0.,  1.,  1.,  0.,  0.,  0.,  0.,  0.,  0.],\n",
        "        [ 0.,  0.,  0.,  0.,  0.,  1.,  1.,  0.,  0.,  0.,  0.,  0.],\n",
        "        [ 0.,  0.,  0.,  0.,  0.,  0.,  1.,  1.,  0.,  0.,  0.,  0.],\n",
        "        [ 1.,  1.,  0.,  0.,  0.,  0.,  0.,  0.,  1.,  1.,  0.,  0.],\n",
        "        [ 0.,  1.,  1.,  0.,  0.,  0.,  0.,  0.,  0.,  1.,  1.,  0.],\n",
        "        [ 0.,  0.,  1.,  1.,  0.,  0.,  0.,  0.,  0.,  0.,  1.,  1.],\n",
        "        [ 1.,  0.,  0.,  1.,  0.,  0.,  0.,  0.,  1.,  0.,  0.,  1.],\n",
        "        [ 0.,  0.,  0.,  0.,  1.,  0.,  0.,  1.,  0.,  0.,  0.,  0.],\n",
        "        [ 0.,  0.,  0.,  0.,  1.,  1.,  0.,  0.,  0.,  0.,  0.,  0.],\n",
        "        [ 0.,  0.,  0.,  0.,  0.,  1.,  1.,  0.,  0.,  0.,  0.,  0.],\n",
        "        [ 0.,  0.,  0.,  0.,  0.,  0.,  1.,  1.,  0.,  0.,  0.,  0.]])"
       ]
      }
     ],
     "prompt_number": 10
    },
    {
     "cell_type": "heading",
     "level": 2,
     "metadata": {},
     "source": [
      "Random"
     ]
    },
    {
     "cell_type": "code",
     "collapsed": false,
     "input": [
      "def random_graph(num_nodes, p, undirected=True):\n",
      "    \"\"\"\n",
      "    Generates an adjacency matrix for a random graph of num_nodes nodes at a concentration p. If undirected=False, bonds\n",
      "    are considered in both directions (ij and ji) independently.\n",
      "    \"\"\"\n",
      "    # Generate a random array between 0 and 1\n",
      "    A = np.random.rand(num_nodes, num_nodes)\n",
      "    # Set all elements less than p to 1 and the rest to 0\n",
      "    A = np.asarray(A < p, dtype=float)\n",
      "    # Nodes cannot be connected to themselves\n",
      "    A[np.diag_indices(num_nodes)] = 0\n",
      "    # If we don't care about direction, return this\n",
      "    if undirected==False:\n",
      "        return sparse.csr_matrix(A)\n",
      "    else:                                                   # Otherwise, only keep the upper triangle and symmetrize\n",
      "        A = np.triu(A)\n",
      "        return sparse.csr_matrix(A + A.T)"
     ],
     "language": "python",
     "metadata": {},
     "outputs": [],
     "prompt_number": 24
    },
    {
     "cell_type": "code",
     "collapsed": false,
     "input": [
      "random_graph(10, 0.5).todense()"
     ],
     "language": "python",
     "metadata": {},
     "outputs": [
      {
       "metadata": {},
       "output_type": "pyout",
       "prompt_number": 25,
       "text": [
        "matrix([[ 0.,  0.,  1.,  0.,  1.,  0.,  1.,  0.,  0.,  1.],\n",
        "        [ 0.,  0.,  0.,  1.,  0.,  0.,  0.,  0.,  0.,  1.],\n",
        "        [ 1.,  0.,  0.,  1.,  0.,  1.,  0.,  0.,  1.,  1.],\n",
        "        [ 0.,  1.,  1.,  0.,  0.,  0.,  0.,  0.,  1.,  1.],\n",
        "        [ 1.,  0.,  0.,  0.,  0.,  0.,  0.,  1.,  0.,  1.],\n",
        "        [ 0.,  0.,  1.,  0.,  0.,  0.,  1.,  1.,  0.,  0.],\n",
        "        [ 1.,  0.,  0.,  0.,  0.,  1.,  0.,  1.,  1.,  1.],\n",
        "        [ 0.,  0.,  0.,  0.,  1.,  1.,  1.,  0.,  1.,  0.],\n",
        "        [ 0.,  0.,  1.,  1.,  0.,  0.,  1.,  1.,  0.,  0.],\n",
        "        [ 1.,  1.,  1.,  1.,  1.,  0.,  1.,  0.,  0.,  0.]])"
       ]
      }
     ],
     "prompt_number": 25
    },
    {
     "cell_type": "heading",
     "level": 2,
     "metadata": {},
     "source": [
      "Nearest Neighbor"
     ]
    },
    {
     "cell_type": "code",
     "collapsed": false,
     "input": [
      "def nearest_neighbor(num_nodes, k, undirected=True):\n",
      "    \"\"\"\n",
      "    Generates an adjacency matrix for a ring of nodes, each connected to their k nearest neighbors.  Note that k must be even.\n",
      "    If the directed option is selected, each bond has an even chance to point forward or backward.  Takes as arguments:\n",
      "    \n",
      "    num_nodes - the number of nodes in the network\n",
      "    k         - the number of nearest neighbors in the network\n",
      "    \"\"\"\n",
      "    if k % 2 == 1:\n",
      "        print \"k must be even\"\n",
      "        return None\n",
      "    \n",
      "    rows = []\n",
      "    cols = []\n",
      "    # connect each node to it's k/2 neighbors to the right\n",
      "    for i in range(num_nodes):\n",
      "        for j in range(i+1, i+int(k/2)+1):\n",
      "            rows.append(i)\n",
      "            cols.append(j % num_nodes)\n",
      "    \n",
      "    A = sparse.csr_matrix((np.ones_like(rows), (rows, cols)), shape = (num_nodes, num_nodes))\n",
      "    \n",
      "    if undirected == True:\n",
      "        return A + A.T\n",
      "    else:\n",
      "        return undirected2directed(A + A.T)     #works because A is upper triangle of undirected network\n",
      "                \n",
      "        "
     ],
     "language": "python",
     "metadata": {},
     "outputs": [],
     "prompt_number": 26
    },
    {
     "cell_type": "code",
     "collapsed": false,
     "input": [
      "nearest_neighbor(6, 4, undirected=False).todense()"
     ],
     "language": "python",
     "metadata": {},
     "outputs": [
      {
       "metadata": {},
       "output_type": "pyout",
       "prompt_number": 27,
       "text": [
        "matrix([[0, 1, 0, 0, 0, 1],\n",
        "        [0, 0, 1, 0, 0, 1],\n",
        "        [1, 0, 0, 0, 1, 0],\n",
        "        [0, 1, 1, 0, 0, 1],\n",
        "        [1, 0, 0, 1, 0, 1],\n",
        "        [0, 0, 0, 0, 0, 0]])"
       ]
      }
     ],
     "prompt_number": 27
    },
    {
     "cell_type": "heading",
     "level": 3,
     "metadata": {},
     "source": [
      "Small World"
     ]
    },
    {
     "cell_type": "code",
     "collapsed": false,
     "input": [
      "def rewire(Adj, p):\n",
      "    \"\"\"\n",
      "    Rewiring takes an existing UNDIRECTED network with Adjacency matrix given by Adj and returns a matrix with the same number of\n",
      "    bonds but with a scrambled connectivity.  The nodes are iterated through in order.  At each node n_i, all bonds (n_i, n_j)\n",
      "    with j > i are rewired with probability p.  In rewiring, the bond to n_j is connected to a new node n_k with k selected\n",
      "    uniformly from the nodes not currently connected to i.\n",
      "    \"\"\"\n",
      "    \n",
      "    # first pull the existing bonds in the network\n",
      "    rows, cols = sparse.triu(Adj, k=1).nonzero()\n",
      "    \n",
      "    A = Adj.tolil()               # LIL matrices are cheaper to rewire\n",
      "\n",
      "    # rewire each bond with probability p\n",
      "    for i, j in zip(rows, cols):\n",
      "        if np.random.rand() < p:\n",
      "            # pull list of candidate nodes to be reconnected to\n",
      "            A[i, i] = 1    # as a placeholder for the moment\n",
      "            temp, disconnected_nodes = (A[i, :] == 0).nonzero()\n",
      "            # Draw the new node\n",
      "            new_node = np.random.choice(disconnected_nodes)\n",
      "            A[i, i] = 0                   # remove self-link\n",
      "            A[i, j] = 0                   # remove old link\n",
      "            A[j, i] = 0\n",
      "            A[i, new_node] = 1            # replace with new link\n",
      "            A[new_node, i] = 1\n",
      "    \n",
      "    return A.tocsr()"
     ],
     "language": "python",
     "metadata": {},
     "outputs": [],
     "prompt_number": 28
    },
    {
     "cell_type": "code",
     "collapsed": false,
     "input": [
      "def undirected2directed(Adj):\n",
      "    \"\"\"\n",
      "    Given the adjacency matrix for an undirected network, bonds are given a direction such that if i < j, they point from\n",
      "    i to j and from j to i with equal probability\n",
      "    \"\"\"\n",
      "    A = Adj.tolil()\n",
      "    # Pull a list of bonds as the nonzero entries in the upper triangle\n",
      "    rows, cols = sparse.triu(Adj, k=1).nonzero()\n",
      "    \n",
      "    for node_i, node_j in zip(rows, cols):\n",
      "        if np.random.rand() > 0.5:          # With 0.5 probability, delete the forward bond\n",
      "            A[node_i, node_j] = 0\n",
      "        else:                               # otherwise delete the backward bond\n",
      "            A[node_j, node_i] = 0\n",
      "    \n",
      "    return A.tocsr()\n"
     ],
     "language": "python",
     "metadata": {},
     "outputs": [],
     "prompt_number": 29
    },
    {
     "cell_type": "code",
     "collapsed": false,
     "input": [
      "def watts_strogatz(num_nodes, neighbors, p, undirected=True):\n",
      "    \"\"\"\n",
      "    Generates the adjacency matrix for a small world network of num_nodes nodes.  It is constructed by rewiring a nearest\n",
      "    neighbor network with probability p.  If undirected=False, bonds are given an arbitrary direction\n",
      "    \"\"\"\n",
      "    A = rewire(nearest_neighbor(num_nodes, neighbors), p)\n",
      "    \n",
      "    if undirected==True:\n",
      "        return A\n",
      "    elif undirected==False:\n",
      "        return undirected2directed(A)"
     ],
     "language": "python",
     "metadata": {},
     "outputs": [],
     "prompt_number": 30
    },
    {
     "cell_type": "code",
     "collapsed": false,
     "input": [
      "def toggle(Adj, p, undirected=True):\n",
      "    \"\"\"\n",
      "    Given an adjacency matrix, this goes through and toggles the state of every potential connection in the network\n",
      "    with a probability p. If the undirected option is selected, the upper triangle of the matrix is considered and\n",
      "    symmetrized afterwards. If the network is directed, the network is symmetrized and the upper triangle is again\n",
      "    considered.  Bonds are placed in the network in forward and backward directions with equal probability.\n",
      "    \"\"\"\n",
      "    # Initialize the new row and column matrices\n",
      "    toggled_rows = []\n",
      "    toggled_cols = []\n",
      "    \n",
      "    # Loop over all possible bonds\n",
      "    r, c = np.triu_indices(Adj.shape[0], 1)\n",
      "    for i, j in zip(r, c):\n",
      "        if np.random.rand() < p:          # If this succeeds, toggle the state of the bond\n",
      "            if undirected == True:        # For an undirected network, check the state of the bond and flip it\n",
      "                if Adj[i, j] == 0:        # If there is no bond there, place one\n",
      "                    toggled_rows.append(i)\n",
      "                    toggled_cols.append(j)\n",
      "            elif undirected == False:\n",
      "                if Adj[i, j] == 0 and Adj[j, i] == 0:    # If there is no bond there, place one in either direction\n",
      "                    if np.random.rand() > 0.5:\n",
      "                        toggled_rows.append(i)\n",
      "                        toggled_cols.append(j)\n",
      "                    else:\n",
      "                        toggled_rows.append(j)\n",
      "                        toggled_cols.append(i)\n",
      "                \n",
      "        else:                             # if not, keep the bond the same\n",
      "            if undirected == True:\n",
      "                if Adj[i, j] == 1:\n",
      "                    toggled_rows.append(i)\n",
      "                    toggled_cols.append(j)\n",
      "            elif undirected == False:\n",
      "                if Adj[i, j] == 1:\n",
      "                    toggled_rows.append(i)\n",
      "                    toggled_cols.append(j)\n",
      "                elif Adj[j, i] == 1:\n",
      "                    toggled_rows.append(j)\n",
      "                    toggled_cols.append(i)\n",
      "    \n",
      "    A = sparse.csr_matrix((np.ones_like(toggled_rows), (toggled_rows, toggled_cols)), shape = Adj.shape)\n",
      "    \n",
      "    if undirected == True:\n",
      "        return A + A.T\n",
      "    else:\n",
      "        return A"
     ],
     "language": "python",
     "metadata": {},
     "outputs": [],
     "prompt_number": 31
    },
    {
     "cell_type": "code",
     "collapsed": false,
     "input": [
      "toggle(nearest_neighbor(6, 4, undirected=False), 0.5, undirected=False).todense()"
     ],
     "language": "python",
     "metadata": {},
     "outputs": [
      {
       "metadata": {},
       "output_type": "pyout",
       "prompt_number": 32,
       "text": [
        "matrix([[0, 1, 0, 0, 1, 1],\n",
        "        [0, 0, 0, 0, 0, 0],\n",
        "        [1, 0, 0, 0, 0, 0],\n",
        "        [0, 0, 1, 0, 0, 0],\n",
        "        [0, 0, 1, 0, 0, 0],\n",
        "        [0, 1, 0, 0, 1, 0]])"
       ]
      }
     ],
     "prompt_number": 32
    },
    {
     "cell_type": "code",
     "collapsed": false,
     "input": [
      "undirected2directed(nearest_neighbor(6, 4)).todense()\n"
     ],
     "language": "python",
     "metadata": {},
     "outputs": [
      {
       "metadata": {},
       "output_type": "pyout",
       "prompt_number": 33,
       "text": [
        "matrix([[0, 1, 0, 0, 1, 0],\n",
        "        [0, 0, 0, 1, 0, 0],\n",
        "        [1, 1, 0, 0, 1, 0],\n",
        "        [0, 0, 1, 0, 1, 1],\n",
        "        [0, 0, 0, 0, 0, 0],\n",
        "        [1, 1, 0, 0, 1, 0]])"
       ]
      }
     ],
     "prompt_number": 33
    },
    {
     "cell_type": "heading",
     "level": 3,
     "metadata": {},
     "source": [
      "Locally Connected"
     ]
    },
    {
     "cell_type": "code",
     "collapsed": false,
     "input": [
      "def locally_connected(lattice_shape, distribution):\n",
      "    \"\"\"\n",
      "    Returns an adjacency matrix for a lattice of size lattice_shape whose connectivity is specified by a local distribution.\n",
      "    Distances between nodes are normalized such that the lattice spacing is 1. The distribution function gives the probability of\n",
      "    a connection at a given distance.  The networks returned are undirected.\n",
      "    \"\"\"\n",
      "    def node2xy(node_idx):\n",
      "        \"\"\"\n",
      "        returns the x and y coordinates of a node index in our grid supposing that the 0,0 point is in the upper left\n",
      "        and the positive y-axis points down\n",
      "        \"\"\"\n",
      "        return node_idx % lattice_shape[1], int(node_idx / lattice_shape[1])\n",
      "    \n",
      "    def distance(nodei_idx, nodej_idx):\n",
      "        \"\"\"\n",
      "        Returns the distance between nodes i and j assuming a cubic lattice indexed across rows\n",
      "        \"\"\"\n",
      "        x1, y1 = node2xy(nodei_idx)\n",
      "        x2, y2 = node2xy(nodej_idx)\n",
      "        return np.sqrt((x1 - x2)**2 + (y1 - y2)**2)\n",
      "    \n",
      "    num_nodes = lattice_shape[0] * lattice_shape[1]\n",
      "    \n",
      "    A = sparse.lil_matrix((num_nodes, num_nodes), dtype='float')\n",
      "    \n",
      "    for node_i in range(num_nodes):\n",
      "        for node_j in range(node_i+1, num_nodes):\n",
      "            if np.random.rand() < distribution(distance(node_i, node_j)):\n",
      "                A[node_i, node_j] = 1\n",
      "    \n",
      "    return (A + A.T).tocsr()\n",
      "            \n",
      "    \n",
      "    "
     ],
     "language": "python",
     "metadata": {},
     "outputs": [],
     "prompt_number": 50
    },
    {
     "cell_type": "code",
     "collapsed": false,
     "input": [
      "def dist(x):\n",
      "    return 0.8 * np.exp(-2*(x-1))\n",
      "A = locally_connected((3, 3), dist)\n",
      "A.todense()"
     ],
     "language": "python",
     "metadata": {},
     "outputs": [
      {
       "metadata": {},
       "output_type": "pyout",
       "prompt_number": 57,
       "text": [
        "matrix([[ 0.,  1.,  0.,  1.,  0.,  0.,  0.,  0.,  0.],\n",
        "        [ 1.,  0.,  0.,  1.,  1.,  0.,  0.,  0.,  1.],\n",
        "        [ 0.,  0.,  0.,  0.,  0.,  0.,  0.,  0.,  1.],\n",
        "        [ 1.,  1.,  0.,  0.,  1.,  0.,  1.,  1.,  0.],\n",
        "        [ 0.,  1.,  0.,  1.,  0.,  1.,  0.,  0.,  1.],\n",
        "        [ 0.,  0.,  0.,  0.,  1.,  0.,  0.,  0.,  1.],\n",
        "        [ 0.,  0.,  0.,  1.,  0.,  0.,  0.,  1.,  0.],\n",
        "        [ 0.,  0.,  0.,  1.,  0.,  0.,  1.,  0.,  0.],\n",
        "        [ 0.,  1.,  1.,  0.,  1.,  1.,  0.,  0.,  0.]])"
       ]
      }
     ],
     "prompt_number": 57
    },
    {
     "cell_type": "code",
     "collapsed": false,
     "input": [],
     "language": "python",
     "metadata": {},
     "outputs": [
      {
       "metadata": {},
       "output_type": "pyout",
       "prompt_number": 8,
       "text": [
        "2"
       ]
      }
     ],
     "prompt_number": 8
    },
    {
     "cell_type": "code",
     "collapsed": false,
     "input": [],
     "language": "python",
     "metadata": {},
     "outputs": []
    }
   ],
   "metadata": {}
  }
 ]
}