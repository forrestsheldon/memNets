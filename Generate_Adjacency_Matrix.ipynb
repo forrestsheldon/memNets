{
 "metadata": {
  "name": "",
  "signature": "sha256:c15a418f20b396afc01ff080a2f66406babeb29a82c11f4f9c9babaea8f8ea6b"
 },
 "nbformat": 3,
 "nbformat_minor": 0,
 "worksheets": [
  {
   "cells": [
    {
     "cell_type": "heading",
     "level": 1,
     "metadata": {},
     "source": [
      "Generating Adjacency Matrices"
     ]
    },
    {
     "cell_type": "markdown",
     "metadata": {},
     "source": [
      "In this notebook I will put together some routines for creating various types of adjacency matrices.  Most of these have been started elsewhere, but I would like to accumulate them here to go into a package."
     ]
    },
    {
     "cell_type": "code",
     "collapsed": false,
     "input": [
      "import numpy as np\n",
      "import scipy as sp\n",
      "import scipy.sparse as sparse"
     ],
     "language": "python",
     "metadata": {},
     "outputs": [],
     "prompt_number": 4
    },
    {
     "cell_type": "heading",
     "level": 2,
     "metadata": {},
     "source": [
      "1D Chain"
     ]
    },
    {
     "cell_type": "code",
     "collapsed": false,
     "input": [
      "def chain_1d(N, directed=False, bias=0.5):\n",
      "    \"\"\"\n",
      "    Returns the adjacency matrix for a 1D chain in CSR format.  The default behavior returns an undirected network.\n",
      "    The bias gives the probability that a bond goes from i to i+1 versus i+1 to i\n",
      "    \"\"\"\n",
      "    A = sparse.lil_matrix((N, N))\n",
      "    for node in range(N-1):\n",
      "        if directed:\n",
      "            if np.random.rand() > bias:\n",
      "                A[node+1, node] = 1.\n",
      "            else:\n",
      "                A[node, node+1] = 1.\n",
      "        else:\n",
      "            A[node, node+1] = 1.\n",
      "    return A.tocsr()\n"
     ],
     "language": "python",
     "metadata": {},
     "outputs": [],
     "prompt_number": 4
    },
    {
     "cell_type": "code",
     "collapsed": false,
     "input": [
      "A = chain_1d(5, directed=True)\n",
      "A.todense()"
     ],
     "language": "python",
     "metadata": {},
     "outputs": [
      {
       "metadata": {},
       "output_type": "pyout",
       "prompt_number": 5,
       "text": [
        "matrix([[ 0.,  1.,  0.,  0.,  0.],\n",
        "        [ 0.,  0.,  0.,  0.,  0.],\n",
        "        [ 0.,  1.,  0.,  0.,  0.],\n",
        "        [ 0.,  0.,  1.,  0.,  1.],\n",
        "        [ 0.,  0.,  0.,  0.,  0.]])"
       ]
      }
     ],
     "prompt_number": 5
    },
    {
     "cell_type": "heading",
     "level": 2,
     "metadata": {},
     "source": [
      "2D Cubic"
     ]
    },
    {
     "cell_type": "code",
     "collapsed": false,
     "input": [
      "def cubic_2d(lattice_shape, undirected=True, xbias=1, ybias=1 ):\n",
      "    \"\"\"\n",
      "    Returns an adjacency matrix for a 2D cubic lattice with number of nodes specified by\n",
      "    lattice_shape.  If a directed network is requested with no bias, the default configuration is\n",
      "    all bonds going from left to right and top to bottom. (recalling that we index nodes across\n",
      "    rows then columns).  The xbias and ybias give the probability that a bond goes from left to\n",
      "    right versus RL and top to bottom versus BT respectively.\n",
      "    \"\"\"\n",
      "    num_ynodes, num_xnodes = lattice_shape\n",
      "    num_nodes = num_xnodes * num_ynodes\n",
      "    \n",
      "    A = sparse.lil_matrix((num_nodes, num_nodes))\n",
      "    \n",
      "    # Form bond arrays to fill in row bonds and column bonds of the lattice\n",
      "    x_bonds = np.ones(num_xnodes-1)\n",
      "    y_bonds = np.ones(num_ynodes-1)\n",
      "    \n",
      "    # connect each row node to its neighbor to the right\n",
      "    for first_row_node in range(0, num_nodes, num_xnodes):\n",
      "         A[range(first_row_node, first_row_node + num_xnodes - 1),\\\n",
      "          range(first_row_node + 1, first_row_node + num_xnodes)] = x_bonds\n",
      "    \n",
      "    # connect each column node to its neighbor below\n",
      "    for first_col_node in range(0, num_xnodes):\n",
      "         A[range(first_col_node, num_nodes - num_xnodes, num_xnodes),\\\n",
      "          range(first_col_node + num_xnodes, num_nodes, num_xnodes)] = y_bonds\n",
      "    \n",
      "    # If we want an undirected network, just return the symmetrized form\n",
      "    if undirected:\n",
      "        A = A.tocsr()\n",
      "        return A + A.T\n",
      "    else:\n",
      "        # If we want to toggle the direction of the elements (default direction is right and down)\n",
      "        if (xbias != 1) or (ybias !=1):\n",
      "            rows, cols = A.nonzero()\n",
      "        \n",
      "            for i, j in zip(rows, cols):\n",
      "                if np.abs(i-j) == 1: # row bond\n",
      "                    if np.random.rand() > xbias: # overcome the bias with probability 1-xbias\n",
      "                        A[i, j] = 0\n",
      "                        A[j, i] = 1\n",
      "                else: #column bond\n",
      "                    if np.random.rand() > ybias:\n",
      "                        A[i, j] = 0\n",
      "                        A[j, i] = 1\n",
      "        return A.tocsr()"
     ],
     "language": "python",
     "metadata": {},
     "outputs": [],
     "prompt_number": 6
    },
    {
     "cell_type": "code",
     "collapsed": false,
     "input": [
      "cubic_2d((3, 2), undirected=False, xbias=0.5, ybias=0.5).todense()"
     ],
     "language": "python",
     "metadata": {},
     "outputs": [
      {
       "metadata": {},
       "output_type": "pyout",
       "prompt_number": 7,
       "text": [
        "matrix([[ 0.,  0.,  1.,  0.,  0.,  0.],\n",
        "        [ 1.,  0.,  0.,  0.,  0.,  0.],\n",
        "        [ 0.,  0.,  0.,  0.,  0.,  0.],\n",
        "        [ 0.,  1.,  1.,  0.,  0.,  1.],\n",
        "        [ 0.,  0.,  1.,  0.,  0.,  1.],\n",
        "        [ 0.,  0.,  0.,  0.,  0.,  0.]])"
       ]
      }
     ],
     "prompt_number": 7
    },
    {
     "cell_type": "code",
     "collapsed": false,
     "input": [
      "def cubic_2d_random(lattice_shape, concentration, undirected=True, single_bond=False, xbias=1, ybias=1):\n",
      "    \"\"\"\n",
      "    Returns a random 2d lattice with specified concentration in CSR format.  Besides an undirected\n",
      "    network, we may also generate random directed networks of a specified concentration. The\n",
      "    single_bond variable specified whether we may have bonds in both directions or only in one\n",
      "    at a time. The xbias and ybias give the probability that a bond goes from left to\n",
      "    right versus RL and top to bottom versus BT respectively.\n",
      "    \"\"\"\n",
      "    # for an undirected network, we begin with a directed network, choose which bonds to keep and then symmetrize\n",
      "    # Changing the sparsity structure of LIL matrices is faster\n",
      "    if undirected:\n",
      "        A = cubic_2d(lattice_shape, undirected=False).tolil()\n",
      "    # if we want a multiple bond network, we begin with a full undirected network\n",
      "    elif not single_bond:\n",
      "        A = cubic_2d(lattice_shape).tolil()\n",
      "    # for a single bond network, we begin with the directed network and then prune\n",
      "    elif single_bond:\n",
      "        A = cubic_2d(lattice_shape, undirected=False, xbias=xbias, ybias=ybias).tolil()\n",
      "    else:\n",
      "        print \"Invalid parameters defining lattice.  Check undirected and single_bond\"\n",
      "    \n",
      "    # Get nonzero indices\n",
      "    rows, cols = A.nonzero()\n",
      "    # Loop over nonzero elements\n",
      "    for i, j in zip(rows, cols):\n",
      "        if np.random.rand() > concentration:   # Delete the bond with probability 1-concentration\n",
      "            A[i, j] = 0\n",
      "    \n",
      "    A = A.tocsr()\n",
      "    if undirected: # symmetrize before returning\n",
      "        return A + A.T\n",
      "    else:\n",
      "        return A"
     ],
     "language": "python",
     "metadata": {},
     "outputs": [],
     "prompt_number": 115
    },
    {
     "cell_type": "code",
     "collapsed": false,
     "input": [
      "cubic_2d((10,10), undirected=False)"
     ],
     "language": "python",
     "metadata": {},
     "outputs": [
      {
       "metadata": {},
       "output_type": "pyout",
       "prompt_number": 116,
       "text": [
        "<100x100 sparse matrix of type '<type 'numpy.float64'>'\n",
        "\twith 180 stored elements in Compressed Sparse Row format>"
       ]
      }
     ],
     "prompt_number": 116
    },
    {
     "cell_type": "code",
     "collapsed": false,
     "input": [
      "cubic_2d_random((3, 3), 0.5, undirected=False, single_bond=True).todense()"
     ],
     "language": "python",
     "metadata": {},
     "outputs": [
      {
       "metadata": {},
       "output_type": "pyout",
       "prompt_number": 119,
       "text": [
        "matrix([[ 0.,  1.,  0.,  0.,  0.,  0.,  0.,  0.,  0.],\n",
        "        [ 0.,  0.,  1.,  0.,  0.,  0.,  0.,  0.,  0.],\n",
        "        [ 0.,  0.,  0.,  0.,  0.,  1.,  0.,  0.,  0.],\n",
        "        [ 0.,  0.,  0.,  0.,  1.,  0.,  1.,  0.,  0.],\n",
        "        [ 0.,  0.,  0.,  0.,  0.,  0.,  0.,  0.,  0.],\n",
        "        [ 0.,  0.,  0.,  0.,  0.,  0.,  0.,  0.,  0.],\n",
        "        [ 0.,  0.,  0.,  0.,  0.,  0.,  0.,  0.,  0.],\n",
        "        [ 0.,  0.,  0.,  0.,  0.,  0.,  0.,  0.,  1.],\n",
        "        [ 0.,  0.,  0.,  0.,  0.,  0.,  0.,  0.,  0.]])"
       ]
      }
     ],
     "prompt_number": 119
    },
    {
     "cell_type": "code",
     "collapsed": false,
     "input": [
      "def cubic_2d_cylinder(lattice_shape, undirected=True, xbias=1, ybias=1 ):\n",
      "    \"\"\"\n",
      "    Similar to the 2d cubic lattice except that lattice wraps around and connects to itself between\n",
      "    the first and last column\n",
      "    \"\"\"\n",
      "    num_ynodes, num_xnodes = lattice_shape\n",
      "    num_nodes = num_xnodes * num_ynodes\n",
      "    \n",
      "    A = sparse.lil_matrix((num_nodes, num_nodes))\n",
      "    \n",
      "    # Form bond arrays to fill in row bonds and column bonds of the lattice\n",
      "    x_bonds = np.ones(num_xnodes)\n",
      "    y_bonds = np.ones(num_ynodes-1)\n",
      "    \n",
      "    # connect each row node to its neighbor to the right\n",
      "    for first_row_node in range(0, num_nodes, num_xnodes):\n",
      "         A[range(first_row_node, first_row_node + num_xnodes),\\\n",
      "          range(first_row_node + 1, first_row_node + num_xnodes) + [first_row_node]] = x_bonds\n",
      "    \n",
      "    # connect each column node to its neighbor below\n",
      "    for first_col_node in range(0, num_xnodes):\n",
      "         A[range(first_col_node, num_nodes - num_xnodes, num_xnodes),\\\n",
      "          range(first_col_node + num_xnodes, num_nodes, num_xnodes)] = y_bonds\n",
      "    \n",
      "    # If we want an undirected network, just return the symmetrized form\n",
      "    if undirected:\n",
      "        A = A.tocsr()\n",
      "        return A + A.T\n",
      "    else:\n",
      "        # If we want to toggle the direction of the elements (default direction is right and down)\n",
      "        if (xbias != 1) or (ybias !=1):\n",
      "            rows, cols = A.nonzero()\n",
      "        \n",
      "            for i, j in zip(rows, cols):\n",
      "                if np.abs(i-j) == 1 or np.abs(i-j) == num_xnodes-1: # row bond\n",
      "                    if np.random.rand() > xbias: # overcome the bias with probability 1-xbias\n",
      "                        A[i, j] = 0\n",
      "                        A[j, i] = 1\n",
      "                elif np.abs(i-j) == num_xnodes: #column bond\n",
      "                    if np.random.rand() > ybias:\n",
      "                        A[i, j] = 0\n",
      "                        A[j, i] = 1\n",
      "                else:\n",
      "                    print \"Bond %d to %d is neither row nor column bond\" % (i, j)\n",
      "                \n",
      "        return A.tocsr()"
     ],
     "language": "python",
     "metadata": {},
     "outputs": [],
     "prompt_number": 2
    },
    {
     "cell_type": "code",
     "collapsed": false,
     "input": [],
     "language": "python",
     "metadata": {},
     "outputs": []
    },
    {
     "cell_type": "heading",
     "level": 2,
     "metadata": {},
     "source": [
      "Random"
     ]
    },
    {
     "cell_type": "code",
     "collapsed": false,
     "input": [
      "def random_graph(num_nodes, p, undirected=True):\n",
      "    \"\"\"\n",
      "    Generates an adjacency matrix for a random graph of num_nodes nodes at a concentration p. If undirected=False, bonds\n",
      "    are considered in both directions (ij and ji) independently.\n",
      "    \"\"\"\n",
      "    # Generate a random array between 0 and 1\n",
      "    A = np.random.rand(num_nodes, num_nodes)\n",
      "    # Set all elements less than p to 1 and the rest to 0\n",
      "    A = np.asarray(A < p, dtype=float)\n",
      "    # Nodes cannot be connected to themselves\n",
      "    A[np.diag_indices(num_nodes)] = 0\n",
      "    # If we don't care about direction, return this\n",
      "    if undirected==False:\n",
      "        return sparse.csr_matrix(A)\n",
      "    else:                                                   # Otherwise, only keep the upper triangle and symmetrize\n",
      "        A = np.triu(A)\n",
      "        return sparse.csr_matrix(A + A.T)"
     ],
     "language": "python",
     "metadata": {},
     "outputs": [],
     "prompt_number": 5
    },
    {
     "cell_type": "code",
     "collapsed": false,
     "input": [
      "random_graph(10, 0.5, undirected=False).todense()"
     ],
     "language": "python",
     "metadata": {},
     "outputs": [
      {
       "metadata": {},
       "output_type": "pyout",
       "prompt_number": 6,
       "text": [
        "matrix([[ 0.,  0.,  1.,  0.,  1.,  0.,  1.,  1.,  1.,  0.],\n",
        "        [ 0.,  0.,  0.,  1.,  1.,  1.,  0.,  1.,  1.,  0.],\n",
        "        [ 1.,  1.,  0.,  1.,  1.,  0.,  1.,  1.,  1.,  1.],\n",
        "        [ 1.,  1.,  0.,  0.,  1.,  0.,  0.,  0.,  0.,  1.],\n",
        "        [ 0.,  0.,  0.,  0.,  0.,  1.,  0.,  1.,  0.,  1.],\n",
        "        [ 1.,  1.,  1.,  0.,  1.,  0.,  0.,  1.,  1.,  1.],\n",
        "        [ 1.,  0.,  0.,  0.,  0.,  0.,  0.,  0.,  1.,  1.],\n",
        "        [ 0.,  1.,  1.,  1.,  0.,  0.,  0.,  0.,  1.,  0.],\n",
        "        [ 0.,  1.,  0.,  1.,  1.,  0.,  0.,  1.,  0.,  1.],\n",
        "        [ 1.,  0.,  0.,  0.,  1.,  0.,  0.,  0.,  0.,  0.]])"
       ]
      }
     ],
     "prompt_number": 6
    },
    {
     "cell_type": "code",
     "collapsed": false,
     "input": [],
     "language": "python",
     "metadata": {},
     "outputs": []
    }
   ],
   "metadata": {}
  }
 ]
}