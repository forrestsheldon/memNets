{
 "metadata": {
  "name": "",
  "signature": "sha256:2fc0937d7f419621faac776cf3bb3ba3bc725efa4aac30418103c73daa0ef179"
 },
 "nbformat": 3,
 "nbformat_minor": 0,
 "worksheets": [
  {
   "cells": [
    {
     "cell_type": "heading",
     "level": 1,
     "metadata": {},
     "source": [
      "Generating Adjacency Matrices"
     ]
    },
    {
     "cell_type": "markdown",
     "metadata": {},
     "source": [
      "In this notebook I will put together some routines for creating various types of adjacency matrices.  Most of these have been started elsewhere, but I would like to accumulate them here to go into a package."
     ]
    },
    {
     "cell_type": "code",
     "collapsed": false,
     "input": [
      "import numpy as np\n",
      "import scipy as sp\n",
      "import scipy.sparse as sparse"
     ],
     "language": "python",
     "metadata": {},
     "outputs": [],
     "prompt_number": 2
    },
    {
     "cell_type": "heading",
     "level": 2,
     "metadata": {},
     "source": [
      "1D Chain"
     ]
    },
    {
     "cell_type": "code",
     "collapsed": false,
     "input": [
      "def chain_1d(N, directed=False, bias=0.5):\n",
      "    \"\"\"\n",
      "    Returns the adjacency matrix for a 1D chain in CSR format.  The default behavior returns an undirected network.\n",
      "    The bias gives the probability that a bond goes from i to i+1 versus i+1 to i\n",
      "    \"\"\"\n",
      "    A = sparse.lil_matrix((N, N))\n",
      "    for node in range(N-1):\n",
      "        if directed:\n",
      "            if np.random.rand() > bias:\n",
      "                A[node+1, node] = 1.\n",
      "            else:\n",
      "                A[node, node+1] = 1.\n",
      "        else:\n",
      "            A[node, node+1] = 1.\n",
      "    return A.tocsr()\n",
      "\n",
      "A = chain_1d(5, directed=True)\n",
      "A.todense()"
     ],
     "language": "python",
     "metadata": {},
     "outputs": [
      {
       "metadata": {},
       "output_type": "pyout",
       "prompt_number": 4,
       "text": [
        "matrix([[ 0.,  0.,  0.,  0.,  0.],\n",
        "        [ 1.,  0.,  1.,  0.,  0.],\n",
        "        [ 0.,  0.,  0.,  0.,  0.],\n",
        "        [ 0.,  0.,  1.,  0.,  0.],\n",
        "        [ 0.,  0.,  0.,  1.,  0.]])"
       ]
      }
     ],
     "prompt_number": 4
    },
    {
     "cell_type": "heading",
     "level": 2,
     "metadata": {},
     "source": [
      "2D Cubic"
     ]
    },
    {
     "cell_type": "code",
     "collapsed": false,
     "input": [
      "def cubic_2d(lattice_shape, directed=False):\n",
      "    pass"
     ],
     "language": "python",
     "metadata": {},
     "outputs": [],
     "prompt_number": 5
    },
    {
     "cell_type": "code",
     "collapsed": false,
     "input": [],
     "language": "python",
     "metadata": {},
     "outputs": []
    }
   ],
   "metadata": {}
  }
 ]
}