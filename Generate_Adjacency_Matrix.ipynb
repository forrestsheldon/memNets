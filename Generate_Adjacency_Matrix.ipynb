{
 "metadata": {
  "name": "",
  "signature": "sha256:b786f2dbac5273658ff2dd5e0062413460f52a512ce515cd9fee5b55a69215c8"
 },
 "nbformat": 3,
 "nbformat_minor": 0,
 "worksheets": [
  {
   "cells": [
    {
     "cell_type": "heading",
     "level": 1,
     "metadata": {},
     "source": [
      "Generating Adjacency Matrices"
     ]
    },
    {
     "cell_type": "markdown",
     "metadata": {},
     "source": [
      "In this notebook I will put together some routines for creating various types of adjacency matrices.  Most of these have been started elsewhere, but I would like to accumulate them here to go into a package."
     ]
    },
    {
     "cell_type": "code",
     "collapsed": false,
     "input": [
      "import numpy as np\n",
      "import scipy as sp\n",
      "import scipy.sparse as sparse"
     ],
     "language": "python",
     "metadata": {},
     "outputs": [],
     "prompt_number": 3
    },
    {
     "cell_type": "heading",
     "level": 2,
     "metadata": {},
     "source": [
      "1D Chain"
     ]
    },
    {
     "cell_type": "code",
     "collapsed": false,
     "input": [
      "def chain_1d(N, directed=False, bias=0.5):\n",
      "    \"\"\"\n",
      "    Returns the adjacency matrix for a 1D chain in CSR format.  The default behavior returns an undirected network.\n",
      "    The bias gives the probability that a bond goes from i to i+1 versus i+1 to i\n",
      "    \"\"\"\n",
      "    A = sparse.lil_matrix((N, N))\n",
      "    for node in range(N-1):\n",
      "        if directed:\n",
      "            if np.random.rand() > bias:\n",
      "                A[node+1, node] = 1.\n",
      "            else:\n",
      "                A[node, node+1] = 1.\n",
      "        else:\n",
      "            A[node, node+1] = 1.\n",
      "    return A.tocsr()\n"
     ],
     "language": "python",
     "metadata": {},
     "outputs": [],
     "prompt_number": 4
    },
    {
     "cell_type": "code",
     "collapsed": false,
     "input": [
      "A = chain_1d(5, directed=True)\n",
      "A.todense()"
     ],
     "language": "python",
     "metadata": {},
     "outputs": [
      {
       "metadata": {},
       "output_type": "pyout",
       "prompt_number": 5,
       "text": [
        "matrix([[ 0.,  1.,  0.,  0.,  0.],\n",
        "        [ 0.,  0.,  0.,  0.,  0.],\n",
        "        [ 0.,  1.,  0.,  0.,  0.],\n",
        "        [ 0.,  0.,  1.,  0.,  1.],\n",
        "        [ 0.,  0.,  0.,  0.,  0.]])"
       ]
      }
     ],
     "prompt_number": 5
    },
    {
     "cell_type": "heading",
     "level": 2,
     "metadata": {},
     "source": [
      "2D Cubic"
     ]
    },
    {
     "cell_type": "code",
     "collapsed": false,
     "input": [
      "def cubic_2d(lattice_shape, undirected=True, xbias=1, ybias=1 ):\n",
      "    \"\"\"\n",
      "    Returns an adjacency matrix for a 2D cubic lattice with number of nodes specified by\n",
      "    lattice_shape.  If a directed network is requested with no bias, the default configuration is\n",
      "    all bonds going from left to right and top to bottom. (recalling that we index nodes across\n",
      "    rows then columns).  The xbias and ybias give the probability that a bond goes from left to\n",
      "    right versus RL and top to bottom versus BT respectively.\n",
      "    \"\"\"\n",
      "    num_ynodes, num_xnodes = lattice_shape\n",
      "    num_nodes = num_xnodes * num_ynodes\n",
      "    \n",
      "    A = sparse.lil_matrix((num_nodes, num_nodes))\n",
      "    \n",
      "    # Form bond arrays to fill in row bonds and column bonds of the lattice\n",
      "    x_bonds = np.ones(num_xnodes-1)\n",
      "    y_bonds = np.ones(num_ynodes-1)\n",
      "    \n",
      "    # connect each row node to its neighbor to the right\n",
      "    for first_row_node in range(0, num_nodes, num_xnodes):\n",
      "         A[range(first_row_node, first_row_node + num_xnodes - 1),\\\n",
      "          range(first_row_node + 1, first_row_node + num_xnodes)] = x_bonds\n",
      "    \n",
      "    # connect each column node to its neighbor below\n",
      "    for first_col_node in range(0, num_xnodes):\n",
      "         A[range(first_col_node, num_nodes - num_xnodes, num_xnodes),\\\n",
      "          range(first_col_node + num_xnodes, num_nodes, num_xnodes)] = y_bonds\n",
      "    \n",
      "    # If we want an undirected network, just return the symmetrized form\n",
      "    if undirected:\n",
      "        A = A.tocsr()\n",
      "        return A + A.T\n",
      "    else:\n",
      "        # If we want to toggle the direction of the elements (default direction is right and down)\n",
      "        if (xbias != 1) or (ybias !=1):\n",
      "            rows, cols = A.nonzero()\n",
      "        \n",
      "            for i, j in zip(rows, cols):\n",
      "                if np.abs(i-j) == 1: # row bond\n",
      "                    if np.random.rand() > xbias: # overcome the bias with probability 1-xbias\n",
      "                        A[i, j] = 0\n",
      "                        A[j, i] = 1\n",
      "                else: #column bond\n",
      "                    if np.random.rand() > ybias:\n",
      "                        A[i, j] = 0\n",
      "                        A[j, i] = 1\n",
      "        return A.tocsr()"
     ],
     "language": "python",
     "metadata": {},
     "outputs": [],
     "prompt_number": 6
    },
    {
     "cell_type": "code",
     "collapsed": false,
     "input": [
      "cubic_2d((3, 2), undirected=False, xbias=0.5, ybias=0.5).todense()"
     ],
     "language": "python",
     "metadata": {},
     "outputs": [
      {
       "metadata": {},
       "output_type": "pyout",
       "prompt_number": 7,
       "text": [
        "matrix([[ 0.,  0.,  1.,  0.,  0.,  0.],\n",
        "        [ 1.,  0.,  0.,  0.,  0.,  0.],\n",
        "        [ 0.,  0.,  0.,  0.,  0.,  0.],\n",
        "        [ 0.,  1.,  1.,  0.,  0.,  1.],\n",
        "        [ 0.,  0.,  1.,  0.,  0.,  1.],\n",
        "        [ 0.,  0.,  0.,  0.,  0.,  0.]])"
       ]
      }
     ],
     "prompt_number": 7
    },
    {
     "cell_type": "code",
     "collapsed": false,
     "input": [
      "def cubic_2d_random(lattice_shape, concentration, undirected=True, single_bond=False, xbias=1, ybias=1):\n",
      "    \"\"\"\n",
      "    Returns a random 2d lattice with specified concentration in CSR format.  Besides an undirected\n",
      "    network, we may also generate random directed networks of a specified concentration. The\n",
      "    single_bond variable specified whether we may have bonds in both directions or only in one\n",
      "    at a time. The xbias and ybias give the probability that a bond goes from left to\n",
      "    right versus RL and top to bottom versus BT respectively.\n",
      "    \"\"\"\n",
      "    # for an undirected network, we begin with a directed network, choose which bonds to keep and then symmetrize\n",
      "    # Changing the sparsity structure of LIL matrices is faster\n",
      "    if undirected:\n",
      "        A = cubic_2d(lattice_shape, undirected=False).tolil()\n",
      "    # if we want a multiple bond network, we begin with a full undirected network\n",
      "    elif not single_bond:\n",
      "        A = cubic_2d(lattice_shape).tolil()\n",
      "    # for a single bond network, we begin with the directed network and then prune\n",
      "    elif single_bond:\n",
      "        A = cubic_2d(lattice_shape, undirected=False, xbias=xbias, ybias=ybias).tolil()\n",
      "    else:\n",
      "        print \"Invalid parameters defining lattice.  Check undirected and single_bond\"\n",
      "    \n",
      "    # Get nonzero indices\n",
      "    rows, cols = A.nonzero()\n",
      "    # Loop over nonzero elements\n",
      "    for i, j in zip(rows, cols):\n",
      "        if np.random.rand() > concentration:   # Delete the bond with probability 1-concentration\n",
      "            A[i, j] = 0\n",
      "    \n",
      "    A = A.tocsr()\n",
      "    if undirected: # symmetrize before returning\n",
      "        return A + A.T\n",
      "    else:\n",
      "        return A"
     ],
     "language": "python",
     "metadata": {},
     "outputs": [],
     "prompt_number": 115
    },
    {
     "cell_type": "code",
     "collapsed": false,
     "input": [
      "cubic_2d((10,10), undirected=False)"
     ],
     "language": "python",
     "metadata": {},
     "outputs": [
      {
       "metadata": {},
       "output_type": "pyout",
       "prompt_number": 116,
       "text": [
        "<100x100 sparse matrix of type '<type 'numpy.float64'>'\n",
        "\twith 180 stored elements in Compressed Sparse Row format>"
       ]
      }
     ],
     "prompt_number": 116
    },
    {
     "cell_type": "code",
     "collapsed": false,
     "input": [
      "cubic_2d_random((3, 3), 0.5, undirected=False, single_bond=True).todense()"
     ],
     "language": "python",
     "metadata": {},
     "outputs": [
      {
       "metadata": {},
       "output_type": "pyout",
       "prompt_number": 119,
       "text": [
        "matrix([[ 0.,  1.,  0.,  0.,  0.,  0.,  0.,  0.,  0.],\n",
        "        [ 0.,  0.,  1.,  0.,  0.,  0.,  0.,  0.,  0.],\n",
        "        [ 0.,  0.,  0.,  0.,  0.,  1.,  0.,  0.,  0.],\n",
        "        [ 0.,  0.,  0.,  0.,  1.,  0.,  1.,  0.,  0.],\n",
        "        [ 0.,  0.,  0.,  0.,  0.,  0.,  0.,  0.,  0.],\n",
        "        [ 0.,  0.,  0.,  0.,  0.,  0.,  0.,  0.,  0.],\n",
        "        [ 0.,  0.,  0.,  0.,  0.,  0.,  0.,  0.,  0.],\n",
        "        [ 0.,  0.,  0.,  0.,  0.,  0.,  0.,  0.,  1.],\n",
        "        [ 0.,  0.,  0.,  0.,  0.,  0.,  0.,  0.,  0.]])"
       ]
      }
     ],
     "prompt_number": 119
    },
    {
     "cell_type": "code",
     "collapsed": false,
     "input": [],
     "language": "python",
     "metadata": {},
     "outputs": []
    }
   ],
   "metadata": {}
  }
 ]
}