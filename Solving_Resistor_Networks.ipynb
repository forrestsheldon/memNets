{
 "metadata": {
  "name": ""
 },
 "nbformat": 3,
 "nbformat_minor": 0,
 "worksheets": [
  {
   "cells": [
    {
     "cell_type": "heading",
     "level": 1,
     "metadata": {},
     "source": [
      "Solving Resistor Networks"
     ]
    },
    {
     "cell_type": "markdown",
     "metadata": {},
     "source": [
      "These are my personal notes on solving resistor networks in the aim of building up a memristor network solver.  As such, they may lack citations, be unclear on some points, or worse, be completely wrong.  They are available on GitHub for the benefit of the curious.  If you notice anything wrong, would like to discuss a point further, or have coding suggestions, email me at forrest.sheldon@gmail.com."
     ]
    },
    {
     "cell_type": "code",
     "collapsed": false,
     "input": [
      "%pylab inline --no-import-all"
     ],
     "language": "python",
     "metadata": {},
     "outputs": [
      {
       "output_type": "stream",
       "stream": "stdout",
       "text": [
        "Populating the interactive namespace from numpy and matplotlib\n"
       ]
      }
     ],
     "prompt_number": 1
    },
    {
     "cell_type": "code",
     "collapsed": false,
     "input": [
      "import numpy as np\n",
      "import scipy as scp\n",
      "import scipy.sparse\n",
      "import scipy.sparse.linalg\n",
      "import scipy.sparse.csgraph\n",
      "import scipy.optimize\n",
      "import matplotlib.pyplot as plt\n",
      "import random\n",
      "import itertools\n"
     ],
     "language": "python",
     "metadata": {},
     "outputs": [],
     "prompt_number": 164
    },
    {
     "cell_type": "heading",
     "level": 2,
     "metadata": {},
     "source": [
      "My Work on Resistor Networks"
     ]
    },
    {
     "cell_type": "heading",
     "level": 3,
     "metadata": {},
     "source": [
      "The System of Equations"
     ]
    },
    {
     "cell_type": "markdown",
     "metadata": {},
     "source": [
      "Given a network of resistors with a set of nodes held at some external voltages, I would like to create a group of functions that will solve for the voltages across the network.  We can characterize the network as a set of $N$ nodes, the resistances between them $\\{R_{ij}\\}$ and a set of external voltages $\\{V_{ext,i}\\}$ applied to some set of nodes. How I wish to represent them in python will depend on how I wish to solve them and that in turn will depend on whatever formalism I come up with for solving them.  So let's get started with that:"
     ]
    },
    {
     "cell_type": "markdown",
     "metadata": {},
     "source": [
      "Given a node $i$ in the network, Kirchoff's laws demand\n",
      "$$\\sum\\limits_{j=1}^N I_{ij} = 0$$\n",
      "where $I_{ij}$ is the current flowing from node $i$ to node $j$.\n",
      "\n",
      "Written in terms of voltages this is\n",
      "$$\\sum\\limits_{j=1}^N \\frac{V_i - V_j}{R_{ij}} = \\sum\\limits_{j=1}^N G_{ij} (V_i - V_j) = 0$$\n",
      "With the convention that for unconnected nodes, $R_{ij}$ is infinite or $G_{ij}$ is zero.\n",
      "So for each connection to another node, the equation gets one summand of $G_{ij} V_i$ and one of $-G_{ij}V_j$.\n",
      "\n",
      "We can then rearrage this equation as $\\sum_j G_{ij} V_i - \\sum_{j} G_{ij} V_j = 0$"
     ]
    },
    {
     "cell_type": "markdown",
     "metadata": {},
     "source": [
      "The voltage of each node forms a vector $\\vec{v}$. The network topology is contained in an adjacency matrix $A$ for an undirected graph.  This can be created under a variety of schemes to explore different network structures.  This is then populated with resistance values to become a conductance matrix $G$ that will be updated at each step according to a particular nonlinear resistance function.\n",
      "\n",
      "Forming a new matrix $D$ as $D_{ii} = \\sum_j G_{ij}$ and $D_{ij} = - G_{ij}$ for $i\\neq j$ we can represent our system of equations as $D\\vec{v} = 0$.  In order to include external voltages to this, we can create a new set of nodes $\\vec{v}_{ext}$.  By connecting the nonzero elements of this set to our nodes with some large conductance, we can effectively latch these nodes to a particular voltage.  These could be represented as currents into the network $\\frac{(\\vec{v}_{ext} - \\vec{v}_{v_i \\neq 0})}{\\epsilon}$.  Taking $G_{ext}$ as a diagonal matrix whose value is $1/\\epsilon$ where $\\vec{v}_{ext}$ is nonzero and zero everywhere else, we can rewrite our system of equations as\n",
      "$$(D + G_{ext})\\vec{v} = G_{ext}\\vec{v}_{ext}$$\n",
      "and then just use a linear algebra solver to get the solution!"
     ]
    },
    {
     "cell_type": "markdown",
     "metadata": {},
     "source": [
      "**Note** I have found that this ad hoc method of constraining the voltage is somewhat unsatisfactory.  The diagonal elements of my matrix will be far out of scale and the resulting solution can accrue errors in approximate solvers (which become useful when the graph separates into several components and the matrix becomes singular).  A better way of solving the network with this constraint may be to use relaxation (tried it: way too slow) or use a variational principle.  My minimizing the power of the network and constraining several node values, I may be able to use a conjugate gradient algorithm to solve the network.  I will have to see how well this works"
     ]
    },
    {
     "cell_type": "heading",
     "level": 3,
     "metadata": {},
     "source": [
      "Representing the Network"
     ]
    },
    {
     "cell_type": "markdown",
     "metadata": {},
     "source": [
      "I'd like to represent the structure of the network as an adjacency matrix.  This will also make things easier in the memristive case when I need my network to be directed.  Here's a whirl at a few functions that will give me a variety of adjacency matrices. Let's take the easiest case first, a random graph:"
     ]
    },
    {
     "cell_type": "code",
     "collapsed": false,
     "input": [
      "def gen_adj_rand(N, p, undirected=True):\n",
      "    \"\"\"\n",
      "    Generates an adjacency matrix for a random graph of N nodes.\n",
      "    The default behavior is directed. The undirected option generates a\n",
      "    symmetric graph\n",
      "    \"\"\"\n",
      "    if undirected:\n",
      "        A = np.random.choice([1, 0], (N, N), p = [p, 1-p])\n",
      "        Aup = np.triu(A, 1)\n",
      "        return Aup + Aup.T\n",
      "    else:\n",
      "        A = np.random.choice([1, 0], (N, N), p = [p, 1-p])\n",
      "        A[np.diag_indices(N)] = 0\n",
      "        return A\n",
      "\n",
      "gen_adj_rand(10, .2)"
     ],
     "language": "python",
     "metadata": {},
     "outputs": [
      {
       "output_type": "stream",
       "stream": "stdout",
       "text": [
        "Overwriting resistor_network_solver.py\n"
       ]
      }
     ],
     "prompt_number": 166
    },
    {
     "cell_type": "code",
     "collapsed": false,
     "input": [
      "def gen_adj_rand_sparse(N, p, undirected=True):\n",
      "    \"\"\"\n",
      "    Generates an adjacency matrix for a random graph of N nodes in sparce csc format.\n",
      "    The default behavior is directed. The undirected option generates a\n",
      "    symmetric graph\n",
      "    \"\"\"\n",
      "    rows = []\n",
      "    cols = []\n",
      "    if undirected:\n",
      "        row_idxs, col_idxs = np.triu_indices(N, 1)\n",
      "        for i, j in itertools.izip(row_idxs, col_idxs):\n",
      "            if random.random() < p:\n",
      "                rows.extend([i, j])\n",
      "                cols.extend([j, i])\n",
      "        rows = np.array(rows, dtype=int)\n",
      "        cols = np.array(cols, dtype=int)\n",
      "        elements = np.ones_like(rows)\n",
      "        return scipy.sparse.csc_matrix((elements, (rows, cols)), shape=(N,N))\n",
      "    else:\n",
      "        for i, j in np.ndindex(N, N):\n",
      "            if random.random() < p and i != j:\n",
      "                rows.append(i)\n",
      "                cols.append(j)\n",
      "        rows = np.array(rows, dtype=int)\n",
      "        cols = np.array(cols, dtype=int)\n",
      "        elements = np.ones_like(rows)\n",
      "        return scipy.sparse.csc_matrix((elements, (rows, cols)), shape=(N,N))"
     ],
     "language": "python",
     "metadata": {},
     "outputs": [],
     "prompt_number": 6
    },
    {
     "cell_type": "code",
     "collapsed": false,
     "input": [
      "N=1000\n",
      "A = gen_adj_rand_sparse(N, .2)\n",
      "float(A.sum())/ N / (N-1)"
     ],
     "language": "python",
     "metadata": {},
     "outputs": [
      {
       "metadata": {},
       "output_type": "pyout",
       "prompt_number": 7,
       "text": [
        "0.200996996996997"
       ]
      }
     ],
     "prompt_number": 7
    },
    {
     "cell_type": "code",
     "collapsed": false,
     "input": [
      "A = gen_adj_rand_sparse(6, .4)\n",
      "A.todense()"
     ],
     "language": "python",
     "metadata": {},
     "outputs": [
      {
       "metadata": {},
       "output_type": "pyout",
       "prompt_number": 8,
       "text": [
        "matrix([[0, 0, 0, 0, 0, 0],\n",
        "        [0, 0, 0, 1, 0, 1],\n",
        "        [0, 0, 0, 1, 0, 1],\n",
        "        [0, 1, 1, 0, 1, 0],\n",
        "        [0, 0, 0, 1, 0, 0],\n",
        "        [0, 1, 1, 0, 0, 0]])"
       ]
      }
     ],
     "prompt_number": 8
    },
    {
     "cell_type": "code",
     "collapsed": false,
     "input": [
      "A = gen_adj_rand_sparse(6, .4, undirected=False)\n",
      "A.todense()"
     ],
     "language": "python",
     "metadata": {},
     "outputs": [
      {
       "metadata": {},
       "output_type": "pyout",
       "prompt_number": 9,
       "text": [
        "matrix([[0, 0, 0, 1, 0, 0],\n",
        "        [1, 0, 1, 0, 0, 1],\n",
        "        [0, 0, 0, 0, 1, 1],\n",
        "        [0, 0, 0, 0, 0, 1],\n",
        "        [0, 0, 0, 0, 0, 1],\n",
        "        [0, 0, 1, 0, 0, 0]])"
       ]
      }
     ],
     "prompt_number": 9
    },
    {
     "cell_type": "markdown",
     "metadata": {},
     "source": [
      "And now a \"nearest neighbor\" adjacency matrix where each node is connected to it's $k$ nearest neighbors."
     ]
    },
    {
     "cell_type": "code",
     "collapsed": false,
     "input": [
      "def gen_adj_neighbor(N, k):\n",
      "    \"\"\"\n",
      "    Generates an adjacency matrix for an N node network in which each node is connected to its\n",
      "    k nearest neighbors\n",
      "    \"\"\"\n",
      "    row = np.roll(np.hstack((np.ones((1, k+1), dtype=int), np.zeros((1, N-k-1), dtype=int))), -k/2)\n",
      "    A = np.zeros((N,N), dtype=int)\n",
      "    for i in np.arange(N):\n",
      "        A[i, :] = np.roll(row, i)\n",
      "    A[np.diag_indices(N)] = 0\n",
      "    return A\n",
      "\n",
      "gen_adj_neighbor(6, 2)"
     ],
     "language": "python",
     "metadata": {},
     "outputs": [
      {
       "metadata": {},
       "output_type": "pyout",
       "prompt_number": 10,
       "text": [
        "array([[0, 1, 0, 0, 0, 1],\n",
        "       [1, 0, 1, 0, 0, 0],\n",
        "       [0, 1, 0, 1, 0, 0],\n",
        "       [0, 0, 1, 0, 1, 0],\n",
        "       [0, 0, 0, 1, 0, 1],\n",
        "       [1, 0, 0, 0, 1, 0]])"
       ]
      }
     ],
     "prompt_number": 10
    },
    {
     "cell_type": "code",
     "collapsed": false,
     "input": [
      "def gen_adj_neighbor_sparse(N, k):\n",
      "    A = gen_adj_neighbor(N, k)\n",
      "    return scipy.sparse.csc_matrix(A)"
     ],
     "language": "python",
     "metadata": {},
     "outputs": [],
     "prompt_number": 11
    },
    {
     "cell_type": "markdown",
     "metadata": {},
     "source": [
      "And how about a grid..."
     ]
    },
    {
     "cell_type": "code",
     "collapsed": false,
     "input": [
      "def gen_adj_grid(n):\n",
      "    \"\"\"\n",
      "    Generates an adjacency matrix for an nxn grid of nodes that are connected to their nearest neighbors.\n",
      "    This graph is kept undirected as this does not require choosing a convention for direction.\n",
      "    \"\"\"\n",
      "    A = np.zeros((n**2, n**2))\n",
      "    # Loop through every pair of nodes\n",
      "    for i, j in np.ndindex(n,n):\n",
      "        for k, l in np.ndindex(n,n):\n",
      "            if (np.abs(i - k) == 1 and np.abs(j - l) == 0) or (np.abs(i - k) == 0 and np.abs(j - l) == 1):\n",
      "                A[i + n*j, k + n*l] = 1\n",
      "    return np.array(A, dtype=int)\n",
      "\n",
      "A = gen_adj_grid(4)\n",
      "A"
     ],
     "language": "python",
     "metadata": {},
     "outputs": [
      {
       "metadata": {},
       "output_type": "pyout",
       "prompt_number": 12,
       "text": [
        "array([[0, 1, 0, 0, 1, 0, 0, 0, 0, 0, 0, 0, 0, 0, 0, 0],\n",
        "       [1, 0, 1, 0, 0, 1, 0, 0, 0, 0, 0, 0, 0, 0, 0, 0],\n",
        "       [0, 1, 0, 1, 0, 0, 1, 0, 0, 0, 0, 0, 0, 0, 0, 0],\n",
        "       [0, 0, 1, 0, 0, 0, 0, 1, 0, 0, 0, 0, 0, 0, 0, 0],\n",
        "       [1, 0, 0, 0, 0, 1, 0, 0, 1, 0, 0, 0, 0, 0, 0, 0],\n",
        "       [0, 1, 0, 0, 1, 0, 1, 0, 0, 1, 0, 0, 0, 0, 0, 0],\n",
        "       [0, 0, 1, 0, 0, 1, 0, 1, 0, 0, 1, 0, 0, 0, 0, 0],\n",
        "       [0, 0, 0, 1, 0, 0, 1, 0, 0, 0, 0, 1, 0, 0, 0, 0],\n",
        "       [0, 0, 0, 0, 1, 0, 0, 0, 0, 1, 0, 0, 1, 0, 0, 0],\n",
        "       [0, 0, 0, 0, 0, 1, 0, 0, 1, 0, 1, 0, 0, 1, 0, 0],\n",
        "       [0, 0, 0, 0, 0, 0, 1, 0, 0, 1, 0, 1, 0, 0, 1, 0],\n",
        "       [0, 0, 0, 0, 0, 0, 0, 1, 0, 0, 1, 0, 0, 0, 0, 1],\n",
        "       [0, 0, 0, 0, 0, 0, 0, 0, 1, 0, 0, 0, 0, 1, 0, 0],\n",
        "       [0, 0, 0, 0, 0, 0, 0, 0, 0, 1, 0, 0, 1, 0, 1, 0],\n",
        "       [0, 0, 0, 0, 0, 0, 0, 0, 0, 0, 1, 0, 0, 1, 0, 1],\n",
        "       [0, 0, 0, 0, 0, 0, 0, 0, 0, 0, 0, 1, 0, 0, 1, 0]])"
       ]
      }
     ],
     "prompt_number": 12
    },
    {
     "cell_type": "code",
     "collapsed": false,
     "input": [
      "def gen_adj_rand_grid(n, p):\n",
      "    \"\"\"\n",
      "    For fun, this generates an adjacency matrix for a random 2-D lattice such that neighboring nodes are connected\n",
      "    with a probability p\n",
      "    \"\"\"\n",
      "    A = np.zeros((n**2, n**2))\n",
      "    # Loop through every pair of nodes\n",
      "    for i, j in np.ndindex(n,n):\n",
      "        for k, l in np.ndindex(n,n):\n",
      "            if (np.abs(i - k) == 1 and np.abs(j - l) == 0) or (np.abs(i - k) == 0 and np.abs(j - l) == 1):\n",
      "                if random.random() < p:\n",
      "                    A[i + n*j, k + n*l] = 1\n",
      "    return np.array(np.triu(A) + np.triu(A).T, dtype=int)\n",
      "\n",
      "gen_adj_rand_grid(3, .75)"
     ],
     "language": "python",
     "metadata": {},
     "outputs": [
      {
       "metadata": {},
       "output_type": "pyout",
       "prompt_number": 13,
       "text": [
        "array([[0, 0, 0, 1, 0, 0, 0, 0, 0],\n",
        "       [0, 0, 1, 0, 0, 0, 0, 0, 0],\n",
        "       [0, 1, 0, 0, 0, 1, 0, 0, 0],\n",
        "       [1, 0, 0, 0, 0, 0, 0, 0, 0],\n",
        "       [0, 0, 0, 0, 0, 1, 0, 1, 0],\n",
        "       [0, 0, 1, 0, 1, 0, 0, 0, 1],\n",
        "       [0, 0, 0, 0, 0, 0, 0, 1, 0],\n",
        "       [0, 0, 0, 0, 1, 0, 1, 0, 1],\n",
        "       [0, 0, 0, 0, 0, 1, 0, 1, 0]])"
       ]
      }
     ],
     "prompt_number": 13
    },
    {
     "cell_type": "code",
     "collapsed": false,
     "input": [
      "def gen_adj_grid_sparse(n):\n",
      "    \"\"\"\n",
      "    Generates an adjacency matrix for an nxn grid of nodes that are connected to their nearest neighbors.\n",
      "    This graph is kept undirected as this does not require choosing a convention for direction.\n",
      "    The matrix is returned in CSR format\n",
      "    \"\"\"\n",
      "    rows = []\n",
      "    cols = []\n",
      "    for i, j in np.ndindex(n, n):\n",
      "        for k, l in np.ndindex(n, n):\n",
      "            if (np.abs(i - k) == 1 and np.abs(j - l) == 0) or (np.abs(i - k) == 0 and np.abs(j - l) == 1):\n",
      "                rows.append(i + n*j)\n",
      "                cols.append(k + n*l)\n",
      "    rows = np.array(rows, dtype=int)\n",
      "    cols = np.array(cols, dtype=int)\n",
      "    elements = np.ones_like(rows)\n",
      "    return scipy.sparse.csr_matrix((elements, (rows, cols)), shape=(n**2, n**2))"
     ],
     "language": "python",
     "metadata": {},
     "outputs": [],
     "prompt_number": 14
    },
    {
     "cell_type": "code",
     "collapsed": false,
     "input": [
      "B = gen_adj_grid_sparse(4)\n",
      "np.array_equal(A, B.todense())"
     ],
     "language": "python",
     "metadata": {},
     "outputs": [
      {
       "metadata": {},
       "output_type": "pyout",
       "prompt_number": 15,
       "text": [
        "True"
       ]
      }
     ],
     "prompt_number": 15
    },
    {
     "cell_type": "code",
     "collapsed": false,
     "input": [
      "def gen_adj_rand_grid_sparse(n, p):\n",
      "    \"\"\"\n",
      "    Generates an adjacency matrix for an nxn random grid of nodes that are connected to their nearest neighbors.\n",
      "    This graph is kept undirected as this does not require choosing a convention for direction.\n",
      "    The matrix is returned in CSR format\n",
      "    \"\"\"\n",
      "    rows = []\n",
      "    cols = []\n",
      "    # Loop over every pair of elements\n",
      "    for i, j in np.ndindex(n, n):\n",
      "        for k, l in np.ndindex(n, n):\n",
      "            # calculate the row and column index for the pair in the final array.  As the graph is undirected\n",
      "            # we only need to consider the pair once\n",
      "            r = i + n*j\n",
      "            c = k + n*l\n",
      "            if r < c:\n",
      "                if (np.abs(i - k) == 1 and np.abs(j - l) == 0) or (np.abs(i - k) == 0 and np.abs(j - l) == 1):\n",
      "                    if random.random() < p:\n",
      "                        rows.extend([r, c])\n",
      "                        cols.extend([c, r])\n",
      "    rows = np.array(rows, dtype=int)\n",
      "    cols = np.array(cols, dtype=int)\n",
      "    elements = np.ones_like(rows)\n",
      "    return scipy.sparse.csr_matrix((elements, (rows, cols)), shape=(n**2, n**2))"
     ],
     "language": "python",
     "metadata": {},
     "outputs": [],
     "prompt_number": 18
    },
    {
     "cell_type": "code",
     "collapsed": false,
     "input": [
      "B = gen_adj_rand_grid_sparse(3, .75)\n",
      "B.todense()"
     ],
     "language": "python",
     "metadata": {},
     "outputs": [
      {
       "metadata": {},
       "output_type": "pyout",
       "prompt_number": 19,
       "text": [
        "matrix([[0, 1, 0, 1, 0, 0, 0, 0, 0],\n",
        "        [1, 0, 1, 0, 0, 0, 0, 0, 0],\n",
        "        [0, 1, 0, 0, 0, 1, 0, 0, 0],\n",
        "        [1, 0, 0, 0, 0, 0, 1, 0, 0],\n",
        "        [0, 0, 0, 0, 0, 0, 0, 1, 0],\n",
        "        [0, 0, 1, 0, 0, 0, 0, 0, 1],\n",
        "        [0, 0, 0, 1, 0, 0, 0, 1, 0],\n",
        "        [0, 0, 0, 0, 1, 0, 1, 0, 0],\n",
        "        [0, 0, 0, 0, 0, 1, 0, 0, 0]])"
       ]
      }
     ],
     "prompt_number": 19
    },
    {
     "cell_type": "heading",
     "level": 3,
     "metadata": {},
     "source": [
      "Solving the Network"
     ]
    },
    {
     "cell_type": "markdown",
     "metadata": {},
     "source": [
      "Now we are ready to solve the network.  This will also be an excellent chance to compare the speed of numpy's regular linear algebra solver to a sparse solver."
     ]
    },
    {
     "cell_type": "markdown",
     "metadata": {},
     "source": [
      "More pointedly, what should I need to specify in order to define the network and solver?  The network definition should reasonably be an\n",
      "\n",
      "* adjacency matrix\n",
      "* resistances\n",
      "* external voltages\n",
      "\n",
      "In fact, it would be reasonable to use ndenumerate to pass just two arguments:\n",
      "\n",
      "* a set of tuples containing the indices and resistance values of the resistors\n",
      "* another set of tuples specifying the node indices and external voltages.\n",
      "\n",
      "The second seems like an opportune way to incorporate sparse matrices, so I'll do both."
     ]
    },
    {
     "cell_type": "heading",
     "level": 4,
     "metadata": {},
     "source": [
      "Dense Solver"
     ]
    },
    {
     "cell_type": "code",
     "collapsed": false,
     "input": [
      "def external_voltage( num_nodes, ext_voltage_list ):\n",
      "    \"\"\"\n",
      "    Returns an Nx1 vector of external voltages and an external conductance matrix whose value\n",
      "    is 1/r_tiny given\n",
      "    \n",
      "    num_nodes - the number of nodes in the network\n",
      "    ext_voltage_list - a list of tuples of the form (node_idx, voltage)\n",
      "    \n",
      "    There is a concern that if a node is set to zero, it will be indistinguishable from nodes not set to\n",
      "    zero in the vector.  Nodes set to a specific voltage should be confirmed through the conductance matrix\n",
      "    for this reason\n",
      "    \"\"\"\n",
      "    \n",
      "    voltage_vec = np.zeros((num_nodes, 1), dtype=float)\n",
      "    G_ext = np.zeros((num_nodes, num_nodes), dtype=float)\n",
      "    r_tiny = 10**-10\n",
      "    \n",
      "    for node_idx, V in ext_voltage_list:\n",
      "        voltage_vec[node_idx, 0] = V\n",
      "        G_ext[node_idx, node_idx] = 1. / r_tiny\n",
      "    \n",
      "    return voltage_vec, G_ext\n",
      "\n",
      "ext_volt = [ (0, 1), (1, 1), (3, 0) ]\n",
      "v_ext, g_ext = external_voltage(4, ext_volt)\n",
      "\n",
      "print 'v_ext = \\n', v_ext\n",
      "print 'g_ext = \\n', g_ext"
     ],
     "language": "python",
     "metadata": {},
     "outputs": [
      {
       "output_type": "stream",
       "stream": "stdout",
       "text": [
        "v_ext = \n",
        "[[ 1.]\n",
        " [ 1.]\n",
        " [ 0.]\n",
        " [ 0.]]\n",
        "g_ext = \n",
        "[[  1.00000000e+10   0.00000000e+00   0.00000000e+00   0.00000000e+00]\n",
        " [  0.00000000e+00   1.00000000e+10   0.00000000e+00   0.00000000e+00]\n",
        " [  0.00000000e+00   0.00000000e+00   0.00000000e+00   0.00000000e+00]\n",
        " [  0.00000000e+00   0.00000000e+00   0.00000000e+00   1.00000000e+10]]\n"
       ]
      }
     ],
     "prompt_number": 20
    },
    {
     "cell_type": "code",
     "collapsed": false,
     "input": [
      "def form_eqns_matrix( cond_mat ):\n",
      "    \"\"\"\n",
      "    Forms the homogeneous equations matrix by summing along the rows of the conductance matrix, placing\n",
      "    these values along the diagonal, and subtracting the conductance matrix\n",
      "    \"\"\"\n",
      "    return np.diag( np.sum(np.array(cond_mat, dtype=float), axis=0) ) - cond_mat\n",
      "\n",
      "G = gen_adj_neighbor(4, 2)\n",
      "form_eqns_matrix( G )"
     ],
     "language": "python",
     "metadata": {},
     "outputs": [
      {
       "metadata": {},
       "output_type": "pyout",
       "prompt_number": 21,
       "text": [
        "array([[ 2., -1.,  0., -1.],\n",
        "       [-1.,  2., -1.,  0.],\n",
        "       [ 0., -1.,  2., -1.],\n",
        "       [-1.,  0., -1.,  2.]])"
       ]
      }
     ],
     "prompt_number": 21
    },
    {
     "cell_type": "code",
     "collapsed": false,
     "input": [
      "def solve_node_voltages( G , ext_voltage_list ):\n",
      "    \"\"\"\n",
      "    Returns a vector of voltages at each node given,\n",
      "    G - a matrix of conductances where G_ij is the conductance between node i and node j\n",
      "    ext_voltage_list - list of tuples of the form (node_idx, voltage) given the external voltage set at node_idx\n",
      "    \"\"\"\n",
      "    D = form_eqns_matrix( G )\n",
      "    num_nodes = G.shape[0]\n",
      "    v_ext, G_ext = external_voltage( num_nodes, ext_voltage_list)\n",
      "    return np.linalg.solve( D + G_ext , np.dot( G_ext, v_ext) )\n",
      "    "
     ],
     "language": "python",
     "metadata": {},
     "outputs": [],
     "prompt_number": 22
    },
    {
     "cell_type": "code",
     "collapsed": false,
     "input": [
      "ext_volt = [(0, 1), (8, 0)]\n",
      "G_dense = gen_adj_grid(3)\n",
      "v_dense = solve_node_voltages( G_dense, ext_volt)\n",
      "v_dense"
     ],
     "language": "python",
     "metadata": {},
     "outputs": [
      {
       "metadata": {},
       "output_type": "pyout",
       "prompt_number": 23,
       "text": [
        "array([[  1.00000000e+00],\n",
        "       [  6.66666667e-01],\n",
        "       [  5.00000000e-01],\n",
        "       [  6.66666667e-01],\n",
        "       [  5.00000000e-01],\n",
        "       [  3.33333333e-01],\n",
        "       [  5.00000000e-01],\n",
        "       [  3.33333333e-01],\n",
        "       [  6.66666667e-11]])"
       ]
      }
     ],
     "prompt_number": 23
    },
    {
     "cell_type": "markdown",
     "metadata": {},
     "source": [
      "If any section of nodes are disconnected from the network we will have a singular matrix and this will return an error.  Instead, I would like to have these sections simply be set to zero voltage which I belive will be accomplished by least squares.  Let's see."
     ]
    },
    {
     "cell_type": "code",
     "collapsed": false,
     "input": [
      "def solve_node_voltages_lstsq( G , ext_voltage_list ):\n",
      "    \"\"\"\n",
      "    Returns a vector of voltages at each node given,\n",
      "    G - a matrix of conductances where G_ij is the conductance between node i and node j\n",
      "    ext_voltage_list - list of tuples of the form (node_idx, voltage) given the external voltage set at node_idx\n",
      "    \"\"\"\n",
      "    D = form_eqns_matrix( G )\n",
      "    num_nodes = G.shape[0]\n",
      "    v_ext, G_ext = external_voltage( num_nodes, ext_voltage_list)\n",
      "    v_dense, r, r, s = np.linalg.lstsq( D + G_ext , np.dot( G_ext, v_ext) )\n",
      "    return v_dense"
     ],
     "language": "python",
     "metadata": {},
     "outputs": [],
     "prompt_number": 24
    },
    {
     "cell_type": "heading",
     "level": 4,
     "metadata": {},
     "source": [
      "Sparse Solver"
     ]
    },
    {
     "cell_type": "markdown",
     "metadata": {},
     "source": [
      "I need to duplicate the set of functions I wrote above to ensure that they work with sparse matrices.  Here we go!"
     ]
    },
    {
     "cell_type": "code",
     "collapsed": false,
     "input": [
      "def external_voltage_sparse( num_nodes, ext_voltage_list ):\n",
      "    \"\"\"\n",
      "    Returns an Nx1 vector of external voltages and an external conductance matrix whose value\n",
      "    is 1/r_tiny along the diagonal where the voltage is set.  The arguments\n",
      "    given are:\n",
      "    \n",
      "    num_nodes - the number of nodes in the network\n",
      "    ext_voltage_list - a list of tuples of the form (node_idx, voltage)\n",
      "    \n",
      "    There is a concern that if a node is set to zero, it will be indistinguishable from nodes not set to\n",
      "    zero in the vector.  Nodes set to a specific voltage should be confirmed through the conductance matrix\n",
      "    for this reason\n",
      "    \"\"\"  \n",
      "    voltage_vec = np.zeros((num_nodes, 1))\n",
      "    G_ext = np.zeros((num_nodes, num_nodes))\n",
      "    r_tiny = 10**-10\n",
      "    \n",
      "    for node_idx, V in ext_voltage_list:\n",
      "        voltage_vec[node_idx, 0] = V\n",
      "        G_ext[node_idx, node_idx] = 1. / r_tiny\n",
      "    \n",
      "    return voltage_vec, G_ext\n",
      "\n",
      "ext_volt = [ (0, 1), (1, 1), (3, 0) ]\n",
      "v_ext, g_ext = external_voltage_sparse(4, ext_volt)\n",
      "\n",
      "print 'v_ext = \\n', v_ext\n",
      "print 'g_ext = \\n', g_ext"
     ],
     "language": "python",
     "metadata": {},
     "outputs": [
      {
       "output_type": "stream",
       "stream": "stdout",
       "text": [
        "v_ext = \n",
        "[[ 1.]\n",
        " [ 1.]\n",
        " [ 0.]\n",
        " [ 0.]]\n",
        "g_ext = \n",
        "[[  1.00000000e+10   0.00000000e+00   0.00000000e+00   0.00000000e+00]\n",
        " [  0.00000000e+00   1.00000000e+10   0.00000000e+00   0.00000000e+00]\n",
        " [  0.00000000e+00   0.00000000e+00   0.00000000e+00   0.00000000e+00]\n",
        " [  0.00000000e+00   0.00000000e+00   0.00000000e+00   1.00000000e+10]]\n"
       ]
      }
     ],
     "prompt_number": 25
    },
    {
     "cell_type": "code",
     "collapsed": false,
     "input": [
      "def form_eqns_matrix_sparse( cond_mat ):\n",
      "    \"\"\"\n",
      "    Forms the homogeneous equations matrix by summing along the rows of the conductance matrix, placing\n",
      "    these values along the diagonal, and subtracting the conductance matrix\n",
      "    \"\"\"\n",
      "    return scp.sparse.diags(cond_mat.sum(axis=0), [0], shape=cond_mat.shape, format=\"csr\" ) - cond_mat\n",
      "\n",
      "G = gen_adj_neighbor_sparse(4, 2)\n",
      "D = form_eqns_matrix_sparse( G )\n",
      "D.todense()"
     ],
     "language": "python",
     "metadata": {},
     "outputs": [
      {
       "metadata": {},
       "output_type": "pyout",
       "prompt_number": 26,
       "text": [
        "matrix([[ 2., -1.,  0., -1.],\n",
        "        [-1.,  2., -1.,  0.],\n",
        "        [ 0., -1.,  2., -1.],\n",
        "        [-1.,  0., -1.,  2.]])"
       ]
      }
     ],
     "prompt_number": 26
    },
    {
     "cell_type": "code",
     "collapsed": false,
     "input": [
      "def solve_node_voltages_sparse( G , ext_voltage_list ):\n",
      "    \"\"\"\n",
      "    Returns a vector of voltages at each node given,\n",
      "    G - a matrix of conductances where G_ij is the conductance between node i and node j\n",
      "    ext_voltage_list - list of tuples of the form (node_idx, voltage) given the external voltage set at node_idx\n",
      "    \"\"\"\n",
      "    D = form_eqns_matrix_sparse( G )\n",
      "    num_nodes = G.shape[0]\n",
      "    v_ext, G_ext = external_voltage_sparse( num_nodes, ext_voltage_list)\n",
      "    return scipy.sparse.linalg.spsolve( D + scipy.sparse.csr_matrix(G_ext) , np.dot(G_ext, v_ext))\n",
      "    "
     ],
     "language": "python",
     "metadata": {},
     "outputs": [],
     "prompt_number": 29
    },
    {
     "cell_type": "code",
     "collapsed": false,
     "input": [
      "ext_volt = [(0, 1), (8, 0)]\n",
      "G_sparse = gen_adj_grid_sparse(3)\n",
      "v_sparse = solve_node_voltages_sparse( G_sparse, ext_volt)\n",
      "np.allclose(v_sparse, v_dense.flatten())"
     ],
     "language": "python",
     "metadata": {},
     "outputs": [
      {
       "metadata": {},
       "output_type": "pyout",
       "prompt_number": 30,
       "text": [
        "True"
       ]
      }
     ],
     "prompt_number": 30
    },
    {
     "cell_type": "heading",
     "level": 4,
     "metadata": {},
     "source": [
      "Relaxation Solver"
     ]
    },
    {
     "cell_type": "markdown",
     "metadata": {},
     "source": [
      "I have found that my current method seems to be susceptible to numerical instabilities (fairly obvious given my method of setting the border.  There must be some obvious solution to this.) So I figured I would give a relaxation solver a try.  The basic idea is:\n",
      "\n",
      "* Define the border of the network by the same external voltage vector. Take all remaining nodes to be on the interior.\n",
      "* Loop over the interior nodes, recalculating the value of each to be an average over it's neighbors\n",
      "$$V_i^{(t+1)} = \\frac{\\sum_j V_j^{(t)}G_{ij}}{\\sum_j G_{ij}}$$\n",
      "* Repeat this until the required precision has been achieved.\n",
      "\n",
      "I don't think I have to actually store elements in a new vector and it may even improve convergence if I don't.  I'll give it a\n",
      "shot."
     ]
    },
    {
     "cell_type": "code",
     "collapsed": false,
     "input": [
      "def form_voltage_vec( num_nodes, ext_voltage_list):\n",
      "    \"\"\"\n",
      "    Given the size of a network and the external voltages, return a vector containing the external voltages\n",
      "    at their specified locations and zeros along the interior\n",
      "    \"\"\"\n",
      "    voltages = np.zeros(num_nodes)\n",
      "    interior = np.ones(num_nodes)\n",
      "    \n",
      "    for node_idx, v in ext_voltage_list:\n",
      "        voltages[node_idx] = v\n",
      "        interior[node_idx] = 0\n",
      "    \n",
      "    return voltages, np.nonzero(interior)\n",
      "\n",
      "ext_volt = [ (0, 1), (3, 0) ]\n",
      "voltages, (interior,) = form_voltage_vec(4, ext_volt)\n",
      "\n",
      "print \"voltage=\", voltages\n",
      "print \"interior=\", interior"
     ],
     "language": "python",
     "metadata": {},
     "outputs": [
      {
       "output_type": "stream",
       "stream": "stdout",
       "text": [
        "voltage= [ 1.  0.  0.  0.]\n",
        "interior= [1 2]\n"
       ]
      }
     ],
     "prompt_number": 31
    },
    {
     "cell_type": "code",
     "collapsed": false,
     "input": [
      "def solve_node_voltages_relax( G, ext_voltage_list, err=1e-9):\n",
      "    \"\"\"\n",
      "    Solves a resistor network problem specified by a conductance matrix G and border ext_voltage_list\n",
      "    by the method of relaxation. At each step, node voltages are averaged with their neighbors\n",
      "    (weighted by the conductance) until the values have stabilized.  It takes:\n",
      "    \n",
      "    G[i, j] - the conductance from node i to j\n",
      "    ext_voltage_list - a list of tuples of the form (node_idx, voltage)\n",
      "    \n",
      "    The relaxation terminates when the maximum difference between two elements after iteration is err\n",
      "    \"\"\"\n",
      "    num_nodes = G.shape[0]\n",
      "    \n",
      "    voltages, interior = form_voltage_vec( num_nodes, ext_voltage_list)\n",
      "    \n",
      "    cond_sum = np.sum(G, axis=1)\n",
      "    \n",
      "    maxdiff = 1\n",
      "    while maxdiff > err:\n",
      "        v_prev = np.array(voltages)\n",
      "        for i in interior:\n",
      "            voltages[i] = np.dot( G[i, :], voltages) / cond_sum[i]\n",
      "        maxdiff = np.max(np.abs(voltages - v_prev))\n",
      "    return voltages"
     ],
     "language": "python",
     "metadata": {},
     "outputs": [],
     "prompt_number": 32
    },
    {
     "cell_type": "code",
     "collapsed": false,
     "input": [
      "ext_volt = [(0, 1), (8, 0)]\n",
      "G_dense = gen_adj_grid(3)\n",
      "v_dense = solve_node_voltages_relax( G_dense, ext_volt)\n",
      "v_dense"
     ],
     "language": "python",
     "metadata": {},
     "outputs": [
      {
       "metadata": {},
       "output_type": "pyout",
       "prompt_number": 33,
       "text": [
        "array([ 1.        ,  0.66666666,  0.5       ,  0.66666666,  0.5       ,\n",
        "        0.33333333,  0.5       ,  0.33333333,  0.        ])"
       ]
      }
     ],
     "prompt_number": 33
    },
    {
     "cell_type": "heading",
     "level": 4,
     "metadata": {},
     "source": [
      "Connected Components Solver"
     ]
    },
    {
     "cell_type": "markdown",
     "metadata": {},
     "source": [
      "I am having a problem when my graph separates into several connected components.  The normal solver returns a singular matrix error when the system in underdetermined.  The least squares solver doesn't like the large conductances I give it to lock the voltages to the external ones I set.  Sebastiano informed me that we can use a minimization approach, minimizing the amount of power dissipated in the network. Using a constrained CG solver, we should be able to avoid the issues with large conductances altogether.  There may still be a way to use a current controlled system and adjust afterward to turn it into a voltage controlled system but I haven't figured it out.\n",
      "\n",
      "**To run this, go down and define display_grid_voltages**"
     ]
    },
    {
     "cell_type": "code",
     "collapsed": false,
     "input": [
      "L = 10\n",
      "B = gen_adj_rand_grid_sparse(10, .5)\n",
      "num_comp, labels = scipy.sparse.csgraph.connected_components(B)"
     ],
     "language": "python",
     "metadata": {},
     "outputs": [],
     "prompt_number": 35
    },
    {
     "cell_type": "code",
     "collapsed": false,
     "input": [
      "fig, ax = plt.subplots(figsize=(8, 8))\n",
      "display_grid_voltages(ax, np.array(B.todense()), labels)"
     ],
     "language": "python",
     "metadata": {},
     "outputs": [
      {
       "metadata": {},
       "output_type": "display_data",
       "png": "[encoded data removed]",
       "text": [
        "<matplotlib.figure.Figure at 0x4507b90>"
       ]
      }
     ],
     "prompt_number": 36
    },
    {
     "cell_type": "markdown",
     "metadata": {},
     "source": [
      "Great! So the labels from the connected components function appear to work as hoped.  We now want to solve the system component by component.  I believe this can be accomplished concisely through array slicing.  For example, the adjacency matrix of the second connected component in the previous array can be obtained through:"
     ]
    },
    {
     "cell_type": "code",
     "collapsed": false,
     "input": [
      "cc = 1\n",
      "component_ind = (labels == cc)\n",
      "C = B[component_ind,:][:,component_ind]\n",
      "C"
     ],
     "language": "python",
     "metadata": {},
     "outputs": [
      {
       "metadata": {},
       "output_type": "pyout",
       "prompt_number": 37,
       "text": [
        "<22x22 sparse matrix of type '<type 'numpy.int64'>'\n",
        "\twith 46 stored elements in Compressed Sparse Row format>"
       ]
      }
     ],
     "prompt_number": 37
    },
    {
     "cell_type": "markdown",
     "metadata": {},
     "source": [
      "And the original indices of the corresponding nodes can be obtained from"
     ]
    },
    {
     "cell_type": "code",
     "collapsed": false,
     "input": [
      "component_ind.nonzero()"
     ],
     "language": "python",
     "metadata": {},
     "outputs": [
      {
       "metadata": {},
       "output_type": "pyout",
       "prompt_number": 38,
       "text": [
        "(array([ 1,  2,  3, 11, 12, 13, 14, 15, 22, 23, 24, 25, 26, 30, 31, 32, 33,\n",
        "       36, 41, 42, 43, 53]),)"
       ]
      }
     ],
     "prompt_number": 38
    },
    {
     "cell_type": "markdown",
     "metadata": {},
     "source": [
      "We are now ready to work through a broken down solution.  Working with the above adjacency matrix, we take a bar bus structure for our voltages.  Working through this has clued me into using Nan or a sparse matrix to distinguish between voltages that are set to zero and voltages that are unconstrained.  This will depracate my previous method of using the external adjacency matrix to distinguish these."
     ]
    },
    {
     "cell_type": "code",
     "collapsed": false,
     "input": [
      "L=10\n",
      "ext_volt = zip(range(0, L**2, L), np.ones(L))\n",
      "ext_volt.extend(zip(range(L-1, L**2, L), np.zeros(L)))\n",
      "\n",
      "v_external = np.empty(L**2) * np.nan\n",
      "for node_idx, voltage in ext_volt:\n",
      "    v_external[node_idx] = voltage\n",
      "v_external"
     ],
     "language": "python",
     "metadata": {},
     "outputs": [
      {
       "metadata": {},
       "output_type": "pyout",
       "prompt_number": 39,
       "text": [
        "array([  1.,  nan,  nan,  nan,  nan,  nan,  nan,  nan,  nan,   0.,   1.,\n",
        "        nan,  nan,  nan,  nan,  nan,  nan,  nan,  nan,   0.,   1.,  nan,\n",
        "        nan,  nan,  nan,  nan,  nan,  nan,  nan,   0.,   1.,  nan,  nan,\n",
        "        nan,  nan,  nan,  nan,  nan,  nan,   0.,   1.,  nan,  nan,  nan,\n",
        "        nan,  nan,  nan,  nan,  nan,   0.,   1.,  nan,  nan,  nan,  nan,\n",
        "        nan,  nan,  nan,  nan,   0.,   1.,  nan,  nan,  nan,  nan,  nan,\n",
        "        nan,  nan,  nan,   0.,   1.,  nan,  nan,  nan,  nan,  nan,  nan,\n",
        "        nan,  nan,   0.,   1.,  nan,  nan,  nan,  nan,  nan,  nan,  nan,\n",
        "        nan,   0.,   1.,  nan,  nan,  nan,  nan,  nan,  nan,  nan,  nan,\n",
        "         0.])"
       ]
      }
     ],
     "prompt_number": 39
    },
    {
     "cell_type": "markdown",
     "metadata": {},
     "source": [
      "Now, we loop over our connected components"
     ]
    },
    {
     "cell_type": "code",
     "collapsed": false,
     "input": [
      "voltages = np.zeros(L**2)\n",
      "\n",
      "for cc in range(num_comp):\n",
      "    component_mask = (labels==cc)\n",
      "    cc_v_ext = v_external[component_mask]\n",
      "    cc_max = np.nanmax(cc_v_ext)\n",
      "    cc_min = np.nanmin(cc_v_ext)\n",
      "    if np.isnan(cc_max):\n",
      "        print cc, \"is not set to any voltage.  Setting to zero\"\n",
      "        voltages[component_mask] = 0\n",
      "    elif cc_max == cc_min:\n",
      "        print cc, \"is set to a single voltage. does not need to be solved.  Setting to\", cc_max\n",
      "        voltages[component_mask] = cc_max\n",
      "    else:\n",
      "        print cc, \"is constrained to two voltages.  Must be solved\"\n",
      "        cc_G = np.array(B[component_mask, :][:, component_mask].todense())\n",
      "        v_list = []\n",
      "        for idx, v in enumerate(cc_v_ext):\n",
      "            if not (np.isnan(v)):\n",
      "                v_list.append((idx, v))\n",
      "        voltages[component_mask] = solve_node_voltages( cc_G, v_list)"
     ],
     "language": "python",
     "metadata": {},
     "outputs": [
      {
       "output_type": "stream",
       "stream": "stdout",
       "text": [
        "0 is set to a single voltage. does not need to be solved.  Setting to 1.0\n",
        "1 is set to a single voltage. does not need to be solved.  Setting to 1.0\n",
        "2 is not set to any voltage.  Setting to zero\n",
        "3 is constrained to two voltages.  Must be solved\n",
        "4 is set to a single voltage. does not need to be solved.  Setting to 1.0\n",
        "5 is not set to any voltage.  Setting to zero\n",
        "6 is set to a single voltage. does not need to be solved.  Setting to 0.0\n",
        "7 is not set to any voltage.  Setting to zero\n",
        "8 is not set to any voltage.  Setting to zero\n",
        "9 is not set to any voltage.  Setting to zero\n",
        "10 is not set to any voltage.  Setting to zero\n",
        "11 is set to a single voltage. does not need to be solved.  Setting to 1.0\n",
        "12 is not set to any voltage.  Setting to zero\n",
        "13 is not set to any voltage.  Setting to zero\n",
        "14 is not set to any voltage.  Setting to zero\n",
        "15 is not set to any voltage.  Setting to zero\n",
        "16 is set to a single voltage. does not need to be solved.  Setting to 0.0\n",
        "17 is set to a single voltage. does not need to be solved.  Setting to 1.0\n",
        "18 is not set to any voltage.  Setting to zero\n",
        "19 is not set to any voltage.  Setting to zero\n"
       ]
      },
      {
       "output_type": "stream",
       "stream": "stderr",
       "text": [
        "/usr/local/lib/python2.7/dist-packages/numpy/lib/nanfunctions.py:319: RuntimeWarning: All-NaN slice encountered\n",
        "  warnings.warn(\"All-NaN slice encountered\", RuntimeWarning)\n",
        "/usr/local/lib/python2.7/dist-packages/numpy/lib/nanfunctions.py:220: RuntimeWarning: All-NaN axis encountered\n",
        "  warnings.warn(\"All-NaN axis encountered\", RuntimeWarning)\n"
       ]
      }
     ],
     "prompt_number": 40
    },
    {
     "cell_type": "code",
     "collapsed": false,
     "input": [
      "fig, ax = plt.subplots(figsize=(8, 8))\n",
      "display_grid_voltages(ax, np.array(B.todense()), voltages)"
     ],
     "language": "python",
     "metadata": {},
     "outputs": [
      {
       "metadata": {},
       "output_type": "display_data",
       "png": "[encoded data removed]",
       "text": [
        "<matplotlib.figure.Figure at 0x4507090>"
       ]
      }
     ],
     "prompt_number": 41
    },
    {
     "cell_type": "markdown",
     "metadata": {},
     "source": [
      "Excellent! It works! Now to begin refactoring."
     ]
    },
    {
     "cell_type": "code",
     "collapsed": false,
     "input": [
      "def solve_node_voltages_cc( G_sparse, ext_voltage_list):\n",
      "    \"\"\"\n",
      "    This solver uses the scipy csgraph module to split the graph into connected\n",
      "    components and then solve each one.  Components not set to any voltage are\n",
      "    set to zero. Components set to a single voltage are set to that voltage.\n",
      "    Finally, components set to more than one voltage are solved.  For now, they\n",
      "    are solved through one of the solvers above. (although I would like to attempt\n",
      "    a constrained conjugate gradient solution as well)\n",
      "    \"\"\"\n",
      "    # Pull dimensions and set up external voltage and solution vectors\n",
      "    n = G_sparse.shape[0]\n",
      "    \n",
      "    v_external = external_voltage_vec(n, ext_voltage_list)\n",
      "    voltages = np.zeros_like(v_external)\n",
      "    \n",
      "    # Divide the graph into connected components\n",
      "    num_comp, labels = scipy.sparse.csgraph.connected_components(G_sparse)\n",
      "    \n",
      "    # For each connected component\n",
      "    for cc in range(num_comp):\n",
      "        # Pull a boolean array of the node indices and use that to get the external voltages\n",
      "        cc_nodes = (labels == cc)\n",
      "        cc_v_ext = v_external[cc_nodes]\n",
      "        \n",
      "        # Find the maximum and minimum voltages on the component\n",
      "        cc_max = np.nanmax(cc_v_ext)\n",
      "        cc_min = np.nanmin(cc_v_ext)\n",
      "        \n",
      "        # If the component is not set to any voltage, set it to zero\n",
      "        if np.isnan(cc_max):\n",
      "            voltages[cc_nodes] = 0\n",
      "        \n",
      "        # If it is set to a single external voltage, set all nodes to that value\n",
      "        elif cc_max == cc_min:\n",
      "            voltages[cc_nodes] = cc_max\n",
      "        \n",
      "        # Otherwise, it must be set to two external voltages, in which case we must solve it\n",
      "        else:\n",
      "            # Use the node mask to get the conductance matrix for this component\n",
      "            cc_G = np.array(G_sparse[cc_nodes, :][:, cc_nodes].todense())\n",
      "            # Reconstruc the external voltage list over this component\n",
      "            v_list = []\n",
      "            for idx, v in enumerate(cc_v_ext):\n",
      "                if not (np.isnan(v)):\n",
      "                    v_list.append((idx, v))\n",
      "            voltages[cc_nodes] = solve_node_voltages( cc_G, v_list)\n",
      "    return voltages"
     ],
     "language": "python",
     "metadata": {},
     "outputs": [],
     "prompt_number": 42
    },
    {
     "cell_type": "code",
     "collapsed": false,
     "input": [
      "def external_voltage_vec(n, ext_voltage_list):\n",
      "    \"\"\"\n",
      "    Returns a vector whose value is nan for nodes that are unconstrained and v for\n",
      "    nodes constrained to external voltage v\n",
      "    \"\"\"\n",
      "    v_ext = np.empty(n) * np.nan\n",
      "    for idx, voltage in ext_voltage_list:\n",
      "        v_ext[idx] = voltage\n",
      "    return v_ext"
     ],
     "language": "python",
     "metadata": {},
     "outputs": [],
     "prompt_number": 43
    },
    {
     "cell_type": "code",
     "collapsed": false,
     "input": [
      "voltages = solve_node_voltages_cc( B, ext_volt)\n",
      "fig, ax = plt.subplots(figsize=(8, 8))\n",
      "display_grid_voltages( ax, np.array(B.todense()), voltages)"
     ],
     "language": "python",
     "metadata": {},
     "outputs": [
      {
       "metadata": {},
       "output_type": "display_data",
       "png": "[encoded data removed]",
       "text": [
        "<matplotlib.figure.Figure at 0x475e890>"
       ]
      }
     ],
     "prompt_number": 44
    },
    {
     "cell_type": "heading",
     "level": 4,
     "metadata": {},
     "source": [
      "Conjugate Gradient"
     ]
    },
    {
     "cell_type": "markdown",
     "metadata": {},
     "source": [
      "I would also like to use a conjugate gradient process to solve the network.  In this case, the function to be minimized will be the power dissipated by the cluster.  Let's test it by solving the cc=3 in the previous cluster."
     ]
    },
    {
     "cell_type": "code",
     "collapsed": false,
     "input": [
      "cc = 3\n",
      "cc_nodes = (labels==cc)\n",
      "cc_G = B[cc_nodes, :][:, cc_nodes]\n",
      "cc_v_ext = v_external[cc_nodes]"
     ],
     "language": "python",
     "metadata": {},
     "outputs": [],
     "prompt_number": 45
    },
    {
     "cell_type": "code",
     "collapsed": false,
     "input": [
      "def network_power(v_internal, *args):\n",
      "    \"\"\"\n",
      "    returns the power dissipated by the network as a function of\n",
      "    the internal voltages, the conductivity matrix and the external voltages.\n",
      "    The power is the quadratic form induced by the graph laplacian,\n",
      "    v.T*L*v\n",
      "    Takes:\n",
      "    \n",
      "    v_internal - a 1d numpy array of the internal node voltages\n",
      "    args =       (G, v_ext)\n",
      "    G -          a conductance matrix in sparse or dense format\n",
      "    v_ext -      a 1d array containing the values of the external voltages and\n",
      "                 nans where the voltage is not externally set.\n",
      "    \"\"\"\n",
      "    # Unpack the conductance matrix and external voltage vector\n",
      "    G, v_ext = args\n",
      "    \n",
      "    # Form the vector of node voltages\n",
      "    voltage = v_ext.copy()\n",
      "    voltage[np.isnan(v_ext)] = v_internal\n",
      "    \n",
      "    \n",
      "    L = scipy.sparse.csgraph.laplacian(G)\n",
      "    \n",
      "    # Because L is sparse, must use the sparse dot product for the right multiplication\n",
      "    return np.dot(voltage, L.dot(voltage))\n",
      "\n",
      "def grad_power(v_internal, *args):\n",
      "    \"\"\"\n",
      "    returns the gradient of the internal voltages of the network, recalling\n",
      "    that d_k v_i L_ij v_j = 2 L_ij v_j and that we must return only the rows\n",
      "    corresponding to the internal nodes\n",
      "    Takes:\n",
      "    \n",
      "    v_internal - a 1d numpy array of the internal node voltages\n",
      "    args =       (G, v_ext)\n",
      "    G -          a conductance matrix in sparse or dense format\n",
      "    v_ext -      a 1d array containing the values of the external voltages and\n",
      "                 nans where the voltage is not externally set.\n",
      "    \"\"\"\n",
      "    # Unpack the conductance matrix and external voltage vector\n",
      "    G, v_ext = args\n",
      "    \n",
      "    voltage = v_ext.copy()\n",
      "    internal_nodes = np.isnan(v_ext)\n",
      "    voltage[internal_nodes] = v_internal\n",
      "    \n",
      "    L = scipy.sparse.csgraph.laplacian(G)\n",
      "    \n",
      "    grad = 2 * L.dot(voltage)\n",
      "    return grad[internal_nodes]"
     ],
     "language": "python",
     "metadata": {},
     "outputs": [],
     "prompt_number": 46
    },
    {
     "cell_type": "code",
     "collapsed": false,
     "input": [
      "v = voltages[cc_nodes]\n",
      "v_int = v[np.isnan(cc_v_ext)]\n",
      "network_power(v_int, cc_G, cc_v_ext)"
     ],
     "language": "python",
     "metadata": {},
     "outputs": [
      {
       "metadata": {},
       "output_type": "pyout",
       "prompt_number": 47,
       "text": [
        "0.1454219579670295"
       ]
      }
     ],
     "prompt_number": 47
    },
    {
     "cell_type": "code",
     "collapsed": false,
     "input": [
      "np.allclose(grad_power(v_int, cc_G, cc_v_ext), np.zeros_like(v_int))"
     ],
     "language": "python",
     "metadata": {},
     "outputs": [
      {
       "metadata": {},
       "output_type": "pyout",
       "prompt_number": 48,
       "text": [
        "True"
       ]
      }
     ],
     "prompt_number": 48
    },
    {
     "cell_type": "markdown",
     "metadata": {},
     "source": [
      "Great.  Network power appears to return a positive solution less than 1 as it should be and grad_power confirms that we are at a minimum.  Now to use conjugate gradient to solve the network."
     ]
    },
    {
     "cell_type": "code",
     "collapsed": false,
     "input": [
      "v0 = np.ones_like(v_int)\n",
      "v_cg_sol = scipy.optimize.fmin_cg(network_power, v0, fprime=grad_power, args=(cc_G, cc_v_ext), gtol=1e-8)"
     ],
     "language": "python",
     "metadata": {},
     "outputs": [
      {
       "output_type": "stream",
       "stream": "stdout",
       "text": [
        "Warning: Desired error not necessarily achieved due to precision loss.\n",
        "         Current function value: 0.145422\n",
        "         Iterations: 122\n",
        "         Function evaluations: 214\n",
        "         Gradient evaluations: 204\n"
       ]
      }
     ],
     "prompt_number": 50
    },
    {
     "cell_type": "code",
     "collapsed": false,
     "input": [
      "np.allclose(v_int, v_cg_sol)"
     ],
     "language": "python",
     "metadata": {},
     "outputs": [
      {
       "metadata": {},
       "output_type": "pyout",
       "prompt_number": 51,
       "text": [
        "True"
       ]
      }
     ],
     "prompt_number": 51
    },
    {
     "cell_type": "markdown",
     "metadata": {},
     "source": [
      "Note that whether this returns true depends on the tolerance we set np.allclose to.  It defaults to 1e-5 which may be overkill.  The speed of evaluation will also depend on this.  Refactoring:"
     ]
    },
    {
     "cell_type": "code",
     "collapsed": false,
     "input": [
      "def solve_node_voltages_cg( G, ext_voltage_vec ):\n",
      "    \"\"\"\n",
      "    Returns a vector containing the node voltages of a graph specified by G and set to external voltages\n",
      "    specified by ext_voltage_list.  Conjugate gradient is used to solve the network.  To ensure convergence,\n",
      "    this is meant to be used on a fully connected component and should be used as a solver inside of\n",
      "    solve_node_voltages_cc.  This function takes:\n",
      "    G - conductance matrix specifying the conductance between nodes i and j\n",
      "    ext_voltage_vec - a vector specifying the external voltages the network is set to. Nodes not set to an\n",
      "    external voltage should be Nan\n",
      "    \"\"\"\n",
      "    \n",
      "    int_nodes = np.isnan(ext_voltage_vec)\n",
      "    \n",
      "    voltage = np.copy(ext_voltage_vec)\n",
      "    voltage[int_nodes] = 0\n",
      "    v0 = voltage[int_nodes]\n",
      "    \n",
      "    v_int = scipy.optimize.fmin_cg(network_power, v0, fprime=grad_power, args=(G, ext_voltage_vec), disp=0)\n",
      "    \n",
      "    voltage[int_nodes] = v_int\n",
      "    return voltage"
     ],
     "language": "python",
     "metadata": {},
     "outputs": [],
     "prompt_number": 52
    },
    {
     "cell_type": "code",
     "collapsed": false,
     "input": [
      "solve_node_voltages_cg(cc_G, cc_v_ext)"
     ],
     "language": "python",
     "metadata": {},
     "outputs": [
      {
       "metadata": {},
       "output_type": "pyout",
       "prompt_number": 53,
       "text": [
        "array([ 0.01868196,  0.0093415 ,  0.        ,  0.01868291,  0.01868324,\n",
        "        0.06539263,  0.02802534,  0.        ,  0.10275912,  0.        ,\n",
        "        0.14012747,  0.        ,  1.        ,  0.99999925,  0.99999993,\n",
        "        0.32890207,  0.32890542,  0.2695406 ,  0.17749709,  0.11833005,\n",
        "        0.        ,  1.        ,  0.92612337,  0.53369613,  0.5336983 ,\n",
        "        0.38827416,  0.30222058,  0.1819923 ,  0.05916435,  0.        ,\n",
        "        1.        ,  0.92612547,  0.84994628,  0.76453417,  0.67912373,\n",
        "        0.24884578,  0.24884592,  0.18648507,  1.        ,  0.92843454,\n",
        "        0.85917965,  0.7991592 ,  0.7391412 ,  0.14660134,  0.19547495,\n",
        "        0.1909788 ,  0.        ,  0.        ,  0.79915873,  0.73914069,\n",
        "        0.14660165,  0.14660337,  0.09773637,  0.04886892,  0.        ])"
       ]
      }
     ],
     "prompt_number": 53
    },
    {
     "cell_type": "code",
     "collapsed": false,
     "input": [
      "def solve_node_voltages_cc_cg( G_sparse, ext_voltage_list):\n",
      "    \"\"\"\n",
      "    This solver uses the scipy csgraph module to split the graph into connected\n",
      "    components and then solve each one.  Components not set to any voltage are\n",
      "    set to zero. Components set to a single voltage are set to that voltage.\n",
      "    Finally, components set to more than one voltage are solved.  For now, they\n",
      "    are solved through one of the solvers above. (although I would like to attempt\n",
      "    a constrained conjugate gradient solution as well)\n",
      "    \"\"\"\n",
      "    # Pull dimensions and set up external voltage and solution vectors\n",
      "    n = G_sparse.shape[0]\n",
      "    \n",
      "    v_external = external_voltage_vec(n, ext_voltage_list)\n",
      "    voltages = np.zeros_like(v_external)\n",
      "    \n",
      "    # Divide the graph into connected components\n",
      "    num_comp, labels = scipy.sparse.csgraph.connected_components(G_sparse)\n",
      "    \n",
      "    # For each connected component\n",
      "    for cc in range(num_comp):\n",
      "        # Pull a boolean array of the node indices and use that to get the external voltages\n",
      "        cc_nodes = (labels == cc)\n",
      "        cc_v_ext = v_external[cc_nodes]\n",
      "        \n",
      "        # Find the maximum and minimum voltages on the component\n",
      "        cc_max = np.nanmax(cc_v_ext)\n",
      "        cc_min = np.nanmin(cc_v_ext)\n",
      "        \n",
      "        # If the component is not set to any voltage, set it to zero\n",
      "        if np.isnan(cc_max):\n",
      "            voltages[cc_nodes] = 0\n",
      "        \n",
      "        # If it is set to a single external voltage, set all nodes to that value\n",
      "        elif cc_max == cc_min:\n",
      "            voltages[cc_nodes] = cc_max\n",
      "        \n",
      "        # Otherwise, it must be set to two external voltages, in which case we must solve it\n",
      "        else:\n",
      "            # Use the node mask to get the conductance matrix for this component\n",
      "            cc_G = np.array(G_sparse[cc_nodes, :][:, cc_nodes].todense())\n",
      "            # solve using scipy's conjugate gradient solver minimizing the power dissipated\n",
      "            voltages[cc_nodes] = solve_node_voltages_cg(cc_G, cc_v_ext)\n",
      "    return voltages"
     ],
     "language": "python",
     "metadata": {},
     "outputs": [],
     "prompt_number": 54
    },
    {
     "cell_type": "code",
     "collapsed": false,
     "input": [
      "voltages = solve_node_voltages_cc_cg( B, ext_volt)\n",
      "fig, ax = plt.subplots(figsize=(8, 8))\n",
      "display_grid_voltages( ax, np.array(B.todense()), voltages)"
     ],
     "language": "python",
     "metadata": {},
     "outputs": [
      {
       "metadata": {},
       "output_type": "display_data",
       "png": "[encoded data removed]",
       "text": [
        "<matplotlib.figure.Figure at 0x4747b90>"
       ]
      }
     ],
     "prompt_number": 55
    },
    {
     "cell_type": "heading",
     "level": 4,
     "metadata": {},
     "source": [
      "Timing"
     ]
    },
    {
     "cell_type": "markdown",
     "metadata": {},
     "source": [
      "So both work, but how much faster is the sparse solver?"
     ]
    },
    {
     "cell_type": "code",
     "collapsed": false,
     "input": [
      "%%timeit\n",
      "ext_volt = [(0, 1), (224, 0)]\n",
      "G_dense = gen_adj_grid(15)\n",
      "v_dense = solve_node_voltages( G_dense, ext_volt)"
     ],
     "language": "python",
     "metadata": {},
     "outputs": [
      {
       "output_type": "stream",
       "stream": "stdout",
       "text": [
        "1 loops, best of 3: 355 ms per loop\n"
       ]
      }
     ],
     "prompt_number": 56
    },
    {
     "cell_type": "code",
     "collapsed": false,
     "input": [
      "%%timeit\n",
      "ext_volt = [(0, 1), (224, 0)]\n",
      "G_dense = gen_adj_grid(15)\n",
      "v_dense = solve_node_voltages_lstsq( G_dense, ext_volt)"
     ],
     "language": "python",
     "metadata": {},
     "outputs": [
      {
       "output_type": "stream",
       "stream": "stdout",
       "text": [
        "1 loops, best of 3: 388 ms per loop\n"
       ]
      }
     ],
     "prompt_number": 57
    },
    {
     "cell_type": "code",
     "collapsed": false,
     "input": [
      "%%timeit\n",
      "ext_volt = [(0, 1), (224, 0)]\n",
      "G_sparse = gen_adj_grid_sparse(15)\n",
      "v_sparse = solve_node_voltages_sparse( G_sparse, ext_volt)"
     ],
     "language": "python",
     "metadata": {},
     "outputs": [
      {
       "output_type": "stream",
       "stream": "stdout",
       "text": [
        "1 loops, best of 3: 352 ms per loop\n"
       ]
      }
     ],
     "prompt_number": 58
    },
    {
     "cell_type": "markdown",
     "metadata": {},
     "source": [
      "Meager at best but this may be for two reasons: 1. sparse matrix algorithms may offer a memory boost rather than a speed boost.  It's embarrassing to admit my own ignorance here but maybe it will force me to look into it. 2. The way I am storing the sparse matrices may not take advantage of their sparsity structure.  The least squares solution is ~50% slower but it does some nice things (such as setting disconnected components to 0) that are necessary so it will have to be my go to.\n",
      "\n",
      "\n",
      "\n",
      "**Note** It appears that the least squares solution does not tolerate many external voltages for some reason and starts setting disconnected components to arbitrary values.  I'm not sure why this is yet but I may have to write a new solver. "
     ]
    },
    {
     "cell_type": "code",
     "collapsed": false,
     "input": [
      "%%timeit\n",
      "ext_volt = [(0, 1), (224, 0)]\n",
      "G_dense = gen_adj_grid(15)\n",
      "v_dense = solve_node_voltages_relax( G_dense, ext_volt)"
     ],
     "language": "python",
     "metadata": {},
     "outputs": [
      {
       "output_type": "stream",
       "stream": "stdout",
       "text": [
        "1 loops, best of 3: 7.73 s per loop\n"
       ]
      }
     ],
     "prompt_number": 59
    },
    {
     "cell_type": "markdown",
     "metadata": {},
     "source": [
      "Terrible.  I'm not sure if this is because of my implementation or because this way sucks but that will have to wait for another day to find out."
     ]
    },
    {
     "cell_type": "code",
     "collapsed": false,
     "input": [
      "%%timeit\n",
      "ext_volt = [(0, 1), (224, 0)]\n",
      "G_sparse = gen_adj_grid_sparse(15)\n",
      "v_sparse = solve_node_voltages_cc( G_sparse, ext_volt)"
     ],
     "language": "python",
     "metadata": {},
     "outputs": [
      {
       "output_type": "stream",
       "stream": "stdout",
       "text": [
        "1 loops, best of 3: 363 ms per loop\n"
       ]
      }
     ],
     "prompt_number": 60
    },
    {
     "cell_type": "markdown",
     "metadata": {},
     "source": [
      "Great!  So it performs as well as the dense solver even in the scenario when the connected components decomposition is unnecessary.  It seems the real cutting edge method in all this is to use a Cholesky decomposition on the graph laplacian and this will facilitate fast solution.  The slightly less cutting edge method is to use conjugate gradient to minimize the power dissipated.  I'll give this a whirl to see how it compares to the relaxation solver (which I would like to graph the timing for to get an idea of how it scales."
     ]
    },
    {
     "cell_type": "code",
     "collapsed": false,
     "input": [
      "%%timeit\n",
      "ext_volt = [(0, 1), (224, 0)]\n",
      "G_sparse = gen_adj_grid_sparse(15)\n",
      "v_sparse = solve_node_voltages_cc_cg( G_sparse, ext_volt)"
     ],
     "language": "python",
     "metadata": {},
     "outputs": [
      {
       "output_type": "stream",
       "stream": "stdout",
       "text": [
        "1 loops, best of 3: 585 ms per loop\n"
       ]
      }
     ],
     "prompt_number": 61
    },
    {
     "cell_type": "markdown",
     "metadata": {},
     "source": [
      "Slower by about a factor of two and this seems to increase for larger systems.  Too bad. Lastly, as both of these work on random grids, I'd like to try them there."
     ]
    },
    {
     "cell_type": "code",
     "collapsed": false,
     "input": [
      "L=50\n",
      "ext_volt = zip(range(0, L**2, L), np.ones(L))\n",
      "ext_volt.extend(zip(range(L-1, L**2, L), np.zeros(L)))\n",
      "G = gen_adj_rand_grid_sparse(L, .55)"
     ],
     "language": "python",
     "metadata": {},
     "outputs": [],
     "prompt_number": 134
    },
    {
     "cell_type": "code",
     "collapsed": false,
     "input": [
      "%%timeit\n",
      "voltage1 = solve_node_voltages_cc( G, ext_volt)"
     ],
     "language": "python",
     "metadata": {},
     "outputs": [
      {
       "output_type": "stream",
       "stream": "stdout",
       "text": [
        "1 loops, best of 3: 230 ms per loop\n"
       ]
      }
     ],
     "prompt_number": 135
    },
    {
     "cell_type": "code",
     "collapsed": false,
     "input": [
      "%%timeit\n",
      "voltage2 = solve_node_voltages_cc_cg( G, ext_volt)"
     ],
     "language": "python",
     "metadata": {},
     "outputs": [
      {
       "output_type": "stream",
       "stream": "stdout",
       "text": [
        "1 loops, best of 3: 2min 30s per loop\n"
       ]
      }
     ],
     "prompt_number": 136
    },
    {
     "cell_type": "code",
     "collapsed": false,
     "input": [
      "voltage1 = solve_node_voltages_cc( G, ext_volt)\n",
      "voltage2 = solve_node_voltages_cc_cg( G, ext_volt)"
     ],
     "language": "python",
     "metadata": {},
     "outputs": [],
     "prompt_number": 137
    },
    {
     "cell_type": "code",
     "collapsed": false,
     "input": [
      "fig, ax = plt.subplots(1, 2, figsize=(16, 8))\n",
      "display_grid_voltages(ax[0], np.array(G.todense()), voltage1, nodesize=6)\n",
      "display_grid_voltages(ax[1], np.array(G.todense()), voltage2, nodesize=6)"
     ],
     "language": "python",
     "metadata": {},
     "outputs": [
      {
       "metadata": {},
       "output_type": "display_data",
       "png": "[encoded data removed]",
       "text": [
        "<matplotlib.figure.Figure at 0x13c6c6d0>"
       ]
      }
     ],
     "prompt_number": 146
    },
    {
     "cell_type": "code",
     "collapsed": false,
     "input": [
      "np.max(voltage1-voltage2)"
     ],
     "language": "python",
     "metadata": {},
     "outputs": [
      {
       "metadata": {},
       "output_type": "pyout",
       "prompt_number": 155,
       "text": [
        "0.0013543041824293778"
       ]
      }
     ],
     "prompt_number": 155
    },
    {
     "cell_type": "code",
     "collapsed": false,
     "input": [
      "fig, ax = plt.subplots(1, 2, figsize=(16, 8))\n",
      "P = display_grid_power(ax[0], np.array(G.todense()), voltage1, nodesize=3)\n",
      "P = display_grid_power(ax[1], np.array(G.todense()), voltage2, nodesize=3)"
     ],
     "language": "python",
     "metadata": {},
     "outputs": [
      {
       "metadata": {},
       "output_type": "display_data",
       "png": "[encoded data removed]",
       "text": [
        "<matplotlib.figure.Figure at 0x18a2a3d0>"
       ]
      }
     ],
     "prompt_number": 162
    },
    {
     "cell_type": "markdown",
     "metadata": {},
     "source": [
      "These show a surprising range in the amount of time they require to solve the network.  "
     ]
    },
    {
     "cell_type": "heading",
     "level": 3,
     "metadata": {},
     "source": [
      "Displaying the Network"
     ]
    },
    {
     "cell_type": "markdown",
     "metadata": {},
     "source": [
      "I'd like to have some way of visualizing solutions to these networks.  For a grid, I think laying down squares or circles color coded by the voltage and placing lines between them colored by the conductance/current/power would give an appealing display of the network.  For plotting nearest neighbor networks etc. a ring with chords (or curves) between the nodes may be more appropriate.\n",
      "\n",
      "This may be useful http://stackoverflow.com/questions/11885060/how-to-shade-points-in-scatter-based-on-colormap-in-matplotlib"
     ]
    },
    {
     "cell_type": "heading",
     "level": 5,
     "metadata": {},
     "source": [
      "Voltages"
     ]
    },
    {
     "cell_type": "code",
     "collapsed": false,
     "input": [
      "def display_grid_voltages(ax, G, voltages, nodesize=12, bondwidth=3):\n",
      "    \"\"\"\n",
      "    Plots the voltages from the solution of resistors on a grid.  The positions of the nodes\n",
      "    are pulled from the conductance matrix with the convention that the 0th node is at the top\n",
      "    left and the index increases as we move down the columns of the grid. Arguments are:\n",
      "    \n",
      "    ax - an axes object for the figure\n",
      "    G - a dense conductance array.  Note that this is, at the moment incompatible with the\n",
      "    matrix type due to the different behavior of nonzero()\n",
      "    voltages - a vector of the node voltages\n",
      "    \"\"\"\n",
      "    # make sure we have no extraneous dimensions and\n",
      "    # find the dimensions of the grid\n",
      "    voltages = voltages.flatten()\n",
      "    n = np.sqrt(voltages.size)\n",
      "    \n",
      "    def node2xy(num_nodes, node_idx):\n",
      "        \"\"\"\n",
      "        returns the x and y coordinates of a node index in our grid\n",
      "        \"\"\"\n",
      "        return np.floor(node_idx / num_nodes), (num_nodes-1) - node_idx % n\n",
      "\n",
      "\n",
      "    # First draw the connections between nodes\n",
      "    rows, cols = np.triu(G).nonzero()\n",
      "    \n",
      "    for node_i, node_j in itertools.izip(rows, cols):\n",
      "        x_i, y_i = node2xy(n, node_i)\n",
      "        x_j, y_j = node2xy(n, node_j)\n",
      "        ax.plot([x_i, x_j], [y_i, y_j], 'k', lw = bondwidth)\n",
      "        \n",
      "    # Normalize our voltage colormap to the max and min of voltages\n",
      "    reds = plt.get_cmap(\"Reds\")\n",
      "    norm = plt.normalize()\n",
      "    norm.autoscale(voltages)\n",
      "    \n",
      "    # Now draw the nodes and their voltages\n",
      "    for node, volt in enumerate(voltages):\n",
      "        x, y = node2xy(n, node)\n",
      "        ax.plot(x, y, 's', markersize=nodesize,\n",
      "                   color=reds(norm(volt)))\n",
      "    ax.set_xlim( -1, n )\n",
      "    ax.set_ylim( -1, n )"
     ],
     "language": "python",
     "metadata": {},
     "outputs": [],
     "prompt_number": 140
    },
    {
     "cell_type": "code",
     "collapsed": false,
     "input": [
      "L = 20\n",
      "ext_volt = zip(range(0, L**2, L), np.ones(L))\n",
      "ext_volt.extend(zip(range(L-1, L**2, L), np.zeros(L)))\n",
      "# ext_volt = [ (0, 1), (L**2 - 1, 0)]\n",
      "G_sparse = gen_adj_rand_grid_sparse(L, .55)\n",
      "v_sparse = solve_node_voltages_cc( G_sparse, ext_volt)"
     ],
     "language": "python",
     "metadata": {},
     "outputs": [],
     "prompt_number": 141
    },
    {
     "cell_type": "code",
     "collapsed": false,
     "input": [
      "fig, ax = plt.subplots(figsize = (8, 8))\n",
      "display_grid_voltages(ax, np.array(G_sparse.todense()), v_sparse)"
     ],
     "language": "python",
     "metadata": {},
     "outputs": [
      {
       "metadata": {},
       "output_type": "display_data",
       "png": "[encoded data removed]",
       "text": [
        "<matplotlib.figure.Figure at 0x15ab7c90>"
       ]
      }
     ],
     "prompt_number": 142
    },
    {
     "cell_type": "heading",
     "level": 5,
     "metadata": {},
     "source": [
      "Current/Power"
     ]
    },
    {
     "cell_type": "code",
     "collapsed": false,
     "input": [
      "def display_grid_power(ax, G, voltages, nodesize=5, bondwidth=3):\n",
      "    \"\"\"\n",
      "    Plots the power dissipated in each leg of the grid.  The positions of the nodes\n",
      "    are pulled from the conductance matrix with the convention that the 0th node is at the top\n",
      "    left and the index increases as we move down the columns of the grid. Arguments are:\n",
      "    \n",
      "    ax - an axes object for the figure\n",
      "    G - a dense conductance array\n",
      "    voltages - a vector of the node voltages\n",
      "    \"\"\"\n",
      "    # make sure we have no extraneous dimensions and\n",
      "    # find the dimensions of the grid\n",
      "    voltages = voltages.flatten()\n",
      "    n = np.sqrt(voltages.size)\n",
      "    \n",
      "    def node2xy(num_nodes, node_idx):\n",
      "        \"\"\"\n",
      "        returns the x and y coordinates of a node index in our grid\n",
      "        \"\"\"\n",
      "        return np.floor(node_idx / num_nodes), (num_nodes-1) - node_idx % n\n",
      "    \n",
      "    # Form a matrix of power dissipation in each resistor\n",
      "    Power = np.zeros_like(G, dtype=float)\n",
      "    \n",
      "    rows, cols = np.triu(G).nonzero()\n",
      "    for node_i, node_j in itertools.izip(rows, cols):\n",
      "        Power[node_i, node_j] = G[node_i, node_j] * (voltages[node_i] - voltages[node_j])**2\n",
      "    \n",
      "    colormap = plt.get_cmap(\"YlOrRd\")\n",
      "    norm_pow = plt.normalize()\n",
      "    norm_pow.autoscale(Power)\n",
      "    \n",
      "    # draw the connections between nodes\n",
      "    for node_i, node_j in itertools.izip(rows, cols):\n",
      "        x_i, y_i = node2xy(n, node_i)\n",
      "        x_j, y_j = node2xy(n, node_j)\n",
      "        ax.plot([x_i, x_j], [y_i, y_j], color=colormap(norm_pow(Power[node_i, node_j])), lw=bondwidth)\n",
      "        \n",
      "    # Normalize our voltage colormap to the max and min of voltages\n",
      "    #norm_v = plt.normalize()\n",
      "    #norm_v.autoscale(voltages)\n",
      "    \n",
      "    # Now draw the nodes and their voltages\n",
      "    for node, volt in enumerate(voltages):\n",
      "        x, y = node2xy(n, node)\n",
      "        ax.plot(x, y, 'ws', markersize=nodesize)\n",
      "         #       color=reds(norm_v(volt)))\n",
      "    ax.set_xlim( -1, n )\n",
      "    ax.set_ylim( -1, n )\n",
      "    return Power"
     ],
     "language": "python",
     "metadata": {},
     "outputs": [],
     "prompt_number": 160
    },
    {
     "cell_type": "code",
     "collapsed": false,
     "input": [
      "fig2, ax2 = plt.subplots(figsize = (8, 8))\n",
      "P = display_grid_power(ax2, np.array(G_sparse.todense()), v_sparse) "
     ],
     "language": "python",
     "metadata": {},
     "outputs": [
      {
       "metadata": {},
       "output_type": "display_data",
       "png": "[encoded data removed]",
       "text": [
        "<matplotlib.figure.Figure at 0x102c2990>"
       ]
      }
     ],
     "prompt_number": 161
    },
    {
     "cell_type": "code",
     "collapsed": false,
     "input": [],
     "language": "python",
     "metadata": {},
     "outputs": []
    }
   ],
   "metadata": {}
  }
 ]
}