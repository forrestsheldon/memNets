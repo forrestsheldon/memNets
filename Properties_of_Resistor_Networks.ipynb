{
 "metadata": {
  "name": "",
  "signature": "sha256:6df90893157a6248c6ea2f2c313cd67bc63ca8d4e4c2e3dfd09ce5070afb61b4"
 },
 "nbformat": 3,
 "nbformat_minor": 0,
 "worksheets": [
  {
   "cells": [
    {
     "cell_type": "heading",
     "level": 1,
     "metadata": {},
     "source": [
      "Properties of Resistor Networks"
     ]
    },
    {
     "cell_type": "code",
     "collapsed": false,
     "input": [
      "%matplotlib inline"
     ],
     "language": "python",
     "metadata": {},
     "outputs": [],
     "prompt_number": 1
    },
    {
     "cell_type": "code",
     "collapsed": false,
     "input": [
      "import numpy as np\n",
      "import matplotlib.pyplot as plt\n",
      "import scipy as scp\n",
      "import scipy.sparse\n",
      "import resistor_networks as rnets\n",
      "from itertools import izip"
     ],
     "language": "python",
     "metadata": {},
     "outputs": [
      {
       "ename": "ImportError",
       "evalue": "No module named resistor_networks",
       "output_type": "pyerr",
       "traceback": [
        "\u001b[1;31m---------------------------------------------------------------------------\u001b[0m\n\u001b[1;31mImportError\u001b[0m                               Traceback (most recent call last)",
        "\u001b[1;32m<ipython-input-3-26c257c1976b>\u001b[0m in \u001b[0;36m<module>\u001b[1;34m()\u001b[0m\n\u001b[0;32m      3\u001b[0m \u001b[1;32mimport\u001b[0m \u001b[0mscipy\u001b[0m \u001b[1;32mas\u001b[0m \u001b[0mscp\u001b[0m\u001b[1;33m\u001b[0m\u001b[0m\n\u001b[0;32m      4\u001b[0m \u001b[1;32mimport\u001b[0m \u001b[0mscipy\u001b[0m\u001b[1;33m.\u001b[0m\u001b[0msparse\u001b[0m\u001b[1;33m\u001b[0m\u001b[0m\n\u001b[1;32m----> 5\u001b[1;33m \u001b[1;32mimport\u001b[0m \u001b[0mresistor_networks\u001b[0m \u001b[1;32mas\u001b[0m \u001b[0mrnets\u001b[0m\u001b[1;33m\u001b[0m\u001b[0m\n\u001b[0m\u001b[0;32m      6\u001b[0m \u001b[1;32mfrom\u001b[0m \u001b[0mitertools\u001b[0m \u001b[1;32mimport\u001b[0m \u001b[0mizip\u001b[0m\u001b[1;33m\u001b[0m\u001b[0m\n",
        "\u001b[1;31mImportError\u001b[0m: No module named resistor_networks"
       ]
      }
     ],
     "prompt_number": 3
    },
    {
     "cell_type": "heading",
     "level": 3,
     "metadata": {},
     "source": [
      "The Infinite Resistor Grid"
     ]
    },
    {
     "cell_type": "markdown",
     "metadata": {},
     "source": [
      "Perhaps the simplest interesting problem related to resistor network is that of the infinite grid.  The problem is simply to calculate the resistance between two point on some regular lattice of resistors.  The simplest example, that of the 2D cubic lattice with points joined by a single edge can be solved through symmetry.\n",
      "\n",
      "Consider a unit current fed into a node on an infinite lattice of resistors.  Symmetry dictates that the current must flow equally along each of the four edges leaving the node.  Similarly, if a unit current is drawn from the lattice, a current of $\\frac{I}{4}$ must flow through each branch.  Taking advantage of superposition, we place these the source and sink on adjacent nodes.  Now, by superposition, half of the current flows along the single bond and the rest flows through the lattice, so their resistances must be equal.  Thus the resistance between to adjacent points is $2 \\Omega$.\n",
      "\n",
      "Points more distantly separated require more advanced methods..."
     ]
    },
    {
     "cell_type": "heading",
     "level": 5,
     "metadata": {},
     "source": [
      "Fourier Series Solution of the Infinite Resistor Grid"
     ]
    },
    {
     "cell_type": "heading",
     "level": 4,
     "metadata": {},
     "source": [
      "Effective Medium Theory"
     ]
    },
    {
     "cell_type": "markdown",
     "metadata": {},
     "source": [
      "For a random resistor network, "
     ]
    },
    {
     "cell_type": "heading",
     "level": 2,
     "metadata": {},
     "source": [
      "Multifractal Scaling"
     ]
    },
    {
     "cell_type": "markdown",
     "metadata": {},
     "source": [
      "It has been found that the distribution of voltages across each resistor displays multi-fractal scaling meaning that the different moments of the distribution scale independently.  More 'typical' distribution display simpler behavior in their moments.  for example, the even moments of the maxwell distribution are all proportional to $\\left<(v^2)^n\\right> \\propto (v_{th}^2)^{p(n)}$ where $p(n)$ is some linear function of $n$.  In this case, the single velocity scale $v_{th}$ dominates all moments.  (This is not so surprising as in the max-ent definition the Gaussian is a distribution that exhibits a single scale.)  In multi-fractal scaling, a wide range of scales is present in the distribution and this is evidenced by some nonlinear relationship in $p(n)$.\n",
      "\n",
      "The distribution proves useful to study if we consider the power dissipation in the network.  Suppose we place a unit voltage across a network of unit conductances.  The total power dissipated by the network is thus $P = GV^2 \\to G$.  But the power is also,\n",
      "$$P = \\sum_{ij} g_{ij} V_{ij}^2 = \\sum_{ij} V_{ij}^2 = \\sum_V N(V) V^2$$\n",
      "where we sum over the values of $V_{ij}$ that occur in the network.  $N(V)$ is thus the distribution of voltage values and the conductance is its second moment.  We can define the scaling behavior of the moments of the voltage distribution as being controlled by some function $p(k)$ such that at $p=p_c$,\n",
      "$$M(k) = \\sum N(V) V^k \\propto L^{-p(k)/\\nu}$$"
     ]
    },
    {
     "cell_type": "code",
     "collapsed": false,
     "input": [
      "def conducts(G, v_external):\n",
      "    \"\"\"\n",
      "    runs a connected components search to see if the lattice percolates\n",
      "    \"\"\"\n",
      "    num_comp, labels = scipy.sparse.csgraph.connected_components(G, directed=False)\n",
      "    \n",
      "    for cc in range(num_comp):\n",
      "        # Pull a boolean array of the node indices and use that to get the external voltages\n",
      "        cc_nodes = (labels == cc)\n",
      "        cc_v_ext = v_external[cc_nodes]\n",
      "        \n",
      "        # Find the maximum and minimum voltages on the component\n",
      "        cc_max = np.nanmax(cc_v_ext)\n",
      "        cc_min = np.nanmin(cc_v_ext)\n",
      "        \n",
      "        # If it is connected to two different\n",
      "        if not (np.isnan(cc_max) or np.isnan(cc_min)) and (cc_max != cc_min):\n",
      "           return True\n",
      "    return False\n",
      "\n",
      "def external_voltage_vec(n, ext_voltage_list):\n",
      "    \"\"\"\n",
      "    Returns a vector whose value is nan for nodes that are unconstrained and v for\n",
      "    nodes constrained to external voltage v\n",
      "    \"\"\"\n",
      "    v_ext = np.empty(n) * np.nan\n",
      "    for idx, voltage in ext_voltage_list:\n",
      "        v_ext[idx] = voltage\n",
      "    return v_ext"
     ],
     "language": "python",
     "metadata": {},
     "outputs": [],
     "prompt_number": 14
    },
    {
     "cell_type": "code",
     "collapsed": false,
     "input": [
      "L = 64\n",
      "\n",
      "G = rnets.gen_adj_rand_grid_sparse(L, p=0.505)\n",
      "\n",
      "ext_volt = zip(range(0, L**2, L), np.ones(L))\n",
      "ext_volt.extend(zip(range(L-1, L**2, L), np.zeros(L)))\n",
      "\n",
      "conducts(G, external_voltage_vec(L**2, ext_volt))"
     ],
     "language": "python",
     "metadata": {},
     "outputs": [
      {
       "metadata": {},
       "output_type": "pyout",
       "prompt_number": 23,
       "text": [
        "False"
       ]
      }
     ],
     "prompt_number": 23
    },
    {
     "cell_type": "code",
     "collapsed": false,
     "input": [
      "voltages = rnets.solve_node_voltages_cc(G, ext_volt)"
     ],
     "language": "python",
     "metadata": {},
     "outputs": []
    },
    {
     "cell_type": "code",
     "collapsed": false,
     "input": [
      "fig, ax = plt.subplots(figsize=(12, 12))\n",
      "rnets.display_grid_voltages(ax, np.array(G.todense()), voltages, nodesize=8)"
     ],
     "language": "python",
     "metadata": {},
     "outputs": []
    },
    {
     "cell_type": "code",
     "collapsed": false,
     "input": [
      "def voltage_drops(G, voltages):\n",
      "    \"\"\"\n",
      "    Returns a sparse array of voltage drops in a network\n",
      "    \"\"\"\n",
      "    rows, cols = G.nonzero()\n",
      "    V_drops = scipy.sparse.csr_matrix(G.shape)\n",
      "    \n",
      "    for row, col in izip(rows, cols):\n",
      "        V = voltages[row] - voltages[col]\n",
      "        if V != 0:\n",
      "            V_drops[row, col] = V\n",
      "    return V_drops\n",
      "\n",
      "def currents(G, voltages):\n",
      "    \"\"\"\n",
      "    Returns a sparse matrix of currents in a network\n",
      "    \"\"\"\n",
      "    V = voltage_drops(G, voltages)\n",
      "    return V.multiply(G)"
     ],
     "language": "python",
     "metadata": {},
     "outputs": [],
     "prompt_number": 6
    },
    {
     "cell_type": "code",
     "collapsed": false,
     "input": [
      "\n"
     ],
     "language": "python",
     "metadata": {},
     "outputs": [
      {
       "metadata": {},
       "output_type": "pyout",
       "prompt_number": 9,
       "text": [
        "False"
       ]
      }
     ],
     "prompt_number": 9
    },
    {
     "cell_type": "code",
     "collapsed": false,
     "input": [],
     "language": "python",
     "metadata": {},
     "outputs": []
    }
   ],
   "metadata": {}
  }
 ]
}