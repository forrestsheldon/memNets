{
 "metadata": {
  "name": ""
 },
 "nbformat": 3,
 "nbformat_minor": 0,
 "worksheets": [
  {
   "cells": [
    {
     "cell_type": "heading",
     "level": 1,
     "metadata": {},
     "source": [
      "Properties of Resistor Networks"
     ]
    },
    {
     "cell_type": "code",
     "collapsed": false,
     "input": [
      "%pylab inline --no-import-all"
     ],
     "language": "python",
     "metadata": {},
     "outputs": [
      {
       "output_type": "stream",
       "stream": "stdout",
       "text": [
        "Populating the interactive namespace from numpy and matplotlib\n"
       ]
      }
     ],
     "prompt_number": 1
    },
    {
     "cell_type": "code",
     "collapsed": false,
     "input": [
      "import numpy as np\n",
      "import matplotlib.pyplot as plt\n",
      "import scipy as scp\n",
      "import resistor_network_solver as rnets"
     ],
     "language": "python",
     "metadata": {},
     "outputs": [],
     "prompt_number": 2
    },
    {
     "cell_type": "heading",
     "level": 3,
     "metadata": {},
     "source": [
      "The Infinite Resistor Grid"
     ]
    },
    {
     "cell_type": "markdown",
     "metadata": {},
     "source": [
      "Perhaps the simplest interesting problem related to resistor network is that of the infinite grid.  The problem is simply to calculate the resistance between two point on some regular lattice of resistors.  The simplest example, that of the 2D cubic lattice with points joined by a single edge can be solved through symmetry.\n",
      "\n",
      "Consider a unit current fed into a node on an infinite lattice of resistors.  Symmetry dictates that the current must flow equally along each of the four edges leaving the node.  Similarly, if a unit current is drawn from the lattice, a current of $\\frac{I}{4}$ must flow through each branch.  Taking advantage of superposition, we place these the source and sink on adjacent nodes.  Now, by superposition, half of the current flows along the single bond and the rest flows through the lattice, so their resistances must be equal.  Thus the resistance between to adjacent points is $2 \\Omega$.\n",
      "\n",
      "Points more distantly separated require more advanced methods..."
     ]
    },
    {
     "cell_type": "heading",
     "level": 5,
     "metadata": {},
     "source": [
      "Fourier Series Solution of the Infinite Resistor Grid"
     ]
    },
    {
     "cell_type": "heading",
     "level": 4,
     "metadata": {},
     "source": [
      "Effective Medium Theory"
     ]
    },
    {
     "cell_type": "markdown",
     "metadata": {},
     "source": [
      "For a random resistor network, "
     ]
    },
    {
     "cell_type": "heading",
     "level": 2,
     "metadata": {},
     "source": [
      "Multifractal Scaling"
     ]
    },
    {
     "cell_type": "markdown",
     "metadata": {},
     "source": [
      "It has been found that the distribution of voltages across each resistor displays multi-fractal scaling meaning that the different moments of the distribution scale independently.  More 'typical' distribution display simpler behavior in their moments.  for example, the even moments of the maxwell distribution are all proportional to $\\left<(v^2)^n\\right> \\propto (v_{th}^2)^{p(n)}$ where $p(n)$ is some linear function of $n$.  In this case, the single velocity scale $v_{th}$ dominates all moments.  (This is not so surprising as in the max-ent definition the Gaussian is a distribution that exhibits a single scale.)  In multi-fractal scaling, a wide range of scales is present in the distribution and this is evidenced by some nonlinear relationship in $p(n)$.\n",
      "\n",
      "The distribution proves useful to study if we consider the power dissipation in the network.  Suppose we place a unit voltage across a network of unit conductances.  The total power dissipated by the network is thus $P = GV^2 \\to G$.  But the power is also,\n",
      "$$P = \\sum_{ij} g_{ij} V_{ij}^2 = \\sum_{ij} V_{ij}^2 = \\sum_V N(V) V^2$$\n",
      "where we sum over the values of $V_{ij}$ that occur in the network.  $N(V)$ is thus the distribution of voltage values and the conductance is its second moment.  We can define the scaling behavior of the moments of the voltage distribution as being controlled by some function $p(k)$ such that at $p=p_c$,\n",
      "$$M(k) = \\sum N(V) V^k \\propto L^{-p(k)/\\nu}$$"
     ]
    },
    {
     "cell_type": "code",
     "collapsed": false,
     "input": [
      "L = 64\n",
      "\n",
      "G = rnets.gen_adj_rand_grid_sparse(L, p=0.5)\n",
      "\n",
      "ext_volt = zip(range(0, L**2, L), np.ones(L))\n",
      "ext_volt.extend(zip(range(L-1, L**2, L), np.zeros(L)))"
     ],
     "language": "python",
     "metadata": {},
     "outputs": [],
     "prompt_number": 12
    },
    {
     "cell_type": "code",
     "collapsed": false,
     "input": [
      "voltages = rnets.solve_node_voltages_cc( G, ext_volt)\n"
     ],
     "language": "python",
     "metadata": {},
     "outputs": [],
     "prompt_number": 13
    },
    {
     "cell_type": "code",
     "collapsed": false,
     "input": [
      "fig, ax = plt.subplots(figsize=(12, 12))\n",
      "rnets.display_grid_voltages(ax, np.array(G.todense()), voltages)"
     ],
     "language": "python",
     "metadata": {},
     "outputs": [
      {
       "metadata": {},
       "output_type": "display_data",
       "png": "[encoded data removed]",
       "text": [
        "<matplotlib.figure.Figure at 0x5d0b910>"
       ]
      }
     ],
     "prompt_number": 14
    },
    {
     "cell_type": "code",
     "collapsed": false,
     "input": [],
     "language": "python",
     "metadata": {},
     "outputs": []
    }
   ],
   "metadata": {}
  }
 ]
}