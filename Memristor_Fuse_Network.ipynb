{
 "metadata": {
  "name": "",
  "signature": "sha256:b5215e139e0879f4b91203d8a12b419f63196046f62837f2b54935e2efeb2480"
 },
 "nbformat": 3,
 "nbformat_minor": 0,
 "worksheets": [
  {
   "cells": [
    {
     "cell_type": "heading",
     "level": 1,
     "metadata": {},
     "source": [
      "Memristor Fuse Networks"
     ]
    },
    {
     "cell_type": "code",
     "collapsed": false,
     "input": [
      "%matplotlib inline"
     ],
     "language": "python",
     "metadata": {},
     "outputs": [],
     "prompt_number": 1
    },
    {
     "cell_type": "code",
     "collapsed": false,
     "input": [
      "import numpy as np\n",
      "import scipy as sp\n",
      "import scipy.sparse as sparse\n",
      "from scipy.sparse.linalg import spsolve, cg\n",
      "import generate_adjacency_matrix as gen_adj\n",
      "import resistor_networks as rnets\n",
      "from __future__ import division"
     ],
     "language": "python",
     "metadata": {},
     "outputs": [],
     "prompt_number": 2
    },
    {
     "cell_type": "code",
     "collapsed": false,
     "input": [
      "import matplotlib.pyplot as plt"
     ],
     "language": "python",
     "metadata": {},
     "outputs": [],
     "prompt_number": 3
    },
    {
     "cell_type": "markdown",
     "metadata": {},
     "source": [
      "Here I would like to expand the resistor network notebooks to construct a memristor fuse network class.  These networks are resistor networks but have a current threshold beyond which they switch and become conductive.  This is essentially a memristive model where time has been removed.  The idea is as follows:\n",
      "\n",
      "In a true memristive network, we would place an initial voltage on the network and the memristors over threshold would begin switching.  As these went into their conductive ON states, the current through the network would increase and cause other memristors to begin growing filaments and eventually switching.  Once this process has stabilized, the voltage is increased enough to cause the memristor with the largest current to switch and the subsequent switchings are recorded.  This class will be constructed to do just this."
     ]
    },
    {
     "cell_type": "code",
     "collapsed": false,
     "input": [
      "class MemristorFuseNetwork(rnets.ResistorNetwork):\n",
      "    \"\"\"\n",
      "    This class inherits from ResistorNetwork with the aim of adding some dynamical behavior to the\n",
      "    resistors.  In particular, when a resistor has past a certain current threshold, the conductance\n",
      "    is switched from G_OFF to G_ON. To initialize, we require:\n",
      "    \n",
      "        G                     - An NxN sparse CSR matrix containing the conductances in the network of N nodes\n",
      "        external_voltages     - An Nx1 dense vector of external voltages.  Nodes not set to an external voltages\n",
      "                                contain a Nan. The shape (N,) is preferred\n",
      "        I_threshold           - The current threshold at which the memristor will go from G_OFF to G_ON\n",
      "        G_OFF                 - The conductance in the low conductivity OFF state.  Generally set to 1.\n",
      "        G_ON                  - The conductance in the high conductivity ON state.  Set to 100 by default.\n",
      "    \n",
      "    Other available attributes after initialization are:\n",
      "        currents              - An NxN sparse matrix of currents in the network.  As many tasks in the network will\n",
      "                                require that the currents be calculated, it is best that we do this once and share.\n",
      "        G_percolating\n",
      "        rows_G_perc\n",
      "        cols_G_perc\n",
      "        rows_G\n",
      "        cols_G\n",
      "    \"\"\"\n",
      "    \n",
      "    def __init__(self, G, external_voltages, I_threshold, G_OFF=1, G_ON=100):\n",
      "        rnets.ResistorNetwork.__init__(self, G, external_voltages)\n",
      "        self.I_threshold = I_threshold\n",
      "        self.G_OFF = G_OFF\n",
      "        self.G_ON = G_ON\n",
      "        self.G_percolating = self.G[self.percolating_nodes, :][:, self.percolating_nodes]\n",
      "        self.rows_G_perc, self.cols_G_perc = self.G_percolating.nonzero()\n",
      "        self.rows_G = None  # These are the subsets of G.nonzero() that correspond to the percolating cluster\n",
      "        self.cols_G = None  # used for populating G with the changed values of G_percolating\n",
      "        self.build_rows_cols_G()\n",
      "        self.currents = None\n",
      "    \n",
      "    def build_rows_cols_G(self):\n",
      "        \"\"\"\n",
      "        create the referencing vectors for G that give elements in the percolating cluster.  These are required for populating G\n",
      "        with the values of G_percolating that have been switched.\n",
      "        \"\"\"\n",
      "        rows, cols = self.G.nonzero()\n",
      "        self.rows_G = []\n",
      "        self.cols_G = []\n",
      "        for i, j in zip(rows, cols):\n",
      "            if self.percolating_nodes[i] and self.percolating_nodes[j]:\n",
      "                self.rows_G.append(i)\n",
      "                self.cols_G.append(j)\n",
      "            \n",
      "    def calculate_currents(self):\n",
      "        \"\"\"\n",
      "        calculates a matrix of currents running through each memristor\n",
      "        \"\"\"\n",
      "        self.currents = sparse.lil_matrix(self.G_percolating.shape, dtype=float)\n",
      "        rows, cols = self.G_percolating.nonzero()\n",
      "        self.currents[rows, cols] = np.multiply( self.G_percolating[rows, cols], np.abs(self.voltages[self.percolating_nodes][rows]\n",
      "                                                                                 - self.voltages[self.percolating_nodes][cols]))\n",
      "        self.currents.tocsr()\n",
      "    \n",
      "    def max_unswitched_current(self):\n",
      "        try:\n",
      "            I_max = np.max(np.max(self.currents[self.G_percolating == self.G_OFF].data))\n",
      "        except ValueError:\n",
      "            return None\n",
      "        return I_max\n",
      "        \n",
      "    def switch_memristors(self):\n",
      "        \"\"\"\n",
      "        Check the currents on each memristor.  Those that are in the low conductance state and that have a current\n",
      "        above I_thresh will have their conductance switched to G_ON\n",
      "        \"\"\"\n",
      "        switching_memristors = (self.currents >= self.I_threshold).multiply(self.G_percolating == self.G_OFF).astype('bool')\n",
      "        self.G_percolating[switching_memristors] = self.G_ON\n",
      "        return switching_memristors.nnz / 2\n",
      "    \n",
      "    def fill_G(self):\n",
      "        self.G[self.rows_G, self.cols_G] = self.G_percolating[self.rows_G_perc, self.cols_G_perc]\n",
      "\n",
      "    def switching_step(self):\n",
      "        counter = []\n",
      "        self.solve_voltages_percolating('spsolve')\n",
      "        self.calculate_currents()\n",
      "        num_switched = self.switch_memristors()\n",
      "        while num_switched != 0:\n",
      "            counter.append(num_switched)\n",
      "            self.fill_G()\n",
      "            self.solve_voltages_percolating('spsolve')\n",
      "            self.calculate_currents()\n",
      "            num_switched = self.switch_memristors()\n",
      "        return counter\n",
      "    \n",
      "    def new_voltage(self, prev_voltage):\n",
      "        return prev_voltage * self.I_threshold / self.max_unswitched_current() + 1e-15\n",
      "\n",
      "    def update_voltage_busbar(self, voltage):\n",
      "        \"\"\"\n",
      "        Using bus bar topology, this takes the previous voltage at the zeroth node and updates it so that the next memristor\n",
      "        will flip\n",
      "        \"\"\"\n",
      "        self.external_voltages[0:int(np.sqrt(self.G.shape[0]))] = voltage"
     ],
     "language": "python",
     "metadata": {},
     "outputs": [],
     "prompt_number": 4
    },
    {
     "cell_type": "heading",
     "level": 3,
     "metadata": {},
     "source": [
      "Testing"
     ]
    },
    {
     "cell_type": "code",
     "collapsed": false,
     "input": [
      "L = 16\n",
      "p = 0.9\n",
      "G_init = gen_adj.cubic_2d_random((L, L), p)\n",
      "v_external = np.empty(L*L) * np.nan\n",
      "v_external[0:L] = 1\n",
      "v_external[-L:] = 0\n",
      "I_thresh = 1 / L\n",
      "testnet = MemristorFuseNetwork(G_init, v_external, I_thresh)"
     ],
     "language": "python",
     "metadata": {},
     "outputs": [],
     "prompt_number": 5
    },
    {
     "cell_type": "code",
     "collapsed": false,
     "input": [
      "testnet.solve_voltages('spsolve')"
     ],
     "language": "python",
     "metadata": {},
     "outputs": [],
     "prompt_number": 6
    },
    {
     "cell_type": "code",
     "collapsed": false,
     "input": [
      "testnet.calculate_currents()\n",
      "r, c = testnet.currents.nonzero()\n",
      "testnet.currents[r, c].toarray().max()"
     ],
     "language": "python",
     "metadata": {},
     "outputs": [
      {
       "metadata": {},
       "output_type": "pyout",
       "prompt_number": 7,
       "text": [
        "0.12924319862502509"
       ]
      }
     ],
     "prompt_number": 7
    },
    {
     "cell_type": "code",
     "collapsed": false,
     "input": [
      "%%timeit\n",
      "testnet.max_unswitched_current()"
     ],
     "language": "python",
     "metadata": {},
     "outputs": [
      {
       "output_type": "stream",
       "stream": "stdout",
       "text": [
        "1000 loops, best of 3: 1.56 ms per loop\n"
       ]
      }
     ],
     "prompt_number": 8
    },
    {
     "cell_type": "code",
     "collapsed": false,
     "input": [
      "testnet.max_unswitched_current()"
     ],
     "language": "python",
     "metadata": {},
     "outputs": [
      {
       "metadata": {},
       "output_type": "pyout",
       "prompt_number": 9,
       "text": [
        "0.12924319862502509"
       ]
      }
     ],
     "prompt_number": 9
    },
    {
     "cell_type": "code",
     "collapsed": false,
     "input": [
      "testnet.solve_voltages_percolating('spsolve')\n",
      "testnet.calculate_currents()\n",
      "testnet.switch_memristors()"
     ],
     "language": "python",
     "metadata": {},
     "outputs": [
      {
       "metadata": {},
       "output_type": "pyout",
       "prompt_number": 10,
       "text": [
        "76.0"
       ]
      }
     ],
     "prompt_number": 10
    },
    {
     "cell_type": "code",
     "collapsed": false,
     "input": [
      "testnet.fill_G()"
     ],
     "language": "python",
     "metadata": {},
     "outputs": [],
     "prompt_number": 11
    },
    {
     "cell_type": "code",
     "collapsed": false,
     "input": [
      "testnet.external_voltages[0:L] = testnet.external_voltages[0] * testnet.I_threshold / testnet.max_unswitched_current() + 1e-15"
     ],
     "language": "python",
     "metadata": {},
     "outputs": [],
     "prompt_number": 12
    },
    {
     "cell_type": "code",
     "collapsed": false,
     "input": [],
     "language": "python",
     "metadata": {},
     "outputs": [],
     "prompt_number": 12
    },
    {
     "cell_type": "heading",
     "level": 3,
     "metadata": {},
     "source": [
      "Avalanches"
     ]
    },
    {
     "cell_type": "code",
     "collapsed": false,
     "input": [
      "L = 64\n",
      "p = 0.7\n",
      "G_init = gen_adj.cubic_2d_random((L, L), p)\n",
      "v_external = np.empty(L*L) * np.nan\n",
      "v_external[0:L] = 1e-5\n",
      "v_external[-L:] = 0\n",
      "I_thresh = 1 / L\n",
      "testnet = MemristorFuseNetwork(G_init, v_external, I_thresh, G_OFF=1, G_ON=2)"
     ],
     "language": "python",
     "metadata": {},
     "outputs": [],
     "prompt_number": 24
    },
    {
     "cell_type": "code",
     "collapsed": false,
     "input": [
      "testnet.solve_voltages('spsolve')\n",
      "testnet.calculate_currents()\n",
      "total_memristors = testnet.G_percolating.nnz / 2\n",
      "\n",
      "conductivities = [testnet.conductivity()]\n",
      "voltages = [testnet.external_voltages[0]]\n",
      "switchings = []"
     ],
     "language": "python",
     "metadata": {},
     "outputs": [],
     "prompt_number": 25
    },
    {
     "cell_type": "code",
     "collapsed": false,
     "input": [
      "while testnet.max_unswitched_current() != None:\n",
      "    voltages.append(testnet.new_voltage(testnet.external_voltages[0]))\n",
      "    testnet.update_voltage_busbar(voltages[-1])\n",
      "    switchings.append(testnet.switching_step())\n",
      "    conductivities.append(testnet.conductivity())\n",
      "    #print \"At voltage %0.4f we have switchings\" % (voltages[-1])\n",
      "    #print switchings[-1]"
     ],
     "language": "python",
     "metadata": {},
     "outputs": [],
     "prompt_number": 26
    },
    {
     "cell_type": "code",
     "collapsed": false,
     "input": [
      "fig, ax = plt.subplots(figsize=(15, 4))\n",
      "avalanche_size = np.array([sum(i) for i in switchings])\n",
      "percent_switched = np.cumsum(avalanche_size) / total_memristors\n",
      "ax.plot(avalanche_size)"
     ],
     "language": "python",
     "metadata": {},
     "outputs": [
      {
       "metadata": {},
       "output_type": "pyout",
       "prompt_number": 27,
       "text": [
        "[<matplotlib.lines.Line2D at 0x373e450>]"
       ]
      },
      {
       "metadata": {},
       "output_type": "display_data",
       "png": "[encoded data removed]",
       "text": [
        "<matplotlib.figure.Figure at 0x40cacd0>"
       ]
      }
     ],
     "prompt_number": 27
    },
    {
     "cell_type": "code",
     "collapsed": false,
     "input": [
      "avalanche_size = np.array([sum(i) for i in switchings])\n",
      "hist, bins = np.histogram(avalanche_size[np.logical_and(avalanche_size>0, avalanche_size<1500)], bins=30)\n",
      "fig, ax = plt.subplots()\n",
      "\n",
      "ax.scatter(bins[1:], hist)\n",
      "ax.set_xscale('log')\n",
      "ax.set_yscale('log')\n",
      "ax.set_xlim(1, 50)\n",
      "ax.set_ylim(1, 2000)\n"
     ],
     "language": "python",
     "metadata": {},
     "outputs": [
      {
       "metadata": {},
       "output_type": "pyout",
       "prompt_number": 34,
       "text": [
        "(1, 2000)"
       ]
      },
      {
       "metadata": {},
       "output_type": "display_data",
       "png": "[encoded data removed]",
       "text": [
        "<matplotlib.figure.Figure at 0x3175750>"
       ]
      }
     ],
     "prompt_number": 34
    },
    {
     "cell_type": "heading",
     "level": 3,
     "metadata": {},
     "source": [
      "Timing"
     ]
    },
    {
     "cell_type": "code",
     "collapsed": false,
     "input": [
      "%%timeit\n",
      "\n",
      "L = 128\n",
      "p = 0.6\n",
      "G_init = gen_adj.cubic_2d_random((L, L), p)\n",
      "v_external = np.empty(L*L) * np.nan\n",
      "v_external[0:L] = 1e-5\n",
      "v_external[-L:] = 0\n",
      "I_thresh = 1\n",
      "testnet = MemristorFuseNetwork(G_init, v_external, I_thresh, G_OFF=1, G_ON=2)\n",
      "\n",
      "testnet.solve_voltages('spsolve')\n",
      "testnet.calculate_currents()\n",
      "total_memristors = testnet.G_percolating.nnz / 2\n",
      "\n",
      "conductivities = [testnet.conductivity()]\n",
      "voltages = [testnet.external_voltages[0]]\n",
      "switchings = []\n",
      "\n",
      "while testnet.max_unswitched_current() != None:\n",
      "    voltages.append(testnet.new_voltage(testnet.external_voltages[0]))\n",
      "    testnet.update_voltage_busbar(voltages[-1])\n",
      "    switchings.append(testnet.switching_step())\n",
      "    conductivities.append(testnet.conductivity())\n",
      "    #print \"At voltage %0.4f we have switchings\" % (voltages[-1])\n",
      "    #print switchings[-1]\n"
     ],
     "language": "python",
     "metadata": {},
     "outputs": [
      {
       "output_type": "stream",
       "stream": "stdout",
       "text": [
        "1 loops, best of 3: 48min 10s per loop\n"
       ]
      }
     ],
     "prompt_number": 9
    },
    {
     "cell_type": "code",
     "collapsed": false,
     "input": [
      "L = [ 12,    16,   24,    32,   40,  52,   64,   75,  85,   95, 128]\n",
      "T = [ 1,   2.19, 7.17,  21.3, 37.1,  93,  195,  384, 675,  871, 2890]\n",
      "\n",
      "p = np.polyfit(L, T, 3)\n",
      "\n",
      "polyfunc = np.poly1d(p)\n",
      "\n",
      "fig, ax = plt.subplots()\n",
      "ax.scatter(L, T)\n",
      "ax.plot(L, polyfunc(L))"
     ],
     "language": "python",
     "metadata": {},
     "outputs": [
      {
       "metadata": {},
       "output_type": "pyout",
       "prompt_number": 12,
       "text": [
        "[<matplotlib.lines.Line2D at 0x318d3d0>]"
       ]
      },
      {
       "metadata": {},
       "output_type": "display_data",
       "png": "[encoded data removed]",
       "text": [
        "<matplotlib.figure.Figure at 0x31027d0>"
       ]
      }
     ],
     "prompt_number": 12
    },
    {
     "cell_type": "code",
     "collapsed": false,
     "input": [
      "p"
     ],
     "language": "python",
     "metadata": {},
     "outputs": [
      {
       "metadata": {},
       "output_type": "pyout",
       "prompt_number": 13,
       "text": [
        "array([  2.66899410e-03,  -2.18002240e-01,   7.23204242e+00,\n",
        "        -6.88527962e+01])"
       ]
      }
     ],
     "prompt_number": 13
    },
    {
     "cell_type": "code",
     "collapsed": false,
     "input": [],
     "language": "python",
     "metadata": {},
     "outputs": []
    }
   ],
   "metadata": {}
  }
 ]
}