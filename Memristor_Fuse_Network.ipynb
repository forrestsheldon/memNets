{
 "metadata": {
  "name": "",
  "signature": "sha256:0aa3f8d3363ca8e69c2f1231636c069cf219d86046b4ad241a7351a7d470d849"
 },
 "nbformat": 3,
 "nbformat_minor": 0,
 "worksheets": [
  {
   "cells": [
    {
     "cell_type": "heading",
     "level": 1,
     "metadata": {},
     "source": [
      "Memristor Fuse Networks"
     ]
    },
    {
     "cell_type": "code",
     "collapsed": false,
     "input": [
      "%matplotlib inline"
     ],
     "language": "python",
     "metadata": {},
     "outputs": [],
     "prompt_number": 2
    },
    {
     "cell_type": "code",
     "collapsed": false,
     "input": [
      "import numpy as np\n",
      "import scipy as sp\n",
      "import scipy.sparse as sparse\n",
      "from scipy.sparse.linalg import spsolve, cg\n",
      "import generate_adjacency_matrix as gen_adj\n",
      "import resistor_networks as rnets\n",
      "from __future__ import division"
     ],
     "language": "python",
     "metadata": {},
     "outputs": [],
     "prompt_number": 3
    },
    {
     "cell_type": "markdown",
     "metadata": {},
     "source": [
      "Here I would like to expand the resistor network notebooks to construct a memristor fuse network class.  These networks are resistor networks but have a current threshold beyond which they switch and become conductive.  This is essentially a memristive model where time has been removed.  The idea is as follows:\n",
      "\n",
      "In a true memristive network, we would place an initial voltage on the network and the memristors over threshold would begin switching.  As these went into their conductive ON states, the current through the network would increase and cause other memristors to begin growing filaments and eventually switching.  Once this process has stabilized, the voltage is increased enough to cause the memristor with the largest current to switch and the subsequent switchings are recorded.  This class will be constructed to do just this."
     ]
    },
    {
     "cell_type": "code",
     "collapsed": false,
     "input": [
      "class MemristorFuseNetwork(rnets.ResistorNetwork):\n",
      "    \"\"\"\n",
      "    This class inherits from ResistorNetwork with the aim of adding some dynamical behavior to the\n",
      "    resistors.  In particular, when a resistor has past a certain current threshold, the conductance\n",
      "    is switched from G_OFF to G_ON. To initialize, we require:\n",
      "    \n",
      "        G                     - An NxN sparse CSR matrix containing the conductances in the network of N nodes\n",
      "        external_voltages     - An Nx1 dense vector of external voltages.  Nodes not set to an external voltages\n",
      "                                contain a Nan. The shape (N,) is preferred\n",
      "        I_threshold           - The current threshold at which the memristor will go from G_OFF to G_ON\n",
      "        G_OFF                 - The conductance in the low conductivity OFF state.  Generally set to 1.\n",
      "        G_ON                  - The conductance in the high conductivity ON state.  Set to 100 by default.\n",
      "    \n",
      "    Other available attributes after initialization are:\n",
      "        currents              - An NxN sparse matrix of currents in the network.  As many tasks in the network will\n",
      "                                require that the currents be calculated, it is best that we do this once and share.\n",
      "    \"\"\"\n",
      "    \n",
      "    def __init__(self, G, external_voltages, I_threshold, G_OFF=1, G_ON=100):\n",
      "        rnets.ResistorNetwork.__init__(self, G, external_voltages)\n",
      "        self.I_threshold = I_threshold\n",
      "        self.G_OFF = G_OFF\n",
      "        self.G_ON = G_ON\n",
      "        self.G_percolating = self.G[self.percolating_nodes, :][:, self.percolating_nodes]\n",
      "        self.rows_G_perc, self.cols_G_perc = self.G_percolating.nonzero()\n",
      "        self.rows_G = None  # These are the subsets of G.nonzero() that correspond to the percolating cluster\n",
      "        self.cols_G = None  # used for populating G with the changed values of G_percolating\n",
      "        self.build_rows_cols_G()\n",
      "        self.currents = None\n",
      "    \n",
      "    def build_rows_cols_G(self):\n",
      "        \"\"\"\n",
      "        create the referencing vectors for G that give elements in the percolating cluster.  These are required for populating G\n",
      "        with the values of G_percolating that have been switched.\n",
      "        \"\"\"\n",
      "        rows, cols = self.G.nonzero()\n",
      "        self.rows_G = []\n",
      "        self.cols_G = []\n",
      "        for i, j in zip(rows, cols):\n",
      "            if self.percolating_nodes[i] and self.percolating_nodes[j]:\n",
      "                self.rows_G.append(i)\n",
      "                self.cols_G.append(j)\n",
      "            \n",
      "        \n",
      "    \n",
      "    def calculate_currents(self):\n",
      "        \"\"\"\n",
      "        calculates a matrix of currents running through each memristor\n",
      "        \"\"\"\n",
      "        self.currents = sparse.lil_matrix(self.G_percolating.shape, dtype=float)\n",
      "        rows, cols = self.G_percolating.nonzero()\n",
      "        self.currents[rows, cols] = np.multiply( self.G_percolating[rows, cols], np.abs(self.voltages[self.percolating_nodes][rows]\n",
      "                                                                                 - self.voltages[self.percolating_nodes][cols]))\n",
      "    \n",
      "    def max_unswitched_current(self):\n",
      "        try:\n",
      "            return np.max(np.max(testnet.currents[testnet.G_percolating == self.G_OFF].data))\n",
      "        except ValueError:\n",
      "            return 0\n",
      "        \n",
      "    def switch_memristors(self):\n",
      "        \"\"\"\n",
      "        Check the currents on each memristor.  Those that are in the low conductance state and that have a current\n",
      "        above I_thresh will have their conductance switched to G_ON\n",
      "        \"\"\"\n",
      "        switching_memristors = np.logical_and((self.currents >= I_thresh).toarray(),(self.G_percolating == self.G_OFF).toarray())\n",
      "        self.G_percolating[switching_memristors] = self.G_ON\n",
      "        return np.sum(switching_memristors)\n",
      "    \n",
      "    def fill_G(self):\n",
      "        self.G[self.rows_G, self.cols_G] = self.G_percolating[self.rows_G_perc, self.cols_G_perc]\n"
     ],
     "language": "python",
     "metadata": {},
     "outputs": [],
     "prompt_number": 189
    },
    {
     "cell_type": "heading",
     "level": 3,
     "metadata": {},
     "source": [
      "Testing"
     ]
    },
    {
     "cell_type": "code",
     "collapsed": false,
     "input": [
      "L = 4\n",
      "p = 0.9\n",
      "G_init = gen_adj.cubic_2d_random((L, L), p)\n",
      "v_external = np.empty(L*L) * np.nan\n",
      "v_external[0:L] = 1\n",
      "v_external[-L:] = 0\n",
      "I_thresh = 1 / L\n",
      "testnet = MemristorFuseNetwork(G_init, v_external, I_thresh)"
     ],
     "language": "python",
     "metadata": {},
     "outputs": [],
     "prompt_number": 190
    },
    {
     "cell_type": "code",
     "collapsed": false,
     "input": [
      "testnet.solve_voltages('spsolve')"
     ],
     "language": "python",
     "metadata": {},
     "outputs": [],
     "prompt_number": 191
    },
    {
     "cell_type": "code",
     "collapsed": false,
     "input": [
      "testnet.calculate_currents()\n",
      "r, c = testnet.currents.nonzero()\n",
      "testnet.currents[r, c].toarray().max()"
     ],
     "language": "python",
     "metadata": {},
     "outputs": [
      {
       "metadata": {},
       "output_type": "pyout",
       "prompt_number": 192,
       "text": [
        "0.47252747252747251"
       ]
      }
     ],
     "prompt_number": 192
    },
    {
     "cell_type": "code",
     "collapsed": false,
     "input": [
      "%%timeit\n",
      "testnet.max_unswitched_current()"
     ],
     "language": "python",
     "metadata": {},
     "outputs": [
      {
       "output_type": "stream",
       "stream": "stdout",
       "text": [
        "1000 loops, best of 3: 785 \u00b5s per loop\n"
       ]
      }
     ],
     "prompt_number": 193
    },
    {
     "cell_type": "code",
     "collapsed": false,
     "input": [
      "testnet.max_unswitched_current()"
     ],
     "language": "python",
     "metadata": {},
     "outputs": [
      {
       "metadata": {},
       "output_type": "pyout",
       "prompt_number": 194,
       "text": [
        "0.47252747252747251"
       ]
      }
     ],
     "prompt_number": 194
    },
    {
     "cell_type": "code",
     "collapsed": false,
     "input": [
      "testnet.solve_voltages_percolating('spsolve')\n",
      "testnet.calculate_currents()\n",
      "testnet.switch_memristors()"
     ],
     "language": "python",
     "metadata": {},
     "outputs": [
      {
       "metadata": {},
       "output_type": "pyout",
       "prompt_number": 209,
       "text": [
        "0"
       ]
      }
     ],
     "prompt_number": 209
    },
    {
     "cell_type": "code",
     "collapsed": false,
     "input": [
      "testnet.fill_G()"
     ],
     "language": "python",
     "metadata": {},
     "outputs": [],
     "prompt_number": 210
    },
    {
     "cell_type": "code",
     "collapsed": false,
     "input": [
      "testnet.external_voltages[0:L] = testnet.external_voltages[0] * testnet.I_threshold / testnet.max_unswitched_current() + 1e-15"
     ],
     "language": "python",
     "metadata": {},
     "outputs": [
      {
       "output_type": "stream",
       "stream": "stderr",
       "text": [
        "-c:1: RuntimeWarning: divide by zero encountered in double_scalars\n"
       ]
      }
     ],
     "prompt_number": 211
    },
    {
     "cell_type": "code",
     "collapsed": false,
     "input": [],
     "language": "python",
     "metadata": {},
     "outputs": [
      {
       "metadata": {},
       "output_type": "pyout",
       "prompt_number": 212,
       "text": [
        "0"
       ]
      }
     ],
     "prompt_number": 212
    },
    {
     "cell_type": "code",
     "collapsed": false,
     "input": [],
     "language": "python",
     "metadata": {},
     "outputs": [
      {
       "metadata": {},
       "output_type": "pyout",
       "prompt_number": 213,
       "text": [
        "array([[  0.        ,   0.        ,   0.        ,   0.        ,\n",
        "         22.00824176,   0.        ,   0.        ,   0.        ,\n",
        "          0.        ,   0.        ,   0.        ,   0.        ,\n",
        "          0.        ,   0.        ,   0.        ,   0.        ],\n",
        "       [  0.        ,   0.        ,   0.        ,   0.        ,\n",
        "          0.        ,  44.01648352,   0.        ,   0.        ,\n",
        "          0.        ,   0.        ,   0.        ,   0.        ,\n",
        "          0.        ,   0.        ,   0.        ,   0.        ],\n",
        "       [  0.        ,   0.        ,   0.        ,   0.        ,\n",
        "          0.        ,   0.        ,  31.17834249,   0.        ,\n",
        "          0.        ,   0.        ,   0.        ,   0.        ,\n",
        "          0.        ,   0.        ,   0.        ,   0.        ],\n",
        "       [  0.        ,   0.        ,   0.        ,   0.        ,\n",
        "          0.        ,   0.        ,   0.        ,  49.51854396,\n",
        "          0.        ,   0.        ,   0.        ,   0.        ,\n",
        "          0.        ,   0.        ,   0.        ,   0.        ],\n",
        "       [ 22.00824176,   0.        ,   0.        ,   0.        ,\n",
        "          0.        ,  22.00824176,   0.        ,   0.        ,\n",
        "          0.        ,   0.        ,   0.        ,   0.        ,\n",
        "          0.        ,   0.        ,   0.        ,   0.        ],\n",
        "       [  0.        ,  44.01648352,   0.        ,   0.        ,\n",
        "         22.00824176,   0.        ,  12.83814103,   0.        ,\n",
        "          0.        ,  78.8628663 ,   0.        ,   0.        ,\n",
        "          0.        ,   0.        ,   0.        ,   0.        ],\n",
        "       [  0.        ,   0.        ,  31.17834249,   0.        ,\n",
        "          0.        ,  12.83814103,   0.        ,  18.34020147,\n",
        "          0.        ,   0.        ,   0.        ,   0.        ,\n",
        "          0.        ,   0.        ,   0.        ,   0.        ],\n",
        "       [  0.        ,   0.        ,   0.        ,  49.51854396,\n",
        "          0.        ,   0.        ,  18.34020147,   0.        ,\n",
        "          0.        ,   0.        ,   0.        ,  67.85874542,\n",
        "          0.        ,   0.        ,   0.        ,   0.        ],\n",
        "       [  0.        ,   0.        ,   0.        ,   0.        ,\n",
        "          0.        ,   0.        ,   0.        ,   0.        ,\n",
        "          0.        ,  22.00824176,   0.        ,   0.        ,\n",
        "         22.00824176,   0.        ,   0.        ,   0.        ],\n",
        "       [  0.        ,   0.        ,   0.        ,   0.        ,\n",
        "          0.        ,  78.8628663 ,   0.        ,   0.        ,\n",
        "         22.00824176,   0.        ,  12.83814103,   0.        ,\n",
        "          0.        ,  44.01648352,   0.        ,   0.        ],\n",
        "       [  0.        ,   0.        ,   0.        ,   0.        ,\n",
        "          0.        ,   0.        ,   0.        ,   0.        ,\n",
        "          0.        ,  12.83814103,   0.        ,  18.34020147,\n",
        "          0.        ,   0.        ,  31.17834249,   0.        ],\n",
        "       [  0.        ,   0.        ,   0.        ,   0.        ,\n",
        "          0.        ,   0.        ,   0.        ,  67.85874542,\n",
        "          0.        ,   0.        ,  18.34020147,   0.        ,\n",
        "          0.        ,   0.        ,   0.        ,  49.51854396],\n",
        "       [  0.        ,   0.        ,   0.        ,   0.        ,\n",
        "          0.        ,   0.        ,   0.        ,   0.        ,\n",
        "         22.00824176,   0.        ,   0.        ,   0.        ,\n",
        "          0.        ,   0.        ,   0.        ,   0.        ],\n",
        "       [  0.        ,   0.        ,   0.        ,   0.        ,\n",
        "          0.        ,   0.        ,   0.        ,   0.        ,\n",
        "          0.        ,  44.01648352,   0.        ,   0.        ,\n",
        "          0.        ,   0.        ,   0.        ,   0.        ],\n",
        "       [  0.        ,   0.        ,   0.        ,   0.        ,\n",
        "          0.        ,   0.        ,   0.        ,   0.        ,\n",
        "          0.        ,   0.        ,  31.17834249,   0.        ,\n",
        "          0.        ,   0.        ,   0.        ,   0.        ],\n",
        "       [  0.        ,   0.        ,   0.        ,   0.        ,\n",
        "          0.        ,   0.        ,   0.        ,   0.        ,\n",
        "          0.        ,   0.        ,   0.        ,  49.51854396,\n",
        "          0.        ,   0.        ,   0.        ,   0.        ]])"
       ]
      }
     ],
     "prompt_number": 213
    },
    {
     "cell_type": "code",
     "collapsed": false,
     "input": [],
     "language": "python",
     "metadata": {},
     "outputs": []
    }
   ],
   "metadata": {}
  }
 ]
}