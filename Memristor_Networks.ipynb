{
 "metadata": {
  "name": ""
 },
 "nbformat": 3,
 "nbformat_minor": 0,
 "worksheets": [
  {
   "cells": [
    {
     "cell_type": "heading",
     "level": 1,
     "metadata": {},
     "source": [
      "Memristor Networks"
     ]
    },
    {
     "cell_type": "code",
     "collapsed": false,
     "input": [
      "%pylab inline --no-import-all"
     ],
     "language": "python",
     "metadata": {},
     "outputs": [
      {
       "output_type": "stream",
       "stream": "stdout",
       "text": [
        "Populating the interactive namespace from numpy and matplotlib\n"
       ]
      }
     ],
     "prompt_number": 1
    },
    {
     "cell_type": "code",
     "collapsed": false,
     "input": [
      "import numpy as np\n",
      "import scipy as scp\n",
      "import scipy.sparse\n",
      "import scipy.sparse.linalg\n",
      "import scipy.sparse.csgraph\n",
      "import scipy.optimize\n",
      "import matplotlib.pyplot as plt\n",
      "import random\n",
      "import itertools"
     ],
     "language": "python",
     "metadata": {},
     "outputs": [],
     "prompt_number": 3
    },
    {
     "cell_type": "markdown",
     "metadata": {},
     "source": [
      "The goal here is to put together an integrator that will solve the network at each step and give us back a set of voltages and resistances we can pour over.  It would be nice if the code looked something like this:"
     ]
    },
    {
     "cell_type": "code",
     "collapsed": false,
     "input": [
      "V, M = integrate_memristor_network(M_init, voltage, G, f)"
     ],
     "language": "python",
     "metadata": {},
     "outputs": []
    },
    {
     "cell_type": "markdown",
     "metadata": {},
     "source": [
      "with V the voltages across the network as a function of time, M the memductance as a function of time, M_init the initial memductance over the network, voltage the external voltage as a function of time, G the memductance function and f the differential equation describing th estate variable evolution of a single memristor."
     ]
    },
    {
     "cell_type": "markdown",
     "metadata": {},
     "source": [
      "Our first design hurdle is adjusting to the fact that memristors are polar devices.  I believe this is best dealt with by the introduction of a memductance matrix M. This is an adjacency matrix for a directed graph of memristors.  As conductances in parallel combine by addition, the conductance matrix of the network $G_{ij} = M_{ij} + M_{ji}$ is easily obtained.  This represents the network at a single time point as a resistor network which can be solved and used to update the network by any of the methods from the solving resistor networks notebook.\n",
      "\n",
      "The inital networks will be symmetric, in that if there is a memristor running from node $i$ to $j$ then there will also be a memristor running from $j$ to $i$.  This allows us to generate the initial memductance matrix using the same routines used to generate the undirected graphs representing resistor networks."
     ]
    },
    {
     "cell_type": "code",
     "collapsed": false,
     "input": [
      "def gen_adj_rand_grid_sparse(n, p):\n",
      "    \"\"\"\n",
      "    Generates an adjacency matrix for an nxn random grid of nodes that are connected to their nearest neighbors.\n",
      "    This graph is kept undirected as this does not require choosing a convention for direction.\n",
      "    The matrix is returned in CSR format\n",
      "    \"\"\"\n",
      "    rows = []\n",
      "    cols = []\n",
      "    # Loop over every pair of elements\n",
      "    for i, j in np.ndindex(n, n):\n",
      "        for k, l in np.ndindex(n, n):\n",
      "            # calculate the row and column index for the pair in the final array.  As the graph is undirected\n",
      "            # we only need to consider the pair once\n",
      "            r = i + n*j\n",
      "            c = k + n*l\n",
      "            if r < c:\n",
      "                if (np.abs(i - k) == 1 and np.abs(j - l) == 0) or (np.abs(i - k) == 0 and np.abs(j - l) == 1):\n",
      "                    if random.random() < p:\n",
      "                        rows.extend([r, c])\n",
      "                        cols.extend([c, r])\n",
      "    rows = np.array(rows, dtype=int)\n",
      "    cols = np.array(cols, dtype=int)\n",
      "    elements = np.ones_like(rows)\n",
      "    return scipy.sparse.csr_matrix((elements, (rows, cols)), shape=(n**2, n**2))"
     ],
     "language": "python",
     "metadata": {},
     "outputs": [],
     "prompt_number": 5
    },
    {
     "cell_type": "code",
     "collapsed": false,
     "input": [
      "L=10\n",
      "M_0 = gen_adj_rand_grid_sparse(10, 0.75)"
     ],
     "language": "python",
     "metadata": {},
     "outputs": [],
     "prompt_number": 6
    },
    {
     "cell_type": "markdown",
     "metadata": {},
     "source": [
      "For our differential equation for the memristor state variables, I would like to use the simple charge controlled memristor function and the trivial memristance function"
     ]
    },
    {
     "cell_type": "code",
     "collapsed": false,
     "input": [
      "def vc_memR_xdot(x, V, t, V_T = 0.5, alpha = 100, beta = 1000, x_min = 20, x_max = 500):\n",
      "    \"\"\"\n",
      "    This doesn't treat the endpoints exactly, but is much easier to implement and allows us to use\n",
      "    a more standard RK4.  If the step size is big enough that the error introduced is noticiable, that\n",
      "    is probably a much bigger problem\n",
      "    \"\"\"\n",
      "    if x <= x_min or x >= x_max:\n",
      "        return 0\n",
      "    else:\n",
      "        return beta * V + 0.5 * (alpha - beta) * (np.abs(V + V_T) - np.abs(V - V_T))\n",
      "\n",
      "def RisX(x, v, t):\n",
      "    return x"
     ],
     "language": "python",
     "metadata": {},
     "outputs": [],
     "prompt_number": 7
    },
    {
     "cell_type": "code",
     "collapsed": false,
     "input": [
      "def integrate_memristor_network(M_init, voltage, G, f):\n",
      "    "
     ],
     "language": "python",
     "metadata": {},
     "outputs": []
    }
   ],
   "metadata": {}
  }
 ]
}