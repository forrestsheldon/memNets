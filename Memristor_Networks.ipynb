{
 "metadata": {
  "name": ""
 },
 "nbformat": 3,
 "nbformat_minor": 0,
 "worksheets": [
  {
   "cells": [
    {
     "cell_type": "heading",
     "level": 1,
     "metadata": {},
     "source": [
      "Memristor Networks"
     ]
    },
    {
     "cell_type": "code",
     "collapsed": false,
     "input": [
      "%pylab inline --no-import-all"
     ],
     "language": "python",
     "metadata": {},
     "outputs": [
      {
       "output_type": "stream",
       "stream": "stdout",
       "text": [
        "Populating the interactive namespace from numpy and matplotlib\n"
       ]
      }
     ],
     "prompt_number": 63
    },
    {
     "cell_type": "code",
     "collapsed": false,
     "input": [
      "import numpy as np\n",
      "import scipy as scp\n",
      "import scipy.sparse\n",
      "import scipy.sparse.linalg\n",
      "import scipy.sparse.csgraph\n",
      "import scipy.optimize\n",
      "import matplotlib.pyplot as plt\n",
      "import random\n",
      "import itertools"
     ],
     "language": "python",
     "metadata": {},
     "outputs": [],
     "prompt_number": 64
    },
    {
     "cell_type": "markdown",
     "metadata": {},
     "source": [
      "The goal here is to put together an integrator that will solve the network at each step and give us back a set of voltages and resistances we can pour over.  It would be nice if the code looked something like this:"
     ]
    },
    {
     "cell_type": "code",
     "collapsed": false,
     "input": [
      "V, M = integrate_memristor_network(M_init, voltagefunc, G, f)"
     ],
     "language": "python",
     "metadata": {},
     "outputs": [
      {
       "ename": "NameError",
       "evalue": "name 'integrate_memristor_network' is not defined",
       "output_type": "pyerr",
       "traceback": [
        "\u001b[1;31m---------------------------------------------------------------------------\u001b[0m\n\u001b[1;31mNameError\u001b[0m                                 Traceback (most recent call last)",
        "\u001b[1;32m<ipython-input-65-47dbc3dbc482>\u001b[0m in \u001b[0;36m<module>\u001b[1;34m()\u001b[0m\n\u001b[1;32m----> 1\u001b[1;33m \u001b[0mV\u001b[0m\u001b[1;33m,\u001b[0m \u001b[0mM\u001b[0m \u001b[1;33m=\u001b[0m \u001b[0mintegrate_memristor_network\u001b[0m\u001b[1;33m(\u001b[0m\u001b[0mM_init\u001b[0m\u001b[1;33m,\u001b[0m \u001b[0mvoltagefunc\u001b[0m\u001b[1;33m,\u001b[0m \u001b[0mG\u001b[0m\u001b[1;33m,\u001b[0m \u001b[0mf\u001b[0m\u001b[1;33m)\u001b[0m\u001b[1;33m\u001b[0m\u001b[0m\n\u001b[0m",
        "\u001b[1;31mNameError\u001b[0m: name 'integrate_memristor_network' is not defined"
       ]
      }
     ],
     "prompt_number": 65
    },
    {
     "cell_type": "markdown",
     "metadata": {},
     "source": [
      "with V the voltages across the network as a function of time, M the memductance as a function of time, M_init the initial memductance over the network, voltage the external voltage as a function of time, G the memductance function and f the differential equation describing th estate variable evolution of a single memristor."
     ]
    },
    {
     "cell_type": "markdown",
     "metadata": {},
     "source": [
      "Our first design hurdle is adjusting to the fact that memristors are polar devices.  I believe this is best dealt with by the introduction of a memductance matrix M. This is an adjacency matrix for a directed graph of memristors.  As conductances in parallel combine by addition, the conductance matrix of the network $G_{ij} = M_{ij} + M_{ji}$ is easily obtained.  This represents the network at a single time point as a resistor network which can be solved and used to update the network by any of the methods from the solving resistor networks notebook.\n",
      "\n",
      "The inital networks will be symmetric, in that if there is a memristor running from node $i$ to $j$ then there will also be a memristor running from $j$ to $i$.  This allows us to generate the initial memductance matrix using the same routines used to generate the undirected graphs representing resistor networks."
     ]
    },
    {
     "cell_type": "code",
     "collapsed": false,
     "input": [
      "def gen_adj_rand_grid_sparse(n, p):\n",
      "    \"\"\"\n",
      "    Generates an adjacency matrix for an nxn random grid of nodes that are connected to their nearest neighbors.\n",
      "    This graph is kept undirected as this does not require choosing a convention for direction.\n",
      "    The matrix is returned in CSR format\n",
      "    \"\"\"\n",
      "    rows = []\n",
      "    cols = []\n",
      "    # Loop over every pair of elements\n",
      "    for i, j in np.ndindex(n, n):\n",
      "        for k, l in np.ndindex(n, n):\n",
      "            # calculate the row and column index for the pair in the final array.  As the graph is undirected\n",
      "            # we only need to consider the pair once\n",
      "            r = i + n*j\n",
      "            c = k + n*l\n",
      "            if r < c:\n",
      "                if (np.abs(i - k) == 1 and np.abs(j - l) == 0) or (np.abs(i - k) == 0 and np.abs(j - l) == 1):\n",
      "                    if random.random() < p:\n",
      "                        rows.extend([r, c])\n",
      "                        cols.extend([c, r])\n",
      "    rows = np.array(rows, dtype=int)\n",
      "    cols = np.array(cols, dtype=int)\n",
      "    elements = np.ones_like(rows)\n",
      "    return scipy.sparse.csr_matrix((elements, (rows, cols)), shape=(n**2, n**2))"
     ],
     "language": "python",
     "metadata": {},
     "outputs": [],
     "prompt_number": 66
    },
    {
     "cell_type": "markdown",
     "metadata": {},
     "source": [
      "For our differential equation for the memristor state variables, I would like to use the simple charge controlled memristor function and the trivial memristance function"
     ]
    },
    {
     "cell_type": "code",
     "collapsed": false,
     "input": [
      "def vc_memR_xdot(x, V, t, V_T = 0.5, alpha = 100, beta = 1000, x_min = 20, x_max = 500):\n",
      "    \"\"\"\n",
      "    This doesn't treat the endpoints exactly, but is much easier to implement and allows us to use\n",
      "    a more standard RK4.  If the step size is big enough that the error introduced is noticiable, that\n",
      "    is probably a much bigger problem\n",
      "    \"\"\"\n",
      "    if x <= x_min or x >= x_max:\n",
      "        return 0\n",
      "    else:\n",
      "        return beta * V + 0.5 * (alpha - beta) * (np.abs(V + V_T) - np.abs(V - V_T))\n",
      "    \n",
      "def vc_memG_xdot(x, V, t,):\n",
      "    \"\"\"\n",
      "    If I instead want to use the conductance as the internal state variable, we have\n",
      "    G_dot = -G^2 R_dot\n",
      "    \"\"\"\n",
      "    return - x^2 * vc_memR_xdot(1. / x, V, t)\n",
      "    \n",
      "\n",
      "def GisX(x, v, t):\n",
      "    return x\n",
      "\n",
      "def MtoG(M):\n",
      "    return M + M.T"
     ],
     "language": "python",
     "metadata": {},
     "outputs": [],
     "prompt_number": 67
    },
    {
     "cell_type": "code",
     "collapsed": false,
     "input": [
      "def ext_voltage_vec2list(ext_voltage_vec):\n",
      "    \"\"\"\n",
      "    Unfortunately it is most convenient to use vectors to store voltages in the memristor solver and it\n",
      "    was more convenient to use lists of tuples in the resistor solver.  This converts from the vector to\n",
      "    the list\n",
      "    \"\"\"\n",
      "    ext_volt_mask = np.logical_not(np.isnan(ext_voltage_vec))\n",
      "    voltages = ext_voltage_vec[ext_volt_mask]\n",
      "    indices, = ext_volt_mask.nonzero()\n",
      "    return zip(indices, voltages)"
     ],
     "language": "python",
     "metadata": {},
     "outputs": [],
     "prompt_number": 68
    },
    {
     "cell_type": "code",
     "collapsed": false,
     "input": [
      "def external_voltage( num_nodes, ext_voltage_list ):\n",
      "    \"\"\"\n",
      "    Returns an Nx1 vector of external voltages and an external conductance matrix whose value\n",
      "    is 1/r_tiny given\n",
      "    \n",
      "    num_nodes - the number of nodes in the network\n",
      "    ext_voltage_list - a list of tuples of the form (node_idx, voltage)\n",
      "    \n",
      "    There is a concern that if a node is set to zero, it will be indistinguishable from nodes not set to\n",
      "    zero in the vector.  Nodes set to a specific voltage should be confirmed through the conductance matrix\n",
      "    for this reason\n",
      "    \"\"\"\n",
      "    \n",
      "    voltage_vec = np.zeros((num_nodes, 1), dtype=float)\n",
      "    G_ext = np.zeros((num_nodes, num_nodes), dtype=float)\n",
      "    r_tiny = 10**-10\n",
      "    \n",
      "    for node_idx, V in ext_voltage_list:\n",
      "        voltage_vec[node_idx, 0] = V\n",
      "        G_ext[node_idx, node_idx] = 1. / r_tiny\n",
      "    \n",
      "    return voltage_vec, G_ext\n",
      "\n",
      "def form_eqns_matrix( cond_mat ):\n",
      "    \"\"\"\n",
      "    Forms the homogeneous equations matrix by summing along the rows of the conductance matrix, placing\n",
      "    these values along the diagonal, and subtracting the conductance matrix\n",
      "    \"\"\"\n",
      "    return np.diag( np.sum(np.array(cond_mat, dtype=float), axis=0) ) - cond_mat\n",
      "\n",
      "def solve_node_voltages( G , ext_voltage_list ):\n",
      "    \"\"\"\n",
      "    Returns a vector of voltages at each node given,\n",
      "    G - a matrix of conductances where G_ij is the conductance between node i and node j\n",
      "    ext_voltage_list - list of tuples of the form (node_idx, voltage) given the external voltage set at node_idx\n",
      "    \"\"\"\n",
      "    D = form_eqns_matrix( G )\n",
      "    num_nodes = G.shape[0]\n",
      "    v_ext, G_ext = external_voltage( num_nodes, ext_voltage_list)\n",
      "    return np.linalg.solve( D + G_ext , np.dot( G_ext, v_ext) )"
     ],
     "language": "python",
     "metadata": {},
     "outputs": [],
     "prompt_number": 69
    },
    {
     "cell_type": "code",
     "collapsed": false,
     "input": [
      "def external_voltage_vec(n, ext_voltage_list):\n",
      "    \"\"\"\n",
      "    Returns a vector whose value is nan for nodes that are unconstrained and v for\n",
      "    nodes constrained to external voltage v\n",
      "    \"\"\"\n",
      "    v_ext = np.empty(n) * np.nan\n",
      "    for idx, voltage in ext_voltage_list:\n",
      "        v_ext[idx] = voltage\n",
      "    return v_ext\n",
      "\n",
      "def solve_node_voltages_cc( G_sparse, ext_voltage_list):\n",
      "    \"\"\"\n",
      "    This solver uses the scipy csgraph module to split the graph into connected\n",
      "    components and then solve each one.  Components not set to any voltage are\n",
      "    set to zero. Components set to a single voltage are set to that voltage.\n",
      "    Finally, components set to more than one voltage are solved.  For now, they\n",
      "    are solved through one of the solvers above. (although I would like to attempt\n",
      "    a constrained conjugate gradient solution as well)\n",
      "    \"\"\"\n",
      "    # Pull dimensions and set up external voltage and solution vectors\n",
      "    n = G_sparse.shape[0]\n",
      "    \n",
      "    v_external = external_voltage_vec(n, ext_voltage_list)\n",
      "    voltages = np.zeros_like(v_external)\n",
      "    \n",
      "    # Divide the graph into connected components\n",
      "    num_comp, labels = scipy.sparse.csgraph.connected_components(G_sparse)\n",
      "    \n",
      "    # For each connected component\n",
      "    for cc in range(num_comp):\n",
      "        # Pull a boolean array of the node indices and use that to get the external voltages\n",
      "        cc_nodes = (labels == cc)\n",
      "        cc_v_ext = v_external[cc_nodes]\n",
      "        \n",
      "        # Find the maximum and minimum voltages on the component\n",
      "        cc_max = np.nanmax(cc_v_ext)\n",
      "        cc_min = np.nanmin(cc_v_ext)\n",
      "        \n",
      "        # If the component is not set to any voltage, set it to zero\n",
      "        if np.isnan(cc_max):\n",
      "            voltages[cc_nodes] = 0\n",
      "        \n",
      "        # If it is set to a single external voltage, set all nodes to that value\n",
      "        elif cc_max == cc_min:\n",
      "            voltages[cc_nodes] = cc_max\n",
      "        \n",
      "        # Otherwise, it must be set to two external voltages, in which case we must solve it\n",
      "        else:\n",
      "            # Use the node mask to get the conductance matrix for this component\n",
      "            cc_G = np.array(G_sparse[cc_nodes, :][:, cc_nodes].todense())\n",
      "            # Reconstruc the external voltage list over this component\n",
      "            v_list = []\n",
      "            for idx, v in enumerate(cc_v_ext):\n",
      "                if not (np.isnan(v)):\n",
      "                    v_list.append((idx, v))\n",
      "            voltages[cc_nodes] = solve_node_voltages( cc_G, v_list)\n",
      "    return voltages"
     ],
     "language": "python",
     "metadata": {},
     "outputs": [],
     "prompt_number": 70
    },
    {
     "cell_type": "code",
     "collapsed": false,
     "input": [
      "def integrate_memristor_network(M_init, t, voltage, G, f):\n",
      "    \"\"\"\n",
      "    Returns the voltages and conductances of the memristors initialized in M_init subject to the external\n",
      "    voltage specified by voltage which is a function of time.\n",
      "    \n",
      "        M_init is an L^2 x L^2 sparse matrix in csr format containing the initial state variables of the network.\n",
      "            At the moment, those are the conductances.\n",
      "        t is a vector of times over which the network will be evolved.\n",
      "        voltage is an L^2 x t length vector giving the external voltages at each node at each point of time and\n",
      "            nan's if that node is unconstrained\n",
      "        G is the conductance function, giving the conductance as a function of the state variables\n",
      "        f is the first derivative of the state variables.\n",
      "    \n",
      "    It returns,\n",
      "    \n",
      "    M is an L^2 x L^2 x t matrix giving the memductances at a function of time\n",
      "    V is an L^2 x t matrix giving the voltages in the network as a function of time.\n",
      "    \"\"\"\n",
      "    \n",
      "    # First, initialize M and V\n",
      "    M = np.zeros(M_init.shape + t.shape)\n",
      "    M[:, :, 0] = M_init.todense()\n",
      "    \n",
      "    V = np.zeros_like(voltage)\n",
      "    \n",
      "    # Loop over time\n",
      "    for t_idx, time in enumerate(t[:-1]):\n",
      "        \n",
      "        # solve node voltages\n",
      "        G = MtoG(M[:, :, t_idx])\n",
      "        V[:, t_idx] = solve_node_voltages_cc(scipy.sparse.csr_matrix(G), ext_voltage_vec2list(voltage[ :, t_idx]))\n",
      "        \n",
      "        # update conductances\n",
      "        M[:, :, t_idx+1] = update_conductances(M[:, :, t_idx], V[:, t_idx], time, t[t_idx+1] - time, G, f)\n",
      "    \n",
      "    return M, V\n",
      "\n",
      "def update"
     ],
     "language": "python",
     "metadata": {},
     "outputs": [],
     "prompt_number": 82
    },
    {
     "cell_type": "code",
     "collapsed": false,
     "input": [
      "L=3\n",
      "M_init = gen_adj_rand_grid_sparse(L, 0.75)\n",
      "t = np.linspace(0, 1, 1000)"
     ],
     "language": "python",
     "metadata": {},
     "outputs": [],
     "prompt_number": 72
    },
    {
     "cell_type": "code",
     "collapsed": false,
     "input": [
      "voltage = np.empty((L**2, len(t))) * np.nan\n",
      "M = np.zeros( M_init.shape + t.shape)\n",
      "V = np.zeros_like(voltage)\n",
      "M[:, :, 0] = M_init.todense()"
     ],
     "language": "python",
     "metadata": {},
     "outputs": [],
     "prompt_number": 73
    },
    {
     "cell_type": "code",
     "collapsed": false,
     "input": [
      "t_idx = 0\n",
      "G = MtoG(M[:, :, 0])\n",
      "V[:, t_idx] = solve_node_voltages_cc(scipy.sparse.csr_matrix(G), ext_voltage_vec2list(voltage[ :, t_idx]))"
     ],
     "language": "python",
     "metadata": {},
     "outputs": [],
     "prompt_number": 80
    },
    {
     "cell_type": "code",
     "collapsed": false,
     "input": [
      "V[:, 0]"
     ],
     "language": "python",
     "metadata": {},
     "outputs": [
      {
       "metadata": {},
       "output_type": "pyout",
       "prompt_number": 81,
       "text": [
        "array([  1.00000000e+00,   6.81818182e-01,   4.54545455e-01,\n",
        "         7.95454545e-01,   5.90909091e-01,   2.27272727e-01,\n",
        "         7.95454545e-01,   2.95454545e-01,   1.04545455e-10])"
       ]
      }
     ],
     "prompt_number": 81
    },
    {
     "cell_type": "code",
     "collapsed": false,
     "input": [],
     "language": "python",
     "metadata": {},
     "outputs": []
    }
   ],
   "metadata": {}
  }
 ]
}