{
 "metadata": {
  "name": "",
  "signature": "sha256:585c80a2bd683b2822216e187157b1b385259c3e42307250bb7d919461b5b5e3"
 },
 "nbformat": 3,
 "nbformat_minor": 0,
 "worksheets": [
  {
   "cells": [
    {
     "cell_type": "heading",
     "level": 1,
     "metadata": {},
     "source": [
      "Memristor Networks"
     ]
    },
    {
     "cell_type": "code",
     "collapsed": false,
     "input": [
      "%pylab inline --no-import-all"
     ],
     "language": "python",
     "metadata": {},
     "outputs": [
      {
       "output_type": "stream",
       "stream": "stdout",
       "text": [
        "Populating the interactive namespace from numpy and matplotlib\n"
       ]
      }
     ],
     "prompt_number": 1
    },
    {
     "cell_type": "code",
     "collapsed": false,
     "input": [
      "import numpy as np\n",
      "import scipy as scp\n",
      "import scipy.sparse\n",
      "import scipy.sparse.linalg\n",
      "import scipy.sparse.csgraph\n",
      "import scipy.optimize\n",
      "import matplotlib.pyplot as plt\n",
      "import random\n",
      "import itertools\n",
      "from matplotlib import animation"
     ],
     "language": "python",
     "metadata": {},
     "outputs": [],
     "prompt_number": 2
    },
    {
     "cell_type": "markdown",
     "metadata": {},
     "source": [
      "The goal here is to put together an integrator that will solve the network at each step and give us back a set of voltages and resistances we can pour over.  It would be nice if the code looked something like this:"
     ]
    },
    {
     "cell_type": "code",
     "collapsed": false,
     "input": [
      "V, M = integrate_memristor_network(M_init, voltagefunc, G, f)"
     ],
     "language": "python",
     "metadata": {},
     "outputs": [
      {
       "ename": "NameError",
       "evalue": "name 'integrate_memristor_network' is not defined",
       "output_type": "pyerr",
       "traceback": [
        "\u001b[1;31m---------------------------------------------------------------------------\u001b[0m\n\u001b[1;31mNameError\u001b[0m                                 Traceback (most recent call last)",
        "\u001b[1;32m<ipython-input-3-47dbc3dbc482>\u001b[0m in \u001b[0;36m<module>\u001b[1;34m()\u001b[0m\n\u001b[1;32m----> 1\u001b[1;33m \u001b[0mV\u001b[0m\u001b[1;33m,\u001b[0m \u001b[0mM\u001b[0m \u001b[1;33m=\u001b[0m \u001b[0mintegrate_memristor_network\u001b[0m\u001b[1;33m(\u001b[0m\u001b[0mM_init\u001b[0m\u001b[1;33m,\u001b[0m \u001b[0mvoltagefunc\u001b[0m\u001b[1;33m,\u001b[0m \u001b[0mG\u001b[0m\u001b[1;33m,\u001b[0m \u001b[0mf\u001b[0m\u001b[1;33m)\u001b[0m\u001b[1;33m\u001b[0m\u001b[0m\n\u001b[0m",
        "\u001b[1;31mNameError\u001b[0m: name 'integrate_memristor_network' is not defined"
       ]
      }
     ],
     "prompt_number": 3
    },
    {
     "cell_type": "markdown",
     "metadata": {},
     "source": [
      "with V the voltages across the network as a function of time, M the memductance as a function of time, M_init the initial memductance over the network, voltage the external voltage as a function of time, G the memductance function and f the differential equation describing th estate variable evolution of a single memristor."
     ]
    },
    {
     "cell_type": "markdown",
     "metadata": {},
     "source": [
      "Our first design hurdle is adjusting to the fact that memristors are polar devices.  I believe this is best dealt with by the introduction of a memductance matrix M. This is an adjacency matrix for a directed graph of memristors.  As conductances in parallel combine by addition, the conductance matrix of the network $G_{ij} = M_{ij} + M_{ji}$ is easily obtained.  This represents the network at a single time point as a resistor network which can be solved and used to update the network by any of the methods from the solving resistor networks notebook.\n",
      "\n",
      "The inital networks will be symmetric, in that if there is a memristor running from node $i$ to $j$ then there will also be a memristor running from $j$ to $i$.  This allows us to generate the initial memductance matrix using the same routines used to generate the undirected graphs representing resistor networks."
     ]
    },
    {
     "cell_type": "code",
     "collapsed": false,
     "input": [
      "def gen_adj_rand_grid_sparse(n, p):\n",
      "    \"\"\"\n",
      "    Generates an adjacency matrix for an nxn random grid of nodes that are connected to their nearest neighbors.\n",
      "    This graph is kept undirected as this does not require choosing a convention for direction.\n",
      "    The matrix is returned in CSR format\n",
      "    \"\"\"\n",
      "    rows = []\n",
      "    cols = []\n",
      "    # Loop over every pair of elements\n",
      "    for i, j in np.ndindex(n, n):\n",
      "        for k, l in np.ndindex(n, n):\n",
      "            # calculate the row and column index for the pair in the final array.  As the graph is undirected\n",
      "            # we only need to consider the pair once\n",
      "            r = i + n*j\n",
      "            c = k + n*l\n",
      "            if r < c:\n",
      "                if (np.abs(i - k) == 1 and np.abs(j - l) == 0) or (np.abs(i - k) == 0 and np.abs(j - l) == 1):\n",
      "                    if random.random() < p:\n",
      "                        rows.extend([r, c])\n",
      "                        cols.extend([c, r])\n",
      "    rows = np.array(rows, dtype=int)\n",
      "    cols = np.array(cols, dtype=int)\n",
      "    elements = np.ones_like(rows)\n",
      "    return scipy.sparse.csr_matrix((elements, (rows, cols)), shape=(n**2, n**2))"
     ],
     "language": "python",
     "metadata": {},
     "outputs": [],
     "prompt_number": 4
    },
    {
     "cell_type": "markdown",
     "metadata": {},
     "source": [
      "For our differential equation for the memristor state variables, I would like to use the simple charge controlled memristor function and the trivial memristance function"
     ]
    },
    {
     "cell_type": "code",
     "collapsed": false,
     "input": [
      "def vc_memR_xdot(x, V, t, V_T = 0.01, alpha = 0, beta = 300, x_min = 1, x_max = 100):\n",
      "    \"\"\"\n",
      "    This doesn't treat the endpoints exactly, but is much easier to implement and allows us to use\n",
      "    a more standard RK4.  If the step size is big enough that the error introduced is noticiable, that\n",
      "    is probably a much bigger problem\n",
      "    \"\"\"\n",
      "    deriv = beta * V + 0.5 * (alpha - beta) * (np.abs(V + V_T) - np.abs(V - V_T))\n",
      "    if (x <= x_min and deriv < 0) or (x >= x_max and deriv > 0):\n",
      "        return 0\n",
      "    else:\n",
      "        return deriv\n",
      "    \n",
      "def vc_memG_xdot(x, V, t,):\n",
      "    \"\"\"\n",
      "    If I instead want to use the conductance as the internal state variable, we have\n",
      "    G_dot = -G^2 R_dot\n",
      "    \"\"\"\n",
      "    return -x**2 * vc_memR_xdot(1. / x, V, t)\n",
      "    \n",
      "\n",
      "def MisX(x):\n",
      "    return x\n",
      "\n",
      "def MtoG(M):\n",
      "    return M + M.T"
     ],
     "language": "python",
     "metadata": {},
     "outputs": [],
     "prompt_number": 5
    },
    {
     "cell_type": "code",
     "collapsed": false,
     "input": [
      "def ext_voltage_vec2list(ext_voltage_vec):\n",
      "    \"\"\"\n",
      "    Unfortunately it is most convenient to use vectors to store voltages in the memristor solver and it\n",
      "    was more convenient to use lists of tuples in the resistor solver.  This converts from the vector to\n",
      "    the list\n",
      "    \"\"\"\n",
      "    ext_volt_mask = np.logical_not(np.isnan(ext_voltage_vec))\n",
      "    voltages = ext_voltage_vec[ext_volt_mask]\n",
      "    indices, = ext_volt_mask.nonzero()\n",
      "    return zip(indices, voltages)"
     ],
     "language": "python",
     "metadata": {},
     "outputs": [],
     "prompt_number": 6
    },
    {
     "cell_type": "code",
     "collapsed": false,
     "input": [
      "def external_voltage( num_nodes, ext_voltage_list ):\n",
      "    \"\"\"\n",
      "    Returns an Nx1 vector of external voltages and an external conductance matrix whose value\n",
      "    is 1/r_tiny given\n",
      "    \n",
      "    num_nodes - the number of nodes in the network\n",
      "    ext_voltage_list - a list of tuples of the form (node_idx, voltage)\n",
      "    \n",
      "    There is a concern that if a node is set to zero, it will be indistinguishable from nodes not set to\n",
      "    zero in the vector.  Nodes set to a specific voltage should be confirmed through the conductance matrix\n",
      "    for this reason\n",
      "    \"\"\"\n",
      "    \n",
      "    voltage_vec = np.zeros((num_nodes, 1), dtype=float)\n",
      "    G_ext = np.zeros((num_nodes, num_nodes), dtype=float)\n",
      "    r_tiny = 10**-10\n",
      "    \n",
      "    for node_idx, V in ext_voltage_list:\n",
      "        voltage_vec[node_idx, 0] = V\n",
      "        G_ext[node_idx, node_idx] = 1. / r_tiny\n",
      "    \n",
      "    return voltage_vec, G_ext\n",
      "\n",
      "def form_eqns_matrix( cond_mat ):\n",
      "    \"\"\"\n",
      "    Forms the homogeneous equations matrix by summing along the rows of the conductance matrix, placing\n",
      "    these values along the diagonal, and subtracting the conductance matrix\n",
      "    \"\"\"\n",
      "    return np.diag( np.sum(np.array(cond_mat, dtype=float), axis=0) ) - cond_mat\n",
      "\n",
      "def solve_node_voltages( G , ext_voltage_list ):\n",
      "    \"\"\"\n",
      "    Returns a vector of voltages at each node given,\n",
      "    G - a matrix of conductances where G_ij is the conductance between node i and node j\n",
      "    ext_voltage_list - list of tuples of the form (node_idx, voltage) given the external voltage set at node_idx\n",
      "    \"\"\"\n",
      "    D = form_eqns_matrix( G )\n",
      "    num_nodes = G.shape[0]\n",
      "    v_ext, G_ext = external_voltage( num_nodes, ext_voltage_list)\n",
      "    return np.linalg.solve( D + G_ext , np.dot( G_ext, v_ext) )"
     ],
     "language": "python",
     "metadata": {},
     "outputs": [],
     "prompt_number": 7
    },
    {
     "cell_type": "code",
     "collapsed": false,
     "input": [
      "def external_voltage_vec(n, ext_voltage_list):\n",
      "    \"\"\"\n",
      "    Returns a vector whose value is nan for nodes that are unconstrained and v for\n",
      "    nodes constrained to external voltage v\n",
      "    \"\"\"\n",
      "    v_ext = np.empty(n) * np.nan\n",
      "    for idx, voltage in ext_voltage_list:\n",
      "        v_ext[idx] = voltage\n",
      "    return v_ext\n",
      "\n",
      "def solve_node_voltages_cc( G_sparse, ext_voltage_list):\n",
      "    \"\"\"\n",
      "    This solver uses the scipy csgraph module to split the graph into connected\n",
      "    components and then solve each one.  Components not set to any voltage are\n",
      "    set to zero. Components set to a single voltage are set to that voltage.\n",
      "    Finally, components set to more than one voltage are solved.  For now, they\n",
      "    are solved through one of the solvers above. (although I would like to attempt\n",
      "    a constrained conjugate gradient solution as well)\n",
      "    \"\"\"\n",
      "    # Pull dimensions and set up external voltage and solution vectors\n",
      "    n = G_sparse.shape[0]\n",
      "    \n",
      "    v_external = external_voltage_vec(n, ext_voltage_list)\n",
      "    voltages = np.zeros_like(v_external)\n",
      "    \n",
      "    # Divide the graph into connected components\n",
      "    num_comp, labels = scipy.sparse.csgraph.connected_components(G_sparse)\n",
      "    \n",
      "    # For each connected component\n",
      "    for cc in range(num_comp):\n",
      "        # Pull a boolean array of the node indices and use that to get the external voltages\n",
      "        cc_nodes = (labels == cc)\n",
      "        cc_v_ext = v_external[cc_nodes]\n",
      "        \n",
      "        # Find the maximum and minimum voltages on the component\n",
      "        cc_max = np.nanmax(cc_v_ext)\n",
      "        cc_min = np.nanmin(cc_v_ext)\n",
      "        \n",
      "        # If the component is not set to any voltage, set it to zero\n",
      "        if np.isnan(cc_max):\n",
      "            voltages[cc_nodes] = 0\n",
      "        \n",
      "        # If it is set to a single external voltage, set all nodes to that value\n",
      "        elif cc_max == cc_min:\n",
      "            voltages[cc_nodes] = cc_max\n",
      "        \n",
      "        # Otherwise, it must be set to two external voltages, in which case we must solve it\n",
      "        else:\n",
      "            # Use the node mask to get the conductance matrix for this component\n",
      "            cc_G = np.array(G_sparse[cc_nodes, :][:, cc_nodes].todense())\n",
      "            # Reconstruc the external voltage list over this component\n",
      "            v_list = []\n",
      "            for idx, v in enumerate(cc_v_ext):\n",
      "                if not (np.isnan(v)):\n",
      "                    v_list.append((idx, v))\n",
      "            voltages[cc_nodes] = solve_node_voltages( cc_G, v_list)\n",
      "    return voltages"
     ],
     "language": "python",
     "metadata": {},
     "outputs": [],
     "prompt_number": 8
    },
    {
     "cell_type": "code",
     "collapsed": false,
     "input": [
      "def integrate_memristor_network(X_init, t, voltage, M_func, func_xdot):\n",
      "    \"\"\"\n",
      "    Returns the voltages and conductances of the memristors initialized in M_init subject to the external\n",
      "    voltage specified by voltage which is a function of time.\n",
      "    \n",
      "        X_init is an L^2 x L^2 sparse matrix in csr format containing the initial state variables of the network.\n",
      "        t is a vector of times over which the network will be evolved.\n",
      "        voltage is an L^2 x t length vector giving the external voltages at each node at each point of time and\n",
      "            nan's if that node is unconstrained\n",
      "        M_func(x, V, t) is the conductance function, giving the conductance as a function of the state variables\n",
      "        xdot(x, V, t) is the first derivative function of the state variables.\n",
      "    \n",
      "    It returns,\n",
      "    \n",
      "    X is an L^2 x L^2 x t matrix giving the state variable as a function of time\n",
      "    V is an L^2 x t matrix giving the voltages in the network as a function of time.\n",
      "    \"\"\"\n",
      "    \n",
      "    # First, initialize X_t as a tuple to hold the sparse matrices we will generate and V\n",
      "    all_X = []\n",
      "    all_X.append(X_init)\n",
      "    \n",
      "    V = np.zeros_like(voltage)\n",
      "    \n",
      "    # Loop over time\n",
      "    for t_idx, time in enumerate(t[:-1]):\n",
      "        \n",
      "        # solve node voltages\n",
      "        G = MtoG(M_func(all_X[t_idx]))\n",
      "        V[:, t_idx] = solve_node_voltages_cc(G, ext_voltage_vec2list(voltage[ :, t_idx]))\n",
      "        \n",
      "        # update conductances\n",
      "        all_X.append(update_state_var(all_X[t_idx], V[:, t_idx], time, t[t_idx+1] - time, func_xdot))\n",
      "    \n",
      "    # Fill in the last time point\n",
      "    G = MtoG(M_func(all_X[t_idx+1]))\n",
      "    V[:, t_idx+1] = solve_node_voltages_cc(scipy.sparse.csr_matrix(G), ext_voltage_vec2list(voltage[ :, t_idx+1]))\n",
      "    \n",
      "    return all_X, V\n",
      "\n",
      "def update_state_var(X, voltages, t, delta_t, func_xdot):\n",
      "    \"\"\"\n",
      "    Returns a matrix like X containing the updated memconductances for time t+delta_t and according to\n",
      "    the functions G_func and x_dot.  \n",
      "    It Accepts,\n",
      "        X is an L^2 x L^2 sparse matrix in csr format containing the state variables of the network at time t.\n",
      "        voltages is an L^2 length vector giving the node voltages at each node time t\n",
      "        t is the current time\n",
      "        delta_t is the step to the next time\n",
      "        xdot(x, V, t) is the first derivative function of the state variables.\n",
      "        \n",
      "    It Returns,\n",
      "        X a matrix of updated state variables at time t+delta_t\n",
      "    \"\"\"\n",
      "    X_next = scipy.sparse.csr_matrix(X.shape, dtype=float)\n",
      "    \n",
      "    #loop over the nonzero elements of X\n",
      "    rows, cols = X.nonzero()\n",
      "    for i, j in itertools.izip(rows, cols):\n",
      "        \n",
      "        delta_v = voltages[j] - voltages[i]\n",
      "        X_next[i, j] = RK4_next(X[i, j], delta_v, t, delta_t, func_xdot)\n",
      "\n",
      "    return X_next\n",
      "                                                 \n",
      "def RK4_next(current_x, V, time, delta_t, func_xdot):\n",
      "    \n",
      "    def xdot(x, t):\n",
      "        return func_xdot(x, V, t)\n",
      "    \n",
      "    return current_x + 1. / 6. * delta_t * (k1(xdot, current_x, time) + 2 * k2(xdot, current_x, time, delta_t) +\n",
      "                                            2 * k3(xdot, current_x, time, delta_t) + k4(xdot, current_x, time, delta_t))\n",
      "    \n",
      "\n",
      "    # Various intermediate derivatives used in RK4       \n",
      "def k1(deriv, y, t):\n",
      "    return deriv(y, t)\n",
      "\n",
      "def k2(deriv, y, t, h):\n",
      "    return deriv(y + 0.5 * h * k1(deriv, y, t), t + 0.5 * h)\n",
      "\n",
      "def k3(deriv, y, t, h):\n",
      "    return deriv(y + 0.5 * h * k2(deriv, y, t, h), t + 0.5 * h)\n",
      "\n",
      "def k4(deriv, y, t, h):\n",
      "    return deriv(y + h * k3(deriv, y, t, h), t + h)"
     ],
     "language": "python",
     "metadata": {},
     "outputs": [],
     "prompt_number": 9
    },
    {
     "cell_type": "code",
     "collapsed": false,
     "input": [],
     "language": "python",
     "metadata": {},
     "outputs": [],
     "prompt_number": 9
    },
    {
     "cell_type": "code",
     "collapsed": false,
     "input": [
      "L=16\n",
      "t = np.linspace(0, 100, 1000)"
     ],
     "language": "python",
     "metadata": {},
     "outputs": [],
     "prompt_number": 10
    },
    {
     "cell_type": "code",
     "collapsed": false,
     "input": [
      "X_init = gen_adj_rand_grid_sparse(L, .6) * 0.01"
     ],
     "language": "python",
     "metadata": {},
     "outputs": [],
     "prompt_number": 16
    },
    {
     "cell_type": "code",
     "collapsed": false,
     "input": [
      "voltage = np.empty((L**2, len(t))) * np.nan\n",
      "voltage[0:L**2-1:L, :] = 1\n",
      "voltage[L-1:L**2-1:L, :] = 0\n",
      "X = np.zeros( X_init.shape + t.shape)\n",
      "V = np.zeros_like(voltage)\n",
      "X[:, :, 0] = X_init.todense()"
     ],
     "language": "python",
     "metadata": {},
     "outputs": [
      {
       "output_type": "stream",
       "stream": "stderr",
       "text": [
        "-c:1: RuntimeWarning: invalid value encountered in multiply\n"
       ]
      }
     ],
     "prompt_number": 17
    },
    {
     "cell_type": "code",
     "collapsed": false,
     "input": [
      "V_init = solve_node_voltages_cc(scipy.sparse.csr_matrix(MtoG(X_init)), ext_voltage_vec2list(voltage[:,0]))\n"
     ],
     "language": "python",
     "metadata": {},
     "outputs": [],
     "prompt_number": 18
    },
    {
     "cell_type": "code",
     "collapsed": false,
     "input": [
      "def display_grid_voltages(ax, G, voltages, nodesize=12, bondwidth=3):\n",
      "    \"\"\"\n",
      "    Plots the voltages from the solution of resistors on a grid.  The positions of the nodes\n",
      "    are pulled from the conductance matrix with the convention that the 0th node is at the top\n",
      "    left and the index increases as we move down the columns of the grid. Arguments are:\n",
      "    \n",
      "    ax - an axes object for the figure\n",
      "    G - a dense conductance array.  Note that this is, at the moment incompatible with the\n",
      "    matrix type due to the different behavior of nonzero()\n",
      "    voltages - a vector of the node voltages\n",
      "    \"\"\"\n",
      "    # make sure we have no extraneous dimensions and\n",
      "    # find the dimensions of the grid\n",
      "    voltages = voltages.flatten()\n",
      "    n = voltages.size\n",
      "    L = np.sqrt(n)\n",
      "    \n",
      "    def node2xy(num_nodes, node_idx):\n",
      "        \"\"\"\n",
      "        returns the x and y coordinates of a node index in our grid\n",
      "        \"\"\"\n",
      "        L = np.sqrt(num_nodes)\n",
      "        return np.floor(node_idx / L), (L-1) - node_idx % L\n",
      "\n",
      "    # First draw the connections between nodes\n",
      "    rows, cols = np.triu(G).nonzero()\n",
      "    \n",
      "    for node_i, node_j in itertools.izip(rows, cols):\n",
      "        x_i, y_i = node2xy(n, node_i)\n",
      "        x_j, y_j = node2xy(n, node_j)\n",
      "        ax.plot([x_i, x_j], [y_i, y_j], 'k', lw = bondwidth)\n",
      "        \n",
      "    # Normalize our voltage colormap to the max and min of voltages\n",
      "    reds = plt.get_cmap(\"Reds\")\n",
      "    norm = plt.Normalize()\n",
      "    norm.autoscale(voltages)\n",
      "    \n",
      "    # Now draw the nodes and their voltages\n",
      "    for node, volt in enumerate(voltages):\n",
      "        x, y = node2xy(n, node)\n",
      "        ax.plot(x, y, 's', markersize=nodesize,\n",
      "                   color=reds(norm(volt)))\n",
      "    ax.set_xlim( -1, L )\n",
      "    ax.set_ylim( -1, L )\n",
      "    \n",
      "def display_grid_power(ax, G, voltages, nodesize=5, bondwidth=3):\n",
      "    \"\"\"\n",
      "    Plots the power dissipated in each leg of the grid.  The positions of the nodes\n",
      "    are pulled from the conductance matrix with the convention that the 0th node is at the top\n",
      "    left and the index increases as we move down the columns of the grid. Arguments are:\n",
      "    \n",
      "    ax - an axes object for the figure\n",
      "    G - a dense conductance array\n",
      "    voltages - a vector of the node voltages\n",
      "    \"\"\"\n",
      "    # make sure we have no extraneous dimensions and\n",
      "    # find the dimensions of the grid\n",
      "    voltages = voltages.flatten()\n",
      "    n = voltages.size\n",
      "    L = np.sqrt(n)\n",
      "    \n",
      "    def node2xy(num_nodes, node_idx):\n",
      "        \"\"\"\n",
      "        returns the x and y coordinates of a node index in our grid\n",
      "        \"\"\"\n",
      "        L = np.sqrt(num_nodes)\n",
      "        return np.floor(node_idx / L), (L-1) - node_idx % L\n",
      "    \n",
      "    # Form a matrix of power dissipation in each resistor\n",
      "    Power = np.zeros_like(G, dtype=float)\n",
      "    \n",
      "    rows, cols = np.triu(G).nonzero()\n",
      "    for node_i, node_j in itertools.izip(rows, cols):\n",
      "        Power[node_i, node_j] = G[node_i, node_j] * (voltages[node_i] - voltages[node_j])**2\n",
      "    \n",
      "    colormap = plt.get_cmap(\"YlOrRd\")\n",
      "    norm_pow = plt.Normalize()\n",
      "    norm_pow.autoscale(Power)\n",
      "    \n",
      "    # draw the connections between nodes\n",
      "    for node_i, node_j in itertools.izip(rows, cols):\n",
      "        x_i, y_i = node2xy(n, node_i)\n",
      "        x_j, y_j = node2xy(n, node_j)\n",
      "        ax.plot([x_i, x_j], [y_i, y_j], color=colormap(norm_pow(Power[node_i, node_j])), lw=bondwidth)\n",
      "        \n",
      "    # Normalize our voltage colormap to the max and min of voltages\n",
      "    #norm_v = plt.normalize()\n",
      "    #norm_v.autoscale(voltages)\n",
      "    \n",
      "    # Now draw the nodes and their voltages\n",
      "    for node, volt in enumerate(voltages):\n",
      "        x, y = node2xy(n, node)\n",
      "        ax.plot(x, y, 'ws', markersize=nodesize)\n",
      "         #       color=reds(norm_v(volt)))\n",
      "    ax.set_xlim( -1,  L)\n",
      "    ax.set_ylim( -1, L )\n",
      "    return Power"
     ],
     "language": "python",
     "metadata": {},
     "outputs": [],
     "prompt_number": 19
    },
    {
     "cell_type": "code",
     "collapsed": false,
     "input": [
      "fig, ax = plt.subplots(figsize = (12, 12))\n",
      "display_grid_voltages(ax, np.asarray(MtoG(MisX(X_init.todense()))), V_init)"
     ],
     "language": "python",
     "metadata": {},
     "outputs": [
      {
       "metadata": {},
       "output_type": "display_data",
       "png": "[encoded data removed]",
       "text": [
        "<matplotlib.figure.Figure at 0x2fb5e10>"
       ]
      }
     ],
     "prompt_number": 20
    },
    {
     "cell_type": "code",
     "collapsed": false,
     "input": [
      "X, V = integrate_memristor_network(X_init, t, voltage, MisX, vc_memG_xdot)"
     ],
     "language": "python",
     "metadata": {},
     "outputs": [
      {
       "output_type": "stream",
       "stream": "stderr",
       "text": [
        "/usr/local/lib/python2.7/dist-packages/scipy/sparse/compressed.py:728: SparseEfficiencyWarning: Changing the sparsity structure of a csr_matrix is expensive. lil_matrix is more efficient.\n",
        "  SparseEfficiencyWarning)\n"
       ]
      }
     ],
     "prompt_number": 17
    },
    {
     "cell_type": "heading",
     "level": 3,
     "metadata": {},
     "source": [
      "Animation!"
     ]
    },
    {
     "cell_type": "code",
     "collapsed": false,
     "input": [],
     "language": "python",
     "metadata": {},
     "outputs": [],
     "prompt_number": 17
    },
    {
     "cell_type": "code",
     "collapsed": false,
     "input": [
      "# Set necessary parameters for the size of the system here\n",
      "nodesize=12\n",
      "bondwidth=3\n",
      "voltages = V[:,0]\n",
      "num_nodes = voltages.size\n",
      "L = np.sqrt(num_nodes)\n",
      "\n",
      "def node2xy(num_nodes, node_idx):\n",
      "    \"\"\"\n",
      "    returns the x and y coordinates of a node index in our grid\n",
      "    \"\"\"\n",
      "    L = np.sqrt(num_nodes)\n",
      "    return np.floor(node_idx / L), (L-1) - node_idx % L\n",
      "\n",
      "\n",
      "# Set-up colorscale\n",
      "# Normalize our voltage colormap to the max and min of voltages\n",
      "reds = plt.get_cmap(\"Reds\")\n",
      "norm = plt.Normalize()\n",
      "norm.autoscale(voltages)\n",
      "\n",
      "# Set-up figure\n",
      "fig, ax = plt.subplots(figsize=(12,12))\n",
      "ax.set_xlim(-1, L)\n",
      "ax.set_ylim(-1, L)\n",
      "\n",
      "# We can collect our lines object\n",
      "rows, cols = scipy.sparse.triu(MtoG(X[0])).nonzero()\n",
      "\n",
      "lines = []\n",
      "for node_i, node_j in itertools.izip(rows, cols):\n",
      "    lines.append(ax.plot([], [], 'k', lw=bondwidth))\n",
      "lines = np.asarray(lines).flatten()\n",
      "\n",
      "# Collect our node objects to update\n",
      "nodes = np.asarray([ax.plot([], [], 's', markersize=nodesize, color=reds(norm(v))) for v in voltages]).flatten()\n",
      "\n",
      "def init():\n",
      "    for node_i, node_j, line in itertools.izip(rows, cols, lines):\n",
      "        line.set_data([], [])\n",
      "    for node_idx, node in enumerate(nodes):\n",
      "        node.set_data([], [])\n",
      "        node.set_markerfacecolor('none')\n",
      "    return lines, nodes\n",
      "\n",
      "def animate(i):\n",
      "    voltages = V[:, i]\n",
      "    for node_i, node_j, line in itertools.izip(rows, cols, lines):\n",
      "        x_i, y_i = node2xy(num_nodes, node_i)\n",
      "        x_j, y_j = node2xy(num_nodes, node_j)\n",
      "        line.set_data([x_i, x_j], [y_i, y_j])\n",
      "    \n",
      "    for node_idx, node in enumerate(nodes):\n",
      "        x, y = node2xy(num_nodes, node_idx)\n",
      "        node.set_data(x, y)\n",
      "        node.set_markerfacecolor(reds(norm(voltages[node_idx])))\n",
      "    return lines, nodes\n",
      "\n",
      "anim = animation.FuncAnimation(fig, animate, frames=1000, init_func=init, interval=20, blit=True)\n",
      "\n",
      "anim.save('test_voltage.mp4', fps=30, extra_args=['-vcodec', 'libx264', '-pix_fmt', 'yuv420p'])"
     ],
     "language": "python",
     "metadata": {},
     "outputs": [
      {
       "ename": "KeyboardInterrupt",
       "evalue": "",
       "output_type": "pyerr",
       "traceback": [
        "\u001b[1;31m---------------------------------------------------------------------------\u001b[0m\n\u001b[1;31mKeyboardInterrupt\u001b[0m                         Traceback (most recent call last)",
        "\u001b[1;32m<ipython-input-18-0432437f2c8f>\u001b[0m in \u001b[0;36m<module>\u001b[1;34m()\u001b[0m\n\u001b[0;32m     59\u001b[0m \u001b[0manim\u001b[0m \u001b[1;33m=\u001b[0m \u001b[0manimation\u001b[0m\u001b[1;33m.\u001b[0m\u001b[0mFuncAnimation\u001b[0m\u001b[1;33m(\u001b[0m\u001b[0mfig\u001b[0m\u001b[1;33m,\u001b[0m \u001b[0manimate\u001b[0m\u001b[1;33m,\u001b[0m \u001b[0mframes\u001b[0m\u001b[1;33m=\u001b[0m\u001b[1;36m1000\u001b[0m\u001b[1;33m,\u001b[0m \u001b[0minit_func\u001b[0m\u001b[1;33m=\u001b[0m\u001b[0minit\u001b[0m\u001b[1;33m,\u001b[0m \u001b[0minterval\u001b[0m\u001b[1;33m=\u001b[0m\u001b[1;36m20\u001b[0m\u001b[1;33m,\u001b[0m \u001b[0mblit\u001b[0m\u001b[1;33m=\u001b[0m\u001b[0mTrue\u001b[0m\u001b[1;33m)\u001b[0m\u001b[1;33m\u001b[0m\u001b[0m\n\u001b[0;32m     60\u001b[0m \u001b[1;33m\u001b[0m\u001b[0m\n\u001b[1;32m---> 61\u001b[1;33m \u001b[0manim\u001b[0m\u001b[1;33m.\u001b[0m\u001b[0msave\u001b[0m\u001b[1;33m(\u001b[0m\u001b[1;34m'test_voltage.mp4'\u001b[0m\u001b[1;33m,\u001b[0m \u001b[0mfps\u001b[0m\u001b[1;33m=\u001b[0m\u001b[1;36m30\u001b[0m\u001b[1;33m,\u001b[0m \u001b[0mextra_args\u001b[0m\u001b[1;33m=\u001b[0m\u001b[1;33m[\u001b[0m\u001b[1;34m'-vcodec'\u001b[0m\u001b[1;33m,\u001b[0m \u001b[1;34m'libx264'\u001b[0m\u001b[1;33m,\u001b[0m \u001b[1;34m'-pix_fmt'\u001b[0m\u001b[1;33m,\u001b[0m \u001b[1;34m'yuv420p'\u001b[0m\u001b[1;33m]\u001b[0m\u001b[1;33m)\u001b[0m\u001b[1;33m\u001b[0m\u001b[0m\n\u001b[0m",
        "\u001b[1;32m/usr/local/lib/python2.7/dist-packages/matplotlib/animation.pyc\u001b[0m in \u001b[0;36msave\u001b[1;34m(self, filename, writer, fps, dpi, codec, bitrate, extra_args, metadata, extra_anim, savefig_kwargs)\u001b[0m\n\u001b[0;32m    715\u001b[0m                 \u001b[1;32mfor\u001b[0m \u001b[0manim\u001b[0m\u001b[1;33m,\u001b[0m \u001b[0md\u001b[0m \u001b[1;32min\u001b[0m \u001b[0mzip\u001b[0m\u001b[1;33m(\u001b[0m\u001b[0mall_anim\u001b[0m\u001b[1;33m,\u001b[0m \u001b[0mdata\u001b[0m\u001b[1;33m)\u001b[0m\u001b[1;33m:\u001b[0m\u001b[1;33m\u001b[0m\u001b[0m\n\u001b[0;32m    716\u001b[0m                     \u001b[1;31m#TODO: Need to see if turning off blit is really necessary\u001b[0m\u001b[1;33m\u001b[0m\u001b[1;33m\u001b[0m\u001b[0m\n\u001b[1;32m--> 717\u001b[1;33m                     \u001b[0manim\u001b[0m\u001b[1;33m.\u001b[0m\u001b[0m_draw_next_frame\u001b[0m\u001b[1;33m(\u001b[0m\u001b[0md\u001b[0m\u001b[1;33m,\u001b[0m \u001b[0mblit\u001b[0m\u001b[1;33m=\u001b[0m\u001b[0mFalse\u001b[0m\u001b[1;33m)\u001b[0m\u001b[1;33m\u001b[0m\u001b[0m\n\u001b[0m\u001b[0;32m    718\u001b[0m                 \u001b[0mwriter\u001b[0m\u001b[1;33m.\u001b[0m\u001b[0mgrab_frame\u001b[0m\u001b[1;33m(\u001b[0m\u001b[1;33m**\u001b[0m\u001b[0msavefig_kwargs\u001b[0m\u001b[1;33m)\u001b[0m\u001b[1;33m\u001b[0m\u001b[0m\n\u001b[0;32m    719\u001b[0m \u001b[1;33m\u001b[0m\u001b[0m\n",
        "\u001b[1;32m/usr/local/lib/python2.7/dist-packages/matplotlib/animation.pyc\u001b[0m in \u001b[0;36m_draw_next_frame\u001b[1;34m(self, framedata, blit)\u001b[0m\n\u001b[0;32m    753\u001b[0m         \u001b[0mself\u001b[0m\u001b[1;33m.\u001b[0m\u001b[0m_pre_draw\u001b[0m\u001b[1;33m(\u001b[0m\u001b[0mframedata\u001b[0m\u001b[1;33m,\u001b[0m \u001b[0mblit\u001b[0m\u001b[1;33m)\u001b[0m\u001b[1;33m\u001b[0m\u001b[0m\n\u001b[0;32m    754\u001b[0m         \u001b[0mself\u001b[0m\u001b[1;33m.\u001b[0m\u001b[0m_draw_frame\u001b[0m\u001b[1;33m(\u001b[0m\u001b[0mframedata\u001b[0m\u001b[1;33m)\u001b[0m\u001b[1;33m\u001b[0m\u001b[0m\n\u001b[1;32m--> 755\u001b[1;33m         \u001b[0mself\u001b[0m\u001b[1;33m.\u001b[0m\u001b[0m_post_draw\u001b[0m\u001b[1;33m(\u001b[0m\u001b[0mframedata\u001b[0m\u001b[1;33m,\u001b[0m \u001b[0mblit\u001b[0m\u001b[1;33m)\u001b[0m\u001b[1;33m\u001b[0m\u001b[0m\n\u001b[0m\u001b[0;32m    756\u001b[0m \u001b[1;33m\u001b[0m\u001b[0m\n\u001b[0;32m    757\u001b[0m     \u001b[1;32mdef\u001b[0m \u001b[0m_init_draw\u001b[0m\u001b[1;33m(\u001b[0m\u001b[0mself\u001b[0m\u001b[1;33m)\u001b[0m\u001b[1;33m:\u001b[0m\u001b[1;33m\u001b[0m\u001b[0m\n",
        "\u001b[1;32m/usr/local/lib/python2.7/dist-packages/matplotlib/animation.pyc\u001b[0m in \u001b[0;36m_post_draw\u001b[1;34m(self, framedata, blit)\u001b[0m\n\u001b[0;32m    778\u001b[0m             \u001b[0mself\u001b[0m\u001b[1;33m.\u001b[0m\u001b[0m_blit_draw\u001b[0m\u001b[1;33m(\u001b[0m\u001b[0mself\u001b[0m\u001b[1;33m.\u001b[0m\u001b[0m_drawn_artists\u001b[0m\u001b[1;33m,\u001b[0m \u001b[0mself\u001b[0m\u001b[1;33m.\u001b[0m\u001b[0m_blit_cache\u001b[0m\u001b[1;33m)\u001b[0m\u001b[1;33m\u001b[0m\u001b[0m\n\u001b[0;32m    779\u001b[0m         \u001b[1;32melse\u001b[0m\u001b[1;33m:\u001b[0m\u001b[1;33m\u001b[0m\u001b[0m\n\u001b[1;32m--> 780\u001b[1;33m             \u001b[0mself\u001b[0m\u001b[1;33m.\u001b[0m\u001b[0m_fig\u001b[0m\u001b[1;33m.\u001b[0m\u001b[0mcanvas\u001b[0m\u001b[1;33m.\u001b[0m\u001b[0mdraw_idle\u001b[0m\u001b[1;33m(\u001b[0m\u001b[1;33m)\u001b[0m\u001b[1;33m\u001b[0m\u001b[0m\n\u001b[0m\u001b[0;32m    781\u001b[0m \u001b[1;33m\u001b[0m\u001b[0m\n\u001b[0;32m    782\u001b[0m     \u001b[1;31m# The rest of the code in this class is to facilitate easy blitting\u001b[0m\u001b[1;33m\u001b[0m\u001b[1;33m\u001b[0m\u001b[0m\n",
        "\u001b[1;32m/usr/local/lib/python2.7/dist-packages/matplotlib/backend_bases.pyc\u001b[0m in \u001b[0;36mdraw_idle\u001b[1;34m(self, *args, **kwargs)\u001b[0m\n\u001b[0;32m   1904\u001b[0m         \u001b[1;33m:\u001b[0m\u001b[0mmeth\u001b[0m\u001b[1;33m:\u001b[0m\u001b[1;33m`\u001b[0m\u001b[0mdraw\u001b[0m\u001b[1;33m`\u001b[0m \u001b[0monly\u001b[0m \u001b[1;32mif\u001b[0m \u001b[0midle\u001b[0m\u001b[1;33m;\u001b[0m \u001b[0mdefaults\u001b[0m \u001b[0mto\u001b[0m \u001b[0mdraw\u001b[0m \u001b[0mbut\u001b[0m \u001b[0mbackends\u001b[0m \u001b[0mcan\u001b[0m \u001b[0moverrride\u001b[0m\u001b[1;33m\u001b[0m\u001b[0m\n\u001b[0;32m   1905\u001b[0m         \"\"\"\n\u001b[1;32m-> 1906\u001b[1;33m         \u001b[0mself\u001b[0m\u001b[1;33m.\u001b[0m\u001b[0mdraw\u001b[0m\u001b[1;33m(\u001b[0m\u001b[1;33m*\u001b[0m\u001b[0margs\u001b[0m\u001b[1;33m,\u001b[0m \u001b[1;33m**\u001b[0m\u001b[0mkwargs\u001b[0m\u001b[1;33m)\u001b[0m\u001b[1;33m\u001b[0m\u001b[0m\n\u001b[0m\u001b[0;32m   1907\u001b[0m \u001b[1;33m\u001b[0m\u001b[0m\n\u001b[0;32m   1908\u001b[0m     \u001b[1;32mdef\u001b[0m \u001b[0mdraw_cursor\u001b[0m\u001b[1;33m(\u001b[0m\u001b[0mself\u001b[0m\u001b[1;33m,\u001b[0m \u001b[0mevent\u001b[0m\u001b[1;33m)\u001b[0m\u001b[1;33m:\u001b[0m\u001b[1;33m\u001b[0m\u001b[0m\n",
        "\u001b[1;32m/usr/local/lib/python2.7/dist-packages/matplotlib/backends/backend_agg.pyc\u001b[0m in \u001b[0;36mdraw\u001b[1;34m(self)\u001b[0m\n\u001b[0;32m    449\u001b[0m \u001b[1;33m\u001b[0m\u001b[0m\n\u001b[0;32m    450\u001b[0m         \u001b[1;32mtry\u001b[0m\u001b[1;33m:\u001b[0m\u001b[1;33m\u001b[0m\u001b[0m\n\u001b[1;32m--> 451\u001b[1;33m             \u001b[0mself\u001b[0m\u001b[1;33m.\u001b[0m\u001b[0mfigure\u001b[0m\u001b[1;33m.\u001b[0m\u001b[0mdraw\u001b[0m\u001b[1;33m(\u001b[0m\u001b[0mself\u001b[0m\u001b[1;33m.\u001b[0m\u001b[0mrenderer\u001b[0m\u001b[1;33m)\u001b[0m\u001b[1;33m\u001b[0m\u001b[0m\n\u001b[0m\u001b[0;32m    452\u001b[0m         \u001b[1;32mfinally\u001b[0m\u001b[1;33m:\u001b[0m\u001b[1;33m\u001b[0m\u001b[0m\n\u001b[0;32m    453\u001b[0m             \u001b[0mRendererAgg\u001b[0m\u001b[1;33m.\u001b[0m\u001b[0mlock\u001b[0m\u001b[1;33m.\u001b[0m\u001b[0mrelease\u001b[0m\u001b[1;33m(\u001b[0m\u001b[1;33m)\u001b[0m\u001b[1;33m\u001b[0m\u001b[0m\n",
        "\u001b[1;32m/usr/local/lib/python2.7/dist-packages/matplotlib/artist.pyc\u001b[0m in \u001b[0;36mdraw_wrapper\u001b[1;34m(artist, renderer, *args, **kwargs)\u001b[0m\n\u001b[0;32m     53\u001b[0m     \u001b[1;32mdef\u001b[0m \u001b[0mdraw_wrapper\u001b[0m\u001b[1;33m(\u001b[0m\u001b[0martist\u001b[0m\u001b[1;33m,\u001b[0m \u001b[0mrenderer\u001b[0m\u001b[1;33m,\u001b[0m \u001b[1;33m*\u001b[0m\u001b[0margs\u001b[0m\u001b[1;33m,\u001b[0m \u001b[1;33m**\u001b[0m\u001b[0mkwargs\u001b[0m\u001b[1;33m)\u001b[0m\u001b[1;33m:\u001b[0m\u001b[1;33m\u001b[0m\u001b[0m\n\u001b[0;32m     54\u001b[0m         \u001b[0mbefore\u001b[0m\u001b[1;33m(\u001b[0m\u001b[0martist\u001b[0m\u001b[1;33m,\u001b[0m \u001b[0mrenderer\u001b[0m\u001b[1;33m)\u001b[0m\u001b[1;33m\u001b[0m\u001b[0m\n\u001b[1;32m---> 55\u001b[1;33m         \u001b[0mdraw\u001b[0m\u001b[1;33m(\u001b[0m\u001b[0martist\u001b[0m\u001b[1;33m,\u001b[0m \u001b[0mrenderer\u001b[0m\u001b[1;33m,\u001b[0m \u001b[1;33m*\u001b[0m\u001b[0margs\u001b[0m\u001b[1;33m,\u001b[0m \u001b[1;33m**\u001b[0m\u001b[0mkwargs\u001b[0m\u001b[1;33m)\u001b[0m\u001b[1;33m\u001b[0m\u001b[0m\n\u001b[0m\u001b[0;32m     56\u001b[0m         \u001b[0mafter\u001b[0m\u001b[1;33m(\u001b[0m\u001b[0martist\u001b[0m\u001b[1;33m,\u001b[0m \u001b[0mrenderer\u001b[0m\u001b[1;33m)\u001b[0m\u001b[1;33m\u001b[0m\u001b[0m\n\u001b[0;32m     57\u001b[0m \u001b[1;33m\u001b[0m\u001b[0m\n",
        "\u001b[1;32m/usr/local/lib/python2.7/dist-packages/matplotlib/figure.pyc\u001b[0m in \u001b[0;36mdraw\u001b[1;34m(self, renderer)\u001b[0m\n\u001b[0;32m   1032\u001b[0m         \u001b[0mdsu\u001b[0m\u001b[1;33m.\u001b[0m\u001b[0msort\u001b[0m\u001b[1;33m(\u001b[0m\u001b[0mkey\u001b[0m\u001b[1;33m=\u001b[0m\u001b[0mitemgetter\u001b[0m\u001b[1;33m(\u001b[0m\u001b[1;36m0\u001b[0m\u001b[1;33m)\u001b[0m\u001b[1;33m)\u001b[0m\u001b[1;33m\u001b[0m\u001b[0m\n\u001b[0;32m   1033\u001b[0m         \u001b[1;32mfor\u001b[0m \u001b[0mzorder\u001b[0m\u001b[1;33m,\u001b[0m \u001b[0ma\u001b[0m\u001b[1;33m,\u001b[0m \u001b[0mfunc\u001b[0m\u001b[1;33m,\u001b[0m \u001b[0margs\u001b[0m \u001b[1;32min\u001b[0m \u001b[0mdsu\u001b[0m\u001b[1;33m:\u001b[0m\u001b[1;33m\u001b[0m\u001b[0m\n\u001b[1;32m-> 1034\u001b[1;33m             \u001b[0mfunc\u001b[0m\u001b[1;33m(\u001b[0m\u001b[1;33m*\u001b[0m\u001b[0margs\u001b[0m\u001b[1;33m)\u001b[0m\u001b[1;33m\u001b[0m\u001b[0m\n\u001b[0m\u001b[0;32m   1035\u001b[0m \u001b[1;33m\u001b[0m\u001b[0m\n\u001b[0;32m   1036\u001b[0m         \u001b[0mrenderer\u001b[0m\u001b[1;33m.\u001b[0m\u001b[0mclose_group\u001b[0m\u001b[1;33m(\u001b[0m\u001b[1;34m'figure'\u001b[0m\u001b[1;33m)\u001b[0m\u001b[1;33m\u001b[0m\u001b[0m\n",
        "\u001b[1;32m/usr/local/lib/python2.7/dist-packages/matplotlib/artist.pyc\u001b[0m in \u001b[0;36mdraw_wrapper\u001b[1;34m(artist, renderer, *args, **kwargs)\u001b[0m\n\u001b[0;32m     53\u001b[0m     \u001b[1;32mdef\u001b[0m \u001b[0mdraw_wrapper\u001b[0m\u001b[1;33m(\u001b[0m\u001b[0martist\u001b[0m\u001b[1;33m,\u001b[0m \u001b[0mrenderer\u001b[0m\u001b[1;33m,\u001b[0m \u001b[1;33m*\u001b[0m\u001b[0margs\u001b[0m\u001b[1;33m,\u001b[0m \u001b[1;33m**\u001b[0m\u001b[0mkwargs\u001b[0m\u001b[1;33m)\u001b[0m\u001b[1;33m:\u001b[0m\u001b[1;33m\u001b[0m\u001b[0m\n\u001b[0;32m     54\u001b[0m         \u001b[0mbefore\u001b[0m\u001b[1;33m(\u001b[0m\u001b[0martist\u001b[0m\u001b[1;33m,\u001b[0m \u001b[0mrenderer\u001b[0m\u001b[1;33m)\u001b[0m\u001b[1;33m\u001b[0m\u001b[0m\n\u001b[1;32m---> 55\u001b[1;33m         \u001b[0mdraw\u001b[0m\u001b[1;33m(\u001b[0m\u001b[0martist\u001b[0m\u001b[1;33m,\u001b[0m \u001b[0mrenderer\u001b[0m\u001b[1;33m,\u001b[0m \u001b[1;33m*\u001b[0m\u001b[0margs\u001b[0m\u001b[1;33m,\u001b[0m \u001b[1;33m**\u001b[0m\u001b[0mkwargs\u001b[0m\u001b[1;33m)\u001b[0m\u001b[1;33m\u001b[0m\u001b[0m\n\u001b[0m\u001b[0;32m     56\u001b[0m         \u001b[0mafter\u001b[0m\u001b[1;33m(\u001b[0m\u001b[0martist\u001b[0m\u001b[1;33m,\u001b[0m \u001b[0mrenderer\u001b[0m\u001b[1;33m)\u001b[0m\u001b[1;33m\u001b[0m\u001b[0m\n\u001b[0;32m     57\u001b[0m \u001b[1;33m\u001b[0m\u001b[0m\n",
        "\u001b[1;32m/usr/local/lib/python2.7/dist-packages/matplotlib/axes.pyc\u001b[0m in \u001b[0;36mdraw\u001b[1;34m(self, renderer, inframe)\u001b[0m\n\u001b[0;32m   2084\u001b[0m \u001b[1;33m\u001b[0m\u001b[0m\n\u001b[0;32m   2085\u001b[0m         \u001b[1;32mfor\u001b[0m \u001b[0mzorder\u001b[0m\u001b[1;33m,\u001b[0m \u001b[0ma\u001b[0m \u001b[1;32min\u001b[0m \u001b[0mdsu\u001b[0m\u001b[1;33m:\u001b[0m\u001b[1;33m\u001b[0m\u001b[0m\n\u001b[1;32m-> 2086\u001b[1;33m             \u001b[0ma\u001b[0m\u001b[1;33m.\u001b[0m\u001b[0mdraw\u001b[0m\u001b[1;33m(\u001b[0m\u001b[0mrenderer\u001b[0m\u001b[1;33m)\u001b[0m\u001b[1;33m\u001b[0m\u001b[0m\n\u001b[0m\u001b[0;32m   2087\u001b[0m \u001b[1;33m\u001b[0m\u001b[0m\n\u001b[0;32m   2088\u001b[0m         \u001b[0mrenderer\u001b[0m\u001b[1;33m.\u001b[0m\u001b[0mclose_group\u001b[0m\u001b[1;33m(\u001b[0m\u001b[1;34m'axes'\u001b[0m\u001b[1;33m)\u001b[0m\u001b[1;33m\u001b[0m\u001b[0m\n",
        "\u001b[1;32m/usr/local/lib/python2.7/dist-packages/matplotlib/artist.pyc\u001b[0m in \u001b[0;36mdraw_wrapper\u001b[1;34m(artist, renderer, *args, **kwargs)\u001b[0m\n\u001b[0;32m     53\u001b[0m     \u001b[1;32mdef\u001b[0m \u001b[0mdraw_wrapper\u001b[0m\u001b[1;33m(\u001b[0m\u001b[0martist\u001b[0m\u001b[1;33m,\u001b[0m \u001b[0mrenderer\u001b[0m\u001b[1;33m,\u001b[0m \u001b[1;33m*\u001b[0m\u001b[0margs\u001b[0m\u001b[1;33m,\u001b[0m \u001b[1;33m**\u001b[0m\u001b[0mkwargs\u001b[0m\u001b[1;33m)\u001b[0m\u001b[1;33m:\u001b[0m\u001b[1;33m\u001b[0m\u001b[0m\n\u001b[0;32m     54\u001b[0m         \u001b[0mbefore\u001b[0m\u001b[1;33m(\u001b[0m\u001b[0martist\u001b[0m\u001b[1;33m,\u001b[0m \u001b[0mrenderer\u001b[0m\u001b[1;33m)\u001b[0m\u001b[1;33m\u001b[0m\u001b[0m\n\u001b[1;32m---> 55\u001b[1;33m         \u001b[0mdraw\u001b[0m\u001b[1;33m(\u001b[0m\u001b[0martist\u001b[0m\u001b[1;33m,\u001b[0m \u001b[0mrenderer\u001b[0m\u001b[1;33m,\u001b[0m \u001b[1;33m*\u001b[0m\u001b[0margs\u001b[0m\u001b[1;33m,\u001b[0m \u001b[1;33m**\u001b[0m\u001b[0mkwargs\u001b[0m\u001b[1;33m)\u001b[0m\u001b[1;33m\u001b[0m\u001b[0m\n\u001b[0m\u001b[0;32m     56\u001b[0m         \u001b[0mafter\u001b[0m\u001b[1;33m(\u001b[0m\u001b[0martist\u001b[0m\u001b[1;33m,\u001b[0m \u001b[0mrenderer\u001b[0m\u001b[1;33m)\u001b[0m\u001b[1;33m\u001b[0m\u001b[0m\n\u001b[0;32m     57\u001b[0m \u001b[1;33m\u001b[0m\u001b[0m\n",
        "\u001b[1;32m/usr/local/lib/python2.7/dist-packages/matplotlib/lines.pyc\u001b[0m in \u001b[0;36mdraw\u001b[1;34m(self, renderer)\u001b[0m\n\u001b[0;32m    567\u001b[0m             \u001b[0mrgbaFace\u001b[0m \u001b[1;33m=\u001b[0m \u001b[0mself\u001b[0m\u001b[1;33m.\u001b[0m\u001b[0m_get_rgba_face\u001b[0m\u001b[1;33m(\u001b[0m\u001b[1;33m)\u001b[0m\u001b[1;33m\u001b[0m\u001b[0m\n\u001b[0;32m    568\u001b[0m             \u001b[0mrgbaFaceAlt\u001b[0m \u001b[1;33m=\u001b[0m \u001b[0mself\u001b[0m\u001b[1;33m.\u001b[0m\u001b[0m_get_rgba_face\u001b[0m\u001b[1;33m(\u001b[0m\u001b[0malt\u001b[0m\u001b[1;33m=\u001b[0m\u001b[0mTrue\u001b[0m\u001b[1;33m)\u001b[0m\u001b[1;33m\u001b[0m\u001b[0m\n\u001b[1;32m--> 569\u001b[1;33m             \u001b[0medgecolor\u001b[0m \u001b[1;33m=\u001b[0m \u001b[0mself\u001b[0m\u001b[1;33m.\u001b[0m\u001b[0mget_markeredgecolor\u001b[0m\u001b[1;33m(\u001b[0m\u001b[1;33m)\u001b[0m\u001b[1;33m\u001b[0m\u001b[0m\n\u001b[0m\u001b[0;32m    570\u001b[0m             \u001b[1;32mif\u001b[0m \u001b[0mis_string_like\u001b[0m\u001b[1;33m(\u001b[0m\u001b[0medgecolor\u001b[0m\u001b[1;33m)\u001b[0m \u001b[1;32mand\u001b[0m \u001b[0medgecolor\u001b[0m\u001b[1;33m.\u001b[0m\u001b[0mlower\u001b[0m\u001b[1;33m(\u001b[0m\u001b[1;33m)\u001b[0m \u001b[1;33m==\u001b[0m \u001b[1;34m'none'\u001b[0m\u001b[1;33m:\u001b[0m\u001b[1;33m\u001b[0m\u001b[0m\n\u001b[0;32m    571\u001b[0m                 \u001b[0mgc\u001b[0m\u001b[1;33m.\u001b[0m\u001b[0mset_linewidth\u001b[0m\u001b[1;33m(\u001b[0m\u001b[1;36m0\u001b[0m\u001b[1;33m)\u001b[0m\u001b[1;33m\u001b[0m\u001b[0m\n",
        "\u001b[1;32m/usr/local/lib/python2.7/dist-packages/matplotlib/lines.pyc\u001b[0m in \u001b[0;36mget_markeredgecolor\u001b[1;34m(self)\u001b[0m\n\u001b[0;32m    666\u001b[0m         \u001b[0mmec\u001b[0m \u001b[1;33m=\u001b[0m \u001b[0mself\u001b[0m\u001b[1;33m.\u001b[0m\u001b[0m_markeredgecolor\u001b[0m\u001b[1;33m\u001b[0m\u001b[0m\n\u001b[0;32m    667\u001b[0m         \u001b[1;32mif\u001b[0m \u001b[1;33m(\u001b[0m\u001b[0mis_string_like\u001b[0m\u001b[1;33m(\u001b[0m\u001b[0mmec\u001b[0m\u001b[1;33m)\u001b[0m \u001b[1;32mand\u001b[0m \u001b[0mmec\u001b[0m \u001b[1;33m==\u001b[0m \u001b[1;34m'auto'\u001b[0m\u001b[1;33m)\u001b[0m\u001b[1;33m:\u001b[0m\u001b[1;33m\u001b[0m\u001b[0m\n\u001b[1;32m--> 668\u001b[1;33m             \u001b[1;32mif\u001b[0m \u001b[0mself\u001b[0m\u001b[1;33m.\u001b[0m\u001b[0m_marker\u001b[0m\u001b[1;33m.\u001b[0m\u001b[0mget_marker\u001b[0m\u001b[1;33m(\u001b[0m\u001b[1;33m)\u001b[0m \u001b[1;32min\u001b[0m \u001b[1;33m(\u001b[0m\u001b[1;34m'.'\u001b[0m\u001b[1;33m,\u001b[0m \u001b[1;34m','\u001b[0m\u001b[1;33m)\u001b[0m\u001b[1;33m:\u001b[0m\u001b[1;33m\u001b[0m\u001b[0m\n\u001b[0m\u001b[0;32m    669\u001b[0m                 \u001b[1;32mreturn\u001b[0m \u001b[0mself\u001b[0m\u001b[1;33m.\u001b[0m\u001b[0m_color\u001b[0m\u001b[1;33m\u001b[0m\u001b[0m\n\u001b[0;32m    670\u001b[0m             \u001b[1;32mif\u001b[0m \u001b[0mself\u001b[0m\u001b[1;33m.\u001b[0m\u001b[0m_marker\u001b[0m\u001b[1;33m.\u001b[0m\u001b[0mis_filled\u001b[0m\u001b[1;33m(\u001b[0m\u001b[1;33m)\u001b[0m \u001b[1;32mand\u001b[0m \u001b[0mself\u001b[0m\u001b[1;33m.\u001b[0m\u001b[0mget_fillstyle\u001b[0m\u001b[1;33m(\u001b[0m\u001b[1;33m)\u001b[0m \u001b[1;33m!=\u001b[0m \u001b[1;34m'none'\u001b[0m\u001b[1;33m:\u001b[0m\u001b[1;33m\u001b[0m\u001b[0m\n",
        "\u001b[1;31mKeyboardInterrupt\u001b[0m: "
       ]
      },
      {
       "metadata": {},
       "output_type": "display_data",
       "png": "[encoded data removed]",
       "text": [
        "<matplotlib.figure.Figure at 0x4fbb050>"
       ]
      }
     ],
     "prompt_number": 18
    },
    {
     "cell_type": "code",
     "collapsed": false,
     "input": [
      "# Set necessary parameters for the size of the system here\n",
      "nodesize=5\n",
      "bondwidth=3\n",
      "voltages = V[:,0]\n",
      "num_nodes = voltages.size\n",
      "L = np.sqrt(num_nodes)\n",
      "\n",
      "def node2xy(num_nodes, node_idx):\n",
      "    \"\"\"\n",
      "    returns the x and y coordinates of a node index in our grid\n",
      "    \"\"\"\n",
      "    L = np.sqrt(num_nodes)\n",
      "    return np.floor(node_idx / L), (L-1) - node_idx % L\n",
      "\n",
      "# Set-up figure\n",
      "fig, ax = plt.subplots(figsize=(12,12))\n",
      "ax.set_xlim(-1, L)\n",
      "ax.set_ylim(-1, L)\n",
      "\n",
      "# First we'll need the powers\n",
      "rows, cols = scipy.sparse.triu(MtoG(X[0])).nonzero()\n",
      "Power = []\n",
      "\n",
      "# Fill in a power matrix at each time\n",
      "max_power = 0\n",
      "for t_idx, time in enumerate(t):\n",
      "    G = MtoG(X[t_idx])\n",
      "    P = scipy.sparse.csr_matrix(G.shape, dtype=float)\n",
      "    voltages = V[:,t_idx]\n",
      "    for node_i, node_j in itertools.izip(rows, cols):\n",
      "        P[node_i, node_j] = G[node_i, node_j] * (voltages[node_i] - voltages[node_j])**2\n",
      "    current_max = P.max()\n",
      "    if current_max > max_power:\n",
      "        max_power = current_max\n",
      "    Power.append(P)\n",
      "\n",
      "# Now calibrate our colormap\n",
      "colormap = plt.get_cmap(\"RdYlBu_r\")\n",
      "norm_pow = plt.Normalize(vmin=0, vmax=max_power)\n",
      "\n",
      "lines = []\n",
      "for node_i, node_j in itertools.izip(rows, cols):\n",
      "    lines.append(ax.plot([], [], lw=bondwidth))\n",
      "lines = np.asarray(lines).flatten()\n",
      "\n",
      "# Collect our node objects to update\n",
      "nodes = np.asarray([ax.plot([], [], 'ws', markersize=nodesize) for v in voltages]).flatten()\n",
      "\n",
      "def init():\n",
      "    for node_i, node_j, line in itertools.izip(rows, cols, lines):\n",
      "        line.set_data([], [])\n",
      "        line.set_color('w')\n",
      "    for node_idx, node in enumerate(nodes):\n",
      "        node.set_data([], [])\n",
      "    return lines, nodes\n",
      "\n",
      "def animate(i):\n",
      "    voltages = V[:, i]\n",
      "    for node_i, node_j, line in itertools.izip(rows, cols, lines):\n",
      "        x_i, y_i = node2xy(num_nodes, node_i)\n",
      "        x_j, y_j = node2xy(num_nodes, node_j)\n",
      "        line.set_data([x_i, x_j], [y_i, y_j])\n",
      "        line.set_color(colormap(norm_pow(Power[i][node_i, node_j])))\n",
      "    for node_idx, node in enumerate(nodes):\n",
      "        x, y = node2xy(num_nodes, node_idx)\n",
      "        node.set_data(x, y)\n",
      "    return lines, nodes\n",
      "\n",
      "anim = animation.FuncAnimation(fig, animate, frames=1000, init_func=init, interval=20, blit=True)\n",
      "\n",
      "anim.save('test_power.mp4', fps=30, extra_args=['-vcodec', 'libx264', '-pix_fmt', 'yuv420p'])"
     ],
     "language": "python",
     "metadata": {},
     "outputs": [
      {
       "metadata": {},
       "output_type": "display_data",
       "png": "[encoded data removed]",
       "text": [
        "<matplotlib.figure.Figure at 0x7011c10>"
       ]
      }
     ],
     "prompt_number": 81
    },
    {
     "cell_type": "heading",
     "level": 3,
     "metadata": {},
     "source": [
      "Shortest Path"
     ]
    },
    {
     "cell_type": "markdown",
     "metadata": {},
     "source": [
      "Here I attempt to duplicate Pershin and di Ventra's work on shortest path's in memristive networks.  As the simplest example, in a toy 10x10 network with parallel units initally set to off.  A current controlled memristor is used rather than a voltage controlled, so I'll have to modify..."
     ]
    },
    {
     "cell_type": "code",
     "collapsed": false,
     "input": [
      "def ic_memR_xdot(x, V, t, I_T = 10**-3, alpha = 0, beta = 10**6, x_min = 10, x_max = 200):\n",
      "    \"\"\"\n",
      "    This doesn't treat the endpoints exactly, but is much easier to implement and allows us to use\n",
      "    a more standard RK4.  If the step size is big enough that the error introduced is noticiable, that\n",
      "    is probably a much bigger problem\n",
      "    \"\"\"\n",
      "    I = V / x\n",
      "    \n",
      "    deriv = beta * I + 0.5 * (alpha - beta) * (np.abs(I + I_T) - np.abs(I - I_T))\n",
      "    if (x <= x_min and deriv < 0) or (x >= x_max and deriv > 0):\n",
      "        return 0\n",
      "    else:\n",
      "        return deriv\n",
      "    \n",
      "def ic_memG_xdot(x, V, t,):\n",
      "    \"\"\"\n",
      "    If I instead want to use the conductance as the internal state variable, we have\n",
      "    G_dot = -G^2 R_dot\n",
      "    \"\"\"\n",
      "    return -x**2 * ic_memR_xdot(1. / x, V, t)"
     ],
     "language": "python",
     "metadata": {},
     "outputs": [],
     "prompt_number": 21
    },
    {
     "cell_type": "markdown",
     "metadata": {},
     "source": [
      "In an 11 x 11 grid, we want to apply a voltage pulse that will switch the memristors along the shortest path to 'ON' while leaving the others in some intermediate state. "
     ]
    },
    {
     "cell_type": "code",
     "collapsed": false,
     "input": [
      "L = 11\n",
      "# Initialize network to off\n",
      "X_init = gen_adj_rand_grid_sparse(L, 1) * (1. / 200)\n",
      "\n",
      "# Timing\n",
      "t_final = 5 * 10**-2\n",
      "t = np.linspace(0, t_final, 200)\n",
      "\n",
      "# Voltage timecourse\n",
      "V = 6\n",
      "voltage = np.empty((L**2, len(t))) * np.nan\n",
      "voltage[5, :] = V\n",
      "voltage[L**2 - 1 - (L / 2), :] = 0\n",
      "X = np.zeros( X_init.shape + t.shape)\n",
      "V = np.zeros_like(voltage)\n",
      "X[:, :, 0] = X_init.todense()"
     ],
     "language": "python",
     "metadata": {},
     "outputs": [],
     "prompt_number": 140
    },
    {
     "cell_type": "code",
     "collapsed": false,
     "input": [
      "V_init = solve_node_voltages_cc(scipy.sparse.csr_matrix(MtoG(X_init)), ext_voltage_vec2list(voltage[:,0]))"
     ],
     "language": "python",
     "metadata": {},
     "outputs": [],
     "prompt_number": 141
    },
    {
     "cell_type": "code",
     "collapsed": false,
     "input": [
      "X, V = integrate_memristor_network(X_init, t, voltage, MisX, ic_memG_xdot)"
     ],
     "language": "python",
     "metadata": {},
     "outputs": [],
     "prompt_number": 142
    },
    {
     "cell_type": "code",
     "collapsed": false,
     "input": [
      "fig, ax = plt.subplots(1, 2, figsize = (16, 8))\n",
      "P = display_grid_power(ax[0], np.asarray(MtoG(MisX(X[0].todense()))), V[:,0])\n",
      "P = display_grid_power(ax[1], np.asarray(MtoG(MisX(X[-1].todense()))), V[:,-1])"
     ],
     "language": "python",
     "metadata": {},
     "outputs": [
      {
       "metadata": {},
       "output_type": "display_data",
       "png": "[encoded data removed]",
       "text": [
        "<matplotlib.figure.Figure at 0x3a83ed0>"
       ]
      }
     ],
     "prompt_number": 143
    },
    {
     "cell_type": "code",
     "collapsed": false,
     "input": [
      "def display_grid_resistance(ax, G, voltages, nodesize=5, bondwidth=3):\n",
      "    \"\"\"\n",
      "    Plots the power dissipated in each leg of the grid.  The positions of the nodes\n",
      "    are pulled from the conductance matrix with the convention that the 0th node is at the top\n",
      "    left and the index increases as we move down the columns of the grid. Arguments are:\n",
      "    \n",
      "    ax - an axes object for the figure\n",
      "    G - a dense conductance array\n",
      "    voltages - a vector of the node voltages\n",
      "    \"\"\"\n",
      "    # make sure we have no extraneous dimensions and\n",
      "    # find the dimensions of the grid\n",
      "    voltages = voltages.flatten()\n",
      "    n = voltages.size\n",
      "    L = np.sqrt(n)\n",
      "    \n",
      "    def node2xy(num_nodes, node_idx):\n",
      "        \"\"\"\n",
      "        returns the x and y coordinates of a node index in our grid\n",
      "        \"\"\"\n",
      "        L = np.sqrt(num_nodes)\n",
      "        return np.floor(node_idx / L), (L-1) - node_idx % L\n",
      "    \n",
      "    # Form a matrix of resistances\n",
      "    G[G==0] = np.nan\n",
      "    R = 1. / (G + G.T)\n",
      "    R[np.isnan(R)] = 0\n",
      "    \n",
      "    # Get nonzero indices\n",
      "    rows, cols = np.triu(R).nonzero()\n",
      "    \n",
      "    # Normalize colormap to the ON (one memR min and one max) and OFF (both max)\n",
      "    colormap = plt.get_cmap(\"YlOrRd_r\")\n",
      "    norm_resist = plt.Normalize(vmin=2000. / (210), vmax = 100)\n",
      "    \n",
      "    # draw the connections between nodes\n",
      "    for node_i, node_j in itertools.izip(rows, cols):\n",
      "        x_i, y_i = node2xy(n, node_i)\n",
      "        x_j, y_j = node2xy(n, node_j)\n",
      "        ax.plot([x_i, x_j], [y_i, y_j], color=colormap(norm_resist(R[node_i, node_j])), lw=bondwidth)\n",
      "        \n",
      "    # Normalize our voltage colormap to the max and min of voltages\n",
      "    #norm_v = plt.normalize()\n",
      "    #norm_v.autoscale(voltages)\n",
      "    \n",
      "    # Now draw the nodes and their voltages\n",
      "    for node, volt in enumerate(voltages):\n",
      "        x, y = node2xy(n, node)\n",
      "        ax.plot(x, y, 'ws', markersize=nodesize)\n",
      "         #       color=reds(norm_v(volt)))\n",
      "    ax.set_xlim( -1,  L)\n",
      "    ax.set_ylim( -1, L )"
     ],
     "language": "python",
     "metadata": {},
     "outputs": [],
     "prompt_number": 144
    },
    {
     "cell_type": "code",
     "collapsed": false,
     "input": [
      "fig, ax = plt.subplots(1, 2, figsize = (16, 8))\n",
      "display_grid_resistance(ax[0], np.asarray(MtoG(MisX(X[0].todense()))), V[:,0])\n",
      "display_grid_resistance(ax[1], np.asarray(MtoG(MisX(X[-1].todense()))), V[:,-1])"
     ],
     "language": "python",
     "metadata": {},
     "outputs": [
      {
       "metadata": {},
       "output_type": "display_data",
       "png": "[encoded data removed]",
       "text": [
        "<matplotlib.figure.Figure at 0x4572090>"
       ]
      }
     ],
     "prompt_number": 145
    },
    {
     "cell_type": "code",
     "collapsed": false,
     "input": [],
     "language": "python",
     "metadata": {},
     "outputs": []
    }
   ],
   "metadata": {}
  }
 ]
}