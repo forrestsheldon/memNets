{
 "metadata": {
  "name": "",
  "signature": "sha256:6e147918ae9a7bbe92aa9fde7aa46dad89d0e685091ea4da09fde8d7ceddb523"
 },
 "nbformat": 3,
 "nbformat_minor": 0,
 "worksheets": [
  {
   "cells": [
    {
     "cell_type": "heading",
     "level": 1,
     "metadata": {},
     "source": [
      "Conductance Functions"
     ]
    },
    {
     "cell_type": "code",
     "collapsed": false,
     "input": [
      "%matplotlib inline"
     ],
     "language": "python",
     "metadata": {},
     "outputs": [],
     "prompt_number": 1
    },
    {
     "cell_type": "markdown",
     "metadata": {},
     "source": [
      "For a network the total conductance is a function of the conductance of its bonds.  We define the total conductance of the network to be a *conductance function* $G(g_{ij})$.  As a function of many variables with interdependencies between the state of each, this function is quite complicated.  In a network of $N$ memristors with 2 states, there are $2^N$ possible internal states with potentially distinct conductances.\n",
      "\n",
      "When a network is externally controlled we do not have control over the state of each internal memristor.  Instead, we adjust the externally applied voltage/current and each internal memristor switches in accordance with its own voltage/current within the network.  This limits the number of conductance states the network is capable of visiting and affords us a possible simplification of the conductance function.  We take the voltage distribution as an ordering of the bonds with the largest voltage drop in the network being the first and proceeding down to the smallest voltage drop.  We also consider memristors that make a sharp transition between their conducting and non-conducting states. When externally controlled at a constant voltage, this leads the memristors to switch in the order of descending voltage drop.  By constraining the order of switching, we can thus consider the conductance function of an externally controlled network to depend on the fraction of memristors to have switched when ordered by their voltage drop, $G = G(f = \\frac{n}{N})$ where $n$ is the number memristors out of the total $N$ that have switched.  This reduces our study to a function of a single scalar variable, $G(f)$, but we know little about what form it might take.  So let's find out!"
     ]
    },
    {
     "cell_type": "code",
     "collapsed": false,
     "input": [
      "import numpy as np\n",
      "import resistor_networks as rnets\n",
      "import generate_adjacency_matrix as gen_adj\n",
      "import matplotlib.pyplot as plt"
     ],
     "language": "python",
     "metadata": {},
     "outputs": [],
     "prompt_number": 2
    },
    {
     "cell_type": "code",
     "collapsed": false,
     "input": [
      "L = 64\n",
      "p = 0.6\n",
      "delta = 0.99\n",
      "R_OFF = 1\n",
      "R_ON = (1-delta)*R_OFF\n",
      "G_OFF = 1 / R_OFF\n",
      "G_ON = 1 / R_ON\n",
      "random_lattice = gen_adj.cubic_2d_random((L, L), p)\n",
      "\n",
      "v_external = np.empty(L*L) * np.nan\n",
      "v_external[0:L] = 1\n",
      "v_external[-L:] = 0\n",
      "rnet = rnets.ResistorNetworkCC(random_lattice.copy(), v_external)\n",
      "rnet.solve_voltages('spsolve')\n",
      "rnet.conductivity()"
     ],
     "language": "python",
     "metadata": {},
     "outputs": [
      {
       "metadata": {},
       "output_type": "pyout",
       "prompt_number": 82,
       "text": [
        "0.1619962134305537"
       ]
      }
     ],
     "prompt_number": 82
    },
    {
     "cell_type": "code",
     "collapsed": false,
     "input": [
      "def calculate_voltage_drops(G, voltages):\n",
      "    rows, cols = G.nonzero()\n",
      "    drops_list = []\n",
      "    for i, j in zip(rows, cols):\n",
      "        if i < j:\n",
      "            drop = np.abs(voltages[i] - voltages[j])\n",
      "            if drop > 1e-12:\n",
      "                drops_list.append((drop, (i, j)))\n",
      "    return drops_list\n",
      "voltage_drops = calculate_voltage_drops(rnet.G, rnet.voltages)"
     ],
     "language": "python",
     "metadata": {},
     "outputs": [],
     "prompt_number": 83
    },
    {
     "cell_type": "code",
     "collapsed": false,
     "input": [
      "voltage_drops.sort(reverse=True)\n",
      "\n",
      "conductance_function = [rnet.conductivity()]\n",
      "for drop, (i, j) in voltage_drops:\n",
      "    rnet.G[i, j] = G_ON\n",
      "    rnet.G[j, i] = G_ON\n",
      "    rnet.solve_voltages('spsolve')\n",
      "    conductance_function.append(rnet.conductivity())"
     ],
     "language": "python",
     "metadata": {},
     "outputs": [],
     "prompt_number": 84
    },
    {
     "cell_type": "code",
     "collapsed": false,
     "input": [
      "f = np.linspace(0, 1, len(conductance_function))\n",
      "\n",
      "fig, ax = plt.subplots()\n",
      "\n",
      "ax.plot(f, conductance_function)"
     ],
     "language": "python",
     "metadata": {},
     "outputs": [
      {
       "metadata": {},
       "output_type": "pyout",
       "prompt_number": 85,
       "text": [
        "[<matplotlib.lines.Line2D at 0x47726d0>]"
       ]
      },
      {
       "metadata": {},
       "output_type": "display_data",
       "png": "[encoded data removed]",
       "text": [
        "<matplotlib.figure.Figure at 0x4772e90>"
       ]
      }
     ],
     "prompt_number": 85
    },
    {
     "cell_type": "markdown",
     "metadata": {},
     "source": [
      "An alternative way of computing the conductance function is to switch the largest voltage drop, resolve the voltages for the updated network, find the largest drop again, and continue.  This may give different results than the previous example as switchings may alter the network enough to change the ordering of switching. "
     ]
    },
    {
     "cell_type": "code",
     "collapsed": false,
     "input": [
      "def max_voltage_drop(G, voltages):\n",
      "    rows, cols = G.nonzero()\n",
      "    max_drop = 0\n",
      "    indices = (0,0)\n",
      "    for i, j in zip(rows, cols):\n",
      "        if i < j and G[i, j] != G_ON:\n",
      "            drop = np.abs(voltages[i] - voltages[j])\n",
      "            if drop > max_drop and drop > 1e-12:\n",
      "                max_drop = drop\n",
      "                indices = (i, j)\n",
      "    return max_drop, indices"
     ],
     "language": "python",
     "metadata": {},
     "outputs": [],
     "prompt_number": 86
    },
    {
     "cell_type": "code",
     "collapsed": false,
     "input": [
      "rnet = rnets.ResistorNetworkCC(random_lattice.copy(), v_external)\n",
      "rnet.solve_voltages('spsolve')\n",
      "rnet.conductivity()"
     ],
     "language": "python",
     "metadata": {},
     "outputs": [
      {
       "metadata": {},
       "output_type": "pyout",
       "prompt_number": 87,
       "text": [
        "0.1619962134305537"
       ]
      }
     ],
     "prompt_number": 87
    },
    {
     "cell_type": "code",
     "collapsed": false,
     "input": [
      "max_drop, (i, j) = max_voltage_drop(rnet.G, rnet.voltages)\n",
      "conductance_function_max_volt = [rnet.conductivity()]\n",
      "while max_drop > 0:\n",
      "    rnet.G[i, j] = G_ON\n",
      "    rnet.G[j, i] = G_ON\n",
      "    rnet.solve_voltages('spsolve')\n",
      "    conductance_function_max_volt.append(rnet.conductivity())\n",
      "    max_drop, (i, j) = max_voltage_drop(rnet.G, rnet.voltages)"
     ],
     "language": "python",
     "metadata": {},
     "outputs": [],
     "prompt_number": 88
    },
    {
     "cell_type": "code",
     "collapsed": false,
     "input": [
      "f_max_volt = np.linspace(0, 1, len(conductance_function_max_volt))\n",
      "\n",
      "fig, ax = plt.subplots()\n",
      "\n",
      "ax.plot(f_max_volt, conductance_function_max_volt)\n",
      "ax.plot(f, conductance_function)"
     ],
     "language": "python",
     "metadata": {},
     "outputs": [
      {
       "metadata": {},
       "output_type": "pyout",
       "prompt_number": 89,
       "text": [
        "[<matplotlib.lines.Line2D at 0x4751e10>]"
       ]
      },
      {
       "metadata": {},
       "output_type": "display_data",
       "png": "[encoded data removed]",
       "text": [
        "<matplotlib.figure.Figure at 0x4b6b250>"
       ]
      }
     ],
     "prompt_number": 89
    },
    {
     "cell_type": "code",
     "collapsed": false,
     "input": [],
     "language": "python",
     "metadata": {},
     "outputs": []
    }
   ],
   "metadata": {}
  }
 ]
}