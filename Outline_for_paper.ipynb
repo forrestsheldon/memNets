{
 "metadata": {
  "name": "",
  "signature": "sha256:3404f566fbc6183312d4e8de171d8d317a8bfab9cd234be01f20a4cc931ae86d"
 },
 "nbformat": 3,
 "nbformat_minor": 0,
 "worksheets": [
  {
   "cells": [
    {
     "cell_type": "heading",
     "level": 1,
     "metadata": {},
     "source": [
      "Paper Outline"
     ]
    },
    {
     "cell_type": "heading",
     "level": 3,
     "metadata": {},
     "source": [
      "Intro"
     ]
    },
    {
     "cell_type": "markdown",
     "metadata": {},
     "source": [
      "Challenges in scaling down conventional microelectronics has galvanized interest in new devices and computing architectures\n",
      "\n",
      "* Devices - transistor's power consumption and scaling limits future progress.  Current interest in atomic switches and other memristive systems for passive storage and logic\n",
      "* Architecture - neuromorphic computing aims to mimic the lower power consumption and distributed computation of neural systems where computation is performed directly in memory.  Memristors can function as inorganic synapses.  Most attempts at realizing neuromorphic computation in hardware focus on using conventional techniques such as lithography to create circuits that resemble modern microelectronics.  Neural tissue is highly disordered and naturally balances the cost of wiring with function in its growth.  Until recently, no attempts have been made to develop manufacturing techniques that mimic the complex architecture of neural tissue and observe the consequences when dynamics and memory are involved.\n",
      "\n",
      "Stieg et al. proposed a method utilizing DLA of silver ions in solution to create a complex structure of silver wires.  When exposed to sulphur gas, junctions form in the network which function as $Ag|Ag_2 S|Ag$ atomic switches, capable of transitioning between a high resistance OFF state and a low resistance ON state.  This gives a network of inorganic synapses with a high density of $~10^9$ synapses/cm. When subjected to an external voltage these networks function as enlarged memristors, displaying pinched hysteresis in both weak and strong switching regimes, higher harmonic generation, separate memristive channels and various other behaviors that make them attractive candidates for reservoir computing and other neuromorphic applications.\n",
      "\n",
      "Of particular note is their behavior under pulsed voltage stimulation.  When subjected to low intensity voltage pulses (2V 10ms) with a long duty cycle (10%), the networks make sharp transitions between metastable conductance states.  The distribution of residence times in these conductance states is found to scale as a power law over two orders of magnitude, extending from the pulse width (10ms) to the measurement bandwidth (0.1ms).  This has been attributed to criticality, a phenomenon in which, in the limit of slow driving, a system tunes itself to a state where the size of the response follows a power law distribution, thus giving a singular response function.  In models such as the sand-pile, and in cultures of neural tissue, the response to external stimulus is an avalanche following a power law distribution.  While the correspondence seems attractive in that in the limit of low voltage driving, atomic switch networks also display a power law, it is marred by two difficulties:  1. While in the case of self organized criticality, the *size* of the response is power law distributed, in atomic switch network, the power law relates to the *time* the systems spends in a conductance state.  There is thus, not an obvious candidate for a response function that becomes singular. 2. Theoretical investigations of the networks, including those published by Stieg et al., have found that conductance transitions are likely due to single atomic switches undergoing transitions and not collections undergoing avalanche dynamics.  We have come to a similar conclusion and have thus looked at alternative explanations.\n",
      "\n",
      "We chose to investigate the role of disorder in these networks and whether power law scaling can be explained through the structural properties of the network.  From studies of the random resistor network, it is known that the voltage distribution across random lattices, $n(V) ~ V^\\phi(V)$ where $\\phi(V)$ is a voltage dependent exponent.  Slowly varying regions of $\\phi$ give power law scaling in the voltage distribution.  We find, through analytical arguments and simulation, that this is sufficient to give a region of power law scaling in the residence time distribution.  We first investigate in the limit that $\\frac{R_ON}{R_OFF} \\to 1$ which we term 'no memory' as the network undergoes no structural changes as a result of it's past dynamics.  We then allow this ratio vary and use simulations to draw conclusions about the effect of memory on the residence time distribution."
     ]
    },
    {
     "cell_type": "heading",
     "level": 3,
     "metadata": {},
     "source": []
    },
    {
     "cell_type": "heading",
     "level": 3,
     "metadata": {},
     "source": [
      "Atomic Switches and Atomic Switch Network"
     ]
    },
    {
     "cell_type": "markdown",
     "metadata": {},
     "source": [
      "The atomic switch is an electroionic device displaying pinched I-V hysteritic switching with large ON/OFF ratios.  Their fast switching and low power consumption have made them a possible candidate device upon which new computing paradigms may be based.  Additionally, their ability to mimic a variety of behaviors displayed by biological synapses has created interest in applications to neuromorphic computing.  While most attempts at realizing neuromporphic computers in silica has focused on lithography based approaches, using ordered crossbar type architectures to utilize the atomic-switches synapse like properties, attempting to mimic the random structure of neural tissue has been less emphasized.  Wiring complex structures through lithography has posed complications but approaches through self-assembly and growth processes show promise.  Utilizing solution phase electrochemistry, Stieg et al. have succeded in manufacturing small systems of nanowires with complex architectures.  By first seeding the area with copper microspheres which act as a seed sites for wire growth, the networks have connections distributed across a 2D surface and across a wide range of scales.  Exposure to sulphur gas resulted in insulating silver sulfide $Ag_2S$ regions within the wires.  These insulating regions, when subjected to an external bias, act as gapless atomic switches, undergoing pinched hysteresis.  As a whole, the network acts as a large memristive switching  device, undergoing transitions between low and high conductive states.  Many of these properties have been cataloged in the papers describing these devices.  Of note is the behavior of the devices under low intensity voltage pulses.  The networks underwent switching between discrete conductance states and when binned, the durations spent in these states obeyed power law scaling over two orders of magnitude with an exponent of $\\alpha\\approx 2$."
     ]
    },
    {
     "cell_type": "heading",
     "level": 3,
     "metadata": {},
     "source": [
      "Power Laws abound"
     ]
    },
    {
     "cell_type": "markdown",
     "metadata": {},
     "source": [
      "This power law scaling is attributed to criticality. Specifically, the authors believe that electroionic coupling within the network causes the network to tune itself to a critical state, analogous to those found in the sandpile model.  However, both the authors' theoretical investigation of these models, and our own, have failed to find a regime in which such dynamics occur.  Investigations have concluded that transitions in conductivity may be attributed to single switch transitions between ON and OFF states rather than collective switching events (avalanches) and as such we have investigated other explanations for the power law residence time distribution.  We instead find that a power law residence time distribution may be attributed to the structure of the underlying network created by the growth process.  "
     ]
    },
    {
     "cell_type": "heading",
     "level": 3,
     "metadata": {},
     "source": [
      "Scaling properties of the Voltage Distribution in Random Networks"
     ]
    },
    {
     "cell_type": "markdown",
     "metadata": {},
     "source": []
    },
    {
     "cell_type": "heading",
     "level": 3,
     "metadata": {},
     "source": [
      "Heavy Tailed Voltage Distributions give Heavy tailed residence time Distributions"
     ]
    },
    {
     "cell_type": "heading",
     "level": 3,
     "metadata": {},
     "source": []
    },
    {
     "cell_type": "heading",
     "level": 3,
     "metadata": {},
     "source": [
      "Fluctuations due to Network Structure give Power Law residence time distributions - Memristors relax to nonequilibrium power law states"
     ]
    },
    {
     "cell_type": "code",
     "collapsed": false,
     "input": [],
     "language": "python",
     "metadata": {},
     "outputs": []
    }
   ],
   "metadata": {}
  }
 ]
}