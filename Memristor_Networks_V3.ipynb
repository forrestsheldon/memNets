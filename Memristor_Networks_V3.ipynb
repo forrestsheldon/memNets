{
 "metadata": {
  "name": "",
  "signature": "sha256:f085e532ec26b413a75362a22f0e8791ddd4155538959e09552cf2879e258512"
 },
 "nbformat": 3,
 "nbformat_minor": 0,
 "worksheets": [
  {
   "cells": [
    {
     "cell_type": "heading",
     "level": 1,
     "metadata": {},
     "source": [
      "Memristor_Networks_V3"
     ]
    },
    {
     "cell_type": "code",
     "collapsed": false,
     "input": [
      "%matplotlib inline"
     ],
     "language": "python",
     "metadata": {},
     "outputs": [],
     "prompt_number": 1
    },
    {
     "cell_type": "code",
     "collapsed": false,
     "input": [
      "import numpy as np\n",
      "import scipy as sp\n",
      "from scipy.integrate import ode\n",
      "import scipy.sparse as sparse\n",
      "import matplotlib.pyplot as plt\n",
      "import resistor_networks as rnets\n",
      "import generate_adjacency_matrix as gen_adj"
     ],
     "language": "python",
     "metadata": {},
     "outputs": [],
     "prompt_number": 2
    },
    {
     "cell_type": "markdown",
     "metadata": {},
     "source": [
      "In order to make the filament model work, I will need to make a few changes:\n",
      "\n",
      "* First, the minimum and maximum values should be specified for the state variables and not the conductances.  For now, I will leave these uniform across the network, but it may be worth allowing them to vary between bonds.\n",
      "* For now, threshold voltages will be left out.\n",
      "* A function that goes from the resistances of bonds to the symmetric conductance matrix should be built in. A separate function that gives the conductance in an individual bond should be specified.  It would probably be better if this was done with a matrix equation."
     ]
    },
    {
     "cell_type": "code",
     "collapsed": false,
     "input": [
      "class MemristorNetwork(rnets.ResistorNetworkCC):\n",
      "    \"\"\"\n",
      "    This class inherits from my ResistorNetworkCC class in the aim of generalizing it to solve arbitrary\n",
      "    memristor networks.  This class will store the memristor network at a moment in time and possesses an\n",
      "    update(dt) method that integrates the network forward a time dt, assuming that the voltages in the\n",
      "    network are constant. This requires:\n",
      "    \n",
      "    state_variables   - A sparse NxN matrix in CSR format containing the values of state variables between\n",
      "                        nodes i and j\n",
      "    external_voltages - An Nx1 dense vector of external voltages.  Nodes not set to an external voltages contain a Nan.\n",
      "                        The shape (N,) is preferred\n",
      "    conductance_func  - A function that returns the conductance of a bond given its state variables\n",
      "    xdot              - A function giving the time derivative of the state variable as a function of (t, x, V, *args)\n",
      "    \n",
      "    with optional arguments:\n",
      "    \n",
      "    jacobian\n",
      "    xdot_args\n",
      "    x_min\n",
      "    x_max\n",
      "    \n",
      "    Note that there is one (or two) glaring problem(s) with this implementation.  The use of sparse matrices requires that\n",
      "    all state variables be nonzero for all time (and we can have only one state variable).  To make this work correctly I\n",
      "    will need to implement a superior sparse reference format for my needs.  I will still use sparse matrices for the \n",
      "    conductances in ResistorNetworks (I need slicing and inversion), but I don't need them for the state variables.\n",
      "    \"\"\"\n",
      "    \n",
      "    def __init__(self, state_variables, external_voltages, conductance_func, xdot, jacobian=None, xdot_args=None,\n",
      "                 x_min=1e-12, x_max=1):\n",
      "        self.state_variables = state_variables\n",
      "        self.rows, self.cols = self.state_variables.nonzero()\n",
      "        self.conductance_func = conductance_func\n",
      "        self.conductances = sparse.csr_matrix(self.state_variables.shape)\n",
      "        self.update_conductance_matrix()\n",
      "        self.xdot=xdot\n",
      "        self.xdot_args = xdot_args\n",
      "        self.x_min = x_min\n",
      "        self.x_max = x_max\n",
      "        self.integrator = ode(xdot, jac=jacobian)\n",
      "        rnets.ResistorNetworkCC.__init__(self, self.conductances + self.conductances.T, external_voltages)\n",
      "    \n",
      "    def update_conductance_matrix(self):\n",
      "        \"\"\"\n",
      "        Applies the conductance function to each entry in state_variables\n",
      "        \"\"\"\n",
      "        for i, j in zip(self.rows, self.cols):\n",
      "            self.conductances[i, j] = self.conductance_func(self.state_variables[i, j])\n",
      "\n",
      "    def update_G(self):\n",
      "        self.G = self.conductances + self.conductances.T\n",
      "    \n",
      "    def integrate_state_variables(self, delta_t, method='scipyode'):\n",
      "        \"\"\"\n",
      "        Integrate the state variables of the network from their current value to their value a time delta_t\n",
      "        later assuming that the voltages are constant during this time.  This method is only intended to update\n",
      "        the state variables infinitesimally.  The attribute xdot(t, x, V, *args) is a function of the state\n",
      "        variables and the voltage drop across a memristor that gives the first derivative of the state variables. \n",
      "        \"\"\"\n",
      "    \n",
      "        # loop over each memristor. This could easily be done in parallel\n",
      "        for i, j in zip(self.rows, self.cols):\n",
      "            self.update_memristor((i, j), delta_t, method=method)\n",
      "                 \n",
      "        self.update_conductance_matrix()\n",
      "        self.update_G()\n",
      "\n",
      "    def update_memristor(self, (i, j), delta_t, method='scipyode'):\n",
      "        \"\"\"\n",
      "        Updates the conductance of the memristor from node i to node j for a time dt.  The method can be\n",
      "        'scipyode' or 'myrk4'\n",
      "        \"\"\"\n",
      "        voltage_drop = self.voltages[i] - self.voltages[j]\n",
      "        \n",
      "        # See if threshold voltages have been defined\n",
      "        try:\n",
      "            xdot_arg = self.xdot_args[i, j]\n",
      "        except TypeError:\n",
      "            xdot_arg = 1\n",
      "        \n",
      "        if method == 'scipyode':\n",
      "            self.integrator.set_initial_value(self.state_variables[i, j], 0).set_f_params(voltage_drop,\n",
      "                                              xdot_arg).set_jac_params(voltage_drop, xdot_arg)\n",
      "            integrated_state_variable = self.integrator.integrate(delta_t)\n",
      "        elif method == 'myrk4':\n",
      "            integrated_state_variable = RK4_next(self.state_variables[i, j], voltage_drop, xdot_arg,\n",
      "                                                 0, delta_t, self.xdot)\n",
      "        \n",
      "        # Check values and set to limits if we have strayed beyond them\n",
      "        if integrated_state_variable >= self.x_max:\n",
      "            self.state_variables[i, j] = self.x_max\n",
      "        elif integrated_state_variable <= self.x_min:\n",
      "            self.state_variables[i, j] = self.x_min\n",
      "        else:\n",
      "            self.state_variables[i, j] = integrated_state_variable\n",
      "\n",
      "        if not self.integrator.successful():   \n",
      "            print \"Integration was unsuccessful\"\n",
      "        \n",
      "# I am making use of my RK4 integrator to provide a faster integration option.  The\n",
      "# integrators provided by ode will offer a way to assess whether results given here\n",
      "# are trustworthy\n",
      "\n",
      "def RK4_next(current_x, V, xdot_arg, time, delta_t, func_xdot):\n",
      "    \n",
      "    def xdot(x, t):\n",
      "        return func_xdot(t, x, V, xdot_arg)\n",
      "    \n",
      "    return current_x + 1. / 6. * delta_t * (k1(xdot, current_x, time) + 2 * k2(xdot, current_x, time, delta_t) +\n",
      "                                            2 * k3(xdot, current_x, time, delta_t) + k4(xdot, current_x, time, delta_t))\n",
      "    \n",
      "\n",
      "    # Various intermediate derivatives used in RK4       \n",
      "def k1(deriv, y, t):\n",
      "    return deriv(y, t)\n",
      "\n",
      "def k2(deriv, y, t, h):\n",
      "    return deriv(y + 0.5 * h * k1(deriv, y, t), t + 0.5 * h)\n",
      "\n",
      "def k3(deriv, y, t, h):\n",
      "    return deriv(y + 0.5 * h * k2(deriv, y, t, h), t + 0.5 * h)\n",
      "\n",
      "def k4(deriv, y, t, h):\n",
      "    return deriv(y + h * k3(deriv, y, t, h), t + h)"
     ],
     "language": "python",
     "metadata": {},
     "outputs": [],
     "prompt_number": 38
    },
    {
     "cell_type": "markdown",
     "metadata": {},
     "source": [
      "And some functions to test this:"
     ]
    },
    {
     "cell_type": "code",
     "collapsed": false,
     "input": [
      "def cond_func(x):\n",
      "    return x\n",
      "\n",
      "def xdot(t, x, V, V_T):\n",
      "    return vc_mG_xdot_dmnlss(x, V / V_T, t)\n",
      "\n",
      "def vc_mR_xdot_dmnlss(x, V, t):\n",
      "    return V - 0.5 * (np.abs(V + 1) - np.abs(V - 1))\n",
      "    \n",
      "def vc_mG_xdot_dmnlss(x, V, t):\n",
      "    \"\"\"\n",
      "    If I instead want to use the conductance as the internal state variable, we have\n",
      "    G_dot = -G^2 R_dot\n",
      "    \"\"\"\n",
      "    return -x**2 * vc_mR_xdot_dmnlss(1. / x, V, t)"
     ],
     "language": "python",
     "metadata": {},
     "outputs": [],
     "prompt_number": 39
    },
    {
     "cell_type": "code",
     "collapsed": false,
     "input": [
      "# As a test, let's reproduce the complex dynamics in 1D work\n",
      "state_var = gen_adj.chain_1d(11, directed=True, bias=0.5)\n",
      "threshold_voltages = state_var.copy()"
     ],
     "language": "python",
     "metadata": {},
     "outputs": [],
     "prompt_number": 40
    },
    {
     "cell_type": "code",
     "collapsed": false,
     "input": [
      "# Create the external voltage\n",
      "t_final = 1000                                             # in units of t_0\n",
      "t = np.linspace(0, t_final, 1000 )\n",
      "dt = t[1] - t[0]\n",
      "\n",
      "V_final = 17.5                                               # in units of V_t\n",
      "V_high = np.linspace(1e-4, V_final, 1000)\n",
      "v_external = np.empty((11, len(t))) * np.nan\n",
      "v_external[0,  :] = V_high\n",
      "v_external[10, :] = 0"
     ],
     "language": "python",
     "metadata": {},
     "outputs": [],
     "prompt_number": 41
    },
    {
     "cell_type": "code",
     "collapsed": false,
     "input": [
      "# Parameters\n",
      "R_0 = 1\n",
      "V_t = 1\n",
      "beta = 1\n",
      "t_0 = R_0 / (beta * V_t)"
     ],
     "language": "python",
     "metadata": {},
     "outputs": [],
     "prompt_number": 42
    },
    {
     "cell_type": "code",
     "collapsed": false,
     "input": [
      "# Generate initial Resistances and threshold voltages\n",
      "R_ON = 0.05 * R_0\n",
      "R_OFF = 1.95 * R_0\n",
      "G_ON = 1. / R_ON\n",
      "G_OFF = 1. / R_OFF\n",
      "\n",
      "R_initial = (R_OFF - R_ON) * np.random.random_sample(10) + R_ON\n",
      "V_thresholds = V_t * np.random.random_sample(10)\n",
      "rows, cols = state_var.nonzero()\n",
      "state_var[rows, cols] = 1. / R_initial\n",
      "threshold_voltages[rows, cols] = V_thresholds"
     ],
     "language": "python",
     "metadata": {},
     "outputs": [],
     "prompt_number": 43
    },
    {
     "cell_type": "code",
     "collapsed": false,
     "input": [
      "memtest = MemristorNetwork(state_var.copy(), v_external[:,0], cond_func, xdot, jacobian=None,\n",
      "                           xdot_args=threshold_voltages, x_min=G_OFF, x_max=G_ON)\n",
      "memtest.integrator.set_integrator('dop853', atol=10**-2, nsteps=10000)"
     ],
     "language": "python",
     "metadata": {},
     "outputs": [
      {
       "metadata": {},
       "output_type": "pyout",
       "prompt_number": 44,
       "text": [
        "<scipy.integrate._ode.ode at 0x4731790>"
       ]
      }
     ],
     "prompt_number": 44
    },
    {
     "cell_type": "code",
     "collapsed": false,
     "input": [
      "memtest.solve_voltages('cg')\n",
      "\n",
      "fig, ax = plt.subplots()\n",
      "memtest.display_grid(ax, (1, 11), 'voltage')"
     ],
     "language": "python",
     "metadata": {},
     "outputs": [
      {
       "metadata": {},
       "output_type": "display_data",
       "png": "[encoded data removed]",
       "text": [
        "<matplotlib.figure.Figure at 0x4ad5850>"
       ]
      }
     ],
     "prompt_number": 45
    },
    {
     "cell_type": "code",
     "collapsed": false,
     "input": [
      "memtest.conductivity()"
     ],
     "language": "python",
     "metadata": {},
     "outputs": [
      {
       "metadata": {},
       "output_type": "pyout",
       "prompt_number": 46,
       "text": [
        "0.13811911266635141"
       ]
      }
     ],
     "prompt_number": 46
    },
    {
     "cell_type": "code",
     "collapsed": false,
     "input": [
      "memtest.solve_voltages('cg')\n",
      "cond = [memtest.conductivity()]\n",
      "# At each time point beginning with the 2nd\n",
      "for t_idx, time in enumerate(t[1:]):\n",
      "    # update external voltages\n",
      "    memtest.external_voltages = v_external[:,t_idx+1]\n",
      "    # integrate the memristances\n",
      "    memtest.integrate_state_variables(dt)\n",
      "    # solve the network\n",
      "    memtest.solve_voltages('cg')\n",
      "    # add the memristances to our list\n",
      "    cond.append(memtest.conductivity())"
     ],
     "language": "python",
     "metadata": {},
     "outputs": [],
     "prompt_number": 47
    },
    {
     "cell_type": "code",
     "collapsed": false,
     "input": [
      "fig, ax = plt.subplots()\n",
      "ax.plot(V_high, 1. / np.array(cond))\n",
      "ax.set_xlim(0, 17.5)"
     ],
     "language": "python",
     "metadata": {},
     "outputs": [
      {
       "metadata": {},
       "output_type": "pyout",
       "prompt_number": 48,
       "text": [
        "(0, 17.5)"
       ]
      },
      {
       "metadata": {},
       "output_type": "display_data",
       "png": "[encoded data removed]",
       "text": [
        "<matplotlib.figure.Figure at 0x472c790>"
       ]
      }
     ],
     "prompt_number": 48
    },
    {
     "cell_type": "code",
     "collapsed": false,
     "input": [
      "memtest = MemristorNetwork(state_var.copy(), v_external[:,0], cond_func, xdot, jacobian=None,\n",
      "                           xdot_args=threshold_voltages, x_min=G_OFF, x_max=G_ON)\n",
      "\n",
      "memtest.solve_voltages('cg')\n",
      "cond_rk4 = [memtest.conductivity()]\n",
      "# At each time point beginning with the 2nd\n",
      "for t_idx, time in enumerate(t[1:]):\n",
      "    # update external voltages\n",
      "    memtest.external_voltages = v_external[:,t_idx+1]\n",
      "    # integrate the memristances\n",
      "    memtest.integrate_state_variables(dt, method='myrk4')\n",
      "    # solve the network\n",
      "    memtest.solve_voltages('cg')\n",
      "    # add the memristances to our list\n",
      "    cond_rk4.append(memtest.conductivity())\n",
      "\n",
      "fig, ax = plt.subplots()\n",
      "ax.plot(V_high, 1. / np.array(cond_rk4))\n",
      "ax.set_xlim(0, 17.5)"
     ],
     "language": "python",
     "metadata": {},
     "outputs": [
      {
       "metadata": {},
       "output_type": "pyout",
       "prompt_number": 49,
       "text": [
        "(0, 17.5)"
       ]
      },
      {
       "metadata": {},
       "output_type": "display_data",
       "png": "[encoded data removed]",
       "text": [
        "<matplotlib.figure.Figure at 0x4b09fd0>"
       ]
      }
     ],
     "prompt_number": 49
    },
    {
     "cell_type": "code",
     "collapsed": false,
     "input": [],
     "language": "python",
     "metadata": {},
     "outputs": [],
     "prompt_number": 49
    },
    {
     "cell_type": "code",
     "collapsed": false,
     "input": [],
     "language": "python",
     "metadata": {},
     "outputs": []
    }
   ],
   "metadata": {}
  }
 ]
}