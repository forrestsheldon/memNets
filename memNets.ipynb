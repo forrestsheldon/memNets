{
 "metadata": {
  "name": "memNets"
 },
 "nbformat": 3,
 "nbformat_minor": 0,
 "worksheets": [
  {
   "cells": [
    {
     "cell_type": "heading",
     "level": 1,
     "metadata": {},
     "source": [
      "Memory in Networks"
     ]
    },
    {
     "cell_type": "heading",
     "level": 2,
     "metadata": {},
     "source": [
      "Papers"
     ]
    },
    {
     "cell_type": "heading",
     "level": 3,
     "metadata": {},
     "source": [
      "Emergent complex neural dynamics"
     ]
    },
    {
     "cell_type": "markdown",
     "metadata": {},
     "source": [
      "Dante R. Chialvo, nature physics, http://arxiv.org/abs/1010.2530\n",
      "\n",
      "\n",
      "Chialvo contends that our neural dynamics exhibit properties that can be understood in terms of criticality in the statistical physics sense. He first states that neuroscientists have lost site of the global issues of flexibility and emergent order in their modelling.  Current models are all either 1) low dimensional 2) specialized or 3) if they are not specialized they require external influence to shift behaviors. Chialvo's case for the brain exhibiting criticality follows:\n",
      "\n",
      "* As the brain contains the *necessary* (but not sufficient) conditions to display complex emergent behavior (large number of interating nonlinear elements) it must be capable of displaying critical behavior\n",
      "* Healthy brains do not, on average, have a prefered temporal scale in electrical (EEG/MEG) readings\n",
      "* All models that display emergent complex behavior also display criticality.  The large number of accessible metastable states at a critical point may explain the brains flexibility\n",
      "* Neuronal avalanches have a scale free size distribution matching a critical branching process and alternative explanations to criticality have not emerged.  These were observed during early development which implies the precence of a neuromodulator that may act as a order parameter.\n",
      "* MEG recordings have observed large scale shifts in recordings as a behavioral parameter is varied supporting the idea that the brain is a pattern forming system that shifts between coherent states\n",
      "* Degree distributions created from fMRI recordings are scale-free and closely resemble those made from an Ising model at it's critical point\n",
      "\n",
      "####Thoughts\n",
      "The idea of the brain being in a critical state is interesting but the main difficulty I have with it is that criticality is defined so loosely that almost anything can fit.  In physics we should have: as an order parameter is varied, the correlation length in space and time diverge and we get dynamics in which there are many accessible metastable states and the system is very sensitive to perturbations such that they will take the system between these metastable states."
     ]
    },
    {
     "cell_type": "heading",
     "level": 3,
     "metadata": {},
     "source": [
      "Emergent Criticality in Complex Turing B-Type Atomic Switch Networks"
     ]
    },
    {
     "cell_type": "markdown",
     "metadata": {},
     "source": [
      "Adam Z. Stieg1,2,*, Audrius V. Avizienis3, Henry O. Sillin3, Cristina Martin-Olmos3, Masakazu Aono2, James K. Gimzewski1,2,3\n",
      "Advanced Materials, http://onlinelibrary.wiley.com/doi/10.1002/adma.201103053/full\n",
      "\n",
      "\n",
      "Networks of atomic switches may provide a working model of Turing's \"B-Type unorganized machine\" originally posed as randomly interconnected network of NAND gates.  These devices may be attractive as their architecture is scalable and may bypass the 'von Neumann Bottleneck' (vNB).  Until now the difficulty of fabrication has limited their realization but solution phase electrochemistry offers an approach to constructing complex metallic networks through DLA. This process spontaneously forms nanogaps and crossbar-like junctions that may act as inorganic synapses.  They were able to form an electronic device of silver MIM junctions and crossbar-like interfaces. To form the network, an initial sustained high bias was applied until a large temporary drop in resistance was observed.  Slow voltage sweeps yielded pinched hysteresis curves and un-sulfurized control devices showed ohmic behavior before an irreversible breakdown. When the input voltage was pulsed, a large range of metastable conduction states was observed which persisted for times of ~0.1ms to several seconds.  The distribution of lifetimes followed a power law indicating possible critical dynamics. This picture pretty much sums it all up:\n",
      "<img src=\"files/Stieg_btypechip.jpeg\">\n",
      "####Thoughts\n",
      "Not much to say here as it's they don't extend themselves too far.  Things to look into:\n",
      "\n",
      "* Reservoir computing - it sounds ridiculous to me but if it works...neat.  The obvious way to do it to me is to take an Ising model at $T_C$ and set some of the spins as inputs.  If nobody has done that, it may be worth checking out.\n",
      "* What is the topology of the network? To what extent is the power law scaling of the conductance states due to the growth patterns of the network?"
     ]
    },
    {
     "cell_type": "heading",
     "level": 3,
     "metadata": {},
     "source": [
      "Memcomputing: a computing paradigm to store and process information on the same physical platform"
     ]
    },
    {
     "cell_type": "markdown",
     "metadata": {},
     "source": [
      "M. Di Ventra, Y. V. Pershin, Nature Physics (http://arxiv.org/abs/1211.4487)\n",
      "\n",
      "\n",
      "Computing using elements with memory offers a potential computing paradigm that is\n",
      "\n",
      "* Massively Parallel\n",
      "* Bypasses the vNB by including memory on the devices used for computing\n",
      "* Uses devices that are already available\n",
      "\n",
      "Necessary/desireable criteria for the implementation of memocomputing:\n",
      "\n",
      "* Scalable massively-parallel architecture with compined information processing and storage\n",
      "* Sufficiently long information storage times\n",
      "* The ability to initialize memory states\n",
      "* Mechanism(s) of collective dynamics, strong \"memory content\"\n",
      "* The ability to read the final result (from relevant memelements)\n",
      "* Robustness against small imperfections and noise\n",
      "\n",
      "Current memcomputing schemes follow several lines\n",
      "\n",
      "* neuromorphic computing with memristive synapses\n",
      "* massively-parallel computing with memristive networks\n",
      "* logic with memory circuit elements\n",
      "* memristive cellular automata\n",
      "\n",
      "The shortest path problem is discusses in which a network of resistors is initialized to OFF, a voltage is applied between two points, and the shortest path is read off by which resistors are ON. A network entropy is defined as\n",
      "$$\\displaystyle\\sigma(t) = -\\sum\\limits_{i=1}^N\\tilde{I}_{ij}(t)\\ln \\left(\\tilde{I}_i(t)\\right)$$"
     ]
    },
    {
     "cell_type": "markdown",
     "metadata": {},
     "source": [
      "(For some reason is is refusing to display the second index in the log.) The sum is made vertically across the network and the entropy goes to a minimum indicating that a single path has been found. Note that $\\tilde{I} = I/I_{tot}$\n",
      "\n",
      "The memristive model used is\n",
      "$$V_M = R(x)I_M$$\n",
      "and\n",
      "$$\\frac{dx}{dt} = 0  \\quad \\text{for } |I_M| < I_t $$\n",
      "and\n",
      "$$\\frac{dx}{dt} = sgn (|I_M|)\\gamma(|I_M| - I_t)  \\quad \\text{for } |I_M| \\geq I_t $$\n",
      "for $R(x) = x$ and $\\gamma$ is a constant describing the rate of change of resistance."
     ]
    },
    {
     "cell_type": "heading",
     "level": 3,
     "metadata": {},
     "source": [
      "Electric Currents in Networks of Interconnected Memristors"
     ]
    },
    {
     "cell_type": "markdown",
     "metadata": {},
     "source": [
      "EN Oskoee and M Sahimi, Physical Review E http://pre.aps.org/abstract/PRE/v83/i3/e031105\n"
     ]
    },
    {
     "cell_type": "heading",
     "level": 2,
     "metadata": {},
     "source": [
      "Glossary"
     ]
    },
    {
     "cell_type": "markdown",
     "metadata": {},
     "source": [
      "\n",
      "####1/f noise (Pink noise/flick noise/fractional noise)\n",
      "A signal or process whose power spectrum decays as $\\frac{1}{f}$.  Because of this, each octave carries equal power.  The name comes from the pink color of light with this property.  It is sometimes used to refer to power spectra that decay as $\\frac{1}{f^\\alpha}$ with $0<\\alpha<2$ but this is imprecise and this noise should be referred to as 'pink-like'"
     ]
    },
    {
     "cell_type": "markdown",
     "metadata": {},
     "source": [
      "####Atomic Switch\n",
      "Nanoionic device that controls the formation/annihilation of a metal atomic bridge between two electrodes. The formation of the filament is concurrent with a bias-catalyzed phase transition within a solid state electrolyte MIM interface. (for example silver/silver-sulfide interfaces undergo a temperature dependent and bias-catalyzed transition from $\\alpha-AG_2S$ phase to a body-centered cubic metallic $\\beta-Ag_2S$ (argentite) phase which has a high diffusion coefficient for silver, nearly equal to gaseous silver.) These devices may be useful in reservoir computing schemes."
     ]
    },
    {
     "cell_type": "markdown",
     "metadata": {},
     "source": [
      "####Connectionism\n",
      "The idea that complex behaviors are emergent; that is, due to the functioning of many simple units connected in a complex network such that the behavior cannot be found or associated with any single unit. (See Jensen http://www.citeulike.org/group/1104/article/691336)"
     ]
    },
    {
     "cell_type": "markdown",
     "metadata": {},
     "source": [
      "####Critical Branching Process\n",
      "A branching process is a stochastic process in which, at each step, an individual may create a number of offspring according to a distribution. Will fill in when I read Zapperi..."
     ]
    },
    {
     "cell_type": "markdown",
     "metadata": {},
     "source": [
      "####Criticality\n",
      "Criticality is a set of universal behaviors of systems near the critical point of a second-order phase transition.  At this point, the correlation length of the system diverges and we find a scale free distribution of 'structures' in the system and an extreme sensitivity to perturbation.  A physical example is an Ising model at the critical temperature.  Under $T_c$ the system is magnetized entirely along one axis.  As it nears $T_c$, small islands with a size of order the correlation length appear magnetized in the opposite direction.  The size of these islands grows and new islands appear within them until at the critical temperature the correlation length diverges and we have a scale free distribution of island size such that no length scale is favored by the system.  At this point, if we were cooling the system, a small perturbation of a dipole can grow and select the state of the subcritical system or substantially alter the critical state. Past $T_c$ the system becomes fully disorderd, the magnetization drops to 0, and the system is no longer sensitive to small perturbations.  The critical point essentially divides a region of homogeneous order from one of homogeneous disorder."
     ]
    },
    {
     "cell_type": "markdown",
     "metadata": {},
     "source": [
      "####Neuromodulation\n",
      "A process in which a small group of neurons releases several different neurotransmitters and other molecules which diffuse across a wide region and regulate the behavior of a large group of neurons.  Chialvo speculates that this could be a control parameter which keeps a group of neurons at a critical point in analogy to how temperature controls the behaviour of an Ising model."
     ]
    },
    {
     "cell_type": "markdown",
     "metadata": {},
     "source": [
      "####Percolation theory\n",
      "Describes paths through random graphs.  The original question asked, if liquid is poured on a porous material, will it be able to find a path through to the bottom.  It was modeled as an array of $n\\times n\\times n$ vertices called sites separated by edges, or bonds, that are open with probability $p$ or closed with probability $1-p$. The question then asked is, 'What is the probability that an open path exists from the top to the bottom?' This is referred to as 'bond' percolation.  In 'site' percolation, each site may be either occupied with probability $p$, or empty and the same question is asked.\n",
      "\n",
      "A noteworthy result is that for an infinite lattice there is a critical probablity $p_C$ above which the answer is always $1$ and below which it is always zero.  For finite lattices of any appreciable size, the transition from 0 to 1 occurs very rapidly such that there is a small critical range."
     ]
    },
    {
     "cell_type": "markdown",
     "metadata": {},
     "source": [
      "####Rent's Rule\n",
      "(From Wikipedia) In the 1960s, E.F. Rent, an IBM employee, found a remarkable trend between the number of pins (terminals $T$) at the boundaries of integrated circuit designs at IBM and the number of internal components ($g$), such as logic gates or standard cells. On a $\\log-\\log$ plot, these datapoints were on a straight line, implying a power-law relation $T = t g^p$ where $t$ and $p$ are constants $(p < 1.0,$ and generally $0.5 < p < 0.8)$."
     ]
    },
    {
     "cell_type": "markdown",
     "metadata": {},
     "source": [
      "####Reservoir Computing\n"
     ]
    },
    {
     "cell_type": "markdown",
     "metadata": {},
     "source": [
      "####von Neumann Bottleneck\n",
      "Apparently the fact that information must be fetched from memory while the processor stands idle puts fundamental restrictions on the speed of processors.  See http://dl.acm.org/citation.cfm?id=359579"
     ]
    },
    {
     "cell_type": "heading",
     "level": 2,
     "metadata": {},
     "source": [
      "Code"
     ]
    },
    {
     "cell_type": "code",
     "collapsed": false,
     "input": [
      "%pylab inline\n",
      "import numpy as np\n",
      "import matplotlib.pyplot as plt\n",
      "import scipy as scp"
     ],
     "language": "python",
     "metadata": {},
     "outputs": [
      {
       "output_type": "stream",
       "stream": "stdout",
       "text": [
        "\n",
        "Welcome to pylab, a matplotlib-based Python environment [backend: module://IPython.zmq.pylab.backend_inline].\n",
        "For more information, type 'help(pylab)'.\n"
       ]
      }
     ],
     "prompt_number": 3
    },
    {
     "cell_type": "markdown",
     "metadata": {},
     "source": [
      "The first task I'd like to set out to on is to reproduce Yuriy's work on the shortest path problem and extend it a bit, playing with different network topologies and adjusting the amount of memory in the system.\n",
      "\n",
      "The formalism I've worked out is as follows:\n",
      "\n",
      "Given a node $i$ in the network connected to $N$ other nodes, Kirchoff's laws demand\n",
      "$$\\sum\\limits_{j=1}^N I_{ij} = 0$$\n",
      "Written in terms of voltages this is\n",
      "$$\\sum\\limits_{j=1}^N \\frac{V_i - V_j}{R_{ij}} = 0$$\n",
      "So for each connection to another node, the equation gets one summand of $\\frac{V_i}{R_{ij}}$ and one of $-\\frac{V_i}{R_{ij}}$.\n",
      "\n",
      "\n",
      "The voltage of each node forms a vector $\\vec{v}$. The network topology is contained in an adjacency matrix $A$ for an undirected graph.  This can be created under a variety of schemes to explore different network structures.  This is then populated with resistance values to become a resistance matrix $R$ that will be updated at each step according to a particular nonlinear resistance function.\n",
      "\n",
      "We form a matrix of conductances $G$ by element wise inverting $R$ (setting $\\frac{1}{0}\\to 0$). We can form a matrix that has the sums of the rows of $G\\vec{1}$ along the diagonal from which we then subtract $G$, $C = diag(G\\vec{1}) - G$, so that our equations take the form $C\\vec{v} = \\vec{0}$.  An external potential can be throught of as another connection through a tiny resistance $\\epsilon$.  This adds an extra term to the equation, $\\frac{V_i - V_{ext}}{\\epsilon}$. We can then modify the equations to be $C\\vec{v} = (\\vec{v}_{ext} - \\vec{v})\\epsilon^{-1}$ regarding $\\epsilon^{-1}$ as the element-wise inverse of a constant vector."
     ]
    },
    {
     "cell_type": "code",
     "collapsed": false,
     "input": [
      "#An adjacency matrix for a simple 4 node network\n",
      "Adj = np.array([[0, 1, 1, 1],\n",
      "             [1, 0, 0, 1],\n",
      "             [1, 0, 0, 1],\n",
      "             [1, 1, 1, 0]])\n",
      "\n",
      "#and a vector to hold the voltages (notice matrices begin with caps)\n",
      "voltage = np.zeros(Adj.shape[0])\n",
      "\n",
      "#initialize it with some value of resistance\n",
      "R_init = 200\n",
      "R = Adj*R_init"
     ],
     "language": "python",
     "metadata": {},
     "outputs": [],
     "prompt_number": 5
    },
    {
     "cell_type": "code",
     "collapsed": false,
     "input": [
      "def update_resistances(R, v, resistance_func):\n",
      "    \"\"\"\n",
      "    update_resistance(R, v, resistance_func) - returns a new matrix of resistance values based on some rule specified\n",
      "    function resistance_func.  This will be some function that may depend on the previous resistance and the current\n",
      "    flowing through the resistor although I havent considered all the things it may depend on yet.\n",
      "    \"\"\""
     ],
     "language": "python",
     "metadata": {},
     "outputs": [
      {
       "output_type": "pyout",
       "prompt_number": 12,
       "text": [
        "array([[  0, 200, 200, 200],\n",
        "       [200,   0,   0, 200],\n",
        "       [200,   0,   0, 200],\n",
        "       [200, 200, 200,   0]])"
       ]
      }
     ],
     "prompt_number": 12
    },
    {
     "cell_type": "code",
     "collapsed": false,
     "input": [],
     "language": "python",
     "metadata": {},
     "outputs": []
    }
   ],
   "metadata": {}
  }
 ]
}