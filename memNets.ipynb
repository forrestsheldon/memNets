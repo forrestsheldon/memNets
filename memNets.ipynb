{
 "metadata": {
  "name": "memNets"
 },
 "nbformat": 3,
 "nbformat_minor": 0,
 "worksheets": [
  {
   "cells": [
    {
     "cell_type": "markdown",
     "metadata": {},
     "source": [
      "#Memory in Networks"
     ]
    },
    {
     "cell_type": "markdown",
     "metadata": {},
     "source": [
      "##Papers"
     ]
    },
    {
     "cell_type": "markdown",
     "metadata": {},
     "source": [
      "###Emergent complex neural dynamics\n",
      "Dante R. Chialvo, nature physics, http://arxiv.org/abs/1010.2530\n",
      "\n",
      "####Summary"
     ]
    },
    {
     "cell_type": "markdown",
     "metadata": {},
     "source": [
      "###Emergent Criticality in Complex Turing B-Type Atomic Switch Networks\n",
      "Adam Z. Stieg1,2,*, Audrius V. Avizienis3, Henry O. Sillin3, Cristina Martin-Olmos3, Masakazu Aono2, James K. Gimzewski1,2,3\n",
      "Advanced Materials, http://onlinelibrary.wiley.com/doi/10.1002/adma.201103053/full\n",
      "\n",
      "####Summary"
     ]
    },
    {
     "cell_type": "markdown",
     "metadata": {},
     "source": [
      "##Glossary"
     ]
    },
    {
     "cell_type": "code",
     "collapsed": false,
     "input": [],
     "language": "python",
     "metadata": {},
     "outputs": []
    }
   ],
   "metadata": {}
  }
 ]
}