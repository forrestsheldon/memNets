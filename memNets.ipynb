{
 "metadata": {
  "name": ""
 },
 "nbformat": 3,
 "nbformat_minor": 0,
 "worksheets": [
  {
   "cells": [
    {
     "cell_type": "heading",
     "level": 1,
     "metadata": {},
     "source": [
      "Memory in Networks"
     ]
    },
    {
     "cell_type": "heading",
     "level": 2,
     "metadata": {},
     "source": [
      "Papers"
     ]
    },
    {
     "cell_type": "heading",
     "level": 3,
     "metadata": {},
     "source": [
      "Emergent complex neural dynamics"
     ]
    },
    {
     "cell_type": "markdown",
     "metadata": {},
     "source": [
      "Dante R. Chialvo, nature physics, http://arxiv.org/abs/1010.2530\n",
      "\n",
      "\n",
      "Chialvo contends that our neural dynamics exhibit properties that can be understood in terms of criticality in the statistical physics sense. He first states that neuroscientists have lost site of the global issues of flexibility and emergent order in their modelling.  Current models are all either 1) low dimensional 2) specialized or 3) if they are not specialized they require external influence to shift behaviors. Chialvo's case for the brain exhibiting criticality follows:\n",
      "\n",
      "* As the brain contains the *necessary* (but not sufficient) conditions to display complex emergent behavior (large number of interating nonlinear elements) it must be capable of displaying critical behavior\n",
      "* Healthy brains do not, on average, have a preferred temporal scale in electrical (EEG/MEG) readings\n",
      "* All models that display emergent complex behavior also display criticality.  The large number of accessible metastable states at a critical point may explain the brains flexibility\n",
      "* Neuronal avalanches have a scale free size distribution matching a critical branching process and alternative explanations to criticality have not emerged.  These were observed during early development which implies the precence of a neuromodulator that may act as a order parameter.\n",
      "* MEG recordings have observed large scale shifts in recordings as a behavioral parameter is varied supporting the idea that the brain is a pattern forming system that shifts between coherent states\n",
      "* Degree distributions created from fMRI recordings are scale-free and closely resemble those made from an Ising model at it's critical point\n",
      "\n",
      "####Thoughts\n",
      "The idea of the brain being in a critical state is interesting but the main difficulty I have with it is that criticality is defined so loosely that almost anything can fit.  In physics we should have: as an order parameter is varied, the correlation length in space and time diverge and we get dynamics in which there are many accessible metastable states and the system is very sensitive to perturbations such that they will take the system between these metastable states."
     ]
    },
    {
     "cell_type": "heading",
     "level": 3,
     "metadata": {},
     "source": [
      "Emergent Criticality in Complex Turing B-Type Atomic Switch Networks"
     ]
    },
    {
     "cell_type": "markdown",
     "metadata": {},
     "source": [
      "Adam Z. Stieg1,2,*, Audrius V. Avizienis3, Henry O. Sillin3, Cristina Martin-Olmos3, Masakazu Aono2, James K. Gimzewski1,2,3\n",
      "Advanced Materials, http://onlinelibrary.wiley.com/doi/10.1002/adma.201103053/full\n",
      "\n",
      "\n",
      "Networks of atomic switches may provide a working model of Turing's \"B-Type unorganized machine\" originally posed as randomly interconnected network of NAND gates.  These devices may be attractive as their architecture is scalable and may bypass the 'von Neumann Bottleneck' (vNB).  Until now the difficulty of fabrication has limited their realization but solution phase electrochemistry offers an approach to constructing complex metallic networks through DLA. This process spontaneously forms nanogaps and crossbar-like junctions that may act as inorganic synapses.  They were able to form an electronic device of silver MIM junctions and crossbar-like interfaces. To form the network, an initial sustained high bias was applied until a large temporary drop in resistance was observed.  Slow voltage sweeps yielded pinched hysteresis curves and un-sulfurized control devices showed ohmic behavior before an irreversible breakdown. When the input voltage was pulsed, a large range of metastable conduction states was observed which persisted for times of ~0.1ms to several seconds.  The distribution of lifetimes followed a power law indicating possible critical dynamics. This picture pretty much sums it all up:\n",
      "<img src=\"files/Stieg_btypechip.jpeg\">\n",
      "####Thoughts\n",
      "Not much to say here as it's they don't extend themselves too far.  Things to look into:\n",
      "\n",
      "* Reservoir computing - it sounds ridiculous to me but if it works...neat.  The obvious way to do it to me is to take an Ising model at $T_C$ and set some of the spins as inputs.  If nobody has done that, it may be worth checking out.\n",
      "* What is the topology of the network? To what extent is the power law scaling of the conductance states due to the growth patterns of the network?"
     ]
    },
    {
     "cell_type": "heading",
     "level": 3,
     "metadata": {},
     "source": [
      "Memcomputing: a computing paradigm to store and process information on the same physical platform"
     ]
    },
    {
     "cell_type": "markdown",
     "metadata": {},
     "source": [
      "M. Di Ventra, Y. V. Pershin, Nature Physics (http://arxiv.org/abs/1211.4487)\n",
      "\n",
      "\n",
      "Computing using elements with memory offers a potential computing paradigm that is\n",
      "\n",
      "* Massively Parallel\n",
      "* Bypasses the vNB by including memory on the devices used for computing\n",
      "* Uses devices that are already available\n",
      "\n",
      "Necessary/desireable criteria for the implementation of memocomputing:\n",
      "\n",
      "* Scalable massively-parallel architecture with compined information processing and storage\n",
      "* Sufficiently long information storage times\n",
      "* The ability to initialize memory states\n",
      "* Mechanism(s) of collective dynamics, strong \"memory content\"\n",
      "* The ability to read the final result (from relevant memelements)\n",
      "* Robustness against small imperfections and noise\n",
      "\n",
      "Current memcomputing schemes follow several lines\n",
      "\n",
      "* neuromorphic computing with memristive synapses\n",
      "* massively-parallel computing with memristive networks\n",
      "* logic with memory circuit elements\n",
      "* memristive cellular automata\n",
      "\n",
      "The shortest path problem is discusses in which a network of resistors is initialized to OFF, a voltage is applied between two points, and the shortest path is read off by which resistors are ON. A network entropy is defined as\n",
      "$$\\displaystyle\\sigma(t) = -\\sum\\limits_{i=1}^N\\tilde{I}_{ij}(t)\\ln \\left(\\tilde{I}_i(t)\\right)$$"
     ]
    },
    {
     "cell_type": "markdown",
     "metadata": {},
     "source": [
      "(For some reason is is refusing to display the second index in the log.) The sum is made vertically across the network and the entropy goes to a minimum indicating that a single path has been found. Note that $\\tilde{I} = I/I_{tot}$\n",
      "\n",
      "The memristive model used is\n",
      "$$V_M = R(x)I_M$$\n",
      "and\n",
      "$$\\frac{dx}{dt} = 0  \\quad \\text{for } |I_M| < I_t $$\n",
      "and\n",
      "$$\\frac{dx}{dt} = sgn (I_M)\\gamma(|I_M| - I_t)  \\quad \\text{for } |I_M| \\geq I_t $$\n",
      "for $R(x) = x$ and $\\gamma$ is a constant describing the rate of change of resistance."
     ]
    },
    {
     "cell_type": "heading",
     "level": 3,
     "metadata": {},
     "source": [
      "Electric Currents in Networks of Interconnected Memristors"
     ]
    },
    {
     "cell_type": "markdown",
     "metadata": {},
     "source": [
      "EN Oskoee and M Sahimi, Physical Review E http://pre.aps.org/abstract/PRE/v83/i3/e031105\n"
     ]
    },
    {
     "cell_type": "heading",
     "level": 2,
     "metadata": {},
     "source": [
      "Possible Directions"
     ]
    },
    {
     "cell_type": "markdown",
     "metadata": {},
     "source": [
      "* Isomorphism between probabilistic problems and electric problems: simulating interesting probabilistic problems with memory?\n",
      "* Dirichlet operators: memristive quantum mechanics (harmonic oscillator problem with mcgreevy) operators that are nonlocal in time $\\int d\\tau dt s(\\tau) K(\\tau, t) s(t)$ Continuum limits?\n",
      "* Does a network begun at a random point still solve shortest path? Jiggling voltages? uniqueness of solution/dependence on inital conditions\n",
      "* multifractal patterns\n",
      "* random networks of resistors? Small-world networks?\n",
      "* random resistance values"
     ]
    },
    {
     "cell_type": "heading",
     "level": 2,
     "metadata": {},
     "source": [
      "Glossary"
     ]
    },
    {
     "cell_type": "markdown",
     "metadata": {},
     "source": [
      "\n",
      "####1/f noise (Pink noise/flick noise/fractional noise)\n",
      "A signal or process whose power spectrum decays as $\\frac{1}{f}$.  Because of this, each octave carries equal power.  The name comes from the pink color of light with this property.  It is sometimes used to refer to power spectra that decay as $\\frac{1}{f^\\alpha}$ with $0<\\alpha<2$ but this is imprecise and this noise should be referred to as 'pink-like'"
     ]
    },
    {
     "cell_type": "markdown",
     "metadata": {},
     "source": [
      "####Atomic Switch\n",
      "Nanoionic device that controls the formation/annihilation of a metal atomic bridge between two electrodes. The formation of the filament is concurrent with a bias-catalyzed phase transition within a solid state electrolyte MIM interface. (for example silver/silver-sulfide interfaces undergo a temperature dependent and bias-catalyzed transition from $\\alpha-AG_2S$ phase to a body-centered cubic metallic $\\beta-Ag_2S$ (argentite) phase which has a high diffusion coefficient for silver, nearly equal to gaseous silver.) These devices may be useful in reservoir computing schemes."
     ]
    },
    {
     "cell_type": "markdown",
     "metadata": {},
     "source": [
      "####Connectionism\n",
      "The idea that complex behaviors are emergent; that is, due to the functioning of many simple units connected in a complex network such that the behavior cannot be found or associated with any single unit. (See Jensen http://www.citeulike.org/group/1104/article/691336)"
     ]
    },
    {
     "cell_type": "markdown",
     "metadata": {},
     "source": [
      "####Critical Branching Process\n",
      "A branching process is a stochastic process in which, at each step, an individual may create a number of offspring according to a distribution. Will fill in when I read Zapperi..."
     ]
    },
    {
     "cell_type": "markdown",
     "metadata": {},
     "source": [
      "####Criticality\n",
      "Criticality is a set of universal behaviors of systems near the critical point of a second-order phase transition.  At this point, the correlation length of the system diverges and we find a scale free distribution of 'structures' in the system and an extreme sensitivity to perturbation.  A physical example is an Ising model at the critical temperature.  Under $T_c$ the system is magnetized entirely along one axis.  As it nears $T_c$, small islands with a size of order the correlation length appear magnetized in the opposite direction.  The size of these islands grows and new islands appear within them until at the critical temperature the correlation length diverges and we have a scale free distribution of island size such that no length scale is favored by the system.  At this point, if we were cooling the system, a small perturbation of a dipole can grow and select the state of the subcritical system or substantially alter the critical state. Past $T_c$ the system becomes fully disorderd, the magnetization drops to 0, and the system is no longer sensitive to small perturbations.  The critical point essentially divides a region of homogeneous order from one of homogeneous disorder."
     ]
    },
    {
     "cell_type": "markdown",
     "metadata": {},
     "source": [
      "####Dirichlet Operator"
     ]
    },
    {
     "cell_type": "markdown",
     "metadata": {},
     "source": [
      "####Graph Laplacian"
     ]
    },
    {
     "cell_type": "markdown",
     "metadata": {},
     "source": [
      "####Neuromodulation\n",
      "A process in which a small group of neurons releases several different neurotransmitters and other molecules which diffuse across a wide region and regulate the behavior of a large group of neurons.  Chialvo speculates that this could be a control parameter which keeps a group of neurons at a critical point in analogy to how temperature controls the behaviour of an Ising model."
     ]
    },
    {
     "cell_type": "markdown",
     "metadata": {},
     "source": [
      "####Percolation theory\n",
      "Describes paths through random graphs.  The original question asked, if liquid is poured on a porous material, will it be able to find a path through to the bottom.  It was modeled as an array of $n\\times n\\times n$ vertices called sites separated by edges, or bonds, that are open with probability $p$ or closed with probability $1-p$. The question then asked is, 'What is the probability that an open path exists from the top to the bottom?' This is referred to as 'bond' percolation.  In 'site' percolation, each site may be either occupied with probability $p$, or empty and the same question is asked.\n",
      "\n",
      "A noteworthy result is that for an infinite lattice there is a critical probablity $p_C$ above which the answer is always $1$ and below which it is always zero.  For finite lattices of any appreciable size, the transition from 0 to 1 occurs very rapidly such that there is a small critical range."
     ]
    },
    {
     "cell_type": "markdown",
     "metadata": {},
     "source": [
      "####Rent's Rule\n",
      "(From Wikipedia) In the 1960s, E.F. Rent, an IBM employee, found a remarkable trend between the number of pins (terminals $T$) at the boundaries of integrated circuit designs at IBM and the number of internal components ($g$), such as logic gates or standard cells. On a $\\log-\\log$ plot, these datapoints were on a straight line, implying a power-law relation $T = t g^p$ where $t$ and $p$ are constants $(p < 1.0,$ and generally $0.5 < p < 0.8)$."
     ]
    },
    {
     "cell_type": "markdown",
     "metadata": {},
     "source": [
      "####Reservoir Computing\n"
     ]
    },
    {
     "cell_type": "markdown",
     "metadata": {},
     "source": [
      "####von Neumann Bottleneck\n",
      "Apparently the fact that information must be fetched from memory while the processor stands idle puts fundamental restrictions on the speed of processors.  See http://dl.acm.org/citation.cfm?id=359579"
     ]
    },
    {
     "cell_type": "heading",
     "level": 2,
     "metadata": {},
     "source": [
      "Code"
     ]
    },
    {
     "cell_type": "code",
     "collapsed": false,
     "input": [
      "%pylab inline\n",
      "import numpy as np\n",
      "import matplotlib.pyplot as plt\n",
      "import scipy as scp\n",
      "from scipy import signal"
     ],
     "language": "python",
     "metadata": {},
     "outputs": [
      {
       "output_type": "stream",
       "stream": "stdout",
       "text": [
        "Populating the interactive namespace from numpy and matplotlib\n"
       ]
      }
     ],
     "prompt_number": 15
    },
    {
     "cell_type": "markdown",
     "metadata": {},
     "source": [
      "The first task I'd like to set out to on is to reproduce Yuriy's work on the shortest path problem and extend it a bit, playing with different network topologies and adjusting the amount of memory in the system.\n",
      "\n",
      "####Resistor Networks\n",
      "The formalism I've worked out is as follows:\n",
      "\n",
      "Given a node $i$ in the network connected to $N$ other nodes, Kirchoff's laws demand\n",
      "$$\\sum\\limits_{j=1}^N I_{ij} = 0$$\n",
      "Written in terms of voltages this is\n",
      "$$\\sum\\limits_{j=1}^N \\frac{V_i - V_j}{R_{ij}} = 0$$\n",
      "So for each connection to another node, the equation gets one summand of $\\frac{V_i}{R_{ij}}$ and one of $-\\frac{V_j}{R_{ij}}$.\n",
      "\n",
      "\n",
      "The voltage of each node forms a vector $\\vec{v}$. The network topology is contained in an adjacency matrix $A$ for an undirected graph.  This can be created under a variety of schemes to explore different network structures.  This is then populated with resistance values to become a resistance matrix $R$ that will be updated at each step according to a particular nonlinear resistance function.\n",
      "\n",
      "We form a matrix of conductances $G$ by element wise inverting $R$ (setting $\\frac{1}{0}\\to 0$). We can form a matrix that has the sums of the rows of $G\\vec{1}$ along the diagonal from which we then subtract $G$, $D = diag(G\\vec{1}) - G$, so that our equations take the form $D\\vec{v} = \\vec{0}$.  An external potential can be throught of as another connection through a tiny resistance $\\epsilon$.  This adds an extra term to the equation, $\\frac{V_i - V_{ext}}{\\epsilon}$. We can then modify the equations to be $D\\vec{v} = (\\vec{v}_{ext} - \\vec{v})\\frac{1}{\\epsilon}$."
     ]
    },
    {
     "cell_type": "markdown",
     "metadata": {},
     "source": [
      "This can be more consistently formulated by creating an external conductance matrix $G_{ext}$ which is diagonal with nonzero element $1/\\epsilon$ for those nodes that are connected to an external voltage.  Given a vector of external voltages\n",
      "the right hand side then becomes $G_{ext}(\\vec{v}_{ext} - v)$ and the system of equations can be rewritten,"
     ]
    },
    {
     "cell_type": "markdown",
     "metadata": {},
     "source": [
      "$$(D + G_{ext})\\vec{v} = G_{ext}\\vec{v}_{ext}$$\n",
      "or even better\n",
      "$$(G_{ext}^{-1}D + I_{ext})\\vec{v} = \\vec{v}_{ext}.$$\n",
      "(Whoa! Remember that this doesn't work because $G_{ext}$ doesn't have an inverse on the full space)\n",
      "So the solution is,\n",
      "$$\\vec{v} = (D + G_{ext})^{-1}G_{ext}\\vec{v}_{ext}$$"
     ]
    },
    {
     "cell_type": "code",
     "collapsed": false,
     "input": [
      "#An adjacency matrix for a simple 4 node network\n",
      "Adj = np.array([[0, 1, 1, 1],\n",
      "             [1, 0, 0, 1],\n",
      "             [1, 0, 0, 1],\n",
      "             [1, 1, 1, 0]])\n",
      "\n",
      "#An external voltage on nodes 0 and 3\n",
      "I_ext = np.array([[1, 0, 0, 0],\n",
      "                  [0, 0, 0, 0],\n",
      "                  [0, 0, 0, 0],\n",
      "                  [0, 0, 0, 1]])\n",
      "\n",
      "#and a vector to hold the voltages (notice matrices begin with caps)\n",
      "volt = np.zeros(Adj.shape[0])\n",
      "\n",
      "volt_ext = np.zeros(I_ext.shape[0])\n",
      "volt_ext[0] = 1\n",
      "volt_ext[3] = 0\n",
      "\n",
      "#initialize the resistance matrices with some value of resistance and convert to conductances\n",
      "R_init = 200\n",
      "R = Adj*R_init\n",
      "G = 1. / R\n",
      "G[np.isinf(G)] = 0\n",
      "epsilon = 10**-2                      # Hopefully small enough but not too small to make things ill conditioned\n",
      "G_ext = (1. / epsilon) * I_ext\n",
      "\n",
      "def connections_matrix(G, G_ext):\n",
      "    D = np.diag(np.dot(G, np.ones(G.shape[1]))) - G\n",
      "    return D + G_ext\n",
      "\n",
      "voltage = np.linalg.solve(connections_matrix(G, G_ext), dot(G_ext, volt_ext))\n",
      "voltage"
     ],
     "language": "python",
     "metadata": {},
     "outputs": [
      {
       "metadata": {},
       "output_type": "pyout",
       "prompt_number": 65,
       "text": [
        "array([  9.99900020e-01,   5.00000000e-01,   5.00000000e-01,\n",
        "         9.99800040e-05])"
       ]
      }
     ],
     "prompt_number": 65
    },
    {
     "cell_type": "markdown",
     "metadata": {},
     "source": [
      "####Adding Time Dependence\n",
      "We now let $\\vec{v}$ and $\\vec{v}_{ext}$ depend on time.  Our initialization then must consist of \n",
      "\n",
      "1. Adjacency matrix\n",
      "2. $I_{ext}$\n",
      "3. $\\vec{v}_{ext}(t)$"
     ]
    },
    {
     "cell_type": "code",
     "collapsed": false,
     "input": [
      "# v_ext is a square wave with period .1 sec and an amplitude set by v_ext\n",
      "def v_ext_t(t):\n",
      "    return volt_ext*scp.signal.square(10*2*np.pi*t, duty = 0.5)\n",
      "\n",
      "del_t = 10**-3\n",
      "T = 1\n",
      "N = T/del_t\n",
      "voltage_t = np.zeros((Adj.shape[0], N))\n",
      "\n",
      "n = 0\n",
      "while n*del_t < T:\n",
      "    voltage_t[:,n] = np.linalg.solve(connections_matrix(R, G_ext), dot(G_ext, v_ext_t(n*del_t)))\n",
      "    n = n + 1"
     ],
     "language": "python",
     "metadata": {},
     "outputs": [],
     "prompt_number": 31
    },
    {
     "cell_type": "markdown",
     "metadata": {},
     "source": [
      "####On to Memristors\n",
      "\n",
      "Memristors have the added complication that they are directional, such that our network is no longer an undirected graph and the adjacency matrix will no longer be symmetric. We define $Adj_{ij} = 1$ as signifying a memristor from node $i$ to node $j$. The current through is thus $I_{ij} = \\frac{V_j - V_i}{R_{ij}} = G_{ij} ( V_j - V_i)$. \n",
      "\n",
      "\n",
      "At each time step, we must update the resistances based on the currents through the connection.  The first memristor model will follow Yuriy's from the shortest path paper.\n",
      "\n",
      "The memristive model used is\n",
      "$$V_M = R(x)I_M$$\n",
      "and\n",
      "$$\\frac{dx}{dt} = 0  \\quad \\text{for } |I_M| < I_t $$\n",
      "and\n",
      "$$\\frac{dx}{dt} = sgn (I_M)\\gamma(|I_M| - I_t)  \\quad \\text{for } |I_M| \\geq I_t $$\n",
      "for $R(x) = x$ and $\\gamma$ is a constant describing the rate of change of resistance.  The resistance is allowed to vary between \n",
      "\n",
      "In the paper this was run for\n",
      "\n",
      "* $R_0 = R_{off} = 200 \\Omega$\n",
      "* $R_{on} = 10 \\Omega$\n",
      "* $\\gamma = 10^6\\Omega/(s A)$\n",
      "* $I_t = 10 mA$\n",
      "\n",
      "So if the current through the memristor is very small, the resistance stays the same.  If it exceeds the threshold, the change in the resistance is linearly proportional to the amount that it exceeds the threshold by and increasing if the current is positive and decreasing if it is negative. In this sense, the memristor \"wants\" negative currents through it.\n",
      "\n",
      "In this case, assembling our connections matrix is trivially more complicated.  Instead, we populate the adjacency matrix with resistances and form our conductance matrix as $1/R + (1/R)^T$ and proceed the same way.  It is a little tedious to constantly deal with resistances and have to do 'inf' checking so from now on I will just formulate things in terms of conductances.  We can easily modify our memristive rule as\n",
      "$$\\frac{dG}{dt} = \\frac{d}{dt}\\frac{1}{R} = -G^2\\frac{dR}{dt}$$\n",
      "and our new limiting values are $G_{on} = 1/R_{on}$ etc.\n"
     ]
    },
    {
     "cell_type": "code",
     "collapsed": false,
     "input": [
      "nodes = 4\n",
      "# Define a new adjacency matrix for a directed network\n",
      "Adj = np.array([[0, 1, 0, 1],\n",
      "                [0, 0, 1, 0],\n",
      "                [1, 0, 0, 0],\n",
      "                [1, 0, 1, 0]])\n",
      "\n",
      "# externally control nodes 0 and 2\n",
      "I_ext = np.diag([1, 0, 1, 0])\n",
      "\n",
      "v_ext = np.array([1, 0, 0, 0])\n",
      "\n",
      "G_on = 1. / 10\n",
      "G_off = 1. / 200\n",
      "I_thresh = 0.01\n",
      "mem_rate = 10**6\n",
      "\n",
      "\n",
      "G = G_off * Adj\n",
      "G_ext = (1. / epsilon) * I_ext\n",
      "\n",
      "# constant for now\n",
      "def v_ext_t(t):\n",
      "    return v_ext\n",
      "\n",
      "#update resistances\n",
      "def update_conductance(Adj, G, voltage):\n",
      "    \"\"\"\n",
      "    update_conductances(Adj, G, voltage) - Apply the memristive model from the di Ventra Pershin\n",
      "    shortest path paper to all of the conductances. Returns a matrix of updated conductances\n",
      "    Adj - an adjacency matrix for the network\n",
      "    G - the current conductances\n",
      "    voltage - the voltages at the current time step\n",
      "    \"\"\"\n",
      "    G_new = np.zeros(G.shape)\n",
      "    # Loop over every connection given in the adjacency matrix\n",
      "    for i,j in np.transpose(np.nonzero(Adj)):\n",
      "        I = G[i,j] * (voltage[j] - voltage[i])\n",
      "        # If under threshold, the conductance is unchanged\n",
      "        if np.abs(I) < I_thresh:\n",
      "            G_new[i,j] = G[i,j]\n",
      "        # Otherwise apply the modification rule\n",
      "        else:\n",
      "            G_temp = G[i,j] - G[i,j]**2 * np.sgn(I)*mem_rate*(np.abs(I) - I_thresh)* det_t\n",
      "            if G_temp > G_on:\n",
      "                G_new[i,j] = G_on\n",
      "            elif G_temp < G_off:\n",
      "                G_new[i,j] = G_off\n",
      "            else:\n",
      "                G_new[i,j] = G_temp\n",
      "    return G_new"
     ],
     "language": "python",
     "metadata": {},
     "outputs": [],
     "prompt_number": 67
    },
    {
     "cell_type": "markdown",
     "metadata": {},
     "source": [
      "So the final procedure will go:\n",
      "\n",
      "1. Initialize network\n",
      "2. Form the connections matrix\n",
      "3. solve for the voltages\n",
      "4. update the conductances\n",
      "5. if $t<T$ return to 2"
     ]
    },
    {
     "cell_type": "code",
     "collapsed": false,
     "input": [
      "T = 1\n",
      "del_t = 10**-4\n",
      "\n",
      "voltage_t = np.zeros((nodes, T/del_t))\n",
      "\n",
      "n = 0\n",
      "t = 0\n",
      "while t < T:\n",
      "    t = n*del_t\n",
      "    # Form our equivalent undirected network conductance matrix\n",
      "    G_undirected = G + np.transpose(G)\n",
      "    conn = connections_matrix(G_undirected, G_ext)\n",
      "    voltage_t[:, t] = np.linalg.solve(conn, dot(G_ext, v_ext_t(t)))\n",
      "    G = update_conductance(Adj, G, voltage_t[:,t])\n",
      "\n"
     ],
     "language": "python",
     "metadata": {},
     "outputs": [
      {
       "ename": "KeyboardInterrupt",
       "evalue": "",
       "output_type": "pyerr",
       "traceback": [
        "\u001b[1;31m---------------------------------------------------------------------------\u001b[0m\n\u001b[1;31mKeyboardInterrupt\u001b[0m                         Traceback (most recent call last)",
        "\u001b[1;32m<ipython-input-71-bf50771af3f6>\u001b[0m in \u001b[0;36m<module>\u001b[1;34m()\u001b[0m\n\u001b[0;32m     12\u001b[0m     \u001b[0mconn\u001b[0m \u001b[1;33m=\u001b[0m \u001b[0mconnections_matrix\u001b[0m\u001b[1;33m(\u001b[0m\u001b[0mG_undirected\u001b[0m\u001b[1;33m,\u001b[0m \u001b[0mG_ext\u001b[0m\u001b[1;33m)\u001b[0m\u001b[1;33m\u001b[0m\u001b[0m\n\u001b[0;32m     13\u001b[0m     \u001b[0mvoltage_t\u001b[0m\u001b[1;33m[\u001b[0m\u001b[1;33m:\u001b[0m\u001b[1;33m,\u001b[0m \u001b[0mt\u001b[0m\u001b[1;33m]\u001b[0m \u001b[1;33m=\u001b[0m \u001b[0mnp\u001b[0m\u001b[1;33m.\u001b[0m\u001b[0mlinalg\u001b[0m\u001b[1;33m.\u001b[0m\u001b[0msolve\u001b[0m\u001b[1;33m(\u001b[0m\u001b[0mconn\u001b[0m\u001b[1;33m,\u001b[0m \u001b[0mdot\u001b[0m\u001b[1;33m(\u001b[0m\u001b[0mG_ext\u001b[0m\u001b[1;33m,\u001b[0m \u001b[0mv_ext_t\u001b[0m\u001b[1;33m(\u001b[0m\u001b[0mt\u001b[0m\u001b[1;33m)\u001b[0m\u001b[1;33m)\u001b[0m\u001b[1;33m)\u001b[0m\u001b[1;33m\u001b[0m\u001b[0m\n\u001b[1;32m---> 14\u001b[1;33m     \u001b[0mG\u001b[0m \u001b[1;33m=\u001b[0m \u001b[0mupdate_conductance\u001b[0m\u001b[1;33m(\u001b[0m\u001b[0mAdj\u001b[0m\u001b[1;33m,\u001b[0m \u001b[0mG\u001b[0m\u001b[1;33m,\u001b[0m \u001b[0mvoltage_t\u001b[0m\u001b[1;33m[\u001b[0m\u001b[1;33m:\u001b[0m\u001b[1;33m,\u001b[0m\u001b[0mt\u001b[0m\u001b[1;33m]\u001b[0m\u001b[1;33m)\u001b[0m\u001b[1;33m\u001b[0m\u001b[0m\n\u001b[0m",
        "\u001b[1;32m<ipython-input-67-f97805a3c0f5>\u001b[0m in \u001b[0;36mupdate_conductance\u001b[1;34m(Adj, G, voltage)\u001b[0m\n\u001b[0;32m     38\u001b[0m         \u001b[0mI\u001b[0m \u001b[1;33m=\u001b[0m \u001b[0mG\u001b[0m\u001b[1;33m[\u001b[0m\u001b[0mi\u001b[0m\u001b[1;33m,\u001b[0m\u001b[0mj\u001b[0m\u001b[1;33m]\u001b[0m \u001b[1;33m*\u001b[0m \u001b[1;33m(\u001b[0m\u001b[0mvoltage\u001b[0m\u001b[1;33m[\u001b[0m\u001b[0mj\u001b[0m\u001b[1;33m]\u001b[0m \u001b[1;33m-\u001b[0m \u001b[0mvoltage\u001b[0m\u001b[1;33m[\u001b[0m\u001b[0mi\u001b[0m\u001b[1;33m]\u001b[0m\u001b[1;33m)\u001b[0m\u001b[1;33m\u001b[0m\u001b[0m\n\u001b[0;32m     39\u001b[0m         \u001b[1;31m# If under threshold, the conductance is unchanged\u001b[0m\u001b[1;33m\u001b[0m\u001b[1;33m\u001b[0m\u001b[0m\n\u001b[1;32m---> 40\u001b[1;33m         \u001b[1;32mif\u001b[0m \u001b[0mnp\u001b[0m\u001b[1;33m.\u001b[0m\u001b[0mabs\u001b[0m\u001b[1;33m(\u001b[0m\u001b[0mI\u001b[0m\u001b[1;33m)\u001b[0m \u001b[1;33m<\u001b[0m \u001b[0mI_thresh\u001b[0m\u001b[1;33m:\u001b[0m\u001b[1;33m\u001b[0m\u001b[0m\n\u001b[0m\u001b[0;32m     41\u001b[0m             \u001b[0mG_new\u001b[0m\u001b[1;33m[\u001b[0m\u001b[0mi\u001b[0m\u001b[1;33m,\u001b[0m\u001b[0mj\u001b[0m\u001b[1;33m]\u001b[0m \u001b[1;33m=\u001b[0m \u001b[0mG\u001b[0m\u001b[1;33m[\u001b[0m\u001b[0mi\u001b[0m\u001b[1;33m,\u001b[0m\u001b[0mj\u001b[0m\u001b[1;33m]\u001b[0m\u001b[1;33m\u001b[0m\u001b[0m\n\u001b[0;32m     42\u001b[0m         \u001b[1;31m# Otherwise apply the modification rule\u001b[0m\u001b[1;33m\u001b[0m\u001b[1;33m\u001b[0m\u001b[0m\n",
        "\u001b[1;31mKeyboardInterrupt\u001b[0m: "
       ]
      }
     ],
     "prompt_number": 71
    },
    {
     "cell_type": "code",
     "collapsed": false,
     "input": [],
     "language": "python",
     "metadata": {},
     "outputs": [],
     "prompt_number": 1
    },
    {
     "cell_type": "code",
     "collapsed": false,
     "input": [],
     "language": "python",
     "metadata": {},
     "outputs": []
    }
   ],
   "metadata": {}
  }
 ]
}