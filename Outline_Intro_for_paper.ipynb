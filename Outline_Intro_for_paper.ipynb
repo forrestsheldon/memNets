{
 "metadata": {
  "name": "",
  "signature": "sha256:75c30723793c5cc8919ff8d71972b93778ee9bc90e254022ccfb8b751ab72d8a"
 },
 "nbformat": 3,
 "nbformat_minor": 0,
 "worksheets": [
  {
   "cells": [
    {
     "cell_type": "heading",
     "level": 1,
     "metadata": {},
     "source": [
      "Paper Outline"
     ]
    },
    {
     "cell_type": "markdown",
     "metadata": {},
     "source": [
      "In recent years, the limits to continued scaling down of sizes of comp"
     ]
    },
    {
     "cell_type": "heading",
     "level": 3,
     "metadata": {},
     "source": [
      "Atomic Switches and Atomic Switch Network"
     ]
    },
    {
     "cell_type": "markdown",
     "metadata": {},
     "source": [
      "The atomic switch is an electroionic device displaying pinched I-V hysteritic switching with large ON/OFF ratios.  Their fast switching and low power consumption have made them a possible candidate device upon which new computing paradigms may be based.  Additionally, their ability to mimic a variety of behaviors displayed by biological synapses has created interest in applications to neuromorphic computing.  While most attempts at realizing neuromporphic computers in silica has focused on lithography based approaches, using ordered crossbar type architectures to utilize the atomic-switches synapse like properties, attempting to mimic the random structure of neural tissue has been less emphasized.  Wiring complex structures through lithography has posed complications but approaches through self-assembly and growth processes show promise.  Utilizing solution phase electrochemistry, Stieg et al. have succeded in manufacturing small systems of nanowires with complex architectures.  By first seeding the area with copper microspheres which act as a seed sites for wire growth, the networks have connections distributed across a 2D surface and across a wide range of scales.  Exposure to sulphur gas resulted in insulating silver sulfide $Ag_2S$ regions within the wires.  These insulating regions, when subjected to an external bias, act as gapless atomic switches, undergoing pinched hysteresis.  As a whole, the network acts as a large memristive switching  device, undergoing transitions between low and high conductive states.  Many of these properties have been cataloged in the papers describing these devices.  Of note is the behavior of the devices under low intensity voltage pulses.  The networks underwent switching between discrete conductance states and when binned, the durations spent in these states obeyed power law scaling over two orders of magnitude with an exponent of $\\alpha\\approx 2$."
     ]
    },
    {
     "cell_type": "heading",
     "level": 3,
     "metadata": {},
     "source": [
      "Power Laws abound"
     ]
    },
    {
     "cell_type": "markdown",
     "metadata": {},
     "source": [
      "This power law scaling is attributed to criticality. Specifically, the authors believe that electroionic coupling within the network causes the network to tune itself to a critical state, analogous to those found in the sandpile model.  However, both the authors' theoretical investigation of these models, and our own, have failed to find a regime in which such dynamics occur.  Investigations have concluded that transitions in conductivity may be attributed to single switch transitions between ON and OFF states rather than collective switching events (avalanches) and as such we have investigated other explanations for the power law residence time distribution.  We instead find that a power law residence time distribution may be attributed to the structure of the underlying network created by the growth process.  "
     ]
    },
    {
     "cell_type": "heading",
     "level": 3,
     "metadata": {},
     "source": [
      "Scaling properties of the Voltage Distribution in Random Networks"
     ]
    },
    {
     "cell_type": "markdown",
     "metadata": {},
     "source": []
    },
    {
     "cell_type": "heading",
     "level": 3,
     "metadata": {},
     "source": [
      "Heavy Tailed Voltage Distributions give Heavy tailed residence time Distributions"
     ]
    },
    {
     "cell_type": "heading",
     "level": 3,
     "metadata": {},
     "source": []
    },
    {
     "cell_type": "heading",
     "level": 3,
     "metadata": {},
     "source": [
      "Fluctuations due to Network Structure give Power Law residence time distributions - Memristors relax to nonequilibrium power law states"
     ]
    },
    {
     "cell_type": "code",
     "collapsed": false,
     "input": [],
     "language": "python",
     "metadata": {},
     "outputs": []
    }
   ],
   "metadata": {}
  }
 ]
}