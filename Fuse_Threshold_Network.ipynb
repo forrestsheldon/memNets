{
 "metadata": {
  "name": "",
  "signature": "sha256:a673c0d66b704be103d49c3bb34b786eb27323a0257729a78c5c18642f53d1e8"
 },
 "nbformat": 3,
 "nbformat_minor": 0,
 "worksheets": [
  {
   "cells": [
    {
     "cell_type": "heading",
     "level": 1,
     "metadata": {},
     "source": [
      "Fuse Threshold Networks"
     ]
    },
    {
     "cell_type": "code",
     "collapsed": false,
     "input": [
      "%matplotlib inline"
     ],
     "language": "python",
     "metadata": {},
     "outputs": [],
     "prompt_number": 64
    },
    {
     "cell_type": "code",
     "collapsed": false,
     "input": [
      "import numpy as np\n",
      "import scipy as sp\n",
      "import scipy.sparse as sparse\n",
      "from scipy.sparse.linalg import spsolve, cg\n",
      "import generate_adjacency_matrix as gen_adj\n",
      "import resistor_networks_basic as rnets\n",
      "from __future__ import division"
     ],
     "language": "python",
     "metadata": {},
     "outputs": [],
     "prompt_number": 65
    },
    {
     "cell_type": "code",
     "collapsed": false,
     "input": [
      "import matplotlib.pyplot as plt"
     ],
     "language": "python",
     "metadata": {},
     "outputs": [],
     "prompt_number": 66
    },
    {
     "cell_type": "code",
     "collapsed": false,
     "input": [
      "class FuseThresholdNetwork(rnets.ResistorNetwork):\n",
      "    \"\"\"\n",
      "    This class inherits from ResistorNetwork with the aim of adding some dynamical behavior to the\n",
      "    resistors.  In particular, when a resistor has past a certain current threshold, the conductance\n",
      "    is switched from G_OFF to G_ON. To initialize, we require:\n",
      "    \n",
      "        G                     - An NxN sparse CSR matrix containing the conductances in the network of N nodes\n",
      "        external_voltages     - An Nx1 dense vector of external voltages.  Nodes not set to an external voltages\n",
      "                                contain a Nan. The shape (N,) is preferred\n",
      "        I_threshold           - A sparse array of thresholds for each memristor\n",
      "        G_OFF                 - The conductance in the low conductivity OFF state.  Generally set to 1.\n",
      "        G_ON                  - The conductance in the high conductivity ON state.  Set to 100 by default.\n",
      "    \n",
      "    Other available attributes after initialization are:\n",
      "        currents              - An NxN sparse matrix of currents in the network.  As many tasks in the network will\n",
      "                                require that the currents be calculated, it is best that we do this once and share.\n",
      "        rows_G\n",
      "        cols_G\n",
      "    \"\"\"\n",
      "    \n",
      "    def __init__(self, G, external_voltages, I_threshold, G_OFF=1, G_ON=100):\n",
      "        rnets.ResistorNetwork.__init__(self, G, external_voltages)\n",
      "        self.I_threshold = I_threshold\n",
      "        self.G_OFF = G_OFF\n",
      "        self.G_ON = G_ON\n",
      "        self.rows_G, self.cols_G = sparse.triu(self.G).nonzero()\n",
      "        self.currents = None\n",
      "            \n",
      "    def calculate_currents(self):\n",
      "        \"\"\"\n",
      "        calculates a matrix of currents running through each memristor\n",
      "        \"\"\"\n",
      "        self.currents = sparse.lil_matrix(self.G.shape, dtype=float)\n",
      "        self.currents[self.rows_G, self.cols_G] = np.multiply(self.G[self.rows_G, self.cols_G],\n",
      "                                                  np.abs(self.voltages[self.rows_G] - self.voltages[self.cols_G]))\n",
      "    \n",
      "    def next_switching_factor(self):\n",
      "        \"\"\"\n",
      "        Find the factor necessary to adjust the voltage to switch the next memristor\n",
      "        \"\"\"\n",
      "        rows, cols = sparse.triu(self.G == self.G_OFF).nonzero()\n",
      "        return np.min(np.divide(self.I_threshold[rows, cols], self.currents[rows, cols]))\n",
      "        \n",
      "    def switch_memristors(self):\n",
      "        \"\"\"\n",
      "        Check the currents on each memristor.  Those that are in the low conductance state and that have a current\n",
      "        above I_thresh will have their conductance switched to G_ON\n",
      "        \"\"\"\n",
      "        switching_memristors = (self.currents >= self.I_threshold).multiply(self.G_percolating == self.G_OFF).astype('bool')\n",
      "        self.G_percolating[switching_memristors] = self.G_ON\n",
      "        return switching_memristors.nnz / 2\n",
      "    \n",
      "    def fill_G(self):\n",
      "        self.G[self.rows_G, self.cols_G] = self.G_percolating[self.rows_G_perc, self.cols_G_perc]\n",
      "\n",
      "    def switching_step(self):\n",
      "        counter = []\n",
      "        self.solve_voltages_percolating('spsolve')\n",
      "        self.calculate_currents()\n",
      "        num_switched = self.switch_memristors()\n",
      "        while num_switched != 0:\n",
      "            counter.append(num_switched)\n",
      "            self.fill_G()\n",
      "            self.solve_voltages_percolating('spsolve')\n",
      "            self.calculate_currents()\n",
      "            num_switched = self.switch_memristors()\n",
      "        return counter\n",
      "    \n",
      "    def new_voltage(self, prev_voltage):\n",
      "        return prev_voltage * self.I_threshold / self.max_unswitched_current() + 1e-15\n",
      "\n",
      "    def update_voltage_busbar(self, voltage):\n",
      "        \"\"\"\n",
      "        Using bus bar topology, this takes the previous voltage at the zeroth node and updates it so that the next memristor\n",
      "        will flip\n",
      "        \"\"\"\n",
      "        self.external_voltages[0:int(np.sqrt(self.G.shape[0]))] = voltage"
     ],
     "language": "python",
     "metadata": {},
     "outputs": [],
     "prompt_number": 76
    },
    {
     "cell_type": "code",
     "collapsed": false,
     "input": [
      "L = 16\n",
      "G = gen_adj.cubic_2d_diagonal_periodic((L,L))\n",
      "external_voltages = np.empty((L*L,))* np.nan\n",
      "external_voltages[0:L] = 1\n",
      "external_voltages[-L:] = 0\n",
      "\n",
      "test = FuseThresholdNetwork(G, external_voltages, G.copy())"
     ],
     "language": "python",
     "metadata": {},
     "outputs": [],
     "prompt_number": 77
    },
    {
     "cell_type": "code",
     "collapsed": false,
     "input": [
      "test.solve_voltages('spsolve')\n",
      "test.calculate_currents()\n",
      "a = test.next_switching_factor()\n",
      "a"
     ],
     "language": "python",
     "metadata": {},
     "outputs": [
      {
       "ename": "TypeError",
       "evalue": "unsupported operand type(s) for /: 'float' and 'lil_matrix'",
       "output_type": "pyerr",
       "traceback": [
        "\u001b[1;31m---------------------------------------------------------------------------\u001b[0m\n\u001b[1;31mTypeError\u001b[0m                                 Traceback (most recent call last)",
        "\u001b[1;32m<ipython-input-78-4f43c44c8b0b>\u001b[0m in \u001b[0;36m<module>\u001b[1;34m()\u001b[0m\n\u001b[0;32m      1\u001b[0m \u001b[0mtest\u001b[0m\u001b[1;33m.\u001b[0m\u001b[0msolve_voltages\u001b[0m\u001b[1;33m(\u001b[0m\u001b[1;34m'spsolve'\u001b[0m\u001b[1;33m)\u001b[0m\u001b[1;33m\u001b[0m\u001b[0m\n\u001b[0;32m      2\u001b[0m \u001b[0mtest\u001b[0m\u001b[1;33m.\u001b[0m\u001b[0mcalculate_currents\u001b[0m\u001b[1;33m(\u001b[0m\u001b[1;33m)\u001b[0m\u001b[1;33m\u001b[0m\u001b[0m\n\u001b[1;32m----> 3\u001b[1;33m \u001b[0ma\u001b[0m \u001b[1;33m=\u001b[0m \u001b[0mtest\u001b[0m\u001b[1;33m.\u001b[0m\u001b[0mnext_switching_factor\u001b[0m\u001b[1;33m(\u001b[0m\u001b[1;33m)\u001b[0m\u001b[1;33m\u001b[0m\u001b[0m\n\u001b[0m\u001b[0;32m      4\u001b[0m \u001b[0ma\u001b[0m\u001b[1;33m\u001b[0m\u001b[0m\n",
        "\u001b[1;32m<ipython-input-76-09698216a26a>\u001b[0m in \u001b[0;36mnext_switching_factor\u001b[1;34m(self)\u001b[0m\n\u001b[0;32m     41\u001b[0m         \"\"\"\n\u001b[0;32m     42\u001b[0m         \u001b[0mrows\u001b[0m\u001b[1;33m,\u001b[0m \u001b[0mcols\u001b[0m \u001b[1;33m=\u001b[0m \u001b[0msparse\u001b[0m\u001b[1;33m.\u001b[0m\u001b[0mtriu\u001b[0m\u001b[1;33m(\u001b[0m\u001b[0mself\u001b[0m\u001b[1;33m.\u001b[0m\u001b[0mG\u001b[0m \u001b[1;33m==\u001b[0m \u001b[0mself\u001b[0m\u001b[1;33m.\u001b[0m\u001b[0mG_OFF\u001b[0m\u001b[1;33m)\u001b[0m\u001b[1;33m.\u001b[0m\u001b[0mnonzero\u001b[0m\u001b[1;33m(\u001b[0m\u001b[1;33m)\u001b[0m\u001b[1;33m\u001b[0m\u001b[0m\n\u001b[1;32m---> 43\u001b[1;33m         \u001b[1;32mreturn\u001b[0m \u001b[0mnp\u001b[0m\u001b[1;33m.\u001b[0m\u001b[0mmin\u001b[0m\u001b[1;33m(\u001b[0m\u001b[0mnp\u001b[0m\u001b[1;33m.\u001b[0m\u001b[0mdivide\u001b[0m\u001b[1;33m(\u001b[0m\u001b[0mnp\u001b[0m\u001b[1;33m.\u001b[0m\u001b[0marray\u001b[0m\u001b[1;33m(\u001b[0m\u001b[0mself\u001b[0m\u001b[1;33m.\u001b[0m\u001b[0mI_threshold\u001b[0m\u001b[1;33m[\u001b[0m\u001b[0mrows\u001b[0m\u001b[1;33m,\u001b[0m \u001b[0mcols\u001b[0m\u001b[1;33m]\u001b[0m\u001b[1;33m)\u001b[0m\u001b[1;33m,\u001b[0m \u001b[0mnp\u001b[0m\u001b[1;33m.\u001b[0m\u001b[0marray\u001b[0m\u001b[1;33m(\u001b[0m\u001b[0mself\u001b[0m\u001b[1;33m.\u001b[0m\u001b[0mcurrents\u001b[0m\u001b[1;33m[\u001b[0m\u001b[0mrows\u001b[0m\u001b[1;33m,\u001b[0m \u001b[0mcols\u001b[0m\u001b[1;33m]\u001b[0m\u001b[1;33m)\u001b[0m\u001b[1;33m)\u001b[0m\u001b[1;33m)\u001b[0m\u001b[1;33m\u001b[0m\u001b[0m\n\u001b[0m\u001b[0;32m     44\u001b[0m \u001b[1;33m\u001b[0m\u001b[0m\n\u001b[0;32m     45\u001b[0m     \u001b[1;32mdef\u001b[0m \u001b[0mswitch_memristors\u001b[0m\u001b[1;33m(\u001b[0m\u001b[0mself\u001b[0m\u001b[1;33m)\u001b[0m\u001b[1;33m:\u001b[0m\u001b[1;33m\u001b[0m\u001b[0m\n",
        "\u001b[1;31mTypeError\u001b[0m: unsupported operand type(s) for /: 'float' and 'lil_matrix'"
       ]
      }
     ],
     "prompt_number": 78
    },
    {
     "cell_type": "code",
     "collapsed": false,
     "input": [
      "currents = np.multiply( test.G[r, c], np.abs(test.voltages[r] - test.voltages[c]))\n",
      "currents"
     ],
     "language": "python",
     "metadata": {},
     "outputs": [
      {
       "metadata": {},
       "output_type": "pyout",
       "prompt_number": 79,
       "text": [
        "matrix([[ 0.06666667,  0.06666667,  0.06666667,  0.06666667,  0.06666667,\n",
        "          0.06666667,  0.06666667,  0.06666667,  0.06666667,  0.06666667,\n",
        "          0.06666667,  0.06666667,  0.06666667,  0.06666667,  0.06666667,\n",
        "          0.06666667,  0.06666667,  0.06666667,  0.06666667,  0.06666667,\n",
        "          0.06666667,  0.06666667,  0.06666667,  0.06666667,  0.06666667,\n",
        "          0.06666667,  0.06666667,  0.06666667,  0.06666667,  0.06666667,\n",
        "          0.06666667,  0.06666667,  0.06666667,  0.06666667,  0.06666667,\n",
        "          0.06666667,  0.06666667,  0.06666667,  0.06666667,  0.06666667,\n",
        "          0.06666667,  0.06666667,  0.06666667,  0.06666667,  0.06666667,\n",
        "          0.06666667,  0.06666667,  0.06666667,  0.06666667,  0.06666667,\n",
        "          0.06666667,  0.06666667,  0.06666667,  0.06666667,  0.06666667,\n",
        "          0.06666667,  0.06666667,  0.06666667,  0.06666667,  0.06666667,\n",
        "          0.06666667,  0.06666667,  0.06666667,  0.06666667,  0.06666667,\n",
        "          0.06666667,  0.06666667,  0.06666667,  0.06666667,  0.06666667,\n",
        "          0.06666667,  0.06666667,  0.06666667,  0.06666667,  0.06666667,\n",
        "          0.06666667,  0.06666667,  0.06666667,  0.06666667,  0.06666667,\n",
        "          0.06666667,  0.06666667,  0.06666667,  0.06666667,  0.06666667,\n",
        "          0.06666667,  0.06666667,  0.06666667,  0.06666667,  0.06666667,\n",
        "          0.06666667,  0.06666667,  0.06666667,  0.06666667,  0.06666667,\n",
        "          0.06666667,  0.06666667,  0.06666667,  0.06666667,  0.06666667,\n",
        "          0.06666667,  0.06666667,  0.06666667,  0.06666667,  0.06666667,\n",
        "          0.06666667,  0.06666667,  0.06666667,  0.06666667,  0.06666667,\n",
        "          0.06666667,  0.06666667,  0.06666667,  0.06666667,  0.06666667,\n",
        "          0.06666667,  0.06666667,  0.06666667,  0.06666667,  0.06666667,\n",
        "          0.06666667,  0.06666667,  0.06666667,  0.06666667,  0.06666667,\n",
        "          0.06666667,  0.06666667,  0.06666667,  0.06666667,  0.06666667,\n",
        "          0.06666667,  0.06666667,  0.06666667,  0.06666667,  0.06666667,\n",
        "          0.06666667,  0.06666667,  0.06666667,  0.06666667,  0.06666667,\n",
        "          0.06666667,  0.06666667,  0.06666667,  0.06666667,  0.06666667,\n",
        "          0.06666667,  0.06666667,  0.06666667,  0.06666667,  0.06666667,\n",
        "          0.06666667,  0.06666667,  0.06666667,  0.06666667,  0.06666667,\n",
        "          0.06666667,  0.06666667,  0.06666667,  0.06666667,  0.06666667,\n",
        "          0.06666667,  0.06666667,  0.06666667,  0.06666667,  0.06666667,\n",
        "          0.06666667,  0.06666667,  0.06666667,  0.06666667,  0.06666667,\n",
        "          0.06666667,  0.06666667,  0.06666667,  0.06666667,  0.06666667,\n",
        "          0.06666667,  0.06666667,  0.06666667,  0.06666667,  0.06666667,\n",
        "          0.06666667,  0.06666667,  0.06666667,  0.06666667,  0.06666667,\n",
        "          0.06666667,  0.06666667,  0.06666667,  0.06666667,  0.06666667,\n",
        "          0.06666667,  0.06666667,  0.06666667,  0.06666667,  0.06666667,\n",
        "          0.06666667,  0.06666667,  0.06666667,  0.06666667,  0.06666667,\n",
        "          0.06666667,  0.06666667,  0.06666667,  0.06666667,  0.06666667,\n",
        "          0.06666667,  0.06666667,  0.06666667,  0.06666667,  0.06666667,\n",
        "          0.06666667,  0.06666667,  0.06666667,  0.06666667,  0.06666667,\n",
        "          0.06666667,  0.06666667,  0.06666667,  0.06666667,  0.06666667,\n",
        "          0.06666667,  0.06666667,  0.06666667,  0.06666667,  0.06666667,\n",
        "          0.06666667,  0.06666667,  0.06666667,  0.06666667,  0.06666667,\n",
        "          0.06666667,  0.06666667,  0.06666667,  0.06666667,  0.06666667,\n",
        "          0.06666667,  0.06666667,  0.06666667,  0.06666667,  0.06666667,\n",
        "          0.06666667,  0.06666667,  0.06666667,  0.06666667,  0.06666667,\n",
        "          0.06666667,  0.06666667,  0.06666667,  0.06666667,  0.06666667,\n",
        "          0.06666667,  0.06666667,  0.06666667,  0.06666667,  0.06666667,\n",
        "          0.06666667,  0.06666667,  0.06666667,  0.06666667,  0.06666667,\n",
        "          0.06666667,  0.06666667,  0.06666667,  0.06666667,  0.06666667,\n",
        "          0.06666667,  0.06666667,  0.06666667,  0.06666667,  0.06666667,\n",
        "          0.06666667,  0.06666667,  0.06666667,  0.06666667,  0.06666667,\n",
        "          0.06666667,  0.06666667,  0.06666667,  0.06666667,  0.06666667,\n",
        "          0.06666667,  0.06666667,  0.06666667,  0.06666667,  0.06666667,\n",
        "          0.06666667,  0.06666667,  0.06666667,  0.06666667,  0.06666667,\n",
        "          0.06666667,  0.06666667,  0.06666667,  0.06666667,  0.06666667,\n",
        "          0.06666667,  0.06666667,  0.06666667,  0.06666667,  0.06666667,\n",
        "          0.06666667,  0.06666667,  0.06666667,  0.06666667,  0.06666667,\n",
        "          0.06666667,  0.06666667,  0.06666667,  0.06666667,  0.06666667,\n",
        "          0.06666667,  0.06666667,  0.06666667,  0.06666667,  0.06666667,\n",
        "          0.06666667,  0.06666667,  0.06666667,  0.06666667,  0.06666667,\n",
        "          0.06666667,  0.06666667,  0.06666667,  0.06666667,  0.06666667,\n",
        "          0.06666667,  0.06666667,  0.06666667,  0.06666667,  0.06666667,\n",
        "          0.06666667,  0.06666667,  0.06666667,  0.06666667,  0.06666667,\n",
        "          0.06666667,  0.06666667,  0.06666667,  0.06666667,  0.06666667,\n",
        "          0.06666667,  0.06666667,  0.06666667,  0.06666667,  0.06666667,\n",
        "          0.06666667,  0.06666667,  0.06666667,  0.06666667,  0.06666667,\n",
        "          0.06666667,  0.06666667,  0.06666667,  0.06666667,  0.06666667,\n",
        "          0.06666667,  0.06666667,  0.06666667,  0.06666667,  0.06666667,\n",
        "          0.06666667,  0.06666667,  0.06666667,  0.06666667,  0.06666667,\n",
        "          0.06666667,  0.06666667,  0.06666667,  0.06666667,  0.06666667,\n",
        "          0.06666667,  0.06666667,  0.06666667,  0.06666667,  0.06666667,\n",
        "          0.06666667,  0.06666667,  0.06666667,  0.06666667,  0.06666667,\n",
        "          0.06666667,  0.06666667,  0.06666667,  0.06666667,  0.06666667,\n",
        "          0.06666667,  0.06666667,  0.06666667,  0.06666667,  0.06666667,\n",
        "          0.06666667,  0.06666667,  0.06666667,  0.06666667,  0.06666667,\n",
        "          0.06666667,  0.06666667,  0.06666667,  0.06666667,  0.06666667,\n",
        "          0.06666667,  0.06666667,  0.06666667,  0.06666667,  0.06666667,\n",
        "          0.06666667,  0.06666667,  0.06666667,  0.06666667,  0.06666667,\n",
        "          0.06666667,  0.06666667,  0.06666667,  0.06666667,  0.06666667,\n",
        "          0.06666667,  0.06666667,  0.06666667,  0.06666667,  0.06666667,\n",
        "          0.06666667,  0.06666667,  0.06666667,  0.06666667,  0.06666667,\n",
        "          0.06666667,  0.06666667,  0.06666667,  0.06666667,  0.06666667,\n",
        "          0.06666667,  0.06666667,  0.06666667,  0.06666667,  0.06666667,\n",
        "          0.06666667,  0.06666667,  0.06666667,  0.06666667,  0.06666667,\n",
        "          0.06666667,  0.06666667,  0.06666667,  0.06666667,  0.06666667,\n",
        "          0.06666667,  0.06666667,  0.06666667,  0.06666667,  0.06666667,\n",
        "          0.06666667,  0.06666667,  0.06666667,  0.06666667,  0.06666667,\n",
        "          0.06666667,  0.06666667,  0.06666667,  0.06666667,  0.06666667,\n",
        "          0.06666667,  0.06666667,  0.06666667,  0.06666667,  0.06666667,\n",
        "          0.06666667,  0.06666667,  0.06666667,  0.06666667,  0.06666667,\n",
        "          0.06666667,  0.06666667,  0.06666667,  0.06666667,  0.06666667,\n",
        "          0.06666667,  0.06666667,  0.06666667,  0.06666667,  0.06666667]])"
       ]
      }
     ],
     "prompt_number": 79
    },
    {
     "cell_type": "code",
     "collapsed": false,
     "input": [
      "r, c = sparse.triu(test.G == test.G_OFF).nonzero()\n",
      "np.min(np.divide(test.I_threshold[r,c], test.currents[r,c].toarray()))"
     ],
     "language": "python",
     "metadata": {},
     "outputs": [
      {
       "metadata": {},
       "output_type": "pyout",
       "prompt_number": 80,
       "text": [
        "14.999999999999854"
       ]
      }
     ],
     "prompt_number": 80
    },
    {
     "cell_type": "code",
     "collapsed": false,
     "input": [
      "test.currents"
     ],
     "language": "python",
     "metadata": {},
     "outputs": [
      {
       "metadata": {},
       "output_type": "pyout",
       "prompt_number": 81,
       "text": [
        "<256x256 sparse matrix of type '<type 'numpy.float64'>'\n",
        "\twith 480 stored elements in LInked List format>"
       ]
      }
     ],
     "prompt_number": 81
    },
    {
     "cell_type": "code",
     "collapsed": false,
     "input": [],
     "language": "python",
     "metadata": {},
     "outputs": []
    }
   ],
   "metadata": {}
  }
 ]
}