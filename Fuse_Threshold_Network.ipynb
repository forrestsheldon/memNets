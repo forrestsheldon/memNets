{
 "metadata": {
  "name": "",
  "signature": "sha256:4e08506b383d8d80efb55817246745ca5029834a6235aa769e465c3ab1bac97d"
 },
 "nbformat": 3,
 "nbformat_minor": 0,
 "worksheets": [
  {
   "cells": [
    {
     "cell_type": "heading",
     "level": 1,
     "metadata": {},
     "source": [
      "Fuse Threshold Networks"
     ]
    },
    {
     "cell_type": "code",
     "collapsed": false,
     "input": [
      "%matplotlib inline"
     ],
     "language": "python",
     "metadata": {},
     "outputs": [],
     "prompt_number": 1
    },
    {
     "cell_type": "code",
     "collapsed": false,
     "input": [
      "import numpy as np\n",
      "import scipy as sp\n",
      "import scipy.sparse as sparse\n",
      "from scipy.sparse.linalg import spsolve, cg\n",
      "import numpy.random\n",
      "import generate_adjacency_matrix as gen_adj\n",
      "import resistor_networks_basic as rnets\n",
      "\n",
      "from __future__ import division"
     ],
     "language": "python",
     "metadata": {},
     "outputs": [],
     "prompt_number": 2
    },
    {
     "cell_type": "code",
     "collapsed": false,
     "input": [
      "import matplotlib.pyplot as plt"
     ],
     "language": "python",
     "metadata": {},
     "outputs": [],
     "prompt_number": 3
    },
    {
     "cell_type": "code",
     "collapsed": false,
     "input": [
      "class FuseThresholdNetwork(rnets.ResistorNetwork):\n",
      "    \"\"\"\n",
      "    This class inherits from ResistorNetwork with the aim of adding some dynamical behavior to the\n",
      "    resistors.  In particular, when a resistor has past a certain current threshold, the conductance\n",
      "    is switched from G_OFF to G_ON. To initialize, we require:\n",
      "    \n",
      "        G                     - An NxN sparse CSR matrix containing the conductances in the network of N nodes\n",
      "        external_voltages     - An Nx1 dense vector of external voltages.  Nodes not set to an external voltages\n",
      "                                contain a Nan. The shape (N,) is preferred\n",
      "        I_threshold           - A sparse array of thresholds for each memristor\n",
      "        G_OFF                 - The conductance in the low conductivity OFF state.  Generally set to 1.\n",
      "        G_ON                  - The conductance in the high conductivity ON state.  Set to 100 by default.\n",
      "    \n",
      "    Other available attributes after initialization are:\n",
      "        currents              - An NxN sparse matrix of currents in the network.  As many tasks in the network will\n",
      "                                require that the currents be calculated, it is best that we do this once and share.\n",
      "        rows_G\n",
      "        cols_G\n",
      "    \"\"\"\n",
      "    \n",
      "    def __init__(self, G, external_voltages, I_threshold, G_OFF=1, G_ON=100):\n",
      "        rnets.ResistorNetwork.__init__(self, G, external_voltages)\n",
      "        self.I_threshold = I_threshold\n",
      "        self.G_OFF = G_OFF\n",
      "        self.G_ON = G_ON\n",
      "        self.rows_G, self.cols_G = sparse.triu(self.G).nonzero()\n",
      "        self.currents = None\n",
      "            \n",
      "    def calculate_currents(self):\n",
      "        \"\"\"\n",
      "        calculates a matrix of currents running through each memristor.  Only the upper triangular portion\n",
      "        of the matrix is calculated.\n",
      "        \"\"\"\n",
      "        self.currents = sparse.lil_matrix(self.G.shape, dtype=float)\n",
      "        self.currents[self.rows_G, self.cols_G] = np.multiply(self.G[self.rows_G, self.cols_G],\n",
      "                                                  np.abs(self.voltages[self.rows_G] - self.voltages[self.cols_G]))\n",
      "        self.currents = self.currents + self.currents.T\n",
      "    \n",
      "    def next_switching_factor(self):\n",
      "        \"\"\"\n",
      "        Find the factor necessary to adjust the voltage to switch the next memristor\n",
      "        \"\"\"\n",
      "        rows, cols = sparse.triu(self.G == self.G_OFF).nonzero()\n",
      "        return np.min(np.divide(self.I_threshold[rows, cols], self.currents[rows, cols]))\n",
      "        \n",
      "    def switch_memristors(self):\n",
      "        \"\"\"\n",
      "        Check the currents on each memristor.  Those that are in the low conductance state and that have a current\n",
      "        above I_thresh will have their conductance switched to G_ON\n",
      "        \"\"\"\n",
      "        switching_memristors = (self.currents > self.I_threshold).multiply(self.G == self.G_OFF).astype('bool')\n",
      "        self.G[switching_memristors] = self.G_ON\n",
      "        return switching_memristors.nnz / 2\n",
      "\n",
      "    def switching_step(self):\n",
      "        counter = []\n",
      "        self.solve_voltages('spsolve')\n",
      "        self.calculate_currents()\n",
      "        num_switched = self.switch_memristors()\n",
      "        while num_switched != 0:\n",
      "            counter.append(num_switched)\n",
      "            self.solve_voltages('spsolve')\n",
      "            self.calculate_currents()\n",
      "            num_switched = self.switch_memristors()\n",
      "        return counter\n",
      "    \n",
      "    def new_voltage(self, prev_voltage):\n",
      "        return prev_voltage * (self.next_switching_factor() + 1e-10)\n",
      "\n",
      "    def update_voltage_busbar(self, voltage):\n",
      "        \"\"\"\n",
      "        Using bus bar topology, this takes the previous voltage at the zeroth node and updates it so that the next memristor\n",
      "        will flip\n",
      "        \"\"\"\n",
      "        self.external_voltages[0:int(np.sqrt(self.G.shape[0]))] = voltage"
     ],
     "language": "python",
     "metadata": {},
     "outputs": [],
     "prompt_number": 16
    },
    {
     "cell_type": "code",
     "collapsed": false,
     "input": [
      "L = 64\n",
      "G = gen_adj.cubic_2d_diagonal_periodic((L,L))\n",
      "external_voltages = np.empty((L*L,))* np.nan\n",
      "external_voltages[0:L] = 1e-5\n",
      "external_voltages[-L:] = 0\n",
      "\n",
      "r, c = sparse.triu(G).nonzero()\n",
      "I_threshold = sparse.lil_matrix(G.shape, dtype='float')\n",
      "I_threshold[r, c] = np.random.uniform(low=1e-5, high=1000, size=r.size)\n",
      "I_threshold = I_threshold + I_threshold.T\n",
      "\n",
      "test = FuseThresholdNetwork(G, external_voltages, I_threshold)"
     ],
     "language": "python",
     "metadata": {},
     "outputs": [],
     "prompt_number": 75
    },
    {
     "cell_type": "code",
     "collapsed": false,
     "input": [
      "test.solve_voltages('spsolve')\n",
      "test.calculate_currents()"
     ],
     "language": "python",
     "metadata": {},
     "outputs": [],
     "prompt_number": 76
    },
    {
     "cell_type": "code",
     "collapsed": false,
     "input": [
      "counter = 0\n",
      "total_memristors = 2 * L * (L-1)\n",
      "\n",
      "event_list = []\n",
      "voltages = [test.external_voltages[0]]\n",
      "conductivities = [test.conductivity()]\n",
      "\n",
      "while counter < total_memristors:\n",
      "    test.update_voltage_busbar(test.new_voltage(test.external_voltages[0]))\n",
      "    voltages.append(test.external_voltages[0])\n",
      "    event_list.append(test.switching_step())\n",
      "    counter += sum(event_list[-1])\n",
      "    conductivities.append(test.conductivity())"
     ],
     "language": "python",
     "metadata": {},
     "outputs": [],
     "prompt_number": 77
    },
    {
     "cell_type": "code",
     "collapsed": false,
     "input": [
      "fig, ax = plt.subplots()\n",
      "\n",
      "ax.plot([sum(i) for i in event_list ])\n",
      "ax.plot(conductivities / np.max(conductivities) * 150)"
     ],
     "language": "python",
     "metadata": {},
     "outputs": [
      {
       "metadata": {},
       "output_type": "pyout",
       "prompt_number": 78,
       "text": [
        "[<matplotlib.lines.Line2D at 0x71d1350>]"
       ]
      },
      {
       "metadata": {},
       "output_type": "display_data",
       "png": "[encoded data removed]",
       "text": [
        "<matplotlib.figure.Figure at 0x467e0d0>"
       ]
      }
     ],
     "prompt_number": 78
    },
    {
     "cell_type": "code",
     "collapsed": false,
     "input": [
      "fig, ax = plt.subplots()\n",
      "\n",
      "avalanches = [sum(i) for i in event_list]\n",
      "ax.plot(voltages)\n",
      "ax.plot(avalanches)"
     ],
     "language": "python",
     "metadata": {},
     "outputs": [
      {
       "metadata": {},
       "output_type": "pyout",
       "prompt_number": 79,
       "text": [
        "[<matplotlib.lines.Line2D at 0x6df0190>]"
       ]
      },
      {
       "metadata": {},
       "output_type": "display_data",
       "png": "[encoded data removed]",
       "text": [
        "<matplotlib.figure.Figure at 0x6df01d0>"
       ]
      }
     ],
     "prompt_number": 79
    },
    {
     "cell_type": "code",
     "collapsed": false,
     "input": [],
     "language": "python",
     "metadata": {},
     "outputs": [
      {
       "output_type": "stream",
       "stream": "stdout",
       "text": [
        "10000 loops, best of 3: 21.8 \u00b5s per loop\n"
       ]
      }
     ],
     "prompt_number": 74
    },
    {
     "cell_type": "code",
     "collapsed": false,
     "input": [],
     "language": "python",
     "metadata": {},
     "outputs": []
    }
   ],
   "metadata": {}
  }
 ]
}