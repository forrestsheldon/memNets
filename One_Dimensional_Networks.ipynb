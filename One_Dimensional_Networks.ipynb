{
 "metadata": {
  "name": "",
  "signature": "sha256:3722295f3c5c4072aadcedadba558d0e92fa7b8cedc1e5c1acc7522d0807b7b0"
 },
 "nbformat": 3,
 "nbformat_minor": 0,
 "worksheets": [
  {
   "cells": [
    {
     "cell_type": "heading",
     "level": 1,
     "metadata": {},
     "source": [
      "1 Dimensional Chains"
     ]
    },
    {
     "cell_type": "code",
     "collapsed": false,
     "input": [
      "%matplotlib inline"
     ],
     "language": "python",
     "metadata": {},
     "outputs": [],
     "prompt_number": 2
    },
    {
     "cell_type": "code",
     "collapsed": false,
     "input": [
      "import numpy as np\n",
      "import numpy.random\n",
      "import matplotlib.pyplot as plt\n",
      "from __future__ import division"
     ],
     "language": "python",
     "metadata": {},
     "outputs": [],
     "prompt_number": 25
    },
    {
     "cell_type": "code",
     "collapsed": false,
     "input": [
      "def switch_1d_chain(N, dist):\n",
      "    \"\"\"\n",
      "    This runs a 1D chain of memristors.  Starting at zero, the voltage is progressively ramped by increasing it to whatever\n",
      "    the next memristor requires to trip.  After this, the network is run a\n",
      "    \"\"\""
     ],
     "language": "python",
     "metadata": {},
     "outputs": [],
     "prompt_number": 26
    },
    {
     "cell_type": "code",
     "collapsed": false,
     "input": [
      "N = 10000\n",
      "I_thresholds = np.sort(numpy.random.random_sample((N,)))\n",
      "g_OFF = 1\n",
      "g_ON = 10"
     ],
     "language": "python",
     "metadata": {},
     "outputs": [],
     "prompt_number": 69
    },
    {
     "cell_type": "code",
     "collapsed": false,
     "input": [
      "def G(n_ON):\n",
      "    return g_ON * g_OFF / (N*g_ON - n_ON*(g_ON - g_OFF))\n",
      "\n",
      "def current(voltage, n_ON):\n",
      "    return G(n_ON) * voltage\n",
      "\n",
      "def voltage(current, n_ON):\n",
      "    return current / G(n_ON)"
     ],
     "language": "python",
     "metadata": {},
     "outputs": [],
     "prompt_number": 70
    },
    {
     "cell_type": "code",
     "collapsed": false,
     "input": [
      "V = 0\n",
      "n_ON = 0\n",
      "avalanches = []\n",
      "voltages = []\n",
      "\n",
      "while n_ON < N:\n",
      "    V = voltage(I_thresholds[n_ON], n_ON)                          # Increase the voltage to flip the next memristor\n",
      "    voltages.append(V)\n",
      "    n_ON += 1\n",
      "    avalanche = [1]\n",
      "    I = current(V, n_ON)                                           # Calculate the current admitted at that voltage\n",
      "    switching_step = np.sum(I_thresholds[n_ON:] < I)               # count the number of memristors that flip as a result\n",
      "\n",
      "    while switching_step != 0:                                     # If more memristors switch\n",
      "        n_ON += switching_step                                     # Update the number ON\n",
      "        avalanche.append(switching_step)\n",
      "        I = current(V, n_ON)                                       # Calculate the new admitted current\n",
      "        switching_step = np.sum(I_thresholds[n_ON:] < I)\n",
      "    \n",
      "    avalanches.append(avalanche)\n"
     ],
     "language": "python",
     "metadata": {},
     "outputs": [],
     "prompt_number": 71
    },
    {
     "cell_type": "code",
     "collapsed": false,
     "input": [
      "avalanches_size = [sum(i) for i in avalanches]\n",
      "\n",
      "fig, ax = plt.subplots()\n",
      "ax.plot(avalanches_size)"
     ],
     "language": "python",
     "metadata": {},
     "outputs": [
      {
       "metadata": {},
       "output_type": "pyout",
       "prompt_number": 72,
       "text": [
        "[<matplotlib.lines.Line2D at 0x3fb5e50>]"
       ]
      },
      {
       "metadata": {},
       "output_type": "display_data",
       "png": "[encoded data removed]",
       "text": [
        "<matplotlib.figure.Figure at 0x3b31450>"
       ]
      }
     ],
     "prompt_number": 72
    },
    {
     "cell_type": "code",
     "collapsed": false,
     "input": [
      "n_vec = np.cumsum(avalanches_size)\n",
      "f = n_vec / N\n",
      "cond = G(n_vec)\n",
      "fig, ax = plt.subplots()\n",
      "ax.plot(voltages, cond)\n"
     ],
     "language": "python",
     "metadata": {},
     "outputs": [
      {
       "metadata": {},
       "output_type": "pyout",
       "prompt_number": 73,
       "text": [
        "[<matplotlib.lines.Line2D at 0x581c510>]"
       ]
      },
      {
       "metadata": {},
       "output_type": "display_data",
       "png": "[encoded data removed]",
       "text": [
        "<matplotlib.figure.Figure at 0x581c810>"
       ]
      }
     ],
     "prompt_number": 73
    },
    {
     "cell_type": "code",
     "collapsed": false,
     "input": [],
     "language": "python",
     "metadata": {},
     "outputs": [
      {
       "metadata": {},
       "output_type": "pyout",
       "prompt_number": 60,
       "text": [
        "0"
       ]
      }
     ],
     "prompt_number": 60
    },
    {
     "cell_type": "code",
     "collapsed": false,
     "input": [],
     "language": "python",
     "metadata": {},
     "outputs": []
    }
   ],
   "metadata": {}
  }
 ]
}