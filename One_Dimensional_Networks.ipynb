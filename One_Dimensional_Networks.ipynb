{
 "metadata": {
  "name": "",
  "signature": "sha256:c22c43cdb7b58b07c26426b6e6d83e1ac3d136e188baeccd7170a9e1371506ed"
 },
 "nbformat": 3,
 "nbformat_minor": 0,
 "worksheets": [
  {
   "cells": [
    {
     "cell_type": "heading",
     "level": 1,
     "metadata": {},
     "source": [
      "1 Dimensional Chains"
     ]
    },
    {
     "cell_type": "code",
     "collapsed": false,
     "input": [
      "%matplotlib inline"
     ],
     "language": "python",
     "metadata": {},
     "outputs": [],
     "prompt_number": 1
    },
    {
     "cell_type": "code",
     "collapsed": false,
     "input": [
      "import numpy as np\n",
      "import numpy.random\n",
      "from __future__ import division"
     ],
     "language": "python",
     "metadata": {},
     "outputs": [],
     "prompt_number": 2
    },
    {
     "cell_type": "code",
     "collapsed": false,
     "input": [
      "def switch_1d_chain(N, dist):\n",
      "    \"\"\"\n",
      "    This runs a 1D chain of memristors.  Starting at zero, the voltage is progressively ramped by increasing it to whatever\n",
      "    the next memristor requires to trip.  After this, the network is run a\n",
      "    \"\"\""
     ],
     "language": "python",
     "metadata": {},
     "outputs": []
    },
    {
     "cell_type": "code",
     "collapsed": false,
     "input": [
      "N = 10\n",
      "I_thresholds = np.sort(numpy.random.random_sample((N,)))\n",
      "g_OFF = 1\n",
      "g_ON = 10"
     ],
     "language": "python",
     "metadata": {},
     "outputs": [],
     "prompt_number": 11
    },
    {
     "cell_type": "code",
     "collapsed": false,
     "input": [
      "I_thresholds"
     ],
     "language": "python",
     "metadata": {},
     "outputs": [
      {
       "metadata": {},
       "output_type": "pyout",
       "prompt_number": 12,
       "text": [
        "array([ 0.09401078,  0.16848289,  0.22115584,  0.51196943,  0.57208266,\n",
        "        0.59892738,  0.76893729,  0.78660642,  0.85012329,  0.96582819])"
       ]
      }
     ],
     "prompt_number": 12
    },
    {
     "cell_type": "code",
     "collapsed": false,
     "input": [
      "def G(n_ON):\n",
      "    return g_ON * g_OFF / (N*g_ON - n_ON*(g_ON - g_OFF))\n",
      "\n",
      "def current(voltage, n_ON):\n",
      "    return G(n_ON) * voltage\n",
      "\n",
      "def voltage(current, n_ON):\n",
      "    return current / G(n_ON)"
     ],
     "language": "python",
     "metadata": {},
     "outputs": []
    },
    {
     "cell_type": "code",
     "collapsed": false,
     "input": [
      "V = 0\n",
      "n_ON = 0\n",
      "avalanches = []\n",
      "voltages = []\n",
      "\n",
      "while n_ON < N:\n",
      "    V = voltage(I_thresholds[n_ON], n_ON)                          # Increase the voltage to flip the next memristor\n",
      "    n_ON += 1\n",
      "    avalanche = [1]\n",
      "    I = current(V, n_ON)                                           # Calculate the current admitted at that voltage\n",
      "    switching_step = np.sum(I_thresholds[n_ON:] < I)               # count the number of memristors that flip as a result\n",
      "\n",
      "    while switching_step != 0:                                     # If more memristors switch\n",
      "        n_ON += switching_step                                     # Update the number ON\n",
      "        avalanche.append(switching_step)\n",
      "        I = current(V, n_ON)                                       #\n",
      "        switching_step = np.sum(I_thresholds[n_ON:] < I)\n",
      "    \n",
      "    avalanches.append(avalanche)\n"
     ],
     "language": "python",
     "metadata": {},
     "outputs": []
    }
   ],
   "metadata": {}
  }
 ]
}