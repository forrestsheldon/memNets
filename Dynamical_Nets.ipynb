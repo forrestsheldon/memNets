{
 "metadata": {
  "name": "",
  "signature": "sha256:d179aa0646bde85ea94df7b63899c9dfe7617e918382d6cc438b5be6a40f771b"
 },
 "nbformat": 3,
 "nbformat_minor": 0,
 "worksheets": [
  {
   "cells": [
    {
     "cell_type": "heading",
     "level": 1,
     "metadata": {},
     "source": [
      "Dynamical Networks"
     ]
    },
    {
     "cell_type": "code",
     "collapsed": false,
     "input": [
      "%matplotlib inline"
     ],
     "language": "python",
     "metadata": {},
     "outputs": [],
     "prompt_number": 1
    },
    {
     "cell_type": "code",
     "collapsed": false,
     "input": [
      "import numpy as np\n",
      "import scipy as sp\n",
      "import matplotlib.pyplot as plt\n",
      "import resistor_network as rnets"
     ],
     "language": "python",
     "metadata": {},
     "outputs": [],
     "prompt_number": 2
    },
    {
     "cell_type": "markdown",
     "metadata": {},
     "source": [
      "I would like to define a more general type of dynamical network here that inherits from the resistor network class.  Rather than specify how to update the network a priori, I would like the user to be able to define an update function that is applied to each connection in the network."
     ]
    }
   ],
   "metadata": {}
  }
 ]
}