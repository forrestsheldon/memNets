{
 "metadata": {
  "name": "",
  "signature": "sha256:a48c52737450d16ea571fa1ab1bb4d79fa1b222ec3a09653344d2a4fd1c9d463"
 },
 "nbformat": 3,
 "nbformat_minor": 0,
 "worksheets": [
  {
   "cells": [
    {
     "cell_type": "heading",
     "level": 1,
     "metadata": {},
     "source": [
      "Atomic Switch Network Models"
     ]
    },
    {
     "cell_type": "code",
     "collapsed": false,
     "input": [
      "%matplotlib inline"
     ],
     "language": "python",
     "metadata": {},
     "outputs": [],
     "prompt_number": 3
    },
    {
     "cell_type": "code",
     "collapsed": false,
     "input": [
      "import numpy as np\n",
      "import scipy as scp\n",
      "import scipy.sparse as sparse\n",
      "import memristor_networks as memnets\n",
      "import matplotlib.pyplot as plt\n",
      "import generate_adjacency_matrix as gen_adj"
     ],
     "language": "python",
     "metadata": {},
     "outputs": [],
     "prompt_number": 4
    },
    {
     "cell_type": "markdown",
     "metadata": {},
     "source": [
      "This notebook will be a direct attempt at reproducing the discrete conductance states of atomic switch networks. The essential features of these experiments are:\n",
      "\n",
      "* Networks are formed by electroless solution phase deposition of silver onto copper posts.  The silver forms a complex network of wires with a fractal geometry similar to that of DLA.\n",
      "\n",
      "* Sulfur is added (I'm not sure how exactly.  I should look into this.) and this forms a silver sulfer crystal at points along the wire, creating atomic switches throughout the network.\n",
      "\n",
      "* The networks are 'functionalized', either through repeated large bias sweeps or a steady bias until a sharp increase in conductivity is observed\n",
      "\n",
      "* Pulsed stimulation at an intermediate bias gives discrete conductance states with residence times that follow a power law spectrum"
     ]
    },
    {
     "cell_type": "markdown",
     "metadata": {},
     "source": [
      "A model for these networks will need to make some choice of:\n",
      "\n",
      "* connectivity structure - I think the effect should be fairly robust to many different connectivity structures, so long as they display some disorder that breaks lattice symmetries, although I'm not sure about this.\n",
      "* voltage connection - how is voltages set across the network?  Bus-bar, 2-terminal, or something in between\n",
      "* atomic switch model - what are the essential features of the atomic switch we need to get this behavior?"
     ]
    },
    {
     "cell_type": "heading",
     "level": 3,
     "metadata": {},
     "source": [
      "Connectivity"
     ]
    },
    {
     "cell_type": "markdown",
     "metadata": {},
     "source": [
      "I think the simplest approach is to take a random network of the Erdos-Renyi type, and for now I will stick with that.  More complex approaches can include percolation networks, Barabasi/Watts-Strogatz type graphs, or some locally random connectivity structure. Note that the connectedness threshold for an undirected graph is $p = \\ln{(n)} / n$."
     ]
    },
    {
     "cell_type": "heading",
     "level": 3,
     "metadata": {},
     "source": [
      "Voltage Connection"
     ]
    },
    {
     "cell_type": "markdown",
     "metadata": {},
     "source": [
      "The two terminal architecture offers simplicity, while the bus bar architecture makes the network less prone to fluctuations in the degree of a single node.  I'll try beginning with two terminal."
     ]
    },
    {
     "cell_type": "heading",
     "level": 3,
     "metadata": {},
     "source": [
      "Atomic Switch Model"
     ]
    },
    {
     "cell_type": "markdown",
     "metadata": {},
     "source": [
      "The essential features of the atomic switch are:\n",
      "\n",
      "* At room temperature and no bias, the nonconducting acanthite phase of $Ag_2 S$ is favored.\n",
      "* When a bias is applied, a phase transition to argentite occurs, forming a pathway in which the silver has a high diffusivity, through the acanthite\n",
      "* The diffusing silver from the anode is reduced at the cathode and forms a filament of silver from cathode to anode\n",
      "* Further bias causes the filament to thicken or multiple filaments to form.\n",
      "* Removing the bias causes a decay to the thermodynamically favored acanthite and breaking of the filament, although remnants may still remain and facilitate further switching\n",
      "\n",
      "\n",
      "The conductivities of these phases are:\n",
      "\n",
      "* Acanthite: $2.5 \\times 10^{-3} \\frac{1 }{\\Omega cm}$\n",
      "* Argentite: $1.6 \\times 10^{3} \\frac{1 }{\\Omega cm}$\n",
      "* Silver: $6.3 \\times 10^{5} \\frac{1 }{\\Omega cm}$\n",
      "\n",
      "and observed jumps in conductivity are an order of magnitude or more.  To incorporate these properties, I propose the following model,\n",
      "\n",
      "For large biases, changes in the resistance are caused by the growing conductivity filament driven by the current, thus for large forward or backward biases, the change in the resistance should be linear in the voltage.  At low biases, competition between the thermodynamically favored acanthite phase and the bias should lead to a slow increase in the resistance.  I'm going to model this using the piecewise linear model with a vertical shift"
     ]
    },
    {
     "cell_type": "code",
     "collapsed": false,
     "input": [
      "R_0 = 1.                          # Resistance Scale\n",
      "R_ON = 0.1 * R_0                  # Wide separation in resistance scales, this will be probed as we go forward\n",
      "R_OFF = 10. * R_0\n",
      "beta = 1.\n",
      "alpha = 1e-1\n",
      "\n",
      "def vc_memR_xdot(t, x, V, V_T, alpha=alpha , beta=beta, x_min=R_ON, x_max=R_OFF):\n",
      "    return beta * V + 0.5 * (alpha - beta) * (np.abs(V + V_T) - np.abs(V - V_T)) + alpha * V_T\n",
      "\n",
      "def vc_memG_xdot(t, x, V, V_T):\n",
      "    return - x**2 * vc_memR_xdot(1./x, t, V, V_T)\n",
      "\n",
      "V = np.linspace(-1, 1, 1000)\n",
      "fig, ax = plt.subplots(figsize=(4,6))\n",
      "ax.spines['right'].set_color('none')\n",
      "ax.spines['top'].set_color('none')\n",
      "\n",
      "ax.xaxis.set_ticks_position('bottom')\n",
      "ax.spines['bottom'].set_position(('data',0)) # set position of x spine to x=0\n",
      "\n",
      "ax.yaxis.set_ticks_position('left')\n",
      "ax.spines['left'].set_position(('data',0))   # set position of y spine to y=0\n",
      "\n",
      "ax.plot(V, map(vc_memR_xdot, [None], [None], V, 0.5 * np.ones_like(V)))\n",
      "\n",
      "ax.set_xlabel(\"           Applied Voltage\", ha='left')\n",
      "ax.set_ylabel(r\"                          $\\dot{x}\\;(\\Omega/s)$\")\n",
      "ax.set_title(\"Resistance learning rule for Voltage Controlled Memristor\")"
     ],
     "language": "python",
     "metadata": {},
     "outputs": [
      {
       "metadata": {},
       "output_type": "pyout",
       "prompt_number": 6,
       "text": [
        "<matplotlib.text.Text at 0x41b26d0>"
       ]
      },
      {
       "metadata": {},
       "output_type": "display_data",
       "png": "[encoded data removed]",
       "text": [
        "<matplotlib.figure.Figure at 0x41d20d0>"
       ]
      }
     ],
     "prompt_number": 6
    },
    {
     "cell_type": "code",
     "collapsed": false,
     "input": [],
     "language": "python",
     "metadata": {},
     "outputs": []
    }
   ],
   "metadata": {}
  }
 ]
}