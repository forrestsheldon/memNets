{
 "metadata": {
  "name": "",
  "signature": "sha256:0b904e6a0699a0b3d3ce3ed381c1615ee8b18498a340094cf0b1a49f4760e69b"
 },
 "nbformat": 3,
 "nbformat_minor": 0,
 "worksheets": [
  {
   "cells": [
    {
     "cell_type": "heading",
     "level": 1,
     "metadata": {},
     "source": [
      "Atomic Switch Network Models"
     ]
    },
    {
     "cell_type": "code",
     "collapsed": false,
     "input": [
      "%matplotlib inline"
     ],
     "language": "python",
     "metadata": {},
     "outputs": [],
     "prompt_number": 2
    },
    {
     "cell_type": "code",
     "collapsed": false,
     "input": [
      "import numpy as np\n",
      "import scipy as scp\n",
      "import scipy.sparse as sparse\n",
      "import memristor_networks as memnets\n",
      "import matplotlib.pyplot as plt\n",
      "import generate_adjacency_matrix as gen_adj"
     ],
     "language": "python",
     "metadata": {},
     "outputs": [],
     "prompt_number": 3
    },
    {
     "cell_type": "markdown",
     "metadata": {},
     "source": [
      "This notebook will be a direct attempt at reproducing the discrete conductance states of atomic switch networks. The essential features of these experiments are:\n",
      "\n",
      "* Networks are formed by electroless solution phase deposition of silver onto copper posts.  The silver forms a complex network of wires with a fractal geometry similar to that of DLA.\n",
      "\n",
      "* Sulfur is added (I'm not sure how exactly.  I should look into this.) and this forms a silver sulfer crystal at points along the wire, creating atomic switches throughout the network.\n",
      "\n",
      "* The networks are 'functionalized', either through repeated large bias sweeps or a steady bias until a sharp increase in conductivity is observed\n",
      "\n",
      "* Pulsed stimulation at an intermediate bias gives discrete conductance states with residence times that follow a power law spectrum"
     ]
    },
    {
     "cell_type": "markdown",
     "metadata": {},
     "source": [
      "A model for these networks will need to make some choice of:\n",
      "\n",
      "* connectivity structure - I think the effect should be fairly robust to many different connectivity structures, so long as they display some disorder that breaks lattice symmetries, although I'm not sure about this.\n",
      "* voltage connection - how is voltages set across the network?  Bus-bar, 2-terminal, or something in between\n",
      "* atomic switch model - what are the essential features of the atomic switch we need to get this behavior?"
     ]
    },
    {
     "cell_type": "heading",
     "level": 3,
     "metadata": {},
     "source": [
      "Connectivity"
     ]
    },
    {
     "cell_type": "markdown",
     "metadata": {},
     "source": [
      "I think the simplest approach is to take a random network of the Erdos-Renyi type, and for now I will stick with that.  More complex approaches can include percolation networks, Barabasi/Watts-Strogatz type graphs, or some locally random connectivity structure. Note that the connectedness threshold for an undirected graph is $p = \\ln{(n)} / n$."
     ]
    },
    {
     "cell_type": "code",
     "collapsed": false,
     "input": [],
     "language": "python",
     "metadata": {},
     "outputs": []
    }
   ],
   "metadata": {}
  }
 ]
}