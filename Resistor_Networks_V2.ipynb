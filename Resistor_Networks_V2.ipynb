{
 "metadata": {
  "name": "",
  "signature": "sha256:91cc5afe8c1bc7fa8e8e29a478c74a5082f0625eea65e8a16e880096ae092cb8"
 },
 "nbformat": 3,
 "nbformat_minor": 0,
 "worksheets": [
  {
   "cells": [
    {
     "cell_type": "heading",
     "level": 1,
     "metadata": {},
     "source": [
      "Resistor Networks V2"
     ]
    },
    {
     "cell_type": "code",
     "collapsed": false,
     "input": [
      "%matplotlib inline"
     ],
     "language": "python",
     "metadata": {},
     "outputs": [],
     "prompt_number": 69
    },
    {
     "cell_type": "code",
     "collapsed": false,
     "input": [
      "import numpy as np\n",
      "import scipy as sp\n",
      "import scipy.sparse as sparse\n",
      "from scipy.sparse.linalg import spsolve, cg\n",
      "from scipy.sparse.csgraph import connected_components\n",
      "import matplotlib.pyplot as plt\n",
      "import itertools\n",
      "import generate_adjacency_matrix as gen_adj"
     ],
     "language": "python",
     "metadata": {},
     "outputs": [],
     "prompt_number": 70
    },
    {
     "cell_type": "markdown",
     "metadata": {},
     "source": [
      "I've found that nearly all functions I build work on the same data: the conductivity matrix and external voltage.  As such, the number of functions and how they work together is becoming overly complex and I would like to work on implementing these ideas in a class rather than the current wide array of functions.  In order to keep things inexpensive in memory, I would like to use sparse matrices throughout and while I will probably equip many solvers, I would like to put some effort into getting a conjugate gradient solution to run as I think it will be useful for memristor networks. "
     ]
    },
    {
     "cell_type": "heading",
     "level": 3,
     "metadata": {},
     "source": [
      "Conjugate Gradient Solutions to Resistor Networks"
     ]
    },
    {
     "cell_type": "markdown",
     "metadata": {},
     "source": [
      "The equations describing a resistor network follow from current conservation.  For node $i$ they are of the form\n",
      "$$ \\left(\\sum_j G_{ij}\\right) V_i - \\sum_j G_{ij} V_j = I_{ext, i}$$\n",
      "where $G_{ij}$ is the conductance from node $i$ to node $j$, $V_k$ is the voltage at node $k$, and $I_{ext, i}$ is the current\n",
      "injected or drawn from node $i$ from external sources.\n",
      "In studying percolation problems it is inconvenient to specify the external current as I don't know which nodes will conduct before I solve the network and most problems of this sort are traditionally solved in the bus bar architecture.  As such, I would prefer to specify voltages.  In an $N$ node network, the equations above give us $N$ unknowns and $M$ boundary conditions to specify where the unknowns are our node voltages and the boundary conditions are our external currents.\n",
      "\n",
      "We may instead specify $M$ node voltages and use the current conservation equations pertaining to those nodes to calculate the external currents.  The remaining nodes give a system of $N-M$ equations in $N-M$ unknowns whose matrix is both symmetric (as the conductance between two nodes is symmetric) and postive definite (as opposed to semidefinite for the laplacian). By removing rows and columns we have removed the solutions $L\\cdot(1, 1, 1,....1) = 0$.  This means it is a natural candidate for a conjugate gradient solution!"
     ]
    },
    {
     "cell_type": "code",
     "collapsed": false,
     "input": [
      "class ResistorNetwork(object):\n",
      "    \"\"\"\n",
      "    This is a basic class for solving a resistor network.  Initializing the network requires:\n",
      "    \n",
      "        G                 - An NxN sparse CSR matrix containing the conductances in the network of N nodes\n",
      "        external_voltages - An Nx1 dense vector of external voltages.  Nodes not set to an external voltages contain a Nan.\n",
      "                            The shape (N,) is preferred\n",
      "\n",
      "    Other available data attributes are:\n",
      "    \n",
      "        voltages          - These are the voltages of the internal nodes in the network.  They are initally set to None and\n",
      "                            are filled in upon calling self.solve()\n",
      "        nodes             - The number of nodes in the network\n",
      "        interior          - The index of interior nodes not set to an external voltage\n",
      "        boundary          - The index of boundary nodes set to an external voltage\n",
      "    \"\"\"\n",
      "    \n",
      "    def __init__(self, G, external_voltages):\n",
      "        self.G = G\n",
      "        self.external_voltages = external_voltages\n",
      "        self.voltages = None\n",
      "        self.nodes, tmp = self.G.shape\n",
      "        self.interior, = np.isnan(self.external_voltages).nonzero()\n",
      "        self.boundary, = np.logical_not(np.isnan(self.external_voltages)).nonzero()\n",
      "        \n",
      "        \n",
      "    def solve_voltages(self, solver, V_0=None):\n",
      "        \"\"\"\n",
      "        This method solves for the node voltages of the resistor network.  It also assumes the network is well\n",
      "        defined, i.e. all nodes are part of a single connected component.  If this is not the case, run a\n",
      "        connected component algorithm on it and feed in the percolating clusters individually. Current solvers are:\n",
      "        \n",
      "            'spsolve' - Scipy's exact sparse solver\n",
      "            'cg'      - Scipy's sparse conjugate gradient solver. Note that conj grad seems to do well for solving a\n",
      "                        network with separate components without breaking it up first but I'm not sure how safe this\n",
      "                        is if we begin changing it's initial state.\n",
      "        \n",
      "        The second optional argument is\n",
      "        \n",
      "            V_0       - (optional) An initial guess for the voltages in the network for the conjugate gradient solver. I\n",
      "                        think this may be useful for memristor networks where the current and previous voltages are only\n",
      "                        infinitesimally separated.\n",
      "        \"\"\"\n",
      "        \n",
      "        # First we form the equations matrix.  To do this, we remove the rows and columns of boundary nodes,\n",
      "        # trading our Neumann boundary conditions for Dirichlet\n",
      "        L = self.graph_laplacian()\n",
      "        D = L[self.interior, :][:, self.interior]\n",
      "        # The columns corresponding to boundary nodes give a constant vector on the interior nodes yielding\n",
      "        # the equation Dv = b (the -1 subtracts it to the other side of the equation)\n",
      "        b = -1. * L[self.interior, :][:, self.boundary].dot(self.external_voltages[self.boundary])\n",
      "        \n",
      "        # Put our boundary values in for the voltages\n",
      "        self.voltages = np.zeros_like(self.external_voltages)\n",
      "        self.voltages[self.boundary] = self.external_voltages[self.boundary]\n",
      "        \n",
      "        # and solve!\n",
      "        if solver == 'spsolve':\n",
      "            self.voltages[self.interior] = spsolve(D, b)\n",
      "        elif solver == 'cg':\n",
      "            #I'd like to include an optional parameter to give the initial guess for the voltages in the network\n",
      "            if V_0 == None:\n",
      "                self.voltages[self.interior], convergence = cg(D, b)\n",
      "            else:\n",
      "                self.voltages[self.interior], convergence = cg(D, b, V_0[self.interior])\n",
      "            #print \"Conjugate Gradient converges with %d\" % convergence\n",
      "        else:\n",
      "            print \"Solver not specified.  Try 'spsolve' or 'cg'\"\n",
      "            \n",
      "    \n",
      "    def graph_laplacian(self):\n",
      "        \"\"\"\n",
      "        Returns the graph laplacian for the resistor network.  This is L = D - G where D is the 'degree' matrix\n",
      "        (for us a diagonal matrix of the sum of the incident conductances to each node) and G is the 'adjacency'\n",
      "        matrix (for us the conductance matrix G)\n",
      "        \"\"\"\n",
      "        # Note that for CSR matrices it is faster to sum across rows\n",
      "        return sparse.dia_matrix((self.G.sum(1).flat, [0]), shape=(self.nodes,self.nodes)).tocsr() - self.G\n",
      "    \n",
      "    def power(self):\n",
      "        \"\"\"\n",
      "        Returns a sparse matrix in CSR form containing the power dissipated between nodes i and j.  Requires that\n",
      "        self.solve() have been called to populate self.voltages\n",
      "        \"\"\"\n",
      "        # Pull nonzero values to iterate only over occupied bonds\n",
      "        # as G is symmetric we can take only the upper trianglular part\n",
      "        rows, cols = sparse.triu(self.G).nonzero()\n",
      "        \n",
      "        # Fill in the entries in the power matrix\n",
      "        power = sparse.lil_matrix(self.G.shape)\n",
      "        for node_i, node_j in itertools.izip(rows, cols):\n",
      "            power[node_i, node_j] = self.G[node_i, node_j] * (self.voltages[node_i] - self.voltages[node_j])**2\n",
      "            power[node_j, node_i] = power[node_i, node_j]\n",
      "        return power.tocsr()\n",
      "    \n",
      "    def external_current(self):\n",
      "        \"\"\"\n",
      "        Returns the currents entering the nodes on the boundary.  These are calculated from,\n",
      "        \n",
      "        graph_laplacian[boundary,:].dot(self.voltages)\n",
      "        \n",
      "        and thus occur in the order specified by boundary\n",
      "        \"\"\"\n",
      "        return self.graph_laplacian()[self.boundary, :].dot(self.voltages)\n",
      "    \n",
      "    def conductivity(self):\n",
      "        \"\"\"\n",
      "        The total conductivity of the network is calculated as the sum of the positive external currents divided\n",
      "        by the voltage difference across the network.  In order for this to work, \n",
      "        \"\"\"\n",
      "        I_external = self.external_current()\n",
      "        return I_external[I_external > 0].sum() / (np.nanmax(self.external_voltages) - np.nanmin(self.external_voltages))"
     ],
     "language": "python",
     "metadata": {},
     "outputs": [],
     "prompt_number": 71
    },
    {
     "cell_type": "heading",
     "level": 4,
     "metadata": {},
     "source": [
      "Example Usage"
     ]
    },
    {
     "cell_type": "code",
     "collapsed": false,
     "input": [
      "# Create some initial parameters to use\n",
      "num_nodes = 100\n",
      "S = np.random.rand(num_nodes, num_nodes)\n",
      "S[S>0.6] = 1\n",
      "S[S<=0.6] = 0\n",
      "S[range(num_nodes), range(num_nodes)] = 0\n",
      "G = sparse.csr_matrix(S + S.T)\n",
      "nodes, tmp = G.shape\n",
      "v_external = np.empty(num_nodes) * np.nan\n",
      "v_external[0:10] = 1\n",
      "v_external[-10:] = 0"
     ],
     "language": "python",
     "metadata": {},
     "outputs": [],
     "prompt_number": 72
    },
    {
     "cell_type": "code",
     "collapsed": false,
     "input": [
      "Rnet = ResistorNetwork(G, v_external)\n",
      "L = Rnet.graph_laplacian()"
     ],
     "language": "python",
     "metadata": {},
     "outputs": [],
     "prompt_number": 73
    },
    {
     "cell_type": "code",
     "collapsed": false,
     "input": [
      "%%timeit\n",
      "Rnet.solve_voltages('spsolve')"
     ],
     "language": "python",
     "metadata": {},
     "outputs": [
      {
       "output_type": "stream",
       "stream": "stdout",
       "text": [
        "100 loops, best of 3: 3.02 ms per loop\n"
       ]
      }
     ],
     "prompt_number": 74
    },
    {
     "cell_type": "code",
     "collapsed": false,
     "input": [
      "voltages_spsolve = Rnet.voltages"
     ],
     "language": "python",
     "metadata": {},
     "outputs": [],
     "prompt_number": 75
    },
    {
     "cell_type": "code",
     "collapsed": false,
     "input": [
      "%%timeit\n",
      "Rnet.solve_voltages('cg')"
     ],
     "language": "python",
     "metadata": {},
     "outputs": [
      {
       "output_type": "stream",
       "stream": "stdout",
       "text": [
        "100 loops, best of 3: 2.84 ms per loop\n"
       ]
      }
     ],
     "prompt_number": 76
    },
    {
     "cell_type": "code",
     "collapsed": false,
     "input": [
      "np.allclose(voltages_spsolve, Rnet.voltages)"
     ],
     "language": "python",
     "metadata": {},
     "outputs": [
      {
       "metadata": {},
       "output_type": "pyout",
       "prompt_number": 77,
       "text": [
        "True"
       ]
      }
     ],
     "prompt_number": 77
    },
    {
     "cell_type": "markdown",
     "metadata": {},
     "source": [
      "Testing the external current,"
     ]
    },
    {
     "cell_type": "code",
     "collapsed": false,
     "input": [
      "ext_current = Rnet.external_current()\n",
      "ext_current"
     ],
     "language": "python",
     "metadata": {},
     "outputs": [
      {
       "metadata": {},
       "output_type": "pyout",
       "prompt_number": 78,
       "text": [
        "array([ 39.2735417 ,  41.42981155,  38.17318759,  47.12255352,\n",
        "        38.28197527,  37.12596239,  42.80883083,  38.63905238,\n",
        "        38.51772294,  42.05173885, -39.75643959, -41.32002893,\n",
        "       -35.2929911 , -50.07094643, -34.09858834, -40.28806076,\n",
        "       -47.50878893, -39.11898645, -36.24245766, -39.72708801])"
       ]
      }
     ],
     "prompt_number": 78
    },
    {
     "cell_type": "markdown",
     "metadata": {},
     "source": [
      "These should sum to zero (or close to it)"
     ]
    },
    {
     "cell_type": "code",
     "collapsed": false,
     "input": [
      "np.isclose(ext_current.sum(), 0, atol=1e-4)"
     ],
     "language": "python",
     "metadata": {},
     "outputs": [
      {
       "metadata": {},
       "output_type": "pyout",
       "prompt_number": 79,
       "text": [
        "True"
       ]
      }
     ],
     "prompt_number": 79
    },
    {
     "cell_type": "markdown",
     "metadata": {},
     "source": [
      "The conductivity is the sum of the positive external currents divided by the voltage difference across the device."
     ]
    },
    {
     "cell_type": "code",
     "collapsed": true,
     "input": [
      "Rnet.conductivity()"
     ],
     "language": "python",
     "metadata": {},
     "outputs": [
      {
       "metadata": {},
       "output_type": "pyout",
       "prompt_number": 80,
       "text": [
        "403.42437701707951"
       ]
      }
     ],
     "prompt_number": 80
    },
    {
     "cell_type": "heading",
     "level": 3,
     "metadata": {},
     "source": [
      "Resistor Connected Component Solver"
     ]
    },
    {
     "cell_type": "markdown",
     "metadata": {},
     "source": [
      "This class first breaks a network defined by a conductance matrix into a set of connected components and then\n",
      "calls the resistor_network class on each component that needs to be solved."
     ]
    },
    {
     "cell_type": "code",
     "collapsed": false,
     "input": [
      "class ResistorNetworkCC(object):\n",
      "    \"\"\"\n",
      "    This class solves resistor network by first breaking the network into connected components and then solving each component\n",
      "    separately.  Aside from this fact, it works by using composition with resistor_network.  Initializing a network requires:\n",
      "    \n",
      "        G                 - An NxN sparse CSR matrix containing the conductances in the network of N nodes\n",
      "        external_voltages - An Nx1 dense vector of external voltages.  Nodes not set to an external voltages contain a Nan.\n",
      "                            The shape (N,) is preferred\n",
      "\n",
      "    Other available data attributes are:\n",
      "    \n",
      "        voltages          - These are the voltages of the internal nodes in the network.  They are initally set to None and\n",
      "                            are filled in upon calling self.solve()\n",
      "        nodes             - The number of nodes in the network\n",
      "        num_comp          - The number of components in the undirected network as given by the connected_components function\n",
      "                            in scipy.sparse.csgraph\n",
      "        comp_labels       - An array containing the component of each node in the network from \n",
      "        interior          - The index of interior nodes not set to an external voltage\n",
      "        boundary          - The index of boundary nodes set to an external voltage\n",
      "    \"\"\"\n",
      "    \n",
      "    def __init__(self, G, external_voltages):\n",
      "        self.G = G\n",
      "        self.external_voltages = external_voltages\n",
      "        self.voltages = None\n",
      "        self.nodes, tmp = self.G.shape\n",
      "        self.num_comp, self.comp_labels = connected_components(self.G, directed=False)\n",
      "        self.interior, = np.isnan(self.external_voltages).nonzero()\n",
      "        self.boundary, = np.logical_not(np.isnan(self.external_voltages)).nonzero()\n",
      "        \n",
      "    def solve_voltages(self, solver, V_0=None):\n",
      "        \"\"\"\n",
      "        This method solves for the node voltages of the resistor network by first breaking the network into connected\n",
      "        components and then defining a resistor_network object for each percolating component. Current solvers are:\n",
      "        \n",
      "            'spsolve' - Scipy's exact sparse solver\n",
      "            'cg'      - Scipy's sparse conjugate gradient solver.\n",
      "        \n",
      "        The second optional argument is\n",
      "        \n",
      "            V_0       - (optional) An initial guess for the voltages in the network for the conjugate gradient solver. I\n",
      "                        think this may be useful for memristor networks where the current and previous voltages are only\n",
      "                        infinitesimally separated.\n",
      "        \"\"\"\n",
      "        \n",
      "        self.voltages = np.zeros_like(self.external_voltages)\n",
      "        \n",
      "        # For each connected component\n",
      "        for cc in range(self.num_comp):\n",
      "            \n",
      "            # Pull a boolean array of the node indices and use that to get the external voltages\n",
      "            cc_nodes = (self.comp_labels == cc)\n",
      "            cc_external_voltages = self.external_voltages[cc_nodes]\n",
      "        \n",
      "            # Find the maximum and minimum voltages on the component.  Nan's will only be found if no other number\n",
      "            # is in the array\n",
      "            cc_max = np.nanmax(cc_external_voltages)\n",
      "            cc_min = np.nanmin(cc_external_voltages)\n",
      "        \n",
      "            # If the component is not set to any voltage, set it to zero\n",
      "            if np.isnan(cc_max):\n",
      "                self.voltages[cc_nodes] = 0\n",
      "        \n",
      "            # If it is set to a single external voltage, set all nodes to that value\n",
      "            elif cc_max == cc_min:\n",
      "                self.voltages[cc_nodes] = cc_max\n",
      "        \n",
      "            # Otherwise, it must be set to two external voltages, in which case we must solve it\n",
      "            else:\n",
      "                # Solve a percolating component over the limited conductance matrix and external voltage\n",
      "                CC_RNet = ResistorNetwork(self.G[cc_nodes, :][:, cc_nodes], cc_external_voltages)\n",
      "                if V_0 == None:\n",
      "                    CC_RNet.solve_voltages(solver)\n",
      "                else:\n",
      "                    CC_RNet.solve_voltages(solver, V_0[cc_nodes])\n",
      "                self.voltages[cc_nodes] = CC_RNet.voltages\n",
      "    \n",
      "    def graph_laplacian(self):\n",
      "        \"\"\"\n",
      "        Returns the graph laplacian for the resistor network.  This is L = D - G where D is the 'degree' matrix\n",
      "        (for us a diagonal matrix of the sum of the incident conductances to each node) and G is the 'adjacency'\n",
      "        matrix (for us the conductance matrix G)\n",
      "        \"\"\"\n",
      "        # Note that for CSR matrices it is faster to sum across rows\n",
      "        return sparse.dia_matrix((self.G.sum(1).flat, [0]), shape=(self.nodes,self.nodes)).tocsr() - self.G\n",
      "    \n",
      "    def power(self):\n",
      "        \"\"\"\n",
      "        Returns a sparse matrix in CSR form containing the power dissipated between nodes i and j.  Requires that\n",
      "        self.solve() have been called to populate self.voltages\n",
      "        \"\"\"\n",
      "        # Pull nonzero values to iterate only over occupied bonds\n",
      "        # as G is symmetric we can take only the upper trianglular part\n",
      "        rows, cols = sparse.triu(self.G).nonzero()\n",
      "    \n",
      "        # Fill in the entries in the power matrix\n",
      "        power = sparse.lil_matrix(self.G.shape)\n",
      "        for node_i, node_j in itertools.izip(rows, cols):\n",
      "            power[node_i, node_j] = self.G[node_i, node_j] * (self.voltages[node_i] - self.voltages[node_j])**2\n",
      "            power[node_j, node_i] = power[node_i, node_j]\n",
      "        return power.tocsr()\n",
      "    \n",
      "    def external_current(self):\n",
      "        \"\"\"\n",
      "        Returns the currents entering the nodes on the boundary.  These are calculated from,\n",
      "        \n",
      "        graph_laplacian[boundary,:].dot(self.voltages)\n",
      "        \n",
      "        and thus occur in the order specified by boundary\n",
      "        \"\"\"\n",
      "        return self.graph_laplacian()[self.boundary, :].dot(self.voltages)\n",
      "    \n",
      "    def conductivity(self):\n",
      "        \"\"\"\n",
      "        The total conductivity of the network is calculated as the sum of the positive external currents divided\n",
      "        by the voltage difference across the network.  In order for this to work, \n",
      "        \"\"\"\n",
      "        I_external = self.external_current()\n",
      "        return I_external[I_external > 0].sum() / (np.nanmax(self.external_voltages) - np.nanmin(self.external_voltages))\n",
      "    "
     ],
     "language": "python",
     "metadata": {},
     "outputs": [],
     "prompt_number": 81
    },
    {
     "cell_type": "heading",
     "level": 4,
     "metadata": {},
     "source": [
      "Example Usage"
     ]
    },
    {
     "cell_type": "markdown",
     "metadata": {},
     "source": [
      "In order to test this properly, I would need a network that actually breaks into separate components. First, I'd like to make sure it reproduces our last results."
     ]
    },
    {
     "cell_type": "code",
     "collapsed": false,
     "input": [
      "Rnet = ResistorNetworkCC(G, v_external)\n",
      "Rnet.num_comp"
     ],
     "language": "python",
     "metadata": {},
     "outputs": [
      {
       "metadata": {},
       "output_type": "pyout",
       "prompt_number": 82,
       "text": [
        "1"
       ]
      }
     ],
     "prompt_number": 82
    },
    {
     "cell_type": "code",
     "collapsed": false,
     "input": [
      "Rnet.solve_voltages('spsolve')\n",
      "np.allclose(Rnet.voltages, voltages_spsolve)"
     ],
     "language": "python",
     "metadata": {},
     "outputs": [
      {
       "metadata": {},
       "output_type": "pyout",
       "prompt_number": 83,
       "text": [
        "True"
       ]
      }
     ],
     "prompt_number": 83
    },
    {
     "cell_type": "code",
     "collapsed": false,
     "input": [
      "%%timeit\n",
      "Rnet = ResistorNetworkCC(G, v_external)\n",
      "Rnet.solve_voltages('cg')"
     ],
     "language": "python",
     "metadata": {},
     "outputs": [
      {
       "output_type": "stream",
       "stream": "stdout",
       "text": [
        "100 loops, best of 3: 4.22 ms per loop\n"
       ]
      }
     ],
     "prompt_number": 84
    },
    {
     "cell_type": "code",
     "collapsed": false,
     "input": [
      "%%timeit\n",
      "Rnet = ResistorNetwork(G, v_external)\n",
      "Rnet.solve_voltages('cg')"
     ],
     "language": "python",
     "metadata": {},
     "outputs": [
      {
       "output_type": "stream",
       "stream": "stdout",
       "text": [
        "100 loops, best of 3: 2.88 ms per loop\n"
       ]
      }
     ],
     "prompt_number": 85
    },
    {
     "cell_type": "code",
     "collapsed": false,
     "input": [
      "Rnet.conductivity()"
     ],
     "language": "python",
     "metadata": {},
     "outputs": [
      {
       "metadata": {},
       "output_type": "pyout",
       "prompt_number": 86,
       "text": [
        "403.42437701631991"
       ]
      }
     ],
     "prompt_number": 86
    },
    {
     "cell_type": "code",
     "collapsed": false,
     "input": [
      "\n",
      "G = gen_adj.cubic_2d_random((10,10), 0.65)\n",
      "v_external = np.empty(num_nodes) * np.nan\n",
      "v_external[0:10] = 1\n",
      "v_external[-10:] = 0\n",
      "Rnet = ResistorNetworkCC(G, v_external)\n",
      "Rnet.num_comp"
     ],
     "language": "python",
     "metadata": {},
     "outputs": [
      {
       "metadata": {},
       "output_type": "pyout",
       "prompt_number": 87,
       "text": [
        "9"
       ]
      }
     ],
     "prompt_number": 87
    },
    {
     "cell_type": "code",
     "collapsed": false,
     "input": [
      "Rnet = ResistorNetworkCC(G, v_external)\n",
      "Rnet.solve_voltages('spsolve')\n",
      "spsolve_voltages_cc = Rnet.voltages"
     ],
     "language": "python",
     "metadata": {},
     "outputs": [],
     "prompt_number": 88
    },
    {
     "cell_type": "code",
     "collapsed": false,
     "input": [
      "Rnet.solve_voltages('cg')\n",
      "np.allclose(spsolve_voltages_cc, Rnet.voltages, rtol=1e-3)"
     ],
     "language": "python",
     "metadata": {},
     "outputs": [
      {
       "metadata": {},
       "output_type": "pyout",
       "prompt_number": 89,
       "text": [
        "True"
       ]
      }
     ],
     "prompt_number": 89
    },
    {
     "cell_type": "markdown",
     "metadata": {},
     "source": [
      "If we instead tried to solve this network with resistor_network"
     ]
    },
    {
     "cell_type": "code",
     "collapsed": false,
     "input": [
      "Rnet = ResistorNetwork(G, v_external)\n",
      "Rnet.solve_voltages('spsolve')\n",
      "np.allclose(spsolve_voltages_cc, Rnet.voltages, rtol=1e-1)"
     ],
     "language": "python",
     "metadata": {},
     "outputs": [
      {
       "metadata": {},
       "output_type": "pyout",
       "prompt_number": 90,
       "text": [
        "False"
       ]
      }
     ],
     "prompt_number": 90
    },
    {
     "cell_type": "markdown",
     "metadata": {},
     "source": [
      "Disaster..., but with conjugate gradient"
     ]
    },
    {
     "cell_type": "code",
     "collapsed": false,
     "input": [
      "Rnet = ResistorNetwork(G, v_external)\n",
      "Rnet.solve_voltages('cg')\n",
      "np.allclose(spsolve_voltages_cc, Rnet.voltages, rtol=1e-3)"
     ],
     "language": "python",
     "metadata": {},
     "outputs": [
      {
       "metadata": {},
       "output_type": "pyout",
       "prompt_number": 91,
       "text": [
        "True"
       ]
      }
     ],
     "prompt_number": 91
    },
    {
     "cell_type": "code",
     "collapsed": false,
     "input": [
      "Rnet.conductivity()"
     ],
     "language": "python",
     "metadata": {},
     "outputs": [
      {
       "metadata": {},
       "output_type": "pyout",
       "prompt_number": 92,
       "text": [
        "4.029159159424367e-06"
       ]
      }
     ],
     "prompt_number": 92
    },
    {
     "cell_type": "markdown",
     "metadata": {},
     "source": [
      "It seems to work, but as I said before, I'm not sure this is safe as it probably depends on the inital point chosen by the cg\n",
      "solver (which I believe is $\\vec{0}$). Hence it works if I start all the disconnected components to 0 but they are probably stationary if I set them to anything else. To check,"
     ]
    },
    {
     "cell_type": "code",
     "collapsed": false,
     "input": [
      "Rnet = ResistorNetwork(G, v_external)\n",
      "Rnet.solve_voltages('cg', V_0=np.ones_like(v_external))\n",
      "np.allclose(spsolve_voltages_cc, Rnet.voltages, rtol=1e-1)"
     ],
     "language": "python",
     "metadata": {},
     "outputs": [
      {
       "metadata": {},
       "output_type": "pyout",
       "prompt_number": 53,
       "text": [
        "False"
       ]
      }
     ],
     "prompt_number": 53
    },
    {
     "cell_type": "heading",
     "level": 3,
     "metadata": {},
     "source": [
      "2D Cubic Resistor Lattice"
     ]
    },
    {
     "cell_type": "markdown",
     "metadata": {},
     "source": [
      "This class and all others like it will inherit from resistor_network_cc.  Once we have defined a lattice, we are able to display it, and this class is primarily for defining display methods."
     ]
    },
    {
     "cell_type": "code",
     "collapsed": false,
     "input": [
      "class ResistorLattice2DCubic(ResistorNetworkCC):\n",
      "    \n",
      "    def __init__(self, G, external_voltage, lattice_shape):\n",
      "        ResistorNetworkCC.__init__(self, G, external_voltage)\n",
      "        self.lattice_shape = lattice_shape\n",
      "        if self.nodes != (self.lattice_shape[0] * self.lattice_shape[1]):\n",
      "            print \"Number of nodes is not consistent with the shape of the lattice!\"\n",
      "    \n",
      "    def display(self, ax, display_variable, nodesize=5, bondwidth=3):\n",
      "        \"\"\"\n",
      "        This method displays a 2D cubic resistor lattice of shape self.shape = (y, x).  The variables that may be displayed are:\n",
      "        \n",
      "            voltage\n",
      "            power\n",
      "            resistance\n",
      "            \n",
      "        Nodes are indexed across rows such that the first row has nodes 0 through x-1.  This is because I typically\n",
      "        like to set up networks with a vertical bus bar architecture and it makes setting the nodes as simple as possible.\n",
      "        \"\"\" \n",
      "        def node2xy(node_idx):\n",
      "            \"\"\"\n",
      "            returns the x and y coordinates of a node index in our grid supposing that the 0,0 point is in the upper left\n",
      "            and the positive y-axis points down\n",
      "            \"\"\"\n",
      "            return node_idx % self.lattice_shape[1], int(node_idx / self.lattice_shape[1]) \n",
      "        \n",
      "        # Pull nonzero values to plot bonds\n",
      "        rows, cols = sparse.triu(self.G).nonzero()\n",
      "        \n",
      "        # Set up colors\n",
      "        if display_variable == 'voltage':\n",
      "            \n",
      "            # Normalize our voltage colormap to the max and min of voltages\n",
      "            reds = plt.get_cmap('Reds')\n",
      "            norm = plt.Normalize()\n",
      "            norm.autoscale(self.voltages)\n",
      "        \n",
      "        elif display_variable == 'power':\n",
      "            \n",
      "            # Calculate the power dissipated in each resistor\n",
      "            power = self.power()\n",
      "            # Normalize the colormap to the minimum and maximum power in the network\n",
      "            colormap = plt.get_cmap('YlOrRd')\n",
      "            norm = plt.Normalize(vmin=power.min(), vmax=power.max())\n",
      "        else:\n",
      "            print 'Invalid display variable %s' % display_variable\n",
      "            \n",
      "        # Draw the bonds between nodes\n",
      "        for node_i, node_j in itertools.izip(rows, cols):\n",
      "            x_i, y_i = node2xy(node_i)\n",
      "            x_j, y_j = node2xy(node_j)\n",
      "            if display_variable == 'voltage':\n",
      "                ax.plot([x_i, x_j], [y_i, y_j], 'k', lw = bondwidth)\n",
      "            elif display_variable == 'power':\n",
      "                ax.plot([x_i, x_j], [y_i, y_j], color=colormap(norm(power[node_i, node_j])), lw=bondwidth)\n",
      "        \n",
      "        # Now draw the nodes\n",
      "        if display_variable == 'voltage':\n",
      "            for node, volt in enumerate(self.voltages):\n",
      "                x, y = node2xy(node)\n",
      "                ax.plot(x, y, 's', markersize=nodesize, color=reds(norm(volt)))\n",
      "        elif display_variable == 'power':\n",
      "            for node in range(self.nodes):\n",
      "                x, y = node2xy(node)\n",
      "                ax.plot(x, y, 'ws', markersize=nodesize)\n",
      "        \n",
      "        # And finally set the axes to be just outside the grid spacing and invert the y_axis\n",
      "        ax.set_xlim( -1,  self.lattice_shape[1])\n",
      "        ax.set_ylim( -1, self.lattice_shape[0])\n",
      "        ax.invert_yaxis()\n",
      "        ax.xaxis.set_tick_params(labelbottom='off', labeltop='on')"
     ],
     "language": "python",
     "metadata": {},
     "outputs": [],
     "prompt_number": 24
    },
    {
     "cell_type": "code",
     "collapsed": false,
     "input": [
      "G = gen_adj.cubic_2d((10, 7))\n",
      "v_external = np.empty(10*7) * np.nan\n",
      "v_external[0:7] = 1\n",
      "v_external[-7:] = 0"
     ],
     "language": "python",
     "metadata": {},
     "outputs": [],
     "prompt_number": 25
    },
    {
     "cell_type": "code",
     "collapsed": false,
     "input": [
      "Rlattice = ResistorLattice2DCubic(G, v_external, (10,7))"
     ],
     "language": "python",
     "metadata": {},
     "outputs": [],
     "prompt_number": 26
    },
    {
     "cell_type": "code",
     "collapsed": false,
     "input": [
      "fig, ax = plt.subplots(figsize=(8,8))\n",
      "Rlattice.solve_voltages('cg')\n",
      "Rlattice.display(ax, 'power', nodesize=10)"
     ],
     "language": "python",
     "metadata": {},
     "outputs": [
      {
       "metadata": {},
       "output_type": "display_data",
       "png": "[encoded data removed]",
       "text": [
        "<matplotlib.figure.Figure at 0x472a9d0>"
       ]
      }
     ],
     "prompt_number": 27
    },
    {
     "cell_type": "code",
     "collapsed": false,
     "input": [
      "fig, ax = plt.subplots(figsize=(8,8))\n",
      "Rlattice.display(ax, 'voltage', nodesize=10)"
     ],
     "language": "python",
     "metadata": {},
     "outputs": [
      {
       "metadata": {},
       "output_type": "display_data",
       "png": "[encoded data removed]",
       "text": [
        "<matplotlib.figure.Figure at 0x4722f10>"
       ]
      }
     ],
     "prompt_number": 28
    },
    {
     "cell_type": "code",
     "collapsed": false,
     "input": [
      "G = gen_adj.cubic_2d_random((10, 10), 0.6)\n",
      "v_external = np.empty(10*10) * np.nan\n",
      "v_external[0:10] = 1\n",
      "v_external[-10:] = 0\n",
      "Rnet = ResistorLattice2DCubic(G, v_external, (10,10))"
     ],
     "language": "python",
     "metadata": {},
     "outputs": [],
     "prompt_number": 29
    },
    {
     "cell_type": "code",
     "collapsed": false,
     "input": [
      "Rnet.solve_voltages('spsolve')\n",
      "fig, ax = plt.subplots(figsize=(8,8))\n",
      "Rnet.display(ax, 'voltage', nodesize=10)"
     ],
     "language": "python",
     "metadata": {},
     "outputs": [
      {
       "metadata": {},
       "output_type": "display_data",
       "png": "[encoded data removed]",
       "text": [
        "<matplotlib.figure.Figure at 0x4b1e090>"
       ]
      }
     ],
     "prompt_number": 30
    },
    {
     "cell_type": "code",
     "collapsed": false,
     "input": [],
     "language": "python",
     "metadata": {},
     "outputs": []
    }
   ],
   "metadata": {}
  }
 ]
}