{
 "metadata": {
  "name": "",
  "signature": "sha256:e3d49441be2b35ec5ad34865642fdfb1b034de0222fe23076f3ea0828b76f684"
 },
 "nbformat": 3,
 "nbformat_minor": 0,
 "worksheets": [
  {
   "cells": [
    {
     "cell_type": "heading",
     "level": 1,
     "metadata": {},
     "source": [
      "Resistor Networks V2"
     ]
    },
    {
     "cell_type": "code",
     "collapsed": false,
     "input": [
      "%matplotlib inline"
     ],
     "language": "python",
     "metadata": {},
     "outputs": [],
     "prompt_number": 1
    },
    {
     "cell_type": "code",
     "collapsed": false,
     "input": [
      "import numpy as np\n",
      "import scipy as sp\n",
      "import scipy.sparse as sparse"
     ],
     "language": "python",
     "metadata": {},
     "outputs": [],
     "prompt_number": 2
    },
    {
     "cell_type": "markdown",
     "metadata": {},
     "source": [
      "I've found that nearly all functions I build work on the same data: the conductivity matrix and external voltage.  As such, the number of functions and how they work together is becoming overly complex and I would like to work on implementing these ideas in a class rather than the current wide array of functions.  In order to keep things inexpensive in memory, I would like to use sparse matrices throughout and while I will probably equip many solvers, I would like to put some effort into getting a conjugate gradient solution to run as I think it will be useful for memristor networks. "
     ]
    },
    {
     "cell_type": "heading",
     "level": 3,
     "metadata": {},
     "source": [
      "Conjugate Gradient Solutions to Resistor Networks"
     ]
    },
    {
     "cell_type": "markdown",
     "metadata": {},
     "source": [
      "The equations describing a resistor network follow from current conservation and are of the form\n",
      "$$ \\sum_j G_{ij} V_i - \\sum_j G_{ij} V_j = I_{ext, i}$$\n",
      "In studying percolation problems it is inconvenient to specify the external current as I don't know which nodes will conduct before I solve the network and most problems of this sort are traditionally solved in the bus bar architecture.  As such, I would prefer to specify voltages.  The equations above give us $N$ unknowns and $M$ boundary conditions to specify where the unknowns are our node voltages and the boundary conditions are our external currents.\n",
      "\n",
      "We may instead specify $M$ node voltages and use the current conservation equations pertaining to those nodes to calculate the external currents.  The remaining nodes give a system of $N-M$ equations in $N-M$ unknowns whose matrix is both symmetric (as the conductance between two nodes is symmetric) and postive definite (as opposed to semidefinite for the laplacian. By removing rows and columns we have removed the solutions $L\\cdot(1, 1, 1,....1) = 0$.  This means it is a natural candidate for a conjugate gradient solution!"
     ]
    },
    {
     "cell_type": "code",
     "collapsed": false,
     "input": [
      "class resistor_network(object):\n",
      "    \"\"\"\n",
      "    This is a basic class for solving a resistor network.  Initializing the network requires:\n",
      "    \n",
      "        G -          An NxN sparse CSR matrix containing the conductances in the network of N nodes\n",
      "        v_external - An Nx1 dense vector of external voltages.  Nodes not set to an external voltages contain a Nan.\n",
      "                     The shape (N,) is preferred\n",
      "    Other available data attributes are\n",
      "        voltages   - These are the voltages of the internal nodes in the network.  They are initally set to None and are\n",
      "                     filled in upon calling self.solve()\n",
      "    \"\"\"\n",
      "    \n",
      "    def __init__(self, G, v_external):\n",
      "        self.G = G\n",
      "        self.external_voltage = v_external\n",
      "        self.voltages = None\n",
      "        self.nodes, tmp = self.G.shape\n",
      "        \n",
      "        \n",
      "    def solve(self, solver):\n",
      "        \"\"\"\n",
      "        This method solves for the node voltages of the resistor network.  It also assumes the network is well\n",
      "        defined, i.e. all nodes are part of a single connected component.  If this is not the case, run a\n",
      "        connected component algorithm on it and feed in the percolating clusters individually. Current solvers are:\n",
      "        \n",
      "            'spsolve' - Scipy's exact sparse solver\n",
      "            'cg'      - Scipy's sparse conjugate gradient solver\n",
      "        \"\"\"\n",
      "        \n",
      "        # Find the interior and boundary nodes in the network\n",
      "        interior, = np.isnan(self.external_voltage).nonzero()\n",
      "        boundary, = np.logical_not(np.isnan(self.external_voltage)).nonzero()\n",
      "        \n",
      "        # First we form the equations matrix.  To do this, we remove the rows and columns of boundary nodes\n",
      "        L = self.graph_laplacian()\n",
      "        D = L[interior,:][:,interior]\n",
      "        # The columns corresponding to boundary nodes give a constant vector on the interior nodes yielding\n",
      "        # the equation Dv = b\n",
      "        b = L[interior,:][:,boundary].dot(self.external_voltage[boundary])\n",
      "        \n",
      "        if solver == 'spsolve':\n",
      "            pass\n",
      "        elif solver == 'cg':\n",
      "            pass\n",
      "        else:\n",
      "            print \"Solver Not specified.  Try 'spsolve' or 'cg'\"\n",
      "        return b\n",
      "    \n",
      "    def graph_laplacian(self):\n",
      "        \"\"\"\n",
      "        Returns the graph laplacian for the resistor network.  This is L = D - G where D is the 'degree' matrix\n",
      "        (for us a diagonal matrix of the sum of the incident conductances to each node) and G is the 'adjacency'\n",
      "        matrix (for us the conductance matrix G)\n",
      "        \"\"\"\n",
      "        # Note that for CSR matrices it is much faster to sum across rows\n",
      "        return sparse.dia_matrix((self.G.sum(1).flat, [0]), shape=(self.nodes,self.nodes)).tocsr() - self.G"
     ],
     "language": "python",
     "metadata": {},
     "outputs": [],
     "prompt_number": 166
    },
    {
     "cell_type": "code",
     "collapsed": false,
     "input": [
      "S = np.random.rand(10,10)\n",
      "S[S>0.7] = 1\n",
      "S[S<=0.7] = 0\n",
      "G = sparse.csr_matrix(S + S.T)\n",
      "nodes, tmp = G.shape\n",
      "v_external = np.empty(10) * np.nan\n",
      "v_external[0:2] = 1\n",
      "v_external[8:] = 0"
     ],
     "language": "python",
     "metadata": {},
     "outputs": [],
     "prompt_number": 167
    },
    {
     "cell_type": "code",
     "collapsed": false,
     "input": [
      "Rnet = resistor_network(G, v_external)\n",
      "L = Rnet.graph_laplacian()\n",
      "Rnet.solve(0)"
     ],
     "language": "python",
     "metadata": {},
     "outputs": [
      {
       "output_type": "stream",
       "stream": "stdout",
       "text": [
        "Solver Not specified.  Try 'spsolve' or 'cg'\n"
       ]
      },
      {
       "metadata": {},
       "output_type": "pyout",
       "prompt_number": 168,
       "text": [
        "array([-1., -1.,  0., -1., -1., -2.])"
       ]
      }
     ],
     "prompt_number": 168
    },
    {
     "cell_type": "code",
     "collapsed": false,
     "input": [
      "boundary, = np.logical_not(np.isnan(v_external)).nonzero()\n",
      "interior, = np.isnan(v_external).nonzero()\n",
      "boundary"
     ],
     "language": "python",
     "metadata": {},
     "outputs": [
      {
       "metadata": {},
       "output_type": "pyout",
       "prompt_number": 169,
       "text": [
        "array([0, 1, 8, 9])"
       ]
      }
     ],
     "prompt_number": 169
    },
    {
     "cell_type": "code",
     "collapsed": false,
     "input": [
      "v_external[boundary]"
     ],
     "language": "python",
     "metadata": {},
     "outputs": [
      {
       "metadata": {},
       "output_type": "pyout",
       "prompt_number": 170,
       "text": [
        "array([ 1.,  1.,  0.,  0.])"
       ]
      }
     ],
     "prompt_number": 170
    },
    {
     "cell_type": "code",
     "collapsed": false,
     "input": [
      "L[:,interior][interior,:]"
     ],
     "language": "python",
     "metadata": {},
     "outputs": [
      {
       "metadata": {},
       "output_type": "pyout",
       "prompt_number": 171,
       "text": [
        "<6x6 sparse matrix of type '<type 'numpy.float64'>'\n",
        "\twith 22 stored elements in Compressed Sparse Row format>"
       ]
      }
     ],
     "prompt_number": 171
    },
    {
     "cell_type": "code",
     "collapsed": false,
     "input": [
      "L[:,boundary][interior,:].dot(v_external[boundary])"
     ],
     "language": "python",
     "metadata": {},
     "outputs": [
      {
       "metadata": {},
       "output_type": "pyout",
       "prompt_number": 172,
       "text": [
        "array([-1., -1.,  0., -1., -1., -2.])"
       ]
      }
     ],
     "prompt_number": 172
    },
    {
     "cell_type": "code",
     "collapsed": false,
     "input": [],
     "language": "python",
     "metadata": {},
     "outputs": [],
     "prompt_number": 160
    },
    {
     "cell_type": "code",
     "collapsed": false,
     "input": [],
     "language": "python",
     "metadata": {},
     "outputs": []
    }
   ],
   "metadata": {}
  }
 ]
}