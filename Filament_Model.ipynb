{
 "metadata": {
  "name": "",
  "signature": "sha256:29ca3fad37ab90607803781e02a921aee5b2af606db3eb19ee54e0ff6d9608d8"
 },
 "nbformat": 3,
 "nbformat_minor": 0,
 "worksheets": [
  {
   "cells": [
    {
     "cell_type": "heading",
     "level": 1,
     "metadata": {},
     "source": [
      "Promising model #17"
     ]
    },
    {
     "cell_type": "code",
     "collapsed": false,
     "input": [
      "%matplotlib inline"
     ],
     "language": "python",
     "metadata": {},
     "outputs": []
    },
    {
     "cell_type": "code",
     "collapsed": false,
     "input": [
      "import numpy as np\n",
      "import scipy as sp"
     ],
     "language": "python",
     "metadata": {},
     "outputs": []
    },
    {
     "cell_type": "markdown",
     "metadata": {},
     "source": [
      "For this design iteration, I am looking at a filament model with a hard switching behavior.  In this case, the state variable is the length of a silver filament in the $Ag_2 S$ junction.  The resistance makes a discontinuous transition to the conducting state when the filament completes.  In the physical devices, there is also a decay time that depends on past history and becomes longer as the filament completes"
     ]
    }
   ],
   "metadata": {}
  }
 ]
}