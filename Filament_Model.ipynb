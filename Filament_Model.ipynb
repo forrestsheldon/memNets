{
 "metadata": {
  "name": "",
  "signature": "sha256:aa81561ad1f40b342cb136079b005e9708fb1d83cbc866a999c74cbc20fa563c"
 },
 "nbformat": 3,
 "nbformat_minor": 0,
 "worksheets": [
  {
   "cells": [
    {
     "cell_type": "heading",
     "level": 1,
     "metadata": {},
     "source": [
      "Promising model #17"
     ]
    },
    {
     "cell_type": "code",
     "collapsed": false,
     "input": [
      "%matplotlib inline"
     ],
     "language": "python",
     "metadata": {},
     "outputs": [],
     "prompt_number": 1
    },
    {
     "cell_type": "code",
     "collapsed": false,
     "input": [
      "import numpy as np\n",
      "import scipy as sp"
     ],
     "language": "python",
     "metadata": {},
     "outputs": [],
     "prompt_number": 2
    },
    {
     "cell_type": "markdown",
     "metadata": {},
     "source": [
      "For this design iteration, I am looking at a filament model with a hard switching behavior.  In this case, the state variable is the length of a silver filament in the $Ag_2 S$ junction.  The resistance makes a discontinuous transition to the conducting state when the filament completes.\n",
      "\n",
      "In the physical devices, while the filament is incomplete, I believe conduction is dominated by tunneling in which case the resistance should go exponentially in the length of the incomplete gap.  Once the filament completes, the conduction becomes ballistic.  In this case, I will model the process as a sharp transition, but it may be essential to add some variation with the filament length. In this case, our model for the conductance is simply"
     ]
    },
    {
     "cell_type": "code",
     "collapsed": false,
     "input": [
      "def G_hard_switching(filament_length, junction_length, G_ON=1., G_OFF=1e-2):\n",
      "    if filament_length < junction_length:\n",
      "        return G_OFF\n",
      "    else:\n",
      "        return G_ON"
     ],
     "language": "python",
     "metadata": {},
     "outputs": [],
     "prompt_number": 3
    },
    {
     "cell_type": "markdown",
     "metadata": {},
     "source": [
      "We may assume that the filament growth rate is propotional to the current or the voltage.  For now, I will choose the current"
     ]
    },
    {
     "cell_type": "code",
     "collapsed": false,
     "input": [
      "def deriv_filament_length_dt(t, filament_length, junction_length, V):\n",
      "    alpha = 1.\n",
      "    return alpha * V"
     ],
     "language": "python",
     "metadata": {},
     "outputs": [],
     "prompt_number": 4
    },
    {
     "cell_type": "markdown",
     "metadata": {},
     "source": [
      "In the actual junctions, there is also a decay time with a time constant that becomes longer as the filament nears completion.  This is modeled with a term of the form\n",
      "$$ - \\beta (l_0 - l(t))$$\n",
      "Giving a time constant of\n",
      "$$\\frac{l(t)}{\\beta(l_0 - l(t))}$$\n",
      "which goes to infinity as the filament completes, making it stable.  It may be worthwhile to make them metastable, either by adding noise term or softening/cutting off the time constant.  Additionally we may want to add burnout when the current across an individual bond exceeds a certain value.  As the junctions should be large enough to accomodate several filaments, making the bond burn (setting the filament length to zero) does not have to include removing the bond."
     ]
    },
    {
     "cell_type": "code",
     "collapsed": false,
     "input": [
      "def deriv_filament_length_dt_relax(t, filament_length, junction_length, V):\n",
      "    beta = 1.\n",
      "    return deriv_filament_length_dt(t, filament_length, junction_length, V) - beta * (junction_length - filament_length)"
     ],
     "language": "python",
     "metadata": {},
     "outputs": [],
     "prompt_number": 5
    },
    {
     "cell_type": "heading",
     "level": 3,
     "metadata": {},
     "source": [
      "Creating the Network"
     ]
    },
    {
     "cell_type": "code",
     "collapsed": false,
     "input": [
      "import generate_adjacency_matrix as gen_adj\n",
      "import memristor_networks as mnets"
     ],
     "language": "python",
     "metadata": {},
     "outputs": [],
     "prompt_number": 6
    },
    {
     "cell_type": "markdown",
     "metadata": {},
     "source": [
      "We run into a small hiccup when defining the filament lengths.  Setting them to zero won't work with our use of sparse matrices. To adjust for this, we set our zero point for the filament length to a value near zero."
     ]
    },
    {
     "cell_type": "code",
     "collapsed": false,
     "input": [
      "filament_zero = 1e-12"
     ],
     "language": "python",
     "metadata": {},
     "outputs": [],
     "prompt_number": 13
    },
    {
     "cell_type": "code",
     "collapsed": false,
     "input": [
      "initial_filaments = filament_zero*gen_adj.toggle(gen_adj.cubic_2d((10, 10), undirected=True), 0.1)"
     ],
     "language": "python",
     "metadata": {},
     "outputs": [],
     "prompt_number": 14
    },
    {
     "cell_type": "markdown",
     "metadata": {},
     "source": [
      "For the external voltage, I suppose I should first look at sweeps and pulses."
     ]
    },
    {
     "cell_type": "code",
     "collapsed": false,
     "input": [
      "from scipy.signal import sawtooth\n"
     ],
     "language": "python",
     "metadata": {},
     "outputs": []
    },
    {
     "cell_type": "code",
     "collapsed": false,
     "input": [],
     "language": "python",
     "metadata": {},
     "outputs": []
    }
   ],
   "metadata": {}
  }
 ]
}