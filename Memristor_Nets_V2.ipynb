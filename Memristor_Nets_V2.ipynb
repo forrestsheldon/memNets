{
 "metadata": {
  "name": "",
  "signature": "sha256:115ce6ac9f81977b6cfecb8b2102a6936bbcba2200bfa252f0dd6e5cf25b54b0"
 },
 "nbformat": 3,
 "nbformat_minor": 0,
 "worksheets": [
  {
   "cells": [
    {
     "cell_type": "heading",
     "level": 1,
     "metadata": {},
     "source": [
      "Memristor Networks V2"
     ]
    },
    {
     "cell_type": "code",
     "collapsed": false,
     "input": [
      "%matplotlib inline"
     ],
     "language": "python",
     "metadata": {},
     "outputs": [],
     "prompt_number": 1
    },
    {
     "cell_type": "code",
     "collapsed": false,
     "input": [
      "import numpy as np\n",
      "import scipy as sp\n",
      "from scipy.integrate import ode\n",
      "import matplotlib.pyplot as plt\n",
      "import resistor_network as rnets\n",
      "import generate_adjacency_matrix as gen_adj"
     ],
     "language": "python",
     "metadata": {},
     "outputs": [],
     "prompt_number": 2
    },
    {
     "cell_type": "markdown",
     "metadata": {},
     "source": [
      "Now that resistor networks and adjacency matrices have been refactored, it is time to start cleaning up\n",
      "memristor networks. A memristor network can inherit from a resistor network but should have the additional data attributes:\n",
      "\n",
      "* state_variable - a tuple of sparse matrices holding the state variables\n",
      "* G_ON - the upper conductance limit\n",
      "* G_OFF - the lower conductance limit\n",
      "\n",
      "and methods\n",
      "\n",
      "* XtoG - a function giving the conductance as a function of the tuple of state variables X\n",
      "* xdot - a function giving the time derivative of X as a function of X and V\n",
      "* update - a method that integrates the network forward a time $\\Delta t$\n",
      "\n"
     ]
    },
    {
     "cell_type": "code",
     "collapsed": false,
     "input": [
      "class MemristorNetwork(rnets.ResistorNetworkCC):\n",
      "    \"\"\"\n",
      "    This class inherits from my ResistorNetworkCC class in the aim of generalizing it to solve arbitrary\n",
      "    memristor networks.  This class will store the memristor network at a moment in time and possesses an\n",
      "    update(dt) method that integrates the network forward a time dt, assuming that the voltages in the\n",
      "    network are constant. This requires:\n",
      "    \n",
      "    state_variables\n",
      "    external_voltages\n",
      "    XtoG\n",
      "    xdot\n",
      "    \n",
      "    with optional arguments:\n",
      "    \n",
      "    jacobian\n",
      "    memristor_params\n",
      "    G_ON\n",
      "    G_OFF\n",
      "    \"\"\"\n",
      "    \n",
      "    def __init__(self, state_variables, external_voltages, XtoG, xdot, jacobian=None, memristor_params=None, G_ON=1, G_OFF=10**-2):\n",
      "        self.state_variables = state_variables\n",
      "        self.XtoG = XtoG\n",
      "        self.G_ON = G_ON\n",
      "        self.G_OFF = G_OFF\n",
      "        self.memristor_params = memristor_params\n",
      "        self.xdot=xdot\n",
      "        self.integrator = ode(xdot, jac=jacobian)\n",
      "        rnets.ResistorNetworkCC.__init__(self, self.XtoG(self.state_variables), external_voltages)\n",
      "    \n",
      "    def update_conductance_matrix(self):\n",
      "        self.G = self.XtoG(self.state_variables)\n",
      "    \n",
      "    def update(self, delta_t, method='scipyode'):\n",
      "        \"\"\"\n",
      "        Integrate the state variables of the network from their current value to their value a time delta_t\n",
      "        later assuming that the voltages are constant during this time.  This method is only intended to update\n",
      "        the state variables infinitesimally.  The attribute xdot is a function of the state variables and the\n",
      "        voltage drop across a memristor that gives the first derivative of the state variables. \n",
      "        \"\"\"\n",
      "        \n",
      "        # I'm going to ignore the danger that the voltages may not have been updated for the moment as I\n",
      "        # may prefer the freedom to decide when I solve the network\n",
      "        \n",
      "        # find all the memristors by calling nonzero() on the state_variables matrix\n",
      "        rows, cols = self.state_variables.nonzero()\n",
      "        \n",
      "        # loop over each memristor. This could easily be done in parallel\n",
      "        for i, j in zip(rows, cols):\n",
      "            # Set the parameters of each memristor in the integrator\n",
      "            voltage_drop = self.voltages[i] - self.voltages[j]\n",
      "            try:\n",
      "                param = self.memristor_params[i, j]\n",
      "            except TypeError:\n",
      "                param = None\n",
      "                \n",
      "            if method=='scipyode':\n",
      "                self.integrator.set_initial_value(self.state_variables[i, j], 0).set_f_params(voltage_drop,\n",
      "                                                  param).set_jac_params(voltage_drop, param)\n",
      "                integrated_state_variable = self.integrator.integrate(delta_t)\n",
      "            elif method=='myrk4':\n",
      "                integrated_state_variable = RK4_next(self.state_variables[i, j], voltage_drop, param, 0, delta_t, self.xdot)\n",
      "            \n",
      "            if self.integrator.successful():\n",
      "                if integrated_state_variable >= self.G_ON:\n",
      "                    self.state_variables[i, j] = self.G_ON\n",
      "                elif integrated_state_variable <= self.G_OFF:\n",
      "                    self.state_variables[i, j] = self.G_OFF\n",
      "                else:\n",
      "                    self.state_variables[i, j] = integrated_state_variable\n",
      "            else:\n",
      "                print \"Integration was unsuccessful\"\n",
      "                \n",
      "            \n",
      "        self.update_conductance_matrix()\n",
      "        \n",
      "# I am making use of my RK4 integrator to provide a faster integration option.  The\n",
      "# integrators provided by ode will offer a way to assess whether results given here\n",
      "# are trustworthy\n",
      "\n",
      "def RK4_next(current_x, V, V_T, time, delta_t, func_xdot):\n",
      "    \n",
      "    def xdot(x, t):\n",
      "        return func_xdot(t, x, V, V_T)\n",
      "    \n",
      "    return current_x + 1. / 6. * delta_t * (k1(xdot, current_x, time) + 2 * k2(xdot, current_x, time, delta_t) +\n",
      "                                            2 * k3(xdot, current_x, time, delta_t) + k4(xdot, current_x, time, delta_t))\n",
      "    \n",
      "\n",
      "    # Various intermediate derivatives used in RK4       \n",
      "def k1(deriv, y, t):\n",
      "    return deriv(y, t)\n",
      "\n",
      "def k2(deriv, y, t, h):\n",
      "    return deriv(y + 0.5 * h * k1(deriv, y, t), t + 0.5 * h)\n",
      "\n",
      "def k3(deriv, y, t, h):\n",
      "    return deriv(y + 0.5 * h * k2(deriv, y, t, h), t + 0.5 * h)\n",
      "\n",
      "def k4(deriv, y, t, h):\n",
      "    return deriv(y + h * k3(deriv, y, t, h), t + h)"
     ],
     "language": "python",
     "metadata": {},
     "outputs": [],
     "prompt_number": 19
    },
    {
     "cell_type": "markdown",
     "metadata": {},
     "source": [
      "Here we can define our functions to feed to the network"
     ]
    },
    {
     "cell_type": "code",
     "collapsed": false,
     "input": [
      "def XtoG(X):\n",
      "    return X + X.T\n",
      "\n",
      "def xdot(t, x, V, V_T):\n",
      "    return vc_mG_xdot_dmnlss(x, V / V_T, t)\n",
      "\n",
      "def vc_mR_xdot_dmnlss(x, V, t):\n",
      "    return V - 0.5 * (np.abs(V + 1) - np.abs(V - 1))\n",
      "    \n",
      "def vc_mG_xdot_dmnlss(x, V, t):\n",
      "    \"\"\"\n",
      "    If I instead want to use the conductance as the internal state variable, we have\n",
      "    G_dot = -G^2 R_dot\n",
      "    \"\"\"\n",
      "    return -x**2 * vc_mR_xdot_dmnlss(1. / x, V, t)"
     ],
     "language": "python",
     "metadata": {},
     "outputs": [],
     "prompt_number": 20
    },
    {
     "cell_type": "code",
     "collapsed": false,
     "input": [
      "# As a test, let's reproduce the complex dynamics in 1D work\n",
      "state_var = gen_adj.chain_1d(11, directed=True, bias=0.5)\n",
      "threshold_voltages = state_var.copy()"
     ],
     "language": "python",
     "metadata": {},
     "outputs": [],
     "prompt_number": 28
    },
    {
     "cell_type": "code",
     "collapsed": false,
     "input": [
      "# Create the external voltage\n",
      "t_final = 1500                                              # in units of t_0\n",
      "t = np.linspace(0, t_final, 10000 )\n",
      "dt = t[1] - t[0]\n",
      "\n",
      "V_final = 17.5                                               # in units of V_t\n",
      "V_high = np.linspace(0, V_final, 10000)\n",
      "v_external = np.empty((11, len(t))) * np.nan\n",
      "v_external[0,  :] = V_high\n",
      "v_external[10, :] = 0"
     ],
     "language": "python",
     "metadata": {},
     "outputs": [
      {
       "output_type": "stream",
       "stream": "stderr",
       "text": [
        "-c:8: RuntimeWarning: invalid value encountered in multiply\n"
       ]
      }
     ],
     "prompt_number": 29
    },
    {
     "cell_type": "code",
     "collapsed": false,
     "input": [
      "# Parameters\n",
      "R_0 = 1\n",
      "V_t = 1\n",
      "beta = 1\n",
      "t_0 = R_0 / (beta * V_t)"
     ],
     "language": "python",
     "metadata": {},
     "outputs": [],
     "prompt_number": 30
    },
    {
     "cell_type": "code",
     "collapsed": false,
     "input": [
      "# Generate initial Resistances and threshold voltages\n",
      "R_ON = 0.05 * R_0\n",
      "R_OFF = 1.95 * R_0\n",
      "G_ON = 1. / R_ON\n",
      "G_OFF = 1. / R_OFF\n",
      "\n",
      "R_initial = (R_OFF - R_ON) * np.random.random_sample(10) + R_ON\n",
      "V_thresholds = V_t * np.random.random_sample(10)\n",
      "rows, cols = state_var.nonzero()\n",
      "state_var[rows, cols] = 1. / R_initial\n",
      "threshold_voltages[rows, cols] = V_thresholds"
     ],
     "language": "python",
     "metadata": {},
     "outputs": [],
     "prompt_number": 31
    },
    {
     "cell_type": "code",
     "collapsed": false,
     "input": [
      "memtest = MemristorNetwork(state_var, v_external[:,0], XtoG, xdot, jacobian=None,\n",
      "                           memristor_params=threshold_voltages, G_ON=G_ON, G_OFF=G_OFF)\n",
      "memtest.integrator.set_integrator('dop853', atol=10**-2, nsteps=10000)"
     ],
     "language": "python",
     "metadata": {},
     "outputs": [
      {
       "metadata": {},
       "output_type": "pyout",
       "prompt_number": 32,
       "text": [
        "<scipy.integrate._ode.ode at 0x45b4450>"
       ]
      }
     ],
     "prompt_number": 32
    },
    {
     "cell_type": "code",
     "collapsed": false,
     "input": [
      "memtest.solve_voltages('cg')\n",
      "cond = [memtest.conductivity()]\n",
      "# At each time point beginning with the 2nd\n",
      "for t_idx, time in enumerate(t[1:]):\n",
      "    # update external voltages\n",
      "    memtest.external_voltages = v_external[:,t_idx]\n",
      "    # integrate the memristances\n",
      "    memtest.update(dt)\n",
      "    # solve the network\n",
      "    memtest.solve_voltages('cg')\n",
      "    # add the memristances to our list\n",
      "    cond.append(memtest.conductivity())\n",
      "    \n",
      "    "
     ],
     "language": "python",
     "metadata": {},
     "outputs": [],
     "prompt_number": 33
    },
    {
     "cell_type": "code",
     "collapsed": false,
     "input": [
      "fig, ax = plt.subplots()\n",
      "ax.plot(V_high, 1. / np.array(cond))\n",
      "ax.set_xlim(0, 17.5)"
     ],
     "language": "python",
     "metadata": {},
     "outputs": [
      {
       "metadata": {},
       "output_type": "pyout",
       "prompt_number": 34,
       "text": [
        "(0, 17.5)"
       ]
      },
      {
       "metadata": {},
       "output_type": "display_data",
       "png": "[encoded data removed]",
       "text": [
        "<matplotlib.figure.Figure at 0x4536650>"
       ]
      }
     ],
     "prompt_number": 34
    },
    {
     "cell_type": "markdown",
     "metadata": {},
     "source": [
      "Now, what if we do the same thing with my rk4 integrator"
     ]
    },
    {
     "cell_type": "code",
     "collapsed": false,
     "input": [
      "# Create the external voltage\n",
      "t_final = 1500                                              # in units of t_0\n",
      "t = np.linspace(0, t_final, 10000 )\n",
      "dt = t[1] - t[0]\n",
      "\n",
      "V_final = 17.5                                               # in units of V_t\n",
      "V_high = np.linspace(0, V_final, 10000)\n",
      "v_external = np.empty((11, len(t))) * np.nan\n",
      "v_external[0,  :] = V_high\n",
      "v_external[10, :] = 0\n",
      "\n",
      "memtest = MemristorNetwork(state_var, v_external[:,0], XtoG, xdot, jacobian=None,\n",
      "                           memristor_params=threshold_voltages, G_ON=G_ON, G_OFF=G_OFF)\n",
      "memtest.solve_voltages('cg')\n",
      "cond = [memtest.conductivity()]\n",
      "# At each time point beginning with the 2nd\n",
      "for t_idx, time in enumerate(t[1:]):\n",
      "    # update external voltages\n",
      "    memtest.external_voltages = v_external[:,t_idx]\n",
      "    # integrate the memristances\n",
      "    memtest.update(dt, method='myrk4')\n",
      "    # solve the network\n",
      "    memtest.solve_voltages('cg')\n",
      "    # add the memristances to our list\n",
      "    cond.append(memtest.conductivity())\n",
      "\n",
      "fig, ax = plt.subplots()\n",
      "ax.plot(V_high, 1. / np.array(cond))\n",
      "ax.set_xlim(0, 17.5)"
     ],
     "language": "python",
     "metadata": {},
     "outputs": [
      {
       "metadata": {},
       "output_type": "pyout",
       "prompt_number": 35,
       "text": [
        "(0, 17.5)"
       ]
      },
      {
       "metadata": {},
       "output_type": "display_data",
       "png": "[encoded data removed]",
       "text": [
        "<matplotlib.figure.Figure at 0x45959d0>"
       ]
      }
     ],
     "prompt_number": 35
    },
    {
     "cell_type": "markdown",
     "metadata": {},
     "source": [
      "Boooom...Explosion"
     ]
    },
    {
     "cell_type": "heading",
     "level": 3,
     "metadata": {},
     "source": [
      "Memristor Lattices"
     ]
    },
    {
     "cell_type": "code",
     "collapsed": false,
     "input": [
      "class MemristorLattice2DCubic(rnets.ResistorLattice2DCubic):\n",
      "    \"\"\"\n",
      "    This class inherits from my ResistorLattice2DCubic class in the aim of generalizing it to solve arbitrary\n",
      "    memristor lattices.  It is the same code as the MemristorNetwork class, only inheriting the display\n",
      "    methods from the resistor lattice class as well.This class will store the memristor network at a moment\n",
      "    in time and possesses an update(dt) method that integrates the network forward a time dt, assuming that\n",
      "    the voltages in the network are constant. This requires:\n",
      "    \n",
      "    state_variables\n",
      "    external_voltages\n",
      "    XtoG\n",
      "    xdot\n",
      "    \n",
      "    with optional arguments:\n",
      "    \n",
      "    jacobian\n",
      "    memristor_params\n",
      "    G_ON\n",
      "    G_OFF\n",
      "    \"\"\"\n",
      "    \n",
      "    def __init__(self, lattice_shape, state_variables, external_voltages, XtoG, xdot, \n",
      "                 jacobian=None, memristor_params=None, G_ON=1, G_OFF=10**-2):\n",
      "        self.state_variables = state_variables\n",
      "        self.XtoG = XtoG\n",
      "        self.G_ON = G_ON\n",
      "        self.G_OFF = G_OFF\n",
      "        self.memristor_params = memristor_params\n",
      "        self.xdot=xdot\n",
      "        self.integrator = ode(xdot, jac=jacobian)\n",
      "        rnets.ResistorLattice2DCubic.__init__(self, self.XtoG(self.state_variables), external_voltages, lattice_shape)\n",
      "    \n",
      "    def update_conductance_matrix(self):\n",
      "        self.G = self.XtoG(self.state_variables)\n",
      "    \n",
      "    def update(self, delta_t, method='scipyode'):\n",
      "        \"\"\"\n",
      "        Integrate the state variables of the network from their current value to their value a time delta_t\n",
      "        later assuming that the voltages are constant during this time.  This method is only intended to update\n",
      "        the state variables infinitesimally.  The attribute xdot is a function of the state variables and the\n",
      "        voltage drop across a memristor that gives the first derivative of the state variables. \n",
      "        \"\"\"\n",
      "        \n",
      "        # I'm going to ignore the danger that the voltages may not have been updated for the moment as I\n",
      "        # may prefer the freedom to decide when I solve the network\n",
      "        \n",
      "        # find all the memristors by calling nonzero() on the state_variables matrix\n",
      "        rows, cols = self.state_variables.nonzero()\n",
      "        \n",
      "        # loop over each memristor. This could easily be done in parallel\n",
      "        for i, j in zip(rows, cols):\n",
      "            # Set the parameters of each memristor in the integrator\n",
      "            voltage_drop = self.voltages[i] - self.voltages[j]\n",
      "            try:\n",
      "                param = self.memristor_params[i, j]\n",
      "            except TypeError:\n",
      "                param = None\n",
      "            \n",
      "            if method=='scipyode':\n",
      "                self.integrator.set_initial_value(self.state_variables[i, j], 0).set_f_params(voltage_drop,\n",
      "                                                  param).set_jac_params(voltage_drop, param)\n",
      "                integrated_state_variable = self.integrator.integrate(delta_t)\n",
      "            elif method=='myrk4':\n",
      "                integrated_state_variable = RK4_next(self.state_variables[i, j], voltage_drop, param, 0, delta_t, self.xdot)\n",
      "            \n",
      "            if self.integrator.successful():\n",
      "                if integrated_state_variable >= self.G_ON:\n",
      "                    self.state_variables[i, j] = self.G_ON\n",
      "                elif integrated_state_variable <= self.G_OFF:\n",
      "                    self.state_variables[i, j] = self.G_OFF\n",
      "                else:\n",
      "                    self.state_variables[i, j] = integrated_state_variable\n",
      "            else:\n",
      "                print \"Integration was unsuccessful\"\n",
      "                \n",
      "            \n",
      "        self.update_conductance_matrix()\n"
     ],
     "language": "python",
     "metadata": {},
     "outputs": [
      {
       "ename": "SyntaxError",
       "evalue": "invalid syntax (<ipython-input-12-c85ba7ecc6f0>, line 59)",
       "output_type": "pyerr",
       "traceback": [
        "\u001b[1;36m  File \u001b[1;32m\"<ipython-input-12-c85ba7ecc6f0>\"\u001b[1;36m, line \u001b[1;32m59\u001b[0m\n\u001b[1;33m    if method='scipyode':\u001b[0m\n\u001b[1;37m             ^\u001b[0m\n\u001b[1;31mSyntaxError\u001b[0m\u001b[1;31m:\u001b[0m invalid syntax\n"
       ]
      }
     ],
     "prompt_number": 12
    },
    {
     "cell_type": "code",
     "collapsed": false,
     "input": [
      "lattice_shape = (7, 7)\n",
      "num_nodes = lattice_shape[0] * lattice_shape[1]\n",
      "state_var = gen_adj.cubic_2d(lattice_shape, undirected=False, xbias=1, ybias=1)\n",
      "threshold_voltages = state_var.copy()"
     ],
     "language": "python",
     "metadata": {},
     "outputs": [],
     "prompt_number": 13
    },
    {
     "cell_type": "code",
     "collapsed": false,
     "input": [
      "# Create the external voltage\n",
      "t_final = 1000                                              # in units of t_0\n",
      "t = np.linspace(0, t_final, 10000 )\n",
      "dt = t[1] - t[0]\n",
      "\n",
      "V_initial = 1e-4\n",
      "V_final = 10                                               # in units of V_t\n",
      "V_high = np.linspace(V_initial, V_final, len(t))\n",
      "v_external = np.empty((num_nodes, len(t))) * np.nan\n",
      "v_external[0:lattice_shape[1],  :] = V_high\n",
      "v_external[(-1 * lattice_shape[1]):, :] = 0"
     ],
     "language": "python",
     "metadata": {},
     "outputs": [],
     "prompt_number": 14
    },
    {
     "cell_type": "code",
     "collapsed": false,
     "input": [
      "rows, cols = state_var.nonzero()\n",
      "num_memristors = len(rows)\n",
      "R_initial = (R_OFF - R_ON) * np.random.random_sample(num_memristors) + R_ON\n",
      "V_thresholds = V_t * np.random.random_sample(num_memristors)\n",
      "state_var[rows, cols] = 1. / R_initial\n",
      "threshold_voltages[rows, cols] = V_thresholds"
     ],
     "language": "python",
     "metadata": {},
     "outputs": [],
     "prompt_number": 15
    },
    {
     "cell_type": "code",
     "collapsed": false,
     "input": [
      "memtest = MemristorLattice2DCubic(lattice_shape, state_var, v_external[:,0], XtoG, xdot, jacobian=None,\n",
      "                           memristor_params=threshold_voltages, G_ON=G_ON, G_OFF=G_OFF)\n",
      "memtest.integrator.set_integrator('dop853', atol=10**-2, nsteps=10000)"
     ],
     "language": "python",
     "metadata": {},
     "outputs": [
      {
       "metadata": {},
       "output_type": "pyout",
       "prompt_number": 16,
       "text": [
        "<scipy.integrate._ode.ode at 0x481e510>"
       ]
      }
     ],
     "prompt_number": 16
    },
    {
     "cell_type": "code",
     "collapsed": false,
     "input": [
      "memtest.solve_voltages('cg')\n",
      "fig, ax = plt.subplots(figsize=(8,8))\n",
      "memtest.display(ax, 'voltage', nodesize=10)"
     ],
     "language": "python",
     "metadata": {},
     "outputs": [
      {
       "metadata": {},
       "output_type": "display_data",
       "png": "[encoded data removed]",
       "text": [
        "<matplotlib.figure.Figure at 0x46aa490>"
       ]
      }
     ],
     "prompt_number": 17
    },
    {
     "cell_type": "code",
     "collapsed": false,
     "input": [
      "cond = [memtest.conductivity()]\n",
      "# At each time point beginning with the 2nd\n",
      "for t_idx, time in enumerate(t[1:]):\n",
      "    # update external voltages\n",
      "    memtest.external_voltages = v_external[:,t_idx]\n",
      "    # integrate the memristances\n",
      "    memtest.update(dt)\n",
      "    # solve the network\n",
      "    memtest.solve_voltages('cg')\n",
      "    # add the memristances to our list\n",
      "    cond.append(memtest.conductivity())\n"
     ],
     "language": "python",
     "metadata": {},
     "outputs": [],
     "prompt_number": 18
    },
    {
     "cell_type": "code",
     "collapsed": false,
     "input": [
      "fig, ax = plt.subplots(figsize=(15, 12))\n",
      "ax.plot(V_high, 1. / np.array(cond))\n"
     ],
     "language": "python",
     "metadata": {},
     "outputs": [
      {
       "metadata": {},
       "output_type": "pyout",
       "prompt_number": 19,
       "text": [
        "[<matplotlib.lines.Line2D at 0x5007090>]"
       ]
      },
      {
       "metadata": {},
       "output_type": "display_data",
       "png": "[encoded data removed]",
       "text": [
        "<matplotlib.figure.Figure at 0x3196090>"
       ]
      }
     ],
     "prompt_number": 19
    },
    {
     "cell_type": "heading",
     "level": 3,
     "metadata": {},
     "source": [
      "Visualizing the network"
     ]
    },
    {
     "cell_type": "code",
     "collapsed": false,
     "input": [
      "lattice_shape = (10, 10)\n",
      "num_nodes = lattice_shape[0] * lattice_shape[1]\n",
      "state_var = gen_adj.cubic_2d(lattice_shape, undirected=False, xbias=1, ybias=1)\n",
      "threshold_voltages = state_var.copy()"
     ],
     "language": "python",
     "metadata": {},
     "outputs": [],
     "prompt_number": 37
    },
    {
     "cell_type": "code",
     "collapsed": false,
     "input": [
      "# Create the external voltage\n",
      "t_final = 1000                                              # in units of t_0\n",
      "t = np.linspace(0, t_final, 10000 )\n",
      "dt = t[1] - t[0]\n",
      "\n",
      "V_initial = 1e-4\n",
      "V_final = 10                                               # in units of V_t\n",
      "V_high = np.linspace(V_initial, V_final, len(t))\n",
      "v_external = np.empty((num_nodes, len(t))) * np.nan\n",
      "v_external[0:lattice_shape[1],  :] = V_high\n",
      "v_external[(-1 * lattice_shape[1]):, :] = 0"
     ],
     "language": "python",
     "metadata": {},
     "outputs": [],
     "prompt_number": 38
    },
    {
     "cell_type": "code",
     "collapsed": false,
     "input": [
      "rows, cols = state_var.nonzero()\n",
      "num_memristors = len(rows)\n",
      "R_initial = (R_OFF - R_ON) * np.random.random_sample(num_memristors) + R_ON\n",
      "V_thresholds = V_t * np.random.random_sample(num_memristors)\n",
      "state_var[rows, cols] = 1. / R_initial\n",
      "threshold_voltages[rows, cols] = V_thresholds"
     ],
     "language": "python",
     "metadata": {},
     "outputs": [],
     "prompt_number": 39
    },
    {
     "cell_type": "code",
     "collapsed": false,
     "input": [
      "memtest = MemristorLattice2DCubic(lattice_shape, state_var, v_external[:,0], XtoG, xdot, jacobian=None,\n",
      "                           memristor_params=threshold_voltages, G_ON=G_ON, G_OFF=G_OFF)\n",
      "memtest.integrator.set_integrator('dop853', atol=10**-2, nsteps=20000)"
     ],
     "language": "python",
     "metadata": {},
     "outputs": [
      {
       "metadata": {},
       "output_type": "pyout",
       "prompt_number": 40,
       "text": [
        "<scipy.integrate._ode.ode at 0x482fb50>"
       ]
      }
     ],
     "prompt_number": 40
    },
    {
     "cell_type": "code",
     "collapsed": false,
     "input": [
      "memtest.solve_voltages('cg')\n",
      "cond = [memtest.conductivity()]\n",
      "# At each time point beginning with the 2nd\n",
      "for t_idx, time in enumerate(t[1:]):\n",
      "    # update external voltages\n",
      "    memtest.external_voltages = v_external[:,t_idx]\n",
      "    # integrate the memristances\n",
      "    memtest.update(dt)\n",
      "    # solve the network\n",
      "    memtest.solve_voltages('cg')\n",
      "    # add the memristances to our list\n",
      "    cond.append(memtest.conductivity())"
     ],
     "language": "python",
     "metadata": {},
     "outputs": [],
     "prompt_number": 41
    },
    {
     "cell_type": "code",
     "collapsed": false,
     "input": [
      "fig, ax = plt.subplots(figsize=(15, 12))\n",
      "ax.plot(V_high, 1. / np.array(cond))\n"
     ],
     "language": "python",
     "metadata": {},
     "outputs": [
      {
       "metadata": {},
       "output_type": "pyout",
       "prompt_number": 42,
       "text": [
        "[<matplotlib.lines.Line2D at 0x481e050>]"
       ]
      },
      {
       "metadata": {},
       "output_type": "display_data",
       "png": "[encoded data removed]",
       "text": [
        "<matplotlib.figure.Figure at 0x481e590>"
       ]
      }
     ],
     "prompt_number": 42
    },
    {
     "cell_type": "markdown",
     "metadata": {},
     "source": [
      "This appears less dominated by switching events and closer to a uniform shift in conductance.  I'll have to look at larger networks."
     ]
    }
   ],
   "metadata": {}
  }
 ]
}