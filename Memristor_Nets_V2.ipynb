{
 "metadata": {
  "name": "",
  "signature": "sha256:952d5e04d543f3f2cc833756b5ceea0d23b43b9252f74cc5eb3ba2607da6ac36"
 },
 "nbformat": 3,
 "nbformat_minor": 0,
 "worksheets": [
  {
   "cells": [
    {
     "cell_type": "heading",
     "level": 1,
     "metadata": {},
     "source": [
      "Memristor Networks V2"
     ]
    },
    {
     "cell_type": "code",
     "collapsed": false,
     "input": [
      "%matplotlib inline"
     ],
     "language": "python",
     "metadata": {},
     "outputs": [],
     "prompt_number": 13
    },
    {
     "cell_type": "code",
     "collapsed": false,
     "input": [
      "import numpy as np\n",
      "import scipy as sp\n",
      "from scipy.integrate import ode\n",
      "import matplotlib.pyplot as plt\n",
      "import resistor_network as rnets\n",
      "import generate_adjacency_matrix as gen_adj"
     ],
     "language": "python",
     "metadata": {},
     "outputs": [],
     "prompt_number": 14
    },
    {
     "cell_type": "markdown",
     "metadata": {},
     "source": [
      "Now that resistor networks and adjacency matrices have been refactored, it is time to start cleaning up\n",
      "memristor networks. A memristor network can inherit from a resistor network but should have the additional data attributes:\n",
      "\n",
      "* state_variable - a tuple of sparse matrices holding the state variables\n",
      "* G_ON - the upper conductance limit\n",
      "* G_OFF - the lower conductance limit\n",
      "\n",
      "and methods\n",
      "\n",
      "* XtoG - a function giving the conductance as a function of the tuple of state variables X\n",
      "* xdot - a function giving the time derivative of X as a function of X and V\n",
      "* update - a method that integrates the network forward a time $\\Delta t$\n",
      "\n"
     ]
    },
    {
     "cell_type": "code",
     "collapsed": false,
     "input": [
      "class MemristorNetwork(rnets.ResistorNetworkCC):\n",
      "    \"\"\"\n",
      "    This class inherits from my ResistorNetworkCC class in the aim of generalizing it to solve arbitrary\n",
      "    memristor networks.  This class will store the memristor network at a moment in time and possesses an\n",
      "    update(dt) method that integrates the network forward a time dt, assuming that the voltages in the\n",
      "    network are constant. This requires:\n",
      "    \n",
      "    state_variables\n",
      "    external_voltages\n",
      "    XtoG\n",
      "    xdot\n",
      "    \n",
      "    with optional arguments:\n",
      "    \n",
      "    jacobian\n",
      "    memristor_params\n",
      "    G_ON\n",
      "    G_OFF\n",
      "    \"\"\"\n",
      "    \n",
      "    def __init__(self, state_variables, external_voltages, XtoG, xdot, jacobian=None, memristor_params=None, G_ON=1, G_OFF=10**-2):\n",
      "        self.state_variables = state_variables\n",
      "        self.XtoG = XtoG\n",
      "        self.G_ON = G_ON\n",
      "        self.G_OFF = G_OFF\n",
      "        self.memristor_params = memristor_params\n",
      "        self.integrator = ode(xdot, jac=jacobian)\n",
      "        rnets.ResistorNetworkCC.__init__(self, self.XtoG(self.state_variables), external_voltages)\n",
      "    \n",
      "    def update_conductance_matrix(self):\n",
      "        self.G = self.XtoG(self.state_variables)\n",
      "    \n",
      "    def update(self, delta_t):\n",
      "        \"\"\"\n",
      "        Integrate the state variables of the network from their current value to their value a time delta_t\n",
      "        later assuming that the voltages are constant during this time.  This method is only intended to update\n",
      "        the state variables infinitesimally.  The attribute xdot is a function of the state variables and the\n",
      "        voltage drop across a memristor that gives the first derivative of the state variables. \n",
      "        \"\"\"\n",
      "        \n",
      "        # I'm going to ignore the danger that the voltages may not have been updated for the moment as I\n",
      "        # may prefer the freedom to decide when I solve the network\n",
      "        \n",
      "        # find all the memristors by calling nonzero() on the state_variables matrix\n",
      "        rows, cols = self.state_variables.nonzero()\n",
      "        \n",
      "        # loop over each memristor. This could easily be done in parallel\n",
      "        for i, j in zip(rows, cols):\n",
      "            # Set the parameters of each memristor in the integrator\n",
      "            voltage_drop = self.voltages[i] - self.voltages[j]\n",
      "            try:\n",
      "                param = self.memristor_params[i, j]\n",
      "            except TypeError:\n",
      "                param = None\n",
      "                \n",
      "            self.integrator.set_initial_value(self.state_variables[i, j], 0).set_f_params(voltage_drop,\n",
      "                                                param).set_jac_params(voltage_drop, param)\n",
      "           \n",
      "            integrated_state_variable = self.integrator.integrate(delta_t)\n",
      "            \n",
      "            if self.integrator.successful():\n",
      "                if integrated_state_variable >= self.G_ON:\n",
      "                    self.state_variables[i, j] = self.G_ON\n",
      "                elif integrated_state_variable <= self.G_OFF:\n",
      "                    self.state_variables[i, j] = self.G_OFF\n",
      "                else:\n",
      "                    self.state_variables[i, j] = integrated_state_variable\n",
      "            else:\n",
      "                print \"Integration was unsuccessful\"\n",
      "                \n",
      "            \n",
      "        self.update_conductance_matrix()"
     ],
     "language": "python",
     "metadata": {},
     "outputs": [],
     "prompt_number": 15
    },
    {
     "cell_type": "markdown",
     "metadata": {},
     "source": [
      "Here we can define our functions to feed to the network"
     ]
    },
    {
     "cell_type": "code",
     "collapsed": false,
     "input": [
      "def XtoG(X):\n",
      "    return X + X.T\n",
      "\n",
      "def xdot(t, x, V, V_T):\n",
      "    return vc_mG_xdot_dmnlss(x, V / V_T, t)\n",
      "\n",
      "def jac(t, x, V, V_T):\n",
      "    return 0\n",
      "\n",
      "def vc_mR_xdot_dmnlss(x, V, t):\n",
      "    return V - 0.5 * (np.abs(V + 1) - np.abs(V - 1))\n",
      "    \n",
      "def vc_mG_xdot_dmnlss(x, V, t):\n",
      "    \"\"\"\n",
      "    If I instead want to use the conductance as the internal state variable, we have\n",
      "    G_dot = -G^2 R_dot\n",
      "    \"\"\"\n",
      "    return -x**2 * vc_mR_xdot_dmnlss(1. / x, V, t)"
     ],
     "language": "python",
     "metadata": {},
     "outputs": [],
     "prompt_number": 16
    },
    {
     "cell_type": "code",
     "collapsed": false,
     "input": [
      "# As a test, let's reproduce the complex dynamics in 1D work\n",
      "X = gen_adj.chain_1d(11, directed=True, bias=0.5)\n",
      "state_var = X\n",
      "threshold_voltages = state_var.copy()"
     ],
     "language": "python",
     "metadata": {},
     "outputs": [],
     "prompt_number": 17
    },
    {
     "cell_type": "code",
     "collapsed": false,
     "input": [
      "# Create the external voltage\n",
      "t_final = 1500                                              # in units of t_0\n",
      "t = np.linspace(0, t_final, 10000 )\n",
      "dt = t[1] - t[0]\n",
      "\n",
      "V_final = 17.5                                               # in units of V_t\n",
      "V_high = np.linspace(0, V_final, 10000)\n",
      "v_external = np.empty((11, len(t))) * np.nan\n",
      "v_external[0,  :] = V_high\n",
      "v_external[10, :] = 0"
     ],
     "language": "python",
     "metadata": {},
     "outputs": [],
     "prompt_number": 42
    },
    {
     "cell_type": "code",
     "collapsed": false,
     "input": [
      "R_0 = 1\n",
      "V_t = 1\n",
      "beta = 1\n",
      "t_0 = R_0 / (beta * V_t)"
     ],
     "language": "python",
     "metadata": {},
     "outputs": [],
     "prompt_number": 43
    },
    {
     "cell_type": "code",
     "collapsed": false,
     "input": [
      "# Generate initial Resistances and threshold voltages\n",
      "R_ON = 0.05 * R_0\n",
      "R_OFF = 1.95 * R_0\n",
      "G_ON = 1. / R_ON\n",
      "G_OFF = 1. / R_OFF\n",
      "\n",
      "R_initial = (R_OFF - R_ON) * np.random.random_sample(10) + R_ON\n",
      "V_thresholds = V_t * np.random.random_sample(10)\n",
      "rows, cols = state_var.nonzero()\n",
      "state_var[rows, cols] = 1. / R_initial\n",
      "threshold_voltages[rows, cols] = V_thresholds"
     ],
     "language": "python",
     "metadata": {},
     "outputs": [],
     "prompt_number": 44
    },
    {
     "cell_type": "code",
     "collapsed": false,
     "input": [
      "memtest = MemristorNetwork(state_var, v_external[:,0], XtoG, xdot, jacobian=None,\n",
      "                           memristor_params=threshold_voltages, G_ON=G_ON, G_OFF=G_OFF)\n",
      "memtest.integrator.set_integrator('dop853', atol=10**-2, nsteps=10000)"
     ],
     "language": "python",
     "metadata": {},
     "outputs": [
      {
       "metadata": {},
       "output_type": "pyout",
       "prompt_number": 45,
       "text": [
        "<scipy.integrate._ode.ode at 0x52488d0>"
       ]
      }
     ],
     "prompt_number": 45
    },
    {
     "cell_type": "code",
     "collapsed": false,
     "input": [
      "\n",
      "cond_mats = [memtest.G.copy()]\n",
      "# At each time point beginning with the first\n",
      "for t_idx, time in enumerate(t[:-1]):\n",
      "    # solve the network\n",
      "    memtest.solve_voltages('cg')\n",
      "    # integrate the memristances\n",
      "    memtest.update(t[t_idx+1]-time)\n",
      "    # add the memristances to our list\n",
      "    cond_mats.append(memtest.G.copy())\n",
      "    # update external voltages\n",
      "    memtest.external_voltages = v_external[:,t_idx+1]\n",
      "    "
     ],
     "language": "python",
     "metadata": {},
     "outputs": [],
     "prompt_number": 46
    },
    {
     "cell_type": "code",
     "collapsed": false,
     "input": [
      "R_tot_all_t = np.zeros_like(t)\n",
      "for t_idx, G in enumerate(cond_mats):\n",
      "    R = 1./ G[rows, cols]\n",
      "    R_tot_all_t[t_idx] = np.sum(R)"
     ],
     "language": "python",
     "metadata": {},
     "outputs": [],
     "prompt_number": 47
    },
    {
     "cell_type": "code",
     "collapsed": false,
     "input": [
      "fig, ax = plt.subplots()\n",
      "ax.plot(V_high, R_tot_all_t)\n",
      "ax.set_xlim(0, 15)"
     ],
     "language": "python",
     "metadata": {},
     "outputs": [
      {
       "metadata": {},
       "output_type": "pyout",
       "prompt_number": 48,
       "text": [
        "(0, 15)"
       ]
      },
      {
       "metadata": {},
       "output_type": "display_data",
       "png": "[encoded data removed]",
       "text": [
        "<matplotlib.figure.Figure at 0x553f7d0>"
       ]
      }
     ],
     "prompt_number": 48
    },
    {
     "cell_type": "code",
     "collapsed": false,
     "input": [],
     "language": "python",
     "metadata": {},
     "outputs": []
    }
   ],
   "metadata": {}
  }
 ]
}