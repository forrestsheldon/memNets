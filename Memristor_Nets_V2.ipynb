{
 "metadata": {
  "name": "",
  "signature": "sha256:860088188bab395653294f7192ca0dd0e9bb0350d9b7395658b2ce8183972a83"
 },
 "nbformat": 3,
 "nbformat_minor": 0,
 "worksheets": [
  {
   "cells": [
    {
     "cell_type": "heading",
     "level": 1,
     "metadata": {},
     "source": [
      "Memristor Networks V2"
     ]
    },
    {
     "cell_type": "code",
     "collapsed": false,
     "input": [
      "%matplotlib inline"
     ],
     "language": "python",
     "metadata": {},
     "outputs": [],
     "prompt_number": 1
    },
    {
     "cell_type": "code",
     "collapsed": false,
     "input": [
      "import numpy as np\n",
      "import scipy as sp\n",
      "from scipy.integrate import ode\n",
      "import resistor_network as rnets\n",
      "import generate_adjacency_matrix as gen_adj"
     ],
     "language": "python",
     "metadata": {},
     "outputs": [],
     "prompt_number": 2
    },
    {
     "cell_type": "markdown",
     "metadata": {},
     "source": [
      "Now that resistor networks and adjacency matrices have been refactored, it is time to start cleaning up\n",
      "memristor networks. A memristor network can inherit from a resistor network but should have the additional data attributes:\n",
      "\n",
      "* state_variable - a tuple of sparse matrices holding the state variables\n",
      "* G_ON - the upper conductance limit\n",
      "* G_OFF - the lower conductance limit\n",
      "\n",
      "and methods\n",
      "\n",
      "* XtoG - a function giving the conductance as a function of the tuple of state variables X\n",
      "* xdot - a function giving the time derivative of X as a function of X and V\n",
      "* update - a method that integrates the network forward a time $\\Delta t$\n",
      "\n"
     ]
    },
    {
     "cell_type": "code",
     "collapsed": false,
     "input": [
      "class MemristorNetwork(rnets.ResistorNetworkCC):\n",
      "    \"\"\"\n",
      "    This class inherits from my ResistorNetworkCC class in the aim of generalizing it to solve arbitrary\n",
      "    memristor networks\n",
      "    \"\"\"\n",
      "    def __init__(self, state_variables, external_voltages, XtoG, xdot, jacobian, G_ON=1, G_OFF=10**-2):\n",
      "        self.state_variables = state_variables\n",
      "        self.XtoG = XtoG\n",
      "        self.xdot = xdot\n",
      "        self.jacobian = jacobian\n",
      "        self.G_ON = G_ON\n",
      "        self.G_OFF = G_OFF\n",
      "        rnets.ResistorNetworkCC.__init__(self, self.generate_conductance_matrix(), external_voltages)\n",
      "    \n",
      "    def generate_conductance_matrix(self):\n",
      "        return self.XtoG(self.state_variables)\n",
      "    \n",
      "    def update(delta_t):\n",
      "        \"\"\"\n",
      "        Integrate the state variables of the network from their current value to their value a time delta_t\n",
      "        later assuming that the voltages are constant during this time.  This method is only intended to update\n",
      "        the state variables infinitesimally.  The attribute xdot is a function of the state variables and the\n",
      "        voltage drop across a memristor that gives the first derivative of the state variables \n",
      "        \"\"\"\n",
      "        \n",
      "        # I'm going to ignore the danger that the voltages may not have been updated for the moment as I\n",
      "        # may prefer the freedom to decide when I solve the network\n",
      "        \n",
      "        # find all the memristors by calling nonzero() on the last state_variable matrix\n",
      "        rows, cols = self.state_variables[-1].nonzero()\n",
      "        \n",
      "        #loop over each memristor. This could easily be done in parallel\n",
      "        for i, j in zip(rows, cols):\n",
      "            pass\n",
      "        "
     ],
     "language": "python",
     "metadata": {},
     "outputs": [],
     "prompt_number": 3
    },
    {
     "cell_type": "code",
     "collapsed": false,
     "input": [
      "# As a test network, a 4x5 directed cubic lattice\n",
      "X = gen_adj.cubic_2d((4, 5), undirected=False)\n",
      "state_var = (X,)\n",
      "v_external = np.empty(4*5) * np.nan\n",
      "v_external[0:5] = 1\n",
      "v_external[-5:] = 0"
     ],
     "language": "python",
     "metadata": {},
     "outputs": [],
     "prompt_number": 4
    },
    {
     "cell_type": "code",
     "collapsed": false,
     "input": [
      "def XtoG((X,)):\n",
      "    return X + X.T\n",
      "def xdot((X,)):\n",
      "    pass"
     ],
     "language": "python",
     "metadata": {},
     "outputs": [],
     "prompt_number": 5
    },
    {
     "cell_type": "code",
     "collapsed": false,
     "input": [
      "memtest = MemristorNetwork(state_var, v_external, XtoG, xdot)"
     ],
     "language": "python",
     "metadata": {},
     "outputs": [],
     "prompt_number": 7
    },
    {
     "cell_type": "code",
     "collapsed": false,
     "input": [
      "memtest.solve_voltages('spsolve')\n",
      "memtest.G"
     ],
     "language": "python",
     "metadata": {},
     "outputs": [
      {
       "metadata": {},
       "output_type": "pyout",
       "prompt_number": 8,
       "text": [
        "<20x20 sparse matrix of type '<type 'numpy.float64'>'\n",
        "\twith 62 stored elements in Compressed Sparse Row format>"
       ]
      }
     ],
     "prompt_number": 8
    },
    {
     "cell_type": "code",
     "collapsed": false,
     "input": [],
     "language": "python",
     "metadata": {},
     "outputs": [
      {
       "output_type": "stream",
       "stream": "stdout",
       "text": [
        "Help on class memristor_network in module __main__:\n",
        "\n",
        "class memristor_network(resistor_network.resistor_network_cc)\n",
        " |  Method resolution order:\n",
        " |      memristor_network\n",
        " |      resistor_network.resistor_network_cc\n",
        " |      __builtin__.object\n",
        " |  \n",
        " |  Methods defined here:\n",
        " |  \n",
        " |  __init__(self, state_variables, external_voltages, XtoG, xdot, G_ON=1, G_OFF=0.01)\n",
        " |  \n",
        " |  generate_conductance_matrix(self)\n",
        " |  \n",
        " |  ----------------------------------------------------------------------\n",
        " |  Methods inherited from resistor_network.resistor_network_cc:\n",
        " |  \n",
        " |  power(self)\n",
        " |      Returns a sparse matrix in CSR form containing the power dissipated between nodes i and j.  Requires that\n",
        " |      self.solve() have been called to populate self.voltages\n",
        " |  \n",
        " |  solve_voltages(self, solver, V_0=None)\n",
        " |      This method solves for the node voltages of the resistor network by first breaking the network into connected\n",
        " |      components and then defining a resistor_network object for each percolating component. Current solvers are:\n",
        " |      \n",
        " |          'spsolve' - Scipy's exact sparse solver\n",
        " |          'cg'      - Scipy's sparse conjugate gradient solver.\n",
        " |      \n",
        " |      The second optional argument is\n",
        " |      \n",
        " |          V_0       - (optional) An initial guess for the voltages in the network for the conjugate gradient solver. I\n",
        " |                      think this may be useful for memristor networks where the current and previous voltages are only\n",
        " |                      infinitesimally separated.\n",
        " |  \n",
        " |  ----------------------------------------------------------------------\n",
        " |  Data descriptors inherited from resistor_network.resistor_network_cc:\n",
        " |  \n",
        " |  __dict__\n",
        " |      dictionary for instance variables (if defined)\n",
        " |  \n",
        " |  __weakref__\n",
        " |      list of weak references to the object (if defined)\n",
        "\n"
       ]
      }
     ],
     "prompt_number": 34
    },
    {
     "cell_type": "code",
     "collapsed": false,
     "input": [],
     "language": "python",
     "metadata": {},
     "outputs": []
    }
   ],
   "metadata": {}
  }
 ]
}