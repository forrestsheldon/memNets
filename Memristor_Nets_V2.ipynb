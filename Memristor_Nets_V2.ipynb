{
 "metadata": {
  "name": "",
  "signature": "sha256:d5c2d8fb36abe19255bd190c30cd847b8959e86d41c285b4b31f53b7c8c8cf07"
 },
 "nbformat": 3,
 "nbformat_minor": 0,
 "worksheets": [
  {
   "cells": [
    {
     "cell_type": "heading",
     "level": 1,
     "metadata": {},
     "source": [
      "Memristor Networks V2"
     ]
    },
    {
     "cell_type": "code",
     "collapsed": false,
     "input": [
      "%matplotlib inline"
     ],
     "language": "python",
     "metadata": {},
     "outputs": [],
     "prompt_number": 1
    },
    {
     "cell_type": "code",
     "collapsed": false,
     "input": [
      "import numpy as np\n",
      "import scipy as sp\n",
      "from scipy.integrate import ode\n",
      "import matplotlib.pyplot as plt\n",
      "import resistor_network as rnets\n",
      "import generate_adjacency_matrix as gen_adj"
     ],
     "language": "python",
     "metadata": {},
     "outputs": [],
     "prompt_number": 2
    },
    {
     "cell_type": "markdown",
     "metadata": {},
     "source": [
      "Now that resistor networks and adjacency matrices have been refactored, it is time to start cleaning up\n",
      "memristor networks. A memristor network can inherit from a resistor network but should have the additional data attributes:\n",
      "\n",
      "* state_variable - a tuple of sparse matrices holding the state variables\n",
      "* G_ON - the upper conductance limit\n",
      "* G_OFF - the lower conductance limit\n",
      "\n",
      "and methods\n",
      "\n",
      "* XtoG - a function giving the conductance as a function of the tuple of state variables X\n",
      "* xdot - a function giving the time derivative of X as a function of X and V\n",
      "* update - a method that integrates the network forward a time $\\Delta t$\n",
      "\n"
     ]
    },
    {
     "cell_type": "code",
     "collapsed": false,
     "input": [
      "class MemristorNetwork(rnets.ResistorNetworkCC):\n",
      "    \"\"\"\n",
      "    This class inherits from my ResistorNetworkCC class in the aim of generalizing it to solve arbitrary\n",
      "    memristor networks.  This class will store the memristor network at a moment in time and possesses an\n",
      "    update(dt) method that integrates the network forward a time dt, assuming that the voltages in the\n",
      "    network are constant. This requires:\n",
      "    \n",
      "    state_variables\n",
      "    external_voltages\n",
      "    XtoG\n",
      "    xdot\n",
      "    \n",
      "    with optional arguments:\n",
      "    \n",
      "    jacobian\n",
      "    memristor_params\n",
      "    G_ON\n",
      "    G_OFF\n",
      "    \"\"\"\n",
      "    \n",
      "    def __init__(self, state_variables, external_voltages, XtoG, xdot, jacobian=None, memristor_params=None, G_ON=1, G_OFF=10**-2):\n",
      "        self.state_variables = state_variables\n",
      "        self.XtoG = XtoG\n",
      "        self.G_ON = G_ON\n",
      "        self.G_OFF = G_OFF\n",
      "        self.memristor_params = memristor_params\n",
      "        self.integrator = ode(xdot, jac=jacobian)\n",
      "        rnets.ResistorNetworkCC.__init__(self, self.XtoG(self.state_variables), external_voltages)\n",
      "    \n",
      "    def update_conductance_matrix(self):\n",
      "        self.G = self.XtoG(self.state_variables)\n",
      "    \n",
      "    def update(self, delta_t):\n",
      "        \"\"\"\n",
      "        Integrate the state variables of the network from their current value to their value a time delta_t\n",
      "        later assuming that the voltages are constant during this time.  This method is only intended to update\n",
      "        the state variables infinitesimally.  The attribute xdot is a function of the state variables and the\n",
      "        voltage drop across a memristor that gives the first derivative of the state variables. \n",
      "        \"\"\"\n",
      "        \n",
      "        # I'm going to ignore the danger that the voltages may not have been updated for the moment as I\n",
      "        # may prefer the freedom to decide when I solve the network\n",
      "        \n",
      "        # find all the memristors by calling nonzero() on the state_variables matrix\n",
      "        rows, cols = self.state_variables.nonzero()\n",
      "        \n",
      "        # loop over each memristor. This could easily be done in parallel\n",
      "        for i, j in zip(rows, cols):\n",
      "            # Set the parameters of each memristor in the integrator\n",
      "            voltage_drop = self.voltages[i] - self.voltages[j]\n",
      "            try:\n",
      "                param = self.memristor_params[i, j]\n",
      "            except TypeError:\n",
      "                param = None\n",
      "                \n",
      "            self.integrator.set_initial_value(self.state_variables[i, j], 0).set_f_params(voltage_drop,\n",
      "                                                param).set_jac_params(voltage_drop, param)\n",
      "           \n",
      "            integrated_state_variable = self.integrator.integrate(delta_t)\n",
      "            \n",
      "            if self.integrator.successful():\n",
      "                if integrated_state_variable >= self.G_ON:\n",
      "                    self.state_variables[i, j] = self.G_ON\n",
      "                elif integrated_state_variable <= self.G_OFF:\n",
      "                    self.state_variables[i, j] = self.G_OFF\n",
      "                else:\n",
      "                    self.state_variables[i, j] = integrated_state_variable\n",
      "            else:\n",
      "                print \"Integration was unsuccessful\"\n",
      "                \n",
      "            \n",
      "        self.update_conductance_matrix()"
     ],
     "language": "python",
     "metadata": {},
     "outputs": [],
     "prompt_number": 3
    },
    {
     "cell_type": "markdown",
     "metadata": {},
     "source": [
      "Here we can define our functions to feed to the network"
     ]
    },
    {
     "cell_type": "code",
     "collapsed": false,
     "input": [
      "def XtoG(X):\n",
      "    return X + X.T\n",
      "\n",
      "def xdot(t, x, V, V_T):\n",
      "    return vc_mG_xdot_dmnlss(x, V / V_T, t)\n",
      "\n",
      "def jac(t, x, V, V_T):\n",
      "    return 0\n",
      "\n",
      "def vc_mR_xdot_dmnlss(x, V, t):\n",
      "    return V - 0.5 * (np.abs(V + 1) - np.abs(V - 1))\n",
      "    \n",
      "def vc_mG_xdot_dmnlss(x, V, t):\n",
      "    \"\"\"\n",
      "    If I instead want to use the conductance as the internal state variable, we have\n",
      "    G_dot = -G^2 R_dot\n",
      "    \"\"\"\n",
      "    return -x**2 * vc_mR_xdot_dmnlss(1. / x, V, t)"
     ],
     "language": "python",
     "metadata": {},
     "outputs": [],
     "prompt_number": 4
    },
    {
     "cell_type": "code",
     "collapsed": false,
     "input": [
      "# As a test, let's reproduce the complex dynamics in 1D work\n",
      "state_var = gen_adj.chain_1d(11, directed=True, bias=0.5)\n",
      "threshold_voltages = state_var.copy()"
     ],
     "language": "python",
     "metadata": {},
     "outputs": [],
     "prompt_number": 21
    },
    {
     "cell_type": "code",
     "collapsed": false,
     "input": [
      "# Create the external voltage\n",
      "t_final = 1500                                              # in units of t_0\n",
      "t = np.linspace(0, t_final, 10000 )\n",
      "dt = t[1] - t[0]\n",
      "\n",
      "V_final = 17.5                                               # in units of V_t\n",
      "V_high = np.linspace(0, V_final, 10000)\n",
      "v_external = np.empty((11, len(t))) * np.nan\n",
      "v_external[0,  :] = V_high\n",
      "v_external[10, :] = 0"
     ],
     "language": "python",
     "metadata": {},
     "outputs": [],
     "prompt_number": 22
    },
    {
     "cell_type": "code",
     "collapsed": false,
     "input": [
      "# Parameters\n",
      "R_0 = 1\n",
      "V_t = 1\n",
      "beta = 1\n",
      "t_0 = R_0 / (beta * V_t)"
     ],
     "language": "python",
     "metadata": {},
     "outputs": [],
     "prompt_number": 23
    },
    {
     "cell_type": "code",
     "collapsed": false,
     "input": [
      "# Generate initial Resistances and threshold voltages\n",
      "R_ON = 0.05 * R_0\n",
      "R_OFF = 1.95 * R_0\n",
      "G_ON = 1. / R_ON\n",
      "G_OFF = 1. / R_OFF\n",
      "\n",
      "R_initial = (R_OFF - R_ON) * np.random.random_sample(10) + R_ON\n",
      "V_thresholds = V_t * np.random.random_sample(10)\n",
      "rows, cols = state_var.nonzero()\n",
      "state_var[rows, cols] = 1. / R_initial\n",
      "threshold_voltages[rows, cols] = V_thresholds"
     ],
     "language": "python",
     "metadata": {},
     "outputs": [],
     "prompt_number": 24
    },
    {
     "cell_type": "code",
     "collapsed": false,
     "input": [
      "memtest = MemristorNetwork(state_var, v_external[:,0], XtoG, xdot, jacobian=None,\n",
      "                           memristor_params=threshold_voltages, G_ON=G_ON, G_OFF=G_OFF)\n",
      "memtest.integrator.set_integrator('dop853', atol=10**-2, nsteps=10000)"
     ],
     "language": "python",
     "metadata": {},
     "outputs": [
      {
       "metadata": {},
       "output_type": "pyout",
       "prompt_number": 25,
       "text": [
        "<scipy.integrate._ode.ode at 0x30952d0>"
       ]
      }
     ],
     "prompt_number": 25
    },
    {
     "cell_type": "code",
     "collapsed": false,
     "input": [
      "memtest.solve_voltages('cg')\n",
      "cond = [memtest.conductivity()]\n",
      "# At each time point beginning with the 2nd\n",
      "for t_idx, time in enumerate(t[1:]):\n",
      "    # update external voltages\n",
      "    memtest.external_voltages = v_external[:,t_idx]\n",
      "    # integrate the memristances\n",
      "    memtest.update(dt)\n",
      "    # solve the network\n",
      "    memtest.solve_voltages('cg')\n",
      "    # add the memristances to our list\n",
      "    cond.append(memtest.conductivity())\n",
      "    \n",
      "    "
     ],
     "language": "python",
     "metadata": {},
     "outputs": [],
     "prompt_number": 26
    },
    {
     "cell_type": "code",
     "collapsed": false,
     "input": [
      "fig, ax = plt.subplots()\n",
      "ax.plot(V_high, 1. / np.array(cond))\n",
      "ax.set_xlim(0, 17.5)"
     ],
     "language": "python",
     "metadata": {},
     "outputs": [
      {
       "metadata": {},
       "output_type": "pyout",
       "prompt_number": 29,
       "text": [
        "(0, 17.5)"
       ]
      },
      {
       "metadata": {},
       "output_type": "display_data",
       "png": "[encoded data removed]",
       "text": [
        "<matplotlib.figure.Figure at 0x31ca5d0>"
       ]
      }
     ],
     "prompt_number": 29
    },
    {
     "cell_type": "heading",
     "level": 3,
     "metadata": {},
     "source": [
      "Memristor Lattices"
     ]
    },
    {
     "cell_type": "code",
     "collapsed": false,
     "input": [
      "class MemristorLattice2DCubic(rnets.ResistorLattice2DCubic):\n",
      "    \"\"\"\n",
      "    This class inherits from my ResistorLattice2DCubic class in the aim of generalizing it to solve arbitrary\n",
      "    memristor lattices.  It is the same code as the MemristorNetwork class, only inheriting the display\n",
      "    methods from the resistor lattice class as well.This class will store the memristor network at a moment\n",
      "    in time and possesses an update(dt) method that integrates the network forward a time dt, assuming that\n",
      "    the voltages in the network are constant. This requires:\n",
      "    \n",
      "    state_variables\n",
      "    external_voltages\n",
      "    XtoG\n",
      "    xdot\n",
      "    \n",
      "    with optional arguments:\n",
      "    \n",
      "    jacobian\n",
      "    memristor_params\n",
      "    G_ON\n",
      "    G_OFF\n",
      "    \"\"\"\n",
      "    \n",
      "    def __init__(self, lattice_shape, state_variables, external_voltages, XtoG, xdot, \n",
      "                 jacobian=None, memristor_params=None, G_ON=1, G_OFF=10**-2):\n",
      "        self.state_variables = state_variables\n",
      "        self.XtoG = XtoG\n",
      "        self.G_ON = G_ON\n",
      "        self.G_OFF = G_OFF\n",
      "        self.memristor_params = memristor_params\n",
      "        self.integrator = ode(xdot, jac=jacobian)\n",
      "        rnets.ResistorLattice2DCubic.__init__(self, self.XtoG(self.state_variables), external_voltages, lattice_shape)\n",
      "    \n",
      "    def update_conductance_matrix(self):\n",
      "        self.G = self.XtoG(self.state_variables)\n",
      "    \n",
      "    def update(self, delta_t):\n",
      "        \"\"\"\n",
      "        Integrate the state variables of the network from their current value to their value a time delta_t\n",
      "        later assuming that the voltages are constant during this time.  This method is only intended to update\n",
      "        the state variables infinitesimally.  The attribute xdot is a function of the state variables and the\n",
      "        voltage drop across a memristor that gives the first derivative of the state variables. \n",
      "        \"\"\"\n",
      "        \n",
      "        # I'm going to ignore the danger that the voltages may not have been updated for the moment as I\n",
      "        # may prefer the freedom to decide when I solve the network\n",
      "        \n",
      "        # find all the memristors by calling nonzero() on the state_variables matrix\n",
      "        rows, cols = self.state_variables.nonzero()\n",
      "        \n",
      "        # loop over each memristor. This could easily be done in parallel\n",
      "        for i, j in zip(rows, cols):\n",
      "            # Set the parameters of each memristor in the integrator\n",
      "            voltage_drop = self.voltages[i] - self.voltages[j]\n",
      "            try:\n",
      "                param = self.memristor_params[i, j]\n",
      "            except TypeError:\n",
      "                param = None\n",
      "                \n",
      "            self.integrator.set_initial_value(self.state_variables[i, j], 0).set_f_params(voltage_drop,\n",
      "                                                param).set_jac_params(voltage_drop, param)\n",
      "           \n",
      "            integrated_state_variable = self.integrator.integrate(delta_t)\n",
      "            \n",
      "            if self.integrator.successful():\n",
      "                if integrated_state_variable >= self.G_ON:\n",
      "                    self.state_variables[i, j] = self.G_ON\n",
      "                elif integrated_state_variable <= self.G_OFF:\n",
      "                    self.state_variables[i, j] = self.G_OFF\n",
      "                else:\n",
      "                    self.state_variables[i, j] = integrated_state_variable\n",
      "            else:\n",
      "                print \"Integration was unsuccessful\"\n",
      "                \n",
      "            \n",
      "        self.update_conductance_matrix()"
     ],
     "language": "python",
     "metadata": {},
     "outputs": [],
     "prompt_number": 30
    },
    {
     "cell_type": "code",
     "collapsed": false,
     "input": [
      "lattice_shape = (7, 7)\n",
      "num_nodes = lattice_shape[0] * lattice_shape[1]\n",
      "state_var = gen_adj.cubic_2d(lattice_shape, undirected=False, xbias=1, ybias=1)\n",
      "threshold_voltages = state_var.copy()"
     ],
     "language": "python",
     "metadata": {},
     "outputs": [],
     "prompt_number": 31
    },
    {
     "cell_type": "code",
     "collapsed": false,
     "input": [
      "# Create the external voltage\n",
      "t_final = 1000                                              # in units of t_0\n",
      "t = np.linspace(0, t_final, 10000 )\n",
      "dt = t[1] - t[0]\n",
      "\n",
      "V_initial = 1e-4\n",
      "V_final = 10                                               # in units of V_t\n",
      "V_high = np.linspace(V_initial, V_final, len(t))\n",
      "v_external = np.empty((num_nodes, len(t))) * np.nan\n",
      "v_external[0:lattice_shape[1],  :] = V_high\n",
      "v_external[(-1 * lattice_shape[1]):, :] = 0"
     ],
     "language": "python",
     "metadata": {},
     "outputs": [],
     "prompt_number": 32
    },
    {
     "cell_type": "code",
     "collapsed": false,
     "input": [
      "rows, cols = state_var.nonzero()\n",
      "num_memristors = len(rows)\n",
      "R_initial = (R_OFF - R_ON) * np.random.random_sample(num_memristors) + R_ON\n",
      "V_thresholds = V_t * np.random.random_sample(num_memristors)\n",
      "state_var[rows, cols] = 1. / R_initial\n",
      "threshold_voltages[rows, cols] = V_thresholds"
     ],
     "language": "python",
     "metadata": {},
     "outputs": [],
     "prompt_number": 33
    },
    {
     "cell_type": "code",
     "collapsed": false,
     "input": [
      "memtest = MemristorLattice2DCubic(lattice_shape, state_var, v_external[:,0], XtoG, xdot, jacobian=None,\n",
      "                           memristor_params=threshold_voltages, G_ON=G_ON, G_OFF=G_OFF)\n",
      "memtest.integrator.set_integrator('dop853', atol=10**-2, nsteps=10000)"
     ],
     "language": "python",
     "metadata": {},
     "outputs": [
      {
       "metadata": {},
       "output_type": "pyout",
       "prompt_number": 34,
       "text": [
        "<scipy.integrate._ode.ode at 0x31bb950>"
       ]
      }
     ],
     "prompt_number": 34
    },
    {
     "cell_type": "code",
     "collapsed": false,
     "input": [
      "memtest.solve_voltages('cg')\n",
      "fig, ax = plt.subplots(figsize=(8,8))\n",
      "memtest.display(ax, 'voltage', nodesize=10)"
     ],
     "language": "python",
     "metadata": {},
     "outputs": [
      {
       "metadata": {},
       "output_type": "display_data",
       "png": "[encoded data removed]",
       "text": [
        "<matplotlib.figure.Figure at 0x31bba50>"
       ]
      }
     ],
     "prompt_number": 35
    },
    {
     "cell_type": "code",
     "collapsed": false,
     "input": [
      "cond = [memtest.conductivity()]\n",
      "initial_state = memtest.state_variables.copy()\n",
      "# At each time point beginning with the 2nd\n",
      "for t_idx, time in enumerate(t[1:]):\n",
      "    # update external voltages\n",
      "    memtest.external_voltages = v_external[:,t_idx]\n",
      "    # integrate the memristances\n",
      "    memtest.update(dt)\n",
      "    # solve the network\n",
      "    memtest.solve_voltages('cg')\n",
      "    # add the memristances to our list\n",
      "    cond.append(memtest.conductivity())\n"
     ],
     "language": "python",
     "metadata": {},
     "outputs": [
      {
       "output_type": "stream",
       "stream": "stdout",
       "text": [
        "Integration was unsuccessful\n"
       ]
      },
      {
       "ename": "KeyboardInterrupt",
       "evalue": "",
       "output_type": "pyerr",
       "traceback": [
        "\u001b[1;31m---------------------------------------------------------------------------\u001b[0m\n\u001b[1;31mKeyboardInterrupt\u001b[0m                         Traceback (most recent call last)",
        "\u001b[1;32m<ipython-input-37-a5e0e2193627>\u001b[0m in \u001b[0;36m<module>\u001b[1;34m()\u001b[0m\n\u001b[0;32m      6\u001b[0m     \u001b[0mmemtest\u001b[0m\u001b[1;33m.\u001b[0m\u001b[0mexternal_voltages\u001b[0m \u001b[1;33m=\u001b[0m \u001b[0mv_external\u001b[0m\u001b[1;33m[\u001b[0m\u001b[1;33m:\u001b[0m\u001b[1;33m,\u001b[0m\u001b[0mt_idx\u001b[0m\u001b[1;33m]\u001b[0m\u001b[1;33m\u001b[0m\u001b[0m\n\u001b[0;32m      7\u001b[0m     \u001b[1;31m# integrate the memristances\u001b[0m\u001b[1;33m\u001b[0m\u001b[1;33m\u001b[0m\u001b[0m\n\u001b[1;32m----> 8\u001b[1;33m     \u001b[0mmemtest\u001b[0m\u001b[1;33m.\u001b[0m\u001b[0mupdate\u001b[0m\u001b[1;33m(\u001b[0m\u001b[0mdt\u001b[0m\u001b[1;33m)\u001b[0m\u001b[1;33m\u001b[0m\u001b[0m\n\u001b[0m\u001b[0;32m      9\u001b[0m     \u001b[1;31m# solve the network\u001b[0m\u001b[1;33m\u001b[0m\u001b[1;33m\u001b[0m\u001b[0m\n\u001b[0;32m     10\u001b[0m     \u001b[0mmemtest\u001b[0m\u001b[1;33m.\u001b[0m\u001b[0msolve_voltages\u001b[0m\u001b[1;33m(\u001b[0m\u001b[1;34m'cg'\u001b[0m\u001b[1;33m)\u001b[0m\u001b[1;33m\u001b[0m\u001b[0m\n",
        "\u001b[1;32m<ipython-input-30-a6534feaf59c>\u001b[0m in \u001b[0;36mupdate\u001b[1;34m(self, delta_t)\u001b[0m\n\u001b[0;32m     59\u001b[0m                                                 param).set_jac_params(voltage_drop, param)\n\u001b[0;32m     60\u001b[0m \u001b[1;33m\u001b[0m\u001b[0m\n\u001b[1;32m---> 61\u001b[1;33m             \u001b[0mintegrated_state_variable\u001b[0m \u001b[1;33m=\u001b[0m \u001b[0mself\u001b[0m\u001b[1;33m.\u001b[0m\u001b[0mintegrator\u001b[0m\u001b[1;33m.\u001b[0m\u001b[0mintegrate\u001b[0m\u001b[1;33m(\u001b[0m\u001b[0mdelta_t\u001b[0m\u001b[1;33m)\u001b[0m\u001b[1;33m\u001b[0m\u001b[0m\n\u001b[0m\u001b[0;32m     62\u001b[0m \u001b[1;33m\u001b[0m\u001b[0m\n\u001b[0;32m     63\u001b[0m             \u001b[1;32mif\u001b[0m \u001b[0mself\u001b[0m\u001b[1;33m.\u001b[0m\u001b[0mintegrator\u001b[0m\u001b[1;33m.\u001b[0m\u001b[0msuccessful\u001b[0m\u001b[1;33m(\u001b[0m\u001b[1;33m)\u001b[0m\u001b[1;33m:\u001b[0m\u001b[1;33m\u001b[0m\u001b[0m\n",
        "\u001b[1;32m/usr/local/lib/python2.7/dist-packages/scipy/integrate/_ode.pyc\u001b[0m in \u001b[0;36mintegrate\u001b[1;34m(self, t, step, relax)\u001b[0m\n\u001b[0;32m    386\u001b[0m             self._y, self.t = mth(self.f, self.jac or (lambda: None),\n\u001b[0;32m    387\u001b[0m                                 \u001b[0mself\u001b[0m\u001b[1;33m.\u001b[0m\u001b[0m_y\u001b[0m\u001b[1;33m,\u001b[0m \u001b[0mself\u001b[0m\u001b[1;33m.\u001b[0m\u001b[0mt\u001b[0m\u001b[1;33m,\u001b[0m \u001b[0mt\u001b[0m\u001b[1;33m,\u001b[0m\u001b[1;33m\u001b[0m\u001b[0m\n\u001b[1;32m--> 388\u001b[1;33m                                 self.f_params, self.jac_params)\n\u001b[0m\u001b[0;32m    389\u001b[0m         \u001b[1;32mexcept\u001b[0m \u001b[0mSystemError\u001b[0m\u001b[1;33m:\u001b[0m\u001b[1;33m\u001b[0m\u001b[0m\n\u001b[0;32m    390\u001b[0m             \u001b[1;31m# f2py issue with tuple returns, see ticket 1187.\u001b[0m\u001b[1;33m\u001b[0m\u001b[1;33m\u001b[0m\u001b[0m\n",
        "\u001b[1;32m/usr/local/lib/python2.7/dist-packages/scipy/integrate/_ode.pyc\u001b[0m in \u001b[0;36mrun\u001b[1;34m(self, f, jac, y0, t0, t1, f_params, jac_params)\u001b[0m\n\u001b[0;32m    944\u001b[0m     \u001b[1;32mdef\u001b[0m \u001b[0mrun\u001b[0m\u001b[1;33m(\u001b[0m\u001b[0mself\u001b[0m\u001b[1;33m,\u001b[0m \u001b[0mf\u001b[0m\u001b[1;33m,\u001b[0m \u001b[0mjac\u001b[0m\u001b[1;33m,\u001b[0m \u001b[0my0\u001b[0m\u001b[1;33m,\u001b[0m \u001b[0mt0\u001b[0m\u001b[1;33m,\u001b[0m \u001b[0mt1\u001b[0m\u001b[1;33m,\u001b[0m \u001b[0mf_params\u001b[0m\u001b[1;33m,\u001b[0m \u001b[0mjac_params\u001b[0m\u001b[1;33m)\u001b[0m\u001b[1;33m:\u001b[0m\u001b[1;33m\u001b[0m\u001b[0m\n\u001b[0;32m    945\u001b[0m         x, y, iwork, idid = self.runner(*((f, t0, y0, t1) +\n\u001b[1;32m--> 946\u001b[1;33m                                           tuple(self.call_args) + (f_params,)))\n\u001b[0m\u001b[0;32m    947\u001b[0m         \u001b[1;32mif\u001b[0m \u001b[0midid\u001b[0m \u001b[1;33m<\u001b[0m \u001b[1;36m0\u001b[0m\u001b[1;33m:\u001b[0m\u001b[1;33m\u001b[0m\u001b[0m\n\u001b[0;32m    948\u001b[0m             warnings.warn(self.name + ': ' +\n",
        "\u001b[1;32m<ipython-input-4-e8ae47ebdbce>\u001b[0m in \u001b[0;36mxdot\u001b[1;34m(t, x, V, V_T)\u001b[0m\n\u001b[0;32m      3\u001b[0m \u001b[1;33m\u001b[0m\u001b[0m\n\u001b[0;32m      4\u001b[0m \u001b[1;32mdef\u001b[0m \u001b[0mxdot\u001b[0m\u001b[1;33m(\u001b[0m\u001b[0mt\u001b[0m\u001b[1;33m,\u001b[0m \u001b[0mx\u001b[0m\u001b[1;33m,\u001b[0m \u001b[0mV\u001b[0m\u001b[1;33m,\u001b[0m \u001b[0mV_T\u001b[0m\u001b[1;33m)\u001b[0m\u001b[1;33m:\u001b[0m\u001b[1;33m\u001b[0m\u001b[0m\n\u001b[1;32m----> 5\u001b[1;33m     \u001b[1;32mreturn\u001b[0m \u001b[0mvc_mG_xdot_dmnlss\u001b[0m\u001b[1;33m(\u001b[0m\u001b[0mx\u001b[0m\u001b[1;33m,\u001b[0m \u001b[0mV\u001b[0m \u001b[1;33m/\u001b[0m \u001b[0mV_T\u001b[0m\u001b[1;33m,\u001b[0m \u001b[0mt\u001b[0m\u001b[1;33m)\u001b[0m\u001b[1;33m\u001b[0m\u001b[0m\n\u001b[0m\u001b[0;32m      6\u001b[0m \u001b[1;33m\u001b[0m\u001b[0m\n\u001b[0;32m      7\u001b[0m \u001b[1;32mdef\u001b[0m \u001b[0mjac\u001b[0m\u001b[1;33m(\u001b[0m\u001b[0mt\u001b[0m\u001b[1;33m,\u001b[0m \u001b[0mx\u001b[0m\u001b[1;33m,\u001b[0m \u001b[0mV\u001b[0m\u001b[1;33m,\u001b[0m \u001b[0mV_T\u001b[0m\u001b[1;33m)\u001b[0m\u001b[1;33m:\u001b[0m\u001b[1;33m\u001b[0m\u001b[0m\n",
        "\u001b[1;32m<ipython-input-4-e8ae47ebdbce>\u001b[0m in \u001b[0;36mvc_mG_xdot_dmnlss\u001b[1;34m(x, V, t)\u001b[0m\n\u001b[0;32m     16\u001b[0m     \u001b[0mG_dot\u001b[0m \u001b[1;33m=\u001b[0m \u001b[1;33m-\u001b[0m\u001b[0mG\u001b[0m\u001b[1;33m^\u001b[0m\u001b[1;36m2\u001b[0m \u001b[0mR_dot\u001b[0m\u001b[1;33m\u001b[0m\u001b[0m\n\u001b[0;32m     17\u001b[0m     \"\"\"\n\u001b[1;32m---> 18\u001b[1;33m     \u001b[1;32mreturn\u001b[0m \u001b[1;33m-\u001b[0m\u001b[0mx\u001b[0m\u001b[1;33m**\u001b[0m\u001b[1;36m2\u001b[0m \u001b[1;33m*\u001b[0m \u001b[0mvc_mR_xdot_dmnlss\u001b[0m\u001b[1;33m(\u001b[0m\u001b[1;36m1.\u001b[0m \u001b[1;33m/\u001b[0m \u001b[0mx\u001b[0m\u001b[1;33m,\u001b[0m \u001b[0mV\u001b[0m\u001b[1;33m,\u001b[0m \u001b[0mt\u001b[0m\u001b[1;33m)\u001b[0m\u001b[1;33m\u001b[0m\u001b[0m\n\u001b[0m",
        "\u001b[1;32m<ipython-input-4-e8ae47ebdbce>\u001b[0m in \u001b[0;36mvc_mR_xdot_dmnlss\u001b[1;34m(x, V, t)\u001b[0m\n\u001b[0;32m      9\u001b[0m \u001b[1;33m\u001b[0m\u001b[0m\n\u001b[0;32m     10\u001b[0m \u001b[1;32mdef\u001b[0m \u001b[0mvc_mR_xdot_dmnlss\u001b[0m\u001b[1;33m(\u001b[0m\u001b[0mx\u001b[0m\u001b[1;33m,\u001b[0m \u001b[0mV\u001b[0m\u001b[1;33m,\u001b[0m \u001b[0mt\u001b[0m\u001b[1;33m)\u001b[0m\u001b[1;33m:\u001b[0m\u001b[1;33m\u001b[0m\u001b[0m\n\u001b[1;32m---> 11\u001b[1;33m     \u001b[1;32mreturn\u001b[0m \u001b[0mV\u001b[0m \u001b[1;33m-\u001b[0m \u001b[1;36m0.5\u001b[0m \u001b[1;33m*\u001b[0m \u001b[1;33m(\u001b[0m\u001b[0mnp\u001b[0m\u001b[1;33m.\u001b[0m\u001b[0mabs\u001b[0m\u001b[1;33m(\u001b[0m\u001b[0mV\u001b[0m \u001b[1;33m+\u001b[0m \u001b[1;36m1\u001b[0m\u001b[1;33m)\u001b[0m \u001b[1;33m-\u001b[0m \u001b[0mnp\u001b[0m\u001b[1;33m.\u001b[0m\u001b[0mabs\u001b[0m\u001b[1;33m(\u001b[0m\u001b[0mV\u001b[0m \u001b[1;33m-\u001b[0m \u001b[1;36m1\u001b[0m\u001b[1;33m)\u001b[0m\u001b[1;33m)\u001b[0m\u001b[1;33m\u001b[0m\u001b[0m\n\u001b[0m\u001b[0;32m     12\u001b[0m \u001b[1;33m\u001b[0m\u001b[0m\n\u001b[0;32m     13\u001b[0m \u001b[1;32mdef\u001b[0m \u001b[0mvc_mG_xdot_dmnlss\u001b[0m\u001b[1;33m(\u001b[0m\u001b[0mx\u001b[0m\u001b[1;33m,\u001b[0m \u001b[0mV\u001b[0m\u001b[1;33m,\u001b[0m \u001b[0mt\u001b[0m\u001b[1;33m)\u001b[0m\u001b[1;33m:\u001b[0m\u001b[1;33m\u001b[0m\u001b[0m\n",
        "\u001b[1;31mKeyboardInterrupt\u001b[0m: "
       ]
      }
     ],
     "prompt_number": 37
    },
    {
     "cell_type": "code",
     "collapsed": false,
     "input": [
      "fig, ax = plt.subplots(figsize=(15, 12))\n",
      "ax.plot(V_high, 1. / np.array(cond))\n"
     ],
     "language": "python",
     "metadata": {},
     "outputs": [
      {
       "ename": "ValueError",
       "evalue": "x and y must have same first dimension",
       "output_type": "pyerr",
       "traceback": [
        "\u001b[1;31m---------------------------------------------------------------------------\u001b[0m\n\u001b[1;31mValueError\u001b[0m                                Traceback (most recent call last)",
        "\u001b[1;32m<ipython-input-38-2c222ddfb46a>\u001b[0m in \u001b[0;36m<module>\u001b[1;34m()\u001b[0m\n\u001b[0;32m      1\u001b[0m \u001b[0mfig\u001b[0m\u001b[1;33m,\u001b[0m \u001b[0max\u001b[0m \u001b[1;33m=\u001b[0m \u001b[0mplt\u001b[0m\u001b[1;33m.\u001b[0m\u001b[0msubplots\u001b[0m\u001b[1;33m(\u001b[0m\u001b[0mfigsize\u001b[0m\u001b[1;33m=\u001b[0m\u001b[1;33m(\u001b[0m\u001b[1;36m15\u001b[0m\u001b[1;33m,\u001b[0m \u001b[1;36m12\u001b[0m\u001b[1;33m)\u001b[0m\u001b[1;33m)\u001b[0m\u001b[1;33m\u001b[0m\u001b[0m\n\u001b[1;32m----> 2\u001b[1;33m \u001b[0max\u001b[0m\u001b[1;33m.\u001b[0m\u001b[0mplot\u001b[0m\u001b[1;33m(\u001b[0m\u001b[0mV_high\u001b[0m\u001b[1;33m,\u001b[0m \u001b[1;36m1.\u001b[0m \u001b[1;33m/\u001b[0m \u001b[0mnp\u001b[0m\u001b[1;33m.\u001b[0m\u001b[0marray\u001b[0m\u001b[1;33m(\u001b[0m\u001b[0mcond\u001b[0m\u001b[1;33m)\u001b[0m\u001b[1;33m)\u001b[0m\u001b[1;33m\u001b[0m\u001b[0m\n\u001b[0m",
        "\u001b[1;32m/usr/local/lib/python2.7/dist-packages/matplotlib/axes.pyc\u001b[0m in \u001b[0;36mplot\u001b[1;34m(self, *args, **kwargs)\u001b[0m\n\u001b[0;32m   4135\u001b[0m         \u001b[0mlines\u001b[0m \u001b[1;33m=\u001b[0m \u001b[1;33m[\u001b[0m\u001b[1;33m]\u001b[0m\u001b[1;33m\u001b[0m\u001b[0m\n\u001b[0;32m   4136\u001b[0m \u001b[1;33m\u001b[0m\u001b[0m\n\u001b[1;32m-> 4137\u001b[1;33m         \u001b[1;32mfor\u001b[0m \u001b[0mline\u001b[0m \u001b[1;32min\u001b[0m \u001b[0mself\u001b[0m\u001b[1;33m.\u001b[0m\u001b[0m_get_lines\u001b[0m\u001b[1;33m(\u001b[0m\u001b[1;33m*\u001b[0m\u001b[0margs\u001b[0m\u001b[1;33m,\u001b[0m \u001b[1;33m**\u001b[0m\u001b[0mkwargs\u001b[0m\u001b[1;33m)\u001b[0m\u001b[1;33m:\u001b[0m\u001b[1;33m\u001b[0m\u001b[0m\n\u001b[0m\u001b[0;32m   4138\u001b[0m             \u001b[0mself\u001b[0m\u001b[1;33m.\u001b[0m\u001b[0madd_line\u001b[0m\u001b[1;33m(\u001b[0m\u001b[0mline\u001b[0m\u001b[1;33m)\u001b[0m\u001b[1;33m\u001b[0m\u001b[0m\n\u001b[0;32m   4139\u001b[0m             \u001b[0mlines\u001b[0m\u001b[1;33m.\u001b[0m\u001b[0mappend\u001b[0m\u001b[1;33m(\u001b[0m\u001b[0mline\u001b[0m\u001b[1;33m)\u001b[0m\u001b[1;33m\u001b[0m\u001b[0m\n",
        "\u001b[1;32m/usr/local/lib/python2.7/dist-packages/matplotlib/axes.pyc\u001b[0m in \u001b[0;36m_grab_next_args\u001b[1;34m(self, *args, **kwargs)\u001b[0m\n\u001b[0;32m    315\u001b[0m                 \u001b[1;32mreturn\u001b[0m\u001b[1;33m\u001b[0m\u001b[0m\n\u001b[0;32m    316\u001b[0m             \u001b[1;32mif\u001b[0m \u001b[0mlen\u001b[0m\u001b[1;33m(\u001b[0m\u001b[0mremaining\u001b[0m\u001b[1;33m)\u001b[0m \u001b[1;33m<=\u001b[0m \u001b[1;36m3\u001b[0m\u001b[1;33m:\u001b[0m\u001b[1;33m\u001b[0m\u001b[0m\n\u001b[1;32m--> 317\u001b[1;33m                 \u001b[1;32mfor\u001b[0m \u001b[0mseg\u001b[0m \u001b[1;32min\u001b[0m \u001b[0mself\u001b[0m\u001b[1;33m.\u001b[0m\u001b[0m_plot_args\u001b[0m\u001b[1;33m(\u001b[0m\u001b[0mremaining\u001b[0m\u001b[1;33m,\u001b[0m \u001b[0mkwargs\u001b[0m\u001b[1;33m)\u001b[0m\u001b[1;33m:\u001b[0m\u001b[1;33m\u001b[0m\u001b[0m\n\u001b[0m\u001b[0;32m    318\u001b[0m                     \u001b[1;32myield\u001b[0m \u001b[0mseg\u001b[0m\u001b[1;33m\u001b[0m\u001b[0m\n\u001b[0;32m    319\u001b[0m                 \u001b[1;32mreturn\u001b[0m\u001b[1;33m\u001b[0m\u001b[0m\n",
        "\u001b[1;32m/usr/local/lib/python2.7/dist-packages/matplotlib/axes.pyc\u001b[0m in \u001b[0;36m_plot_args\u001b[1;34m(self, tup, kwargs)\u001b[0m\n\u001b[0;32m    293\u001b[0m             \u001b[0mx\u001b[0m \u001b[1;33m=\u001b[0m \u001b[0mnp\u001b[0m\u001b[1;33m.\u001b[0m\u001b[0marange\u001b[0m\u001b[1;33m(\u001b[0m\u001b[0my\u001b[0m\u001b[1;33m.\u001b[0m\u001b[0mshape\u001b[0m\u001b[1;33m[\u001b[0m\u001b[1;36m0\u001b[0m\u001b[1;33m]\u001b[0m\u001b[1;33m,\u001b[0m \u001b[0mdtype\u001b[0m\u001b[1;33m=\u001b[0m\u001b[0mfloat\u001b[0m\u001b[1;33m)\u001b[0m\u001b[1;33m\u001b[0m\u001b[0m\n\u001b[0;32m    294\u001b[0m \u001b[1;33m\u001b[0m\u001b[0m\n\u001b[1;32m--> 295\u001b[1;33m         \u001b[0mx\u001b[0m\u001b[1;33m,\u001b[0m \u001b[0my\u001b[0m \u001b[1;33m=\u001b[0m \u001b[0mself\u001b[0m\u001b[1;33m.\u001b[0m\u001b[0m_xy_from_xy\u001b[0m\u001b[1;33m(\u001b[0m\u001b[0mx\u001b[0m\u001b[1;33m,\u001b[0m \u001b[0my\u001b[0m\u001b[1;33m)\u001b[0m\u001b[1;33m\u001b[0m\u001b[0m\n\u001b[0m\u001b[0;32m    296\u001b[0m \u001b[1;33m\u001b[0m\u001b[0m\n\u001b[0;32m    297\u001b[0m         \u001b[1;32mif\u001b[0m \u001b[0mself\u001b[0m\u001b[1;33m.\u001b[0m\u001b[0mcommand\u001b[0m \u001b[1;33m==\u001b[0m \u001b[1;34m'plot'\u001b[0m\u001b[1;33m:\u001b[0m\u001b[1;33m\u001b[0m\u001b[0m\n",
        "\u001b[1;32m/usr/local/lib/python2.7/dist-packages/matplotlib/axes.pyc\u001b[0m in \u001b[0;36m_xy_from_xy\u001b[1;34m(self, x, y)\u001b[0m\n\u001b[0;32m    235\u001b[0m         \u001b[0my\u001b[0m \u001b[1;33m=\u001b[0m \u001b[0mnp\u001b[0m\u001b[1;33m.\u001b[0m\u001b[0matleast_1d\u001b[0m\u001b[1;33m(\u001b[0m\u001b[0my\u001b[0m\u001b[1;33m)\u001b[0m\u001b[1;33m\u001b[0m\u001b[0m\n\u001b[0;32m    236\u001b[0m         \u001b[1;32mif\u001b[0m \u001b[0mx\u001b[0m\u001b[1;33m.\u001b[0m\u001b[0mshape\u001b[0m\u001b[1;33m[\u001b[0m\u001b[1;36m0\u001b[0m\u001b[1;33m]\u001b[0m \u001b[1;33m!=\u001b[0m \u001b[0my\u001b[0m\u001b[1;33m.\u001b[0m\u001b[0mshape\u001b[0m\u001b[1;33m[\u001b[0m\u001b[1;36m0\u001b[0m\u001b[1;33m]\u001b[0m\u001b[1;33m:\u001b[0m\u001b[1;33m\u001b[0m\u001b[0m\n\u001b[1;32m--> 237\u001b[1;33m             \u001b[1;32mraise\u001b[0m \u001b[0mValueError\u001b[0m\u001b[1;33m(\u001b[0m\u001b[1;34m\"x and y must have same first dimension\"\u001b[0m\u001b[1;33m)\u001b[0m\u001b[1;33m\u001b[0m\u001b[0m\n\u001b[0m\u001b[0;32m    238\u001b[0m         \u001b[1;32mif\u001b[0m \u001b[0mx\u001b[0m\u001b[1;33m.\u001b[0m\u001b[0mndim\u001b[0m \u001b[1;33m>\u001b[0m \u001b[1;36m2\u001b[0m \u001b[1;32mor\u001b[0m \u001b[0my\u001b[0m\u001b[1;33m.\u001b[0m\u001b[0mndim\u001b[0m \u001b[1;33m>\u001b[0m \u001b[1;36m2\u001b[0m\u001b[1;33m:\u001b[0m\u001b[1;33m\u001b[0m\u001b[0m\n\u001b[0;32m    239\u001b[0m             \u001b[1;32mraise\u001b[0m \u001b[0mValueError\u001b[0m\u001b[1;33m(\u001b[0m\u001b[1;34m\"x and y can be no greater than 2-D\"\u001b[0m\u001b[1;33m)\u001b[0m\u001b[1;33m\u001b[0m\u001b[0m\n",
        "\u001b[1;31mValueError\u001b[0m: x and y must have same first dimension"
       ]
      },
      {
       "metadata": {},
       "output_type": "display_data",
       "png": "[encoded data removed]",
       "text": [
        "<matplotlib.figure.Figure at 0x3075910>"
       ]
      }
     ],
     "prompt_number": 38
    },
    {
     "cell_type": "heading",
     "level": 3,
     "metadata": {},
     "source": [
      "Visualizing the network"
     ]
    },
    {
     "cell_type": "code",
     "collapsed": false,
     "input": [
      "lattice_shape = (7, 7)\n",
      "num_nodes = lattice_shape[0] * lattice_shape[1]\n",
      "state_var = gen_adj.cubic_2d(lattice_shape, undirected=False, xbias=1, ybias=1)\n",
      "threshold_voltages = state_var.copy()"
     ],
     "language": "python",
     "metadata": {},
     "outputs": [],
     "prompt_number": 39
    },
    {
     "cell_type": "code",
     "collapsed": false,
     "input": [
      "memtest = MemristorLattice2DCubic(lattice_shape, state_var, v_external[:,0], XtoG, xdot, jacobian=None,\n",
      "                           memristor_params=threshold_voltages, G_ON=G_ON, G_OFF=G_OFF)\n",
      "memtest.integrator.set_integrator('dop853', atol=10**-2, nsteps=10000)"
     ],
     "language": "python",
     "metadata": {},
     "outputs": []
    },
    {
     "cell_type": "code",
     "collapsed": false,
     "input": [
      "fig, ax = plt.subplots(figsize=(15, 12))\n",
      "cond = [memtest.conductivity()]\n",
      "memtest.display(ax, 'conductance', nodesize=10, bondwidth=5, colormin=G_OFF, colormax=G_ON)\n",
      "# At each time point beginning with the 2nd\n",
      "for t_idx, time in enumerate(t[1:]):\n",
      "    # update external voltages\n",
      "    memtest.external_voltages = v_external[:,t_idx]\n",
      "    # integrate the memristances\n",
      "    memtest.update(dt)\n",
      "    # solve the network\n",
      "    memtest.solve_voltages('cg')\n",
      "    # add the memristances to our list\n",
      "    cond.append(memtest.conductivity())\n",
      "    if t_idx % 100 == 0:\n",
      "        memtest.display(ax, 'conductance', nodesize=10, bondwidth=5, colormin=G_OFF, colormax=G_ON)\n",
      "        a = raw_input()"
     ],
     "language": "python",
     "metadata": {},
     "outputs": []
    }
   ],
   "metadata": {}
  }
 ]
}