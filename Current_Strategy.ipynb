{
 "metadata": {
  "name": "",
  "signature": "sha256:8fedb44241b74450f138cb4f11d588df0ee8ba291d7b37f1127a3f4c8986b6a6"
 },
 "nbformat": 3,
 "nbformat_minor": 0,
 "worksheets": [
  {
   "cells": [
    {
     "cell_type": "heading",
     "level": 1,
     "metadata": {},
     "source": [
      "Current Strategy"
     ]
    },
    {
     "cell_type": "code",
     "collapsed": false,
     "input": [
      "%matplotlib inline"
     ],
     "language": "python",
     "metadata": {},
     "outputs": [],
     "prompt_number": 2
    },
    {
     "cell_type": "code",
     "collapsed": false,
     "input": [
      "import numpy as np\n",
      "import scipy as scp\n",
      "import matplotlib.pyplot as plt\n",
      "from IPython.display import Image"
     ],
     "language": "python",
     "metadata": {},
     "outputs": [],
     "prompt_number": 5
    },
    {
     "cell_type": "markdown",
     "metadata": {},
     "source": [
      "The current working theory is that a heavy tail in the voltage drop distribution causes the power law scaling in the residence time distribution.  The current strategy for showing this is:\n",
      "\n",
      "* Show analytically that a tailing distribution in voltage drops implies a power law scaling regime in the distribution of differences between voltage drops\n",
      "* Show that the voltage drop distribution for resistor net has a heavy tail for a number of connectivity profiles\n",
      "* Show that in steady state after functionalization, the distribution is no longer heavy tailed\n",
      "* Confirm with simulations that short pulses with noise keep heavy tailing and produce the correct residence time distribution"
     ]
    },
    {
     "cell_type": "heading",
     "level": 3,
     "metadata": {},
     "source": [
      "Analytical Work"
     ]
    },
    {
     "cell_type": "heading",
     "level": 5,
     "metadata": {},
     "source": [
      "Power Law Switching times on a Hierarchical Lattice"
     ]
    },
    {
     "cell_type": "markdown",
     "metadata": {},
     "source": [
      "As an example of how a powerlaw switching distribution might arise, we will look at the behavior on a hierarchical lattice, proposed as a model of the percolating backbone.  In this case, we consider memristors beginning in the off state and exhibiting linear growth in the voltage with a sharp switching at the completion of the filament.  We do not consider breakdown and limit ourselves to the case where $R_{ON} \\approx R_{OFF}$ so that switchings do not affect the network and we can consider the current and external voltage as constant."
     ]
    },
    {
     "cell_type": "code",
     "collapsed": false,
     "input": [
      "Image(filename='Hierarchical_Lattice.png')"
     ],
     "language": "python",
     "metadata": {},
     "outputs": [
      {
       "metadata": {},
       "output_type": "pyout",
       "png": "[encoded data removed]",
       "prompt_number": 6,
       "text": [
        "<IPython.core.display.Image at 0x35ea450>"
       ]
      }
     ],
     "prompt_number": 6
    },
    {
     "cell_type": "markdown",
     "metadata": {},
     "source": [
      "This lattice is interesting because it has a log-binomial voltage drop distribution, the discrete analogue of the log-normal voltage drop distribution found in a percolating resistor lattice.  The derivation of the voltage drop distribution is unnecessary for the following argument but is given below.\n",
      "\n",
      "In the lattice after $N$ iterations, there are levels ranging from a single resistor to $2^N$ resistors.  This gives a set of voltage drops that varies as $2^{-j}$ from $j=0\\to N$.  If we assume linear growth of the memristors, the times for filament completion will be proportional to $T_j = \\frac{l}{V}\\propto 2^j$.  This gives a time between successive switchings, $\\Delta T_i \\propto T_{i+1} - T_{i}\\propto 2^i$.  So the switching times *vary* exponentially as $2^i$ but this is quite different from being *distributed* as $2^i$.  If we consider this distribution, it would be $N$ units of mass $1/N$ placed at the integer values of $2^i$ which we might write as $\\frac{1}{N} \\sum_{i=1}^{N} \\delta (\\Delta T - 2^i)$.  What is the continuum limit of this distribution?\n",
      "\n",
      "We could begin by inserting more delta functions:\n",
      "$$ p(\\Delta T) = \\frac{1}{mN} \\sum_{i=1}^{mN} \\delta (\\Delta T - 2^{i/m})$$\n",
      "in the limit $m\\to\\infty$,\n",
      "$$\\lim_{m\\to\\infty}\\frac{1}{mN} \\sum_{i=1}^{mN} \\delta (\\Delta T - 2^{i/m}) = \\frac{1}{N} \\lim_{\\max\\Delta x_i \\to 0} \\sum_{x_i} f(x_i)\\Delta x_i$$\n",
      "where $x_i = \\frac{i}{m}$ $\\Delta x_i = \\frac{1}{m}$ and $f(x) = \\delta (\\Delta T - 2^{x})$.\n",
      "Thus,\n",
      "$$p(\\Delta T) = \\frac{1}{N} \\int_0^N dx\\, \\delta(\\Delta T - 2^x) = \\frac{1}{N} \\int_1^{2^N} \\frac{du}{\\ln 2 u} \\delta(\\Delta T - u)\\\\\n",
      "p(\\Delta T)= \\frac{1}{N\\ln 2 \\Delta T}$$\n",
      "So, in this case, where memristive switching is negligible, and all we have is a timescale of switching and the lognormal voltage drop distribution introduced by percolation, we find that our switching times should follow a power law with an exponent of $1$."
     ]
    },
    {
     "cell_type": "heading",
     "level": 6,
     "metadata": {},
     "source": [
      "Voltage Drop Distribution"
     ]
    },
    {
     "cell_type": "markdown",
     "metadata": {},
     "source": [
      "As the resistance of the unit cell is $\\frac{5}{2}R$, at the $N$th iteration, the resistance of the lattice is $\\left(\\frac{5}{2}\\right)^NR$ and the current through the lattice from an applied voltage $V$ will thus be $\\left(\\frac{2}{5}\\right)^N \\frac{V}{R}$.  The lattice is arranged into layers of various numbers of resistors in parallel.  As all have the same resistance, in a layer of $n$ resistors, each will carry $\\left(\\frac{2}{5}\\right)^N \\frac{V}{nR}$ of the current and thus the layer will have a voltage drop of $\\left(\\frac{2}{5}\\right)^N \\frac{V}{n}$.\n",
      "\n",
      "In our model, each layer will have $2^j$ resistors for $j = 0\\to N$.  We wish to determine the number of resistors involved in layers of size $2^j$. We follow a resistor through the various iterations: at each iteration, the number of resistors in its layer either doubles, or stays the same.  After $N$ iterations, the number of doublings gives the size of the layer.  Thus, in a sequence like $1\\to 1\\to 2\\to 1 ... \\to 2\\to 2 \\to 1$, the number of $2$s gives the size of the final layer.  For a layer of size $2^j$ there are ${N \\choose j}$ sequences that may lead to it and thus the same number of layers in the final lattice.  Similarly, for every factor of $1$ we get *two* layers like this, so the number of resistors involved in layers of size $2^j$ is just $\\text{num. layers} \\times \\text{num. resistors} = {N \\choose j} 2^{N-j} \\times 2^j = 2^N {N \\choose j}$.  If we instead care about the voltage, we just replace $n(j)$ with $n(V(j))$, the number of resistors with a voltage drop of size $V(j) = \\left(\\frac{2}{5}\\right)^N V 2^{-j}$ where the distribution is unchanged.  As the distribution in $j$ is binomial, but $j$ varies logarithmically in $V$ we refer to this distribution as log-binomial."
     ]
    },
    {
     "cell_type": "heading",
     "level": 4,
     "metadata": {},
     "source": [
      "Interval Distribution"
     ]
    },
    {
     "cell_type": "markdown",
     "metadata": {},
     "source": [
      "We are after the residence time distribution of a memristor network $p(\\Delta\\tau)$.  This gives the distribution of times between 'switching events' under some external voltage protocol. Experiments show that for certain external voltages (short, low voltage pulses with a short duty cycle) this distribution is a power law whose time scale extends from the measurement bandwidth to the pulse width as approximately $p(\\Delta\\tau) \\propto \\Delta\\tau^{-2}$. In a network that of memristors that undergo linear growth with a sharp resistance switch, and ignoring breakdown, a growth law of $\\frac{dl}{dt} = \\alpha V$ allows us to obtain the switching time distribution from the distribution of voltage drops in the network, $p_t(t) = p_V(\\frac{l}{\\alpha t})\\frac{l}{\\alpha t^2}$.\n",
      "\n",
      "Examining what this implies about the residence time distribution, we aim to obtain the distribution of intervals in a sample of $p(t)$. The joint distribution of order statistics in a sample of size $n$ is, for the $i$th and $j$th elements,\n",
      "$$ f_{X_i, X_j} (x, y) = \\frac{n!}{(i-1)!(j - 1 - i)! (n - j)!}F(x)^{i-1} f(x)[F(y) - F(x)]^{j-1-i}f(y)[1-F(y)]^{n-j}$$\n",
      "where $f(x)$ is the probability density function and $F(x)$ is the cummulative distribution function. (To obtain this, begin with the full order statistic distribution $n!\\prod_{i=1}^n f(x_i)$ and integrate out the variables you don't care about, using much induction.)\n",
      "This gives the probability density that in an ordered sample, the $i$th element is equal to $x$ and the $j$th element is equal to $y$.  For $j = i+1$ this is,\n",
      "$$ f_{X_i, X_{i+1}} (x, y) = \\frac{n!}{(i-1)!(n - (i+1))!}F(x)^{i-1} f(x)f(y)[1-F(y)]^{n-(i+1)}$$\n",
      "To obtain the distribution for the $i$th interval to be size $v$ we subsitute $y = x + v$ and integrate over $x$,\n",
      "$$p_i(v) = \\frac{n!}{(i-1)!(n - (i+1))!}\\int_{x_{min}}^\\infty dx\\,F(x)^{i-1} f(x)f(x + v)[1-F(x + v)]^{n-(i+1)}.$$\n",
      "Finally, to obtain the probability that any interval is of size $v$ we sum over $i$ from 1 to $n-1$ (normalizing also by $\\frac{1}{n-1}$),\n",
      "$$p(v) = \\frac{1}{n-1}\\sum_{i=1}^{n-1} \\frac{n!}{(i-1)!(n - (i+1))!}\\int_{x_{min}}^\\infty dx\\, F(x)^{i-1} f(x)f(x + v)[1-F(x + v)]^{n-(i+1)}$$\n",
      "Shifting the indices of our sum, we recognize it at a binomial expansion,\n",
      "$$p(v) = n\\int_{x_{min}}^\\infty dx\\,\\sum_{k=0}^{n-2} \\frac{(n-2)!}{k!((n -2) - k)!} F(x)^{k} f(x)f(x + v)[1-F(x + v)]^{((n-2)-k)}$$\n",
      "which we can evaluate giving,\n",
      "$$p(v) = n\\int_{x_{min}}^\\infty dx\\, (1 - (F(v+x) - F(x)))^{n-2}f(x)f(v+x).$$\n",
      "We can evaluate this expression for a number of distributions to see how it behaves:"
     ]
    },
    {
     "cell_type": "heading",
     "level": 5,
     "metadata": {},
     "source": [
      "Uniform Distribution"
     ]
    },
    {
     "cell_type": "markdown",
     "metadata": {},
     "source": [
      "* pdf: $p(x) = \\frac{1}{L} \\; 0 \\le x \\le L$\n",
      "* cdf: $F(x) = \\frac{x}{L}$\n",
      "* $p(v) = \\frac{n}{L}\\left(\\frac{L-v}{L}\\right)^{n-1}$\n",
      "\n",
      "This expression goes to zero polynomially as $v\\to L$"
     ]
    },
    {
     "cell_type": "heading",
     "level": 4,
     "metadata": {},
     "source": [
      "Exponential Distribution"
     ]
    },
    {
     "cell_type": "markdown",
     "metadata": {},
     "source": [
      "* pdf: $\\frac{1}{a}e^{-x/a}$\n",
      "* cdf: $1 - e^{-x/a}$"
     ]
    },
    {
     "cell_type": "code",
     "collapsed": false,
     "input": [
      "filament_test = np.load('completed_runs/fil_cu6_GBR_L16_VpulV10P2D3_200x1000.npz')"
     ],
     "language": "python",
     "metadata": {},
     "outputs": [],
     "prompt_number": 3
    },
    {
     "cell_type": "code",
     "collapsed": false,
     "input": [
      "t = filament_test['t']\n",
      "current = filament_test['current']\n",
      "v_external = filament_test['v']\n",
      "V = v_external[0,:]"
     ],
     "language": "python",
     "metadata": {},
     "outputs": [],
     "prompt_number": 4
    },
    {
     "cell_type": "code",
     "collapsed": false,
     "input": [
      "fig, ax = plt.subplots(figsize=(15,4))\n",
      "ax.plot(t[:-1],current)\n",
      "ax.set_xlim(100, 105)"
     ],
     "language": "python",
     "metadata": {},
     "outputs": [
      {
       "metadata": {},
       "output_type": "pyout",
       "prompt_number": 6,
       "text": [
        "(100, 105)"
       ]
      },
      {
       "metadata": {},
       "output_type": "display_data",
       "png": "[encoded data removed]",
       "text": [
        "<matplotlib.figure.Figure at 0x3431c90>"
       ]
      }
     ],
     "prompt_number": 6
    },
    {
     "cell_type": "code",
     "collapsed": false,
     "input": [
      "def residence_times_cond(current, voltage, t, cutoff=0, tolerance=1e-5):\n",
      "    \"\"\"\n",
      "    Returns a list of time intervals during which the conductance of the device was constant within a given tolerance.\n",
      "    A cutoff may be introduced and should be at least the temporal spacing.\n",
      "    \"\"\"\n",
      "    def conductance(index):\n",
      "        if voltage[index] != 0:\n",
      "            return current[index] / voltage[index]\n",
      "        else:\n",
      "            return np.nan\n",
      "    \n",
      "    res_times = []\n",
      "    beginnings = []\n",
      "    endings = []\n",
      "    beginning = 0\n",
      "\n",
      "    for idx, time in enumerate(t[:-1]):\n",
      "        \n",
      "        # a new conductance state is initialized if the conductance goes from nan to a new value\n",
      "        if np.isnan(conductance(idx-1)) and not np.isnan(conductance(idx)):\n",
      "            beginning = idx\n",
      "        \n",
      "        # We exit the state if the conductance changes to a value further away than the tolerance\n",
      "        # or if it becomes nan\n",
      "        if np.abs(conductance(idx+1) - conductance(beginning)) > tolerance or \\\n",
      "        (np.isnan(conductance(idx+1)) and not np.isnan(conductance(idx))):\n",
      "            state_time = t[idx] - t[beginning]\n",
      "            # only include it if the length of the state is longer than the cutoff.\n",
      "            if state_time > cutoff:\n",
      "                res_times.append(state_time)\n",
      "                beginnings.append(beginning)\n",
      "                endings.append(idx)\n",
      "            beginning = idx+1\n",
      "    \n",
      "    return res_times, beginnings, endings"
     ],
     "language": "python",
     "metadata": {},
     "outputs": [],
     "prompt_number": 62
    },
    {
     "cell_type": "code",
     "collapsed": false,
     "input": [
      "res, beg, end = residence_times_cond(current[2500:], V[2500:-1], t[2500:-1])\n",
      "hist, bins = np.histogram(res, bins=20)\n",
      "fig, ax = plt.subplots()\n",
      "ax.plot(bins[:-1], hist)"
     ],
     "language": "python",
     "metadata": {},
     "outputs": [
      {
       "metadata": {},
       "output_type": "pyout",
       "prompt_number": 63,
       "text": [
        "[<matplotlib.lines.Line2D at 0x6b46cd0>]"
       ]
      },
      {
       "metadata": {},
       "output_type": "display_data",
       "png": "[encoded data removed]",
       "text": [
        "<matplotlib.figure.Figure at 0x6b46550>"
       ]
      }
     ],
     "prompt_number": 63
    },
    {
     "cell_type": "code",
     "collapsed": false,
     "input": [
      "fig, ax = plt.subplots()\n",
      "ax.scatter(bins[:-1], hist)\n",
      "ax.set_yscale('log')\n",
      "ax.set_xscale('log')\n",
      "ax.set_ylim(bottom=1, top=hist.max()*2)\n",
      "ax.set_xlim(left=bins.min()/2, right=bins.max()*2)"
     ],
     "language": "python",
     "metadata": {},
     "outputs": [
      {
       "metadata": {},
       "output_type": "pyout",
       "prompt_number": 64,
       "text": [
        "(0.00050005000499986352, 0.058005800580058775)"
       ]
      },
      {
       "metadata": {},
       "output_type": "display_data",
       "png": "[encoded data removed]",
       "text": [
        "<matplotlib.figure.Figure at 0x6548b90>"
       ]
      }
     ],
     "prompt_number": 64
    },
    {
     "cell_type": "code",
     "collapsed": false,
     "input": [],
     "language": "python",
     "metadata": {},
     "outputs": [],
     "prompt_number": 64
    },
    {
     "cell_type": "code",
     "collapsed": false,
     "input": [],
     "language": "python",
     "metadata": {},
     "outputs": []
    }
   ],
   "metadata": {}
  }
 ]
}