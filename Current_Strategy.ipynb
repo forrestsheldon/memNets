{
 "metadata": {
  "name": "",
  "signature": "sha256:c2210a8a3d03fbb231a6c8b6a87f70494b0b97f3134f2470629a629b93941fe2"

 },
 "nbformat": 3,
 "nbformat_minor": 0,
 "worksheets": [
  {
   "cells": [
    {
     "cell_type": "heading",
     "level": 1,
     "metadata": {},
     "source": [
      "Current Strategy"
     ]
    },
    {
     "cell_type": "code",
     "collapsed": false,
     "input": [
      "%matplotlib inline"
     ],
     "language": "python",
     "metadata": {},
     "outputs": [],
     "prompt_number": 2
    },
    {
     "cell_type": "code",
     "collapsed": false,
     "input": [
      "import numpy as np\n",
      "import scipy as scp\n",
      "import matplotlib.pyplot as plt\n",
      "from IPython.display import Image"
     ],
     "language": "python",
     "metadata": {},
     "outputs": [],
     "prompt_number": 5
    },
    {
     "cell_type": "markdown",
     "metadata": {},
     "source": [
      "The current working theory is that a heavy tail in the voltage drop distribution causes the power law scaling in the residence time distribution.  The current strategy for showing this is:\n",
      "\n",
      "* Show analytically that a tailing distribution in voltage drops implies a power law scaling regime in the distribution of differences between voltage drops\n",
      "* Show that the voltage drop distribution for resistor net has a heavy tail for a number of connectivity profiles\n",
      "* Show that in steady state after functionalization, the distribution is no longer heavy tailed\n",
      "* Confirm with simulations that short pulses with noise keep heavy tailing and produce the correct residence time distribution"
     ]
    },
    {
     "cell_type": "heading",
     "level": 3,
     "metadata": {},
     "source": [
      "Analytical Work"
     ]
    },
    {
     "cell_type": "heading",
     "level": 5,
     "metadata": {},
     "source": [
      "Power Law Switching times on a Hierarchical Lattice"
     ]
    },
    {
     "cell_type": "markdown",
     "metadata": {},
     "source": [
      "As an example of how a powerlaw switching distribution might arise, we will look at the behavior on a hierarchical lattice, proposed as a model of the percolating backbone.  In this case, we consider memristors beginning in the off state and exhibiting linear growth in the voltage with a sharp switching at the completion of the filament.  We do not consider breakdown and limit ourselves to the case where $R_{ON} \\approx R_{OFF}$ so that switchings do not affect the network and we can consider the current and external voltage as constant."
     ]
    },
    {
     "cell_type": "code",
     "collapsed": false,
     "input": [
      "Image(filename='Hierarchical_Lattice.png')"
     ],
     "language": "python",
     "metadata": {},
     "outputs": [
      {
       "metadata": {},
       "output_type": "pyout",
       "png": "iVBORw0KGgoAAAANSUhEUgAAATcAAADxCAYAAACu5PAvAAAABHNCSVQICAgIfAhkiAAAAAlwSFlz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\n4QRrrVOn5N5JKcMwbGIZ4igc
