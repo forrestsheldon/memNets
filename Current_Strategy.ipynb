{
 "metadata": {
  "name": "",
  "signature": "sha256:b45657622afb028424ef289da99ab53bdabcde56bcd99c7fe267c8b3520176c7"
 },
 "nbformat": 3,
 "nbformat_minor": 0,
 "worksheets": [
  {
   "cells": [
    {
     "cell_type": "heading",
     "level": 1,
     "metadata": {},
     "source": [
      "Current Strategy"
     ]
    },
    {
     "cell_type": "code",
     "collapsed": false,
     "input": [
      "%matplotlib inline"
     ],
     "language": "python",
     "metadata": {},
     "outputs": [],
     "prompt_number": 1
    },
    {
     "cell_type": "code",
     "collapsed": false,
     "input": [
      "import numpy as np\n",
      "import scipy as scp\n",
      "import matplotlib.pyplot as plt"
     ],
     "language": "python",
     "metadata": {},
     "outputs": [],
     "prompt_number": 2
    },
    {
     "cell_type": "markdown",
     "metadata": {},
     "source": [
      "The current working theory is that a heavy tail in the voltage drop distribution causes the heavy tail in the residence time distribution.  The current strategy for showing this is:\n",
      "\n",
      "* Show analytically that a tailing distribution in voltage drops implies a tailing distribution in distribution of differences between voltage drops\n",
      "* Show that the voltage drop distribution for resistor net has a heavy tail for a number of connectivity profiles\n",
      "* Show that in steady state after functionalization, the distribution is no longer heavy tailed\n",
      "* Confirm with simulations that short pulses with noise keep heavy tailing and produce the correct residence time distribution"
     ]
    },
    {
     "cell_type": "heading",
     "level": 3,
     "metadata": {},
     "source": [
      "Analytical Work"
     ]
    },
    {
     "cell_type": "code",
     "collapsed": false,
     "input": [],
     "language": "python",
     "metadata": {},
     "outputs": []
    },
    {
     "cell_type": "code",
     "collapsed": false,
     "input": [
      "filament_test = np.load('completed_runs/fil_cu6_GBR_L16_VpulV10P2D3_200x1000.npz')"
     ],
     "language": "python",
     "metadata": {},
     "outputs": [],
     "prompt_number": 3
    },
    {
     "cell_type": "code",
     "collapsed": false,
     "input": [
      "t = filament_test['t']\n",
      "current = filament_test['current']\n",
      "v_external = filament_test['v']\n",
      "V = v_external[0,:]"
     ],
     "language": "python",
     "metadata": {},
     "outputs": [],
     "prompt_number": 4
    },
    {
     "cell_type": "code",
     "collapsed": false,
     "input": [
      "fig, ax = plt.subplots(figsize=(15,4))\n",
      "ax.plot(t[:-1],current)\n",
      "ax.set_xlim(100, 105)"
     ],
     "language": "python",
     "metadata": {},
     "outputs": [
      {
       "metadata": {},
       "output_type": "pyout",
       "prompt_number": 6,
       "text": [
        "(100, 105)"
       ]
      },
      {
       "metadata": {},
       "output_type": "display_data",
       "png": "[encoded data removed]",
       "text": [
        "<matplotlib.figure.Figure at 0x3431c90>"
       ]
      }
     ],
     "prompt_number": 6
    },
    {
     "cell_type": "code",
     "collapsed": false,
     "input": [
      "def residence_times_cond(current, voltage, t, cutoff=0, tolerance=1e-5):\n",
      "    \"\"\"\n",
      "    Returns a list of time intervals during which the conductance of the device was constant within a given tolerance.\n",
      "    A cutoff may be introduced and should be at least the temporal spacing.\n",
      "    \"\"\"\n",
      "    def conductance(index):\n",
      "        if voltage[index] != 0:\n",
      "            return current[index] / voltage[index]\n",
      "        else:\n",
      "            return np.nan\n",
      "    \n",
      "    res_times = []\n",
      "    beginnings = []\n",
      "    endings = []\n",
      "    beginning = 0\n",
      "\n",
      "    for idx, time in enumerate(t[:-1]):\n",
      "        \n",
      "        # a new conductance state is initialized if the conductance goes from nan to a new value\n",
      "        if np.isnan(conductance(idx-1)) and not np.isnan(conductance(idx)):\n",
      "            beginning = idx\n",
      "        \n",
      "        # We exit the state if the conductance changes to a value further away than the tolerance\n",
      "        # or if it becomes nan\n",
      "        if np.abs(conductance(idx+1) - conductance(beginning)) > tolerance or \\\n",
      "        (np.isnan(conductance(idx+1)) and not np.isnan(conductance(idx))):\n",
      "            state_time = t[idx] - t[beginning]\n",
      "            # only include it if the length of the state is longer than the cutoff.\n",
      "            if state_time > cutoff:\n",
      "                res_times.append(state_time)\n",
      "                beginnings.append(beginning)\n",
      "                endings.append(idx)\n",
      "            beginning = idx+1\n",
      "    \n",
      "    return res_times, beginnings, endings"
     ],
     "language": "python",
     "metadata": {},
     "outputs": [],
     "prompt_number": 62
    },
    {
     "cell_type": "code",
     "collapsed": false,
     "input": [
      "res, beg, end = residence_times_cond(current[2500:], V[2500:-1], t[2500:-1])\n",
      "hist, bins = np.histogram(res, bins=20)\n",
      "fig, ax = plt.subplots()\n",
      "ax.plot(bins[:-1], hist)"
     ],
     "language": "python",
     "metadata": {},
     "outputs": [
      {
       "metadata": {},
       "output_type": "pyout",
       "prompt_number": 63,
       "text": [
        "[<matplotlib.lines.Line2D at 0x6b46cd0>]"
       ]
      },
      {
       "metadata": {},
       "output_type": "display_data",
       "png": "[encoded data removed]",
       "text": [
        "<matplotlib.figure.Figure at 0x6b46550>"
       ]
      }
     ],
     "prompt_number": 63
    },
    {
     "cell_type": "code",
     "collapsed": false,
     "input": [
      "fig, ax = plt.subplots()\n",
      "ax.scatter(bins[:-1], hist)\n",
      "ax.set_yscale('log')\n",
      "ax.set_xscale('log')\n",
      "ax.set_ylim(bottom=1, top=hist.max()*2)\n",
      "ax.set_xlim(left=bins.min()/2, right=bins.max()*2)"
     ],
     "language": "python",
     "metadata": {},
     "outputs": [
      {
       "metadata": {},
       "output_type": "pyout",
       "prompt_number": 64,
       "text": [
        "(0.00050005000499986352, 0.058005800580058775)"
       ]
      },
      {
       "metadata": {},
       "output_type": "display_data",
       "png": "[encoded data removed]",
       "text": [
        "<matplotlib.figure.Figure at 0x6548b90>"
       ]
      }
     ],
     "prompt_number": 64
    },
    {
     "cell_type": "code",
     "collapsed": false,
     "input": [],
     "language": "python",
     "metadata": {},
     "outputs": [],
     "prompt_number": 64
    },
    {
     "cell_type": "code",
     "collapsed": false,
     "input": [],
     "language": "python",
     "metadata": {},
     "outputs": []
    }
   ],
   "metadata": {}
  }
 ]
}