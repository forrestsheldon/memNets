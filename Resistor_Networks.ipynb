{
 "metadata": {
  "name": ""
 },
 "nbformat": 3,
 "nbformat_minor": 0,
 "worksheets": [
  {
   "cells": [
    {
     "cell_type": "heading",
     "level": 1,
     "metadata": {},
     "source": [
      "Resistor Networks"
     ]
    },
    {
     "cell_type": "markdown",
     "metadata": {},
     "source": [
      "These are my personal notes on solving resistor networks in the aim of building up a memristor network solver.  As such, they may be lack citations, be unclear on some points, or worse, but completely wrong.  They are available on GitHub for the benefit of the curious.  If you notice anything wrong, would like to discuss a point further, or have coding suggestions, email me at forrest.sheldon@gmail.com."
     ]
    },
    {
     "cell_type": "code",
     "collapsed": false,
     "input": [
      "%pylab inline --no-import-all"
     ],
     "language": "python",
     "metadata": {},
     "outputs": [
      {
       "output_type": "stream",
       "stream": "stdout",
       "text": [
        "Populating the interactive namespace from numpy and matplotlib\n"
       ]
      }
     ],
     "prompt_number": 3
    },
    {
     "cell_type": "code",
     "collapsed": false,
     "input": [
      "import numpy as np\n",
      "import scipy as scp\n",
      "from scipy.sparse import *\n",
      "from scipy.sparse.linalg import spsolve\n",
      "import matplotlib.pyplot as plt\n",
      "import random\n",
      "import itertools"
     ],
     "language": "python",
     "metadata": {},
     "outputs": [],
     "prompt_number": 4
    },
    {
     "cell_type": "heading",
     "level": 3,
     "metadata": {},
     "source": [
      "The System of Equations"
     ]
    },
    {
     "cell_type": "markdown",
     "metadata": {},
     "source": [
      "Given a network of resistors with a set of nodes held at some external voltages, I would like to create a group of functions that will solve for the voltages across the network.  We can characterize the network as a set of $N$ nodes, the resistances between them $\\{R_{ij}\\}$ and a set of external voltages $\\{V_{ext,i}\\}$ applied to some set of nodes. How I wish to represent them in python will depend on how I wish to solve them and that in turn will depend on whatever formalism I come up with for solving them.  So let's get started with that:"
     ]
    },
    {
     "cell_type": "markdown",
     "metadata": {},
     "source": [
      "Given a node $i$ in the network, Kirchoff's laws demand\n",
      "$$\\sum\\limits_{j=1}^N I_{ij} = 0$$\n",
      "where $I_{ij}$ is the current flowing from node $i$ to node $j$.\n",
      "\n",
      "Written in terms of voltages this is\n",
      "$$\\sum\\limits_{j=1}^N \\frac{V_i - V_j}{R_{ij}} = \\sum\\limits_{j=1}^N G_{ij} (V_i - V_j) = 0$$\n",
      "With the convention that for unconnected nodes, $R_{ij}$ is infinite or $G_{ij}$ is zero.\n",
      "So for each connection to another node, the equation gets one summand of $G_{ij} V_i$ and one of $-G_{ij}V_j$.\n",
      "\n",
      "We can then rearrage this equation as $\\sum_j G_{ij} V_i - \\sum_{j} G_{ij} V_j = 0$"
     ]
    },
    {
     "cell_type": "markdown",
     "metadata": {},
     "source": [
      "The voltage of each node forms a vector $\\vec{v}$. The network topology is contained in an adjacency matrix $A$ for an undirected graph.  This can be created under a variety of schemes to explore different network structures.  This is then populated with resistance values to become a conductance matrix $G$ that will be updated at each step according to a particular nonlinear resistance function.\n",
      "\n",
      "Forming a new matrix $D$ as $D_{ii} = \\sum_j G_{ij}$ and $D_{ij} = - G_{ij}$ for $i\\neq j$ we can represent our system of equations as $D\\vec{v} = 0$.  In order to include external voltages to this, we can create a new set of nodes $\\vec{v}_{ext}$.  By connecting the nonzero elements of this set to our nodes with some large conductance, we can effectively latch these nodes to a particular voltage.  These could be represented as currents into the network $\\frac{(\\vec{v}_{ext} - \\vec{v}_{v_i \\neq 0})}{\\epsilon}$.  Taking $G_{ext}$ as a diagonal matrix whose value is $1/\\epsilon$ where $\\vec{v}_{ext}$ is nonzero and zero everywhere else, we can rewrite our system of equations as\n",
      "$$(D + G_{ext})\\vec{v} = G_{ext}\\vec{v}_{ext}$$\n",
      "and then just use a linear algebra solver to get the solution!"
     ]
    },
    {
     "cell_type": "heading",
     "level": 3,
     "metadata": {},
     "source": [
      "Representing the Network"
     ]
    },
    {
     "cell_type": "markdown",
     "metadata": {},
     "source": [
      "I'd like to represent the structure of the network as an adjacency matrix.  This will also make things easier in the memristive case when I need my network to be directed.  Here's a whirl at a few functions that will give me a variety of adjacency matrices. Let's take the easiest case first, a random graph:"
     ]
    },
    {
     "cell_type": "code",
     "collapsed": false,
     "input": [
      "def gen_adj_rand(N, p, undirected=True):\n",
      "    \"\"\"\n",
      "    Generates an adjacency matrix for a random graph of N nodes.\n",
      "    The default behavior is directed. The undirected option generates a\n",
      "    symmetric graph\n",
      "    \"\"\"\n",
      "    if undirected:\n",
      "        A = np.random.choice([1, 0], (N, N), p = [p, 1-p])\n",
      "        Aup = np.triu(A, 1)\n",
      "        return Aup + Aup.T\n",
      "    else:\n",
      "        A = np.random.choice([1, 0], (N, N), p = [p, 1-p])\n",
      "        A[np.diag_indices(N)] = 0\n",
      "        return A\n",
      "\n",
      "gen_adj_rand(10, .2)"
     ],
     "language": "python",
     "metadata": {},
     "outputs": [
      {
       "metadata": {},
       "output_type": "pyout",
       "prompt_number": 5,
       "text": [
        "array([[0, 0, 1, 1, 0, 1, 0, 0, 0, 1],\n",
        "       [0, 0, 0, 1, 0, 0, 0, 0, 0, 1],\n",
        "       [1, 0, 0, 0, 0, 1, 1, 0, 0, 0],\n",
        "       [1, 1, 0, 0, 0, 0, 1, 0, 1, 1],\n",
        "       [0, 0, 0, 0, 0, 0, 1, 1, 0, 0],\n",
        "       [1, 0, 1, 0, 0, 0, 0, 1, 0, 0],\n",
        "       [0, 0, 1, 1, 1, 0, 0, 0, 1, 0],\n",
        "       [0, 0, 0, 0, 1, 1, 0, 0, 1, 0],\n",
        "       [0, 0, 0, 1, 0, 0, 1, 1, 0, 0],\n",
        "       [1, 1, 0, 1, 0, 0, 0, 0, 0, 0]])"
       ]
      }
     ],
     "prompt_number": 5
    },
    {
     "cell_type": "code",
     "collapsed": false,
     "input": [
      "def gen_adj_rand_sparse(N, p, undirected=True):\n",
      "    \"\"\"\n",
      "    Generates an adjacency matrix for a random graph of N nodes in sparce csc format.\n",
      "    The default behavior is directed. The undirected option generates a\n",
      "    symmetric graph\n",
      "    \"\"\"\n",
      "    rows = []\n",
      "    cols = []\n",
      "    if undirected:\n",
      "        row_idxs, col_idxs = np.triu_indices(N, 1)\n",
      "        for i, j in itertools.izip(row_idxs, col_idxs):\n",
      "            if random.random() < p:\n",
      "                rows.extend([i, j])\n",
      "                cols.extend([j, i])\n",
      "        rows = np.array(rows, dtype=int)\n",
      "        cols = np.array(cols, dtype=int)\n",
      "        elements = np.ones_like(rows)\n",
      "        return csc_matrix((elements, (rows, cols)), shape=(N,N))\n",
      "    else:\n",
      "        for i, j in np.ndindex(N, N):\n",
      "            if random.random() < p and i != j:\n",
      "                rows.append(i)\n",
      "                cols.append(j)\n",
      "        rows = np.array(rows, dtype=int)\n",
      "        cols = np.array(cols, dtype=int)\n",
      "        elements = np.ones_like(rows)\n",
      "        return csc_matrix((elements, (rows, cols)), shape=(N,N))"
     ],
     "language": "python",
     "metadata": {},
     "outputs": [],
     "prompt_number": 6
    },
    {
     "cell_type": "code",
     "collapsed": false,
     "input": [
      "N=1000\n",
      "A = gen_adj_rand_sparse(N, .2)\n",
      "float(A.sum())/ N / (N-1)"
     ],
     "language": "python",
     "metadata": {},
     "outputs": [
      {
       "metadata": {},
       "output_type": "pyout",
       "prompt_number": 7,
       "text": [
        "0.19967567567567568"
       ]
      }
     ],
     "prompt_number": 7
    },
    {
     "cell_type": "code",
     "collapsed": false,
     "input": [
      "A = gen_adj_rand_sparse(6, .4)\n",
      "A.todense()"
     ],
     "language": "python",
     "metadata": {},
     "outputs": [
      {
       "metadata": {},
       "output_type": "pyout",
       "prompt_number": 8,
       "text": [
        "matrix([[0, 1, 1, 1, 1, 0],\n",
        "        [1, 0, 1, 0, 0, 0],\n",
        "        [1, 1, 0, 0, 1, 0],\n",
        "        [1, 0, 0, 0, 1, 1],\n",
        "        [1, 0, 1, 1, 0, 0],\n",
        "        [0, 0, 0, 1, 0, 0]])"
       ]
      }
     ],
     "prompt_number": 8
    },
    {
     "cell_type": "code",
     "collapsed": false,
     "input": [
      "A = gen_adj_rand_sparse(6, .4, undirected=False)\n",
      "A.todense()"
     ],
     "language": "python",
     "metadata": {},
     "outputs": [
      {
       "metadata": {},
       "output_type": "pyout",
       "prompt_number": 9,
       "text": [
        "matrix([[0, 0, 0, 1, 0, 1],\n",
        "        [0, 0, 0, 1, 1, 1],\n",
        "        [0, 0, 0, 1, 0, 0],\n",
        "        [0, 0, 0, 0, 1, 1],\n",
        "        [0, 0, 1, 1, 0, 0],\n",
        "        [1, 0, 1, 0, 0, 0]])"
       ]
      }
     ],
     "prompt_number": 9
    },
    {
     "cell_type": "markdown",
     "metadata": {},
     "source": [
      "And now a \"nearest neighbor\" adjacency matrix where each node is connected to it's $k$ nearest neighbors."
     ]
    },
    {
     "cell_type": "code",
     "collapsed": false,
     "input": [
      "def gen_adj_neighbor(N, k):\n",
      "    \"\"\"\n",
      "    Generates an adjacency matrix for an N node network in which each node is connected to its\n",
      "    k nearest neighbors\n",
      "    \"\"\"\n",
      "    row = np.roll(np.hstack((np.ones((1, k+1), dtype=int), np.zeros((1, N-k-1), dtype=int))), -k/2)\n",
      "    A = np.zeros((N,N), dtype=int)\n",
      "    for i in np.arange(N):\n",
      "        A[i, :] = np.roll(row, i)\n",
      "    A[np.diag_indices(N)] = 0\n",
      "    return A\n",
      "\n",
      "gen_adj_neighbor(6, 2)"
     ],
     "language": "python",
     "metadata": {},
     "outputs": [
      {
       "metadata": {},
       "output_type": "pyout",
       "prompt_number": 10,
       "text": [
        "array([[0, 1, 0, 0, 0, 1],\n",
        "       [1, 0, 1, 0, 0, 0],\n",
        "       [0, 1, 0, 1, 0, 0],\n",
        "       [0, 0, 1, 0, 1, 0],\n",
        "       [0, 0, 0, 1, 0, 1],\n",
        "       [1, 0, 0, 0, 1, 0]])"
       ]
      }
     ],
     "prompt_number": 10
    },
    {
     "cell_type": "code",
     "collapsed": false,
     "input": [
      "def gen_adj_neighbor_sparse(N, k):\n",
      "    A = gen_adj_neighbor(N, k)\n",
      "    return csc_matrix(A)"
     ],
     "language": "python",
     "metadata": {},
     "outputs": [],
     "prompt_number": 11
    },
    {
     "cell_type": "markdown",
     "metadata": {},
     "source": [
      "And how about a grid..."
     ]
    },
    {
     "cell_type": "code",
     "collapsed": false,
     "input": [
      "def gen_adj_grid(n):\n",
      "    \"\"\"\n",
      "    Generates an adjacency matrix for an nxn grid of nodes that are connected to their nearest neighbors.\n",
      "    This graph is kept undirected as this does not require choosing a convention for direction.\n",
      "    \"\"\"\n",
      "    A = np.zeros((n**2, n**2))\n",
      "    # Loop through every pair of nodes\n",
      "    for i, j in np.ndindex(n,n):\n",
      "        for k, l in np.ndindex(n,n):\n",
      "            if (np.abs(i - k) == 1 and np.abs(j - l) == 0) or (np.abs(i - k) == 0 and np.abs(j - l) == 1):\n",
      "                A[i + n*j, k + n*l] = 1\n",
      "    return np.array(A, dtype=int)\n",
      "\n",
      "A = gen_adj_grid(4)\n",
      "A"
     ],
     "language": "python",
     "metadata": {},
     "outputs": [
      {
       "metadata": {},
       "output_type": "pyout",
       "prompt_number": 12,
       "text": [
        "array([[0, 1, 0, 0, 1, 0, 0, 0, 0, 0, 0, 0, 0, 0, 0, 0],\n",
        "       [1, 0, 1, 0, 0, 1, 0, 0, 0, 0, 0, 0, 0, 0, 0, 0],\n",
        "       [0, 1, 0, 1, 0, 0, 1, 0, 0, 0, 0, 0, 0, 0, 0, 0],\n",
        "       [0, 0, 1, 0, 0, 0, 0, 1, 0, 0, 0, 0, 0, 0, 0, 0],\n",
        "       [1, 0, 0, 0, 0, 1, 0, 0, 1, 0, 0, 0, 0, 0, 0, 0],\n",
        "       [0, 1, 0, 0, 1, 0, 1, 0, 0, 1, 0, 0, 0, 0, 0, 0],\n",
        "       [0, 0, 1, 0, 0, 1, 0, 1, 0, 0, 1, 0, 0, 0, 0, 0],\n",
        "       [0, 0, 0, 1, 0, 0, 1, 0, 0, 0, 0, 1, 0, 0, 0, 0],\n",
        "       [0, 0, 0, 0, 1, 0, 0, 0, 0, 1, 0, 0, 1, 0, 0, 0],\n",
        "       [0, 0, 0, 0, 0, 1, 0, 0, 1, 0, 1, 0, 0, 1, 0, 0],\n",
        "       [0, 0, 0, 0, 0, 0, 1, 0, 0, 1, 0, 1, 0, 0, 1, 0],\n",
        "       [0, 0, 0, 0, 0, 0, 0, 1, 0, 0, 1, 0, 0, 0, 0, 1],\n",
        "       [0, 0, 0, 0, 0, 0, 0, 0, 1, 0, 0, 0, 0, 1, 0, 0],\n",
        "       [0, 0, 0, 0, 0, 0, 0, 0, 0, 1, 0, 0, 1, 0, 1, 0],\n",
        "       [0, 0, 0, 0, 0, 0, 0, 0, 0, 0, 1, 0, 0, 1, 0, 1],\n",
        "       [0, 0, 0, 0, 0, 0, 0, 0, 0, 0, 0, 1, 0, 0, 1, 0]])"
       ]
      }
     ],
     "prompt_number": 12
    },
    {
     "cell_type": "code",
     "collapsed": false,
     "input": [
      "def gen_adj_grid_sparse(n):\n",
      "    \"\"\"\n",
      "    Generates an adjacency matrix for an nxn grid of nodes that are connected to their nearest neighbors.\n",
      "    This graph is kept undirected as this does not require choosing a convention for direction.\n",
      "    The matrix is returned in CSC format\n",
      "    \"\"\"\n",
      "    rows = []\n",
      "    cols = []\n",
      "    for i, j in np.ndindex(n, n):\n",
      "        for k, l in np.ndindex(n, n):\n",
      "            if (np.abs(i - k) == 1 and np.abs(j - l) == 0) or (np.abs(i - k) == 0 and np.abs(j - l) == 1):\n",
      "                rows.append(i + n*j)\n",
      "                cols.append(k + n*l)\n",
      "    rows = np.array(rows, dtype=int)\n",
      "    cols = np.array(cols, dtype=int)\n",
      "    elements = np.ones_like(rows)\n",
      "    return csc_matrix((elements, (rows, cols)), shape=(n**2, n**2))"
     ],
     "language": "python",
     "metadata": {},
     "outputs": [],
     "prompt_number": 13
    },
    {
     "cell_type": "code",
     "collapsed": false,
     "input": [
      "B = gen_adj_grid_sparse(4)\n",
      "np.array_equal(A, B.todense())"
     ],
     "language": "python",
     "metadata": {},
     "outputs": [
      {
       "metadata": {},
       "output_type": "pyout",
       "prompt_number": 14,
       "text": [
        "True"
       ]
      }
     ],
     "prompt_number": 14
    },
    {
     "cell_type": "heading",
     "level": 3,
     "metadata": {},
     "source": [
      "Solving the Network"
     ]
    },
    {
     "cell_type": "markdown",
     "metadata": {},
     "source": [
      "Now we are ready to solve the network.  Thsi will also be an excellent chance to compare the speed of numpy's regular linear algebra solver to a sparse solver."
     ]
    },
    {
     "cell_type": "markdown",
     "metadata": {},
     "source": [
      "More pointedly, what should I need to specify in order to define the network and solver?  The network definition should reasonably be an\n",
      "\n",
      "* adjacency matrix\n",
      "* resistances\n",
      "* external voltages\n",
      "\n",
      "In fact, it would be reasonable to use ndenumerate to pass just two arguments:\n",
      "\n",
      "* a set of tuples containing the indices and resistance values of the resistors\n",
      "* another set of tuples specifying the node indices and external voltages.\n",
      "\n",
      "The second seems like an opportune way to incorporate sparse matrices, so I'll do both."
     ]
    },
    {
     "cell_type": "heading",
     "level": 4,
     "metadata": {},
     "source": [
      "Dense Solver"
     ]
    },
    {
     "cell_type": "code",
     "collapsed": false,
     "input": [
      "def external_voltage( num_nodes, ext_voltage_list ):\n",
      "    \"\"\"\n",
      "    Returns an Nx1 vector of external voltages and an external conductance matrix whose value\n",
      "    is 1/r_tiny given\n",
      "    \n",
      "    num_nodes - the number of nodes in the network\n",
      "    ext_voltage_list - a list of tuples of the form (node_idx, voltage)\n",
      "    \n",
      "    There is a concern that if a node is set to zero, it will be indistinguishable from nodes not set to\n",
      "    zero in the vector.  Nodes set to a specific voltage should be confirmed through the conductance matrix\n",
      "    for this reason\n",
      "    \"\"\"\n",
      "    \n",
      "    voltage_vec = np.zeros((num_nodes, 1))\n",
      "    G_ext = np.zeros((num_nodes, num_nodes))\n",
      "    r_tiny = 10**-10\n",
      "    \n",
      "    for node_idx, V in ext_voltage_list:\n",
      "        voltage_vec[node_idx, 0] = V\n",
      "        G_ext[node_idx, node_idx] = 1. / r_tiny\n",
      "    \n",
      "    return voltage_vec, G_ext\n",
      "\n",
      "ext_volt = [ (0, 1), (1, 1), (3, 0) ]\n",
      "v_ext, g_ext = external_voltage(4, ext_volt)\n",
      "\n",
      "print 'v_ext = \\n', v_ext\n",
      "print 'g_ext = \\n', g_ext"
     ],
     "language": "python",
     "metadata": {},
     "outputs": [
      {
       "output_type": "stream",
       "stream": "stdout",
       "text": [
        "v_ext = \n",
        "[[ 1.]\n",
        " [ 1.]\n",
        " [ 0.]\n",
        " [ 0.]]\n",
        "g_ext = \n",
        "[[  1.00000000e+10   0.00000000e+00   0.00000000e+00   0.00000000e+00]\n",
        " [  0.00000000e+00   1.00000000e+10   0.00000000e+00   0.00000000e+00]\n",
        " [  0.00000000e+00   0.00000000e+00   0.00000000e+00   0.00000000e+00]\n",
        " [  0.00000000e+00   0.00000000e+00   0.00000000e+00   1.00000000e+10]]\n"
       ]
      }
     ],
     "prompt_number": 15
    },
    {
     "cell_type": "code",
     "collapsed": false,
     "input": [
      "def form_eqns_matrix( cond_mat ):\n",
      "    \"\"\"\n",
      "    Forms the homogeneous equations matrix by summing along the rows of the conductance matrix, placing\n",
      "    these values along the diagonal, and subtracting the conductance matrix\n",
      "    \"\"\"\n",
      "    return np.diag( np.sum(cond_mat, axis=0) ) - cond_mat\n",
      "\n",
      "G = gen_adj_neighbor(4, 2)\n",
      "form_eqns_matrix( G )"
     ],
     "language": "python",
     "metadata": {},
     "outputs": [
      {
       "metadata": {},
       "output_type": "pyout",
       "prompt_number": 16,
       "text": [
        "array([[ 2, -1,  0, -1],\n",
        "       [-1,  2, -1,  0],\n",
        "       [ 0, -1,  2, -1],\n",
        "       [-1,  0, -1,  2]])"
       ]
      }
     ],
     "prompt_number": 16
    },
    {
     "cell_type": "code",
     "collapsed": false,
     "input": [
      "def solve_node_voltages( G , ext_voltage_list ):\n",
      "    \"\"\"\n",
      "    Returns a vector of voltages at each node given,\n",
      "    G - a matrix of conductances where G_ij is the conductance between node i and node j\n",
      "    ext_voltage_list - list of tuples of the form (node_idx, voltage) given the external voltage set at node_idx\n",
      "    \"\"\"\n",
      "    D = form_eqns_matrix( G )\n",
      "    num_nodes = G.shape[0]\n",
      "    v_ext, G_ext = external_voltage( num_nodes, ext_voltage_list)\n",
      "    return np.linalg.solve( D + G_ext , np.dot( G_ext, v_ext) )\n",
      "    "
     ],
     "language": "python",
     "metadata": {},
     "outputs": [],
     "prompt_number": 17
    },
    {
     "cell_type": "code",
     "collapsed": false,
     "input": [
      "ext_volt = [(0, 1), (8, 0)]\n",
      "G = gen_adj_grid(3)\n",
      "v_dense = solve_node_voltages( G, ext_volt)\n",
      "v_dense"
     ],
     "language": "python",
     "metadata": {},
     "outputs": [
      {
       "metadata": {},
       "output_type": "pyout",
       "prompt_number": 18,
       "text": [
        "array([[  1.00000000e+00],\n",
        "       [  6.66666667e-01],\n",
        "       [  5.00000000e-01],\n",
        "       [  6.66666667e-01],\n",
        "       [  5.00000000e-01],\n",
        "       [  3.33333333e-01],\n",
        "       [  5.00000000e-01],\n",
        "       [  3.33333333e-01],\n",
        "       [  6.66666667e-11]])"
       ]
      }
     ],
     "prompt_number": 18
    },
    {
     "cell_type": "heading",
     "level": 4,
     "metadata": {},
     "source": [
      "Sparse Solver"
     ]
    },
    {
     "cell_type": "markdown",
     "metadata": {},
     "source": [
      "I need to duplicate the set of functions I wrote above to ensure that they work with sparse matrices.  Here we go!"
     ]
    },
    {
     "cell_type": "code",
     "collapsed": false,
     "input": [
      "def external_voltage_sparse( num_nodes, ext_voltage_list ):\n",
      "    \"\"\"\n",
      "    Returns an Nx1 vector of external voltages and an external conductance matrix whose value\n",
      "    is 1/r_tiny along the diagonal where the voltage is set in CSC format.  The arguments\n",
      "    given are:\n",
      "    \n",
      "    num_nodes - the number of nodes in the network\n",
      "    ext_voltage_list - a list of tuples of the form (node_idx, voltage)\n",
      "    \n",
      "    There is a concern that if a node is set to zero, it will be indistinguishable from nodes not set to\n",
      "    zero in the vector.  Nodes set to a specific voltage should be confirmed through the conductance matrix\n",
      "    for this reason\n",
      "    \"\"\"  \n",
      "    voltage_vec = np.zeros((num_nodes, 1))\n",
      "    G_ext = np.zeros((num_nodes, num_nodes))\n",
      "    r_tiny = 10**-10\n",
      "    \n",
      "    for node_idx, V in ext_voltage_list:\n",
      "        voltage_vec[node_idx, 0] = V\n",
      "        G_ext[node_idx, node_idx] = 1. / r_tiny\n",
      "    \n",
      "    return csc_matrix(voltage_vec), csc_matrix(G_ext)\n",
      "\n",
      "ext_volt = [ (0, 1), (1, 1), (3, 0) ]\n",
      "v_ext, g_ext = external_voltage_sparse(4, ext_volt)\n",
      "\n",
      "print 'v_ext = \\n', v_ext\n",
      "print 'g_ext = \\n', g_ext"
     ],
     "language": "python",
     "metadata": {},
     "outputs": [
      {
       "output_type": "stream",
       "stream": "stdout",
       "text": [
        "v_ext = \n",
        "  (0, 0)\t1.0\n",
        "  (1, 0)\t1.0\n",
        "g_ext = \n",
        "  (0, 0)\t10000000000.0\n",
        "  (1, 1)\t10000000000.0\n",
        "  (3, 3)\t10000000000.0\n"
       ]
      }
     ],
     "prompt_number": 19
    },
    {
     "cell_type": "code",
     "collapsed": false,
     "input": [
      "def form_eqns_matrix_sparse( cond_mat ):\n",
      "    \"\"\"\n",
      "    Forms the homogeneous equations matrix by summing along the rows of the conductance matrix, placing\n",
      "    these values along the diagonal, and subtracting the conductance matrix\n",
      "    \"\"\"\n",
      "    return scp.sparse.diags(cond_mat.sum(axis=0), [0], shape=cond_mat.shape, format=\"csc\" ) - cond_mat\n",
      "\n",
      "G = gen_adj_neighbor_sparse(4, 2)\n",
      "D = form_eqns_matrix_sparse( G )\n",
      "D.todense()"
     ],
     "language": "python",
     "metadata": {},
     "outputs": [
      {
       "metadata": {},
       "output_type": "pyout",
       "prompt_number": 20,
       "text": [
        "matrix([[ 2., -1.,  0., -1.],\n",
        "        [-1.,  2., -1.,  0.],\n",
        "        [ 0., -1.,  2., -1.],\n",
        "        [-1.,  0., -1.,  2.]])"
       ]
      }
     ],
     "prompt_number": 20
    },
    {
     "cell_type": "code",
     "collapsed": false,
     "input": [
      "def solve_node_voltages_sparse( G , ext_voltage_list ):\n",
      "    \"\"\"\n",
      "    Returns a vector of voltages at each node given,\n",
      "    G - a matrix of conductances where G_ij is the conductance between node i and node j\n",
      "    ext_voltage_list - list of tuples of the form (node_idx, voltage) given the external voltage set at node_idx\n",
      "    \"\"\"\n",
      "    D = form_eqns_matrix_sparse( G )\n",
      "    num_nodes = G.shape[0]\n",
      "    v_ext, G_ext = external_voltage_sparse( num_nodes, ext_voltage_list)\n",
      "    return spsolve( D + G_ext , G_ext.dot(v_ext) )\n",
      "    "
     ],
     "language": "python",
     "metadata": {},
     "outputs": [],
     "prompt_number": 21
    },
    {
     "cell_type": "code",
     "collapsed": false,
     "input": [
      "ext_volt = [(0, 1), (8, 0)]\n",
      "G = gen_adj_grid_sparse(3)\n",
      "v_sparse = solve_node_voltages_sparse( G, ext_volt)\n",
      "np.allclose(v_sparse, v_dense.flatten())"
     ],
     "language": "python",
     "metadata": {},
     "outputs": [
      {
       "metadata": {},
       "output_type": "pyout",
       "prompt_number": 22,
       "text": [
        "True"
       ]
      }
     ],
     "prompt_number": 22
    },
    {
     "cell_type": "heading",
     "level": 3,
     "metadata": {},
     "source": [
      "Displaying the Network"
     ]
    },
    {
     "cell_type": "markdown",
     "metadata": {},
     "source": [
      "I'd like to have some way of visualizing solutions to these networks.  For a grid, I think laying down squares or circles color coded by the voltage and placing lines between them colored by the conductance/current/power would give an appealing display of the network.  For plotting nearest neighbor networks etc. a ring with chords (or curves) between the nodes may be more appropriate.\n",
      "\n",
      "This may be useful http://stackoverflow.com/questions/11885060/how-to-shade-points-in-scatter-based-on-colormap-in-matplotlib"
     ]
    },
    {
     "cell_type": "code",
     "collapsed": false,
     "input": [
      "def display_resistor_lattice(cond_mat, voltage):\n",
      "    \"\"\"\n",
      "    Plots a resistor lattice, displaying the \n",
      "    fig, ax = plt.subplots()\n",
      "    ax.plot(0, 0, 'bo')"
     ],
     "language": "python",
     "metadata": {},
     "outputs": [],
     "prompt_number": 23
    },
    {
     "cell_type": "code",
     "collapsed": false,
     "input": [
      "display_resistor_lattice()"
     ],
     "language": "python",
     "metadata": {},
     "outputs": [
      {
       "metadata": {},
       "output_type": "display_data",
       "png": "[encoded data removed]",
       "text": [
        "<matplotlib.figure.Figure at 0x3061a90>"
       ]
      }
     ],
     "prompt_number": 24
    },
    {
     "cell_type": "code",
     "collapsed": false,
     "input": [],
     "language": "python",
     "metadata": {},
     "outputs": []
    }
   ],
   "metadata": {}
  }
 ]
}