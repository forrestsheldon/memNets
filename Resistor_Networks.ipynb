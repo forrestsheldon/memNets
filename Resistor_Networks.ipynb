{
 "metadata": {
  "name": ""
 },
 "nbformat": 3,
 "nbformat_minor": 0,
 "worksheets": [
  {
   "cells": [
    {
     "cell_type": "heading",
     "level": 1,
     "metadata": {},
     "source": [
      "Resistor Networks"
     ]
    },
    {
     "cell_type": "markdown",
     "metadata": {},
     "source": [
      "These are my personal notes on solving resistor networks in the aim of building up a memristor network solver.  As such, they may be lack citations, be unclear on some points, or worse, but completely wrong.  They are available on GitHub for the benefit of the curious.  If you notice anything wrong or would like to discuss a point further, email me at forrest.sheldon@gmail.com."
     ]
    },
    {
     "cell_type": "code",
     "collapsed": false,
     "input": [
      "%pylab inline --no-import-all"
     ],
     "language": "python",
     "metadata": {},
     "outputs": [
      {
       "output_type": "stream",
       "stream": "stdout",
       "text": [
        "Populating the interactive namespace from numpy and matplotlib\n"
       ]
      }
     ],
     "prompt_number": 1
    },
    {
     "cell_type": "code",
     "collapsed": false,
     "input": [
      "import numpy as np\n",
      "import scipy as scp\n",
      "import matplotlib.pyplot as plt"
     ],
     "language": "python",
     "metadata": {},
     "outputs": [],
     "prompt_number": 2
    },
    {
     "cell_type": "heading",
     "level": 3,
     "metadata": {},
     "source": [
      "The System of Equations"
     ]
    },
    {
     "cell_type": "markdown",
     "metadata": {},
     "source": [
      "Given a network of resistors with a set of nodes held at some external voltages, I would like to create a group of functions that will solve for the voltages across the network.  We can characterize the network as a set of $N$ nodes, the resistances between them $\\{R_{ij}\\}$ and a set of external voltages $\\{V_{ext,i}\\}$ applied to some set of nodes. How I wish to represent them in python will depend on how I wish to solve them and that in turn will depend on whatever formalism I come up with for solving them.  So let's get started with that:"
     ]
    },
    {
     "cell_type": "markdown",
     "metadata": {},
     "source": [
      "Given a node $i$ in the network, Kirchoff's laws demand\n",
      "$$\\sum\\limits_{j=1}^N I_{ij} = 0$$\n",
      "where $I_{ij}$ is the current flowing from node $i$ to node $j$.\n",
      "\n",
      "Written in terms of voltages this is\n",
      "$$\\sum\\limits_{j=1}^N \\frac{V_i - V_j}{R_{ij}} = \\sum\\limits_{j=1}^N G_{ij} (V_i - V_j) = 0$$\n",
      "With the convention that for unconnected nodes, $R_{ij}$ is infinite or $G_{ij}$ is zero.\n",
      "So for each connection to another node, the equation gets one summand of $G_{ij} V_i$ and one of $-G_{ij}V_j$.\n",
      "\n",
      "We can then rearrage this equation as $\\sum_j G_{ij} V_i - \\sum_{j} G_{ij} V_j = 0$"
     ]
    },
    {
     "cell_type": "markdown",
     "metadata": {},
     "source": [
      "The voltage of each node forms a vector $\\vec{v}$. The network topology is contained in an adjacency matrix $A$ for an undirected graph.  This can be created under a variety of schemes to explore different network structures.  This is then populated with resistance values to become a conductance matrix $G$ that will be updated at each step according to a particular nonlinear resistance function.\n",
      "\n",
      "Forming a new matrix $D$ as $D_{ii} = \\sum_j G_{ij}$ and $D_{ij} = - G_{ij}$ for $i\\neq j$ we can represent our system of equations as $D\\vec{v} = 0$.  In order to include external voltages to this, we can create a new set of nodes $\\vec{v}_{ext}$.  By connecting the nonzero elements of this set to our nodes with some large conductance, we can effectively latch these nodes to a particular voltage.  These could be represented as currents into the network $\\frac{(\\vec{v}_{ext} - \\vec{v}_{v_i \\neq 0})}{\\epsilon}$.  Taking $G_{ext}$ as a diagonal matrix whose value is $1/\\epsilon$ where $\\vec{v}_{ext}$ is nonzero and zero everywhere else, we can rewrite our system of equations as\n",
      "$$(D + G_{ext})\\vec{v} = G_{ext}\\vec{v}_{ext}$$\n",
      "and then just use a linear algebra solver to get the solution!"
     ]
    },
    {
     "cell_type": "heading",
     "level": 3,
     "metadata": {},
     "source": [
      "Representing the Network"
     ]
    },
    {
     "cell_type": "markdown",
     "metadata": {},
     "source": [
      "I'd like to represent the structure of the network as an adjacency matrix.  This will also make things easier in the memristive case when I need my network to be directed.  Here's a whirl at a few functions that will give me a variety of adjacency matrices. Let's take the easiest case first, a purely random graph:"
     ]
    },
    {
     "cell_type": "code",
     "collapsed": false,
     "input": [
      "\n",
      "def gen_adj_rand(N, p, undirected=True):\n",
      "    \"\"\"\n",
      "    Generates an adjacency matrix for a purely random graph of N nodes.\n",
      "    The default behavior is directed. The undirected option generates a\n",
      "    symmetric graph\n",
      "    \"\"\"\n",
      "    if undirected:\n",
      "        A = np.random.choice([1, 0], (N, N), p = [p, 1-p])\n",
      "        Aup = np.triu(A, 1)\n",
      "        return Aup + Aup.T\n",
      "    else:\n",
      "        A = np.random.choice([1, 0], (N, N), p = [p, 1-p])\n",
      "        A[np.diag_indices(N)] = 0\n",
      "        return A\n",
      "\n",
      "gen_adj_rand(10, .2)"
     ],
     "language": "python",
     "metadata": {},
     "outputs": [
      {
       "metadata": {},
       "output_type": "pyout",
       "prompt_number": 3,
       "text": [
        "array([[0, 1, 1, 0, 1, 0, 1, 0, 0, 0],\n",
        "       [1, 0, 0, 0, 1, 0, 1, 0, 0, 0],\n",
        "       [1, 0, 0, 0, 0, 0, 0, 0, 0, 0],\n",
        "       [0, 0, 0, 0, 0, 0, 0, 0, 1, 0],\n",
        "       [1, 1, 0, 0, 0, 1, 1, 0, 0, 0],\n",
        "       [0, 0, 0, 0, 1, 0, 1, 0, 0, 1],\n",
        "       [1, 1, 0, 0, 1, 1, 0, 1, 0, 0],\n",
        "       [0, 0, 0, 0, 0, 0, 1, 0, 1, 0],\n",
        "       [0, 0, 0, 1, 0, 0, 0, 1, 0, 0],\n",
        "       [0, 0, 0, 0, 0, 1, 0, 0, 0, 0]])"
       ]
      }
     ],
     "prompt_number": 3
    },
    {
     "cell_type": "markdown",
     "metadata": {},
     "source": [
      "And now a \"nearest neighbor\" adjacency matrix where each node is connected to it's $k$ nearest neighbors."
     ]
    },
    {
     "cell_type": "code",
     "collapsed": false,
     "input": [
      "def gen_adj_neighbor(N, k):\n",
      "    \"\"\"\n",
      "    Generates an adjacency matrix for an N node network in which each node is connected to its\n",
      "    k nearest neighbors\n",
      "    \"\"\"\n",
      "    row = np.roll(np.hstack((np.ones((1, k+1), dtype=int), np.zeros((1, N-k-1), dtype=int))), -k/2)\n",
      "    A = np.zeros((N,N), dtype=int)\n",
      "    for i in np.arange(N):\n",
      "        A[i, :] = np.roll(row, i)\n",
      "    A[np.diag_indices(N)] = 0\n",
      "    return A\n",
      "\n",
      "gen_adj_neighbor(6, 2)"
     ],
     "language": "python",
     "metadata": {},
     "outputs": [
      {
       "metadata": {},
       "output_type": "pyout",
       "prompt_number": 4,
       "text": [
        "array([[0, 1, 0, 0, 0, 1],\n",
        "       [1, 0, 1, 0, 0, 0],\n",
        "       [0, 1, 0, 1, 0, 0],\n",
        "       [0, 0, 1, 0, 1, 0],\n",
        "       [0, 0, 0, 1, 0, 1],\n",
        "       [1, 0, 0, 0, 1, 0]])"
       ]
      }
     ],
     "prompt_number": 4
    },
    {
     "cell_type": "markdown",
     "metadata": {},
     "source": [
      "And how about a grid..."
     ]
    },
    {
     "cell_type": "code",
     "collapsed": false,
     "input": [
      "def gen_adj_grid(n):\n",
      "    \"\"\"\n",
      "    Generates an adjacency matrix for an nxn grid of nodes that are connected to their nearest neighbors.\n",
      "    This graph is kept undirected as this does not require choosing a convention for direction.\n",
      "    \"\"\"\n",
      "    A = np.zeros((n**2, n**2))\n",
      "    # Loop through every pair of nodes\n",
      "    temp = np.zeros((n,n))\n",
      "    for (i, j), a in np.ndenumerate(temp):\n",
      "        for (k, l), b in np.ndenumerate(temp):\n",
      "            if (np.abs(i - k) == 1 and np.abs(j - l) == 0) or (np.abs(i - k) == 0 and np.abs(j - l) == 1):\n",
      "                A[n*i + j, n*k + l] = 1\n",
      "    return np.array(A, dtype=int)\n",
      "\n",
      "gen_adj_grid(4)"
     ],
     "language": "python",
     "metadata": {},
     "outputs": [
      {
       "metadata": {},
       "output_type": "pyout",
       "prompt_number": 5,
       "text": [
        "array([[0, 1, 0, 0, 1, 0, 0, 0, 0, 0, 0, 0, 0, 0, 0, 0],\n",
        "       [1, 0, 1, 0, 0, 1, 0, 0, 0, 0, 0, 0, 0, 0, 0, 0],\n",
        "       [0, 1, 0, 1, 0, 0, 1, 0, 0, 0, 0, 0, 0, 0, 0, 0],\n",
        "       [0, 0, 1, 0, 0, 0, 0, 1, 0, 0, 0, 0, 0, 0, 0, 0],\n",
        "       [1, 0, 0, 0, 0, 1, 0, 0, 1, 0, 0, 0, 0, 0, 0, 0],\n",
        "       [0, 1, 0, 0, 1, 0, 1, 0, 0, 1, 0, 0, 0, 0, 0, 0],\n",
        "       [0, 0, 1, 0, 0, 1, 0, 1, 0, 0, 1, 0, 0, 0, 0, 0],\n",
        "       [0, 0, 0, 1, 0, 0, 1, 0, 0, 0, 0, 1, 0, 0, 0, 0],\n",
        "       [0, 0, 0, 0, 1, 0, 0, 0, 0, 1, 0, 0, 1, 0, 0, 0],\n",
        "       [0, 0, 0, 0, 0, 1, 0, 0, 1, 0, 1, 0, 0, 1, 0, 0],\n",
        "       [0, 0, 0, 0, 0, 0, 1, 0, 0, 1, 0, 1, 0, 0, 1, 0],\n",
        "       [0, 0, 0, 0, 0, 0, 0, 1, 0, 0, 1, 0, 0, 0, 0, 1],\n",
        "       [0, 0, 0, 0, 0, 0, 0, 0, 1, 0, 0, 0, 0, 1, 0, 0],\n",
        "       [0, 0, 0, 0, 0, 0, 0, 0, 0, 1, 0, 0, 1, 0, 1, 0],\n",
        "       [0, 0, 0, 0, 0, 0, 0, 0, 0, 0, 1, 0, 0, 1, 0, 1],\n",
        "       [0, 0, 0, 0, 0, 0, 0, 0, 0, 0, 0, 1, 0, 0, 1, 0]])"
       ]
      }
     ],
     "prompt_number": 5
    },
    {
     "cell_type": "heading",
     "level": 3,
     "metadata": {},
     "source": [
      "Solving the Network"
     ]
    },
    {
     "cell_type": "markdown",
     "metadata": {},
     "source": [
      "Now we are ready to solve the network.  Thsi will also be an excellent chance to compare the speed of numpy's regular linear algebra solver to a sparse solver."
     ]
    },
    {
     "cell_type": "markdown",
     "metadata": {},
     "source": [
      "More pointedly, what should I need to specify in order to define the network and solver?  The network definition should reasonably be an\n",
      "\n",
      "* adjacency matrix\n",
      "* resistances\n",
      "* external voltages\n",
      "\n",
      "In fact, it would be reasonable to use ndenumerate to pass just two arguments:\n",
      "\n",
      "* a set of tuples containing the indices and resistance values of the resistors\n",
      "* another set of tuples specifying the node indices and external voltages.\n",
      "\n",
      "The second seems like an opportune way to incorporate sparse matrices, so I'll do both."
     ]
    },
    {
     "cell_type": "heading",
     "level": 4,
     "metadata": {},
     "source": [
      "Dense Solver"
     ]
    },
    {
     "cell_type": "code",
     "collapsed": false,
     "input": [
      "# External Voltages\n",
      "\n",
      "def external_voltage( num_nodes, ext_voltage_list ):\n",
      "    \"\"\"\n",
      "    Returns an Nx1 vector of external voltages and an external conductance matrix whose value\n",
      "    is 1/r_tiny given\n",
      "    \n",
      "    num_nodes - the number of nodes in the network\n",
      "    ext_voltage_list - a list of tuples of the form (node_idx, voltage)\n",
      "    \n",
      "    There is a concern that if a node is set to zero, it will be indistinguishable from nodes not set to\n",
      "    zero in the vector.  Nodes set to a specific voltage should be confirmed through the conductance matrix\n",
      "    for this reason\n",
      "    \"\"\"\n",
      "    \n",
      "    voltage_vec = np.zeros((num_nodes, 1))\n",
      "    G_ext = np.zeros((num_nodes, num_nodes))\n",
      "    r_tiny = 10**-10\n",
      "    \n",
      "    for node_idx, V in ext_voltage_list:\n",
      "        voltage_vec[node_idx, 0] = V\n",
      "        G_ext[node_idx, node_idx] = 1. / r_tiny\n",
      "    \n",
      "    return voltage_vec, G_ext\n",
      "\n",
      "ext_volt = [ (0, 1), (1, 1), (3, 0) ]\n",
      "v_ext, g_ext = external_voltage(4, ext_volt)\n",
      "\n",
      "print 'v_ext = \\n', v_ext\n",
      "print 'g_ext = \\n', g_ext"
     ],
     "language": "python",
     "metadata": {},
     "outputs": [
      {
       "output_type": "stream",
       "stream": "stdout",
       "text": [
        "v_ext = \n",
        "[[ 1.]\n",
        " [ 1.]\n",
        " [ 0.]\n",
        " [ 0.]]\n",
        "g_ext = \n",
        "[[  1.00000000e+10   0.00000000e+00   0.00000000e+00   0.00000000e+00]\n",
        " [  0.00000000e+00   1.00000000e+10   0.00000000e+00   0.00000000e+00]\n",
        " [  0.00000000e+00   0.00000000e+00   0.00000000e+00   0.00000000e+00]\n",
        " [  0.00000000e+00   0.00000000e+00   0.00000000e+00   1.00000000e+10]]\n"
       ]
      }
     ],
     "prompt_number": 6
    },
    {
     "cell_type": "code",
     "collapsed": false,
     "input": [
      "def form_eqns_matrix( cond_mat ):\n",
      "    \"\"\"\n",
      "    Forms the homogeneous equations matrix by summing along the rows of the conductance matrix, placing\n",
      "    these values along the diagonal, and subtracting the conductance matrix\n",
      "    \"\"\"\n",
      "    return np.diag( np.sum(cond_mat, axis=0) ) - cond_mat\n",
      "\n",
      "G = gen_adj_neighbor(4, 2)\n",
      "form_eqns_matrix( G )"
     ],
     "language": "python",
     "metadata": {},
     "outputs": [
      {
       "metadata": {},
       "output_type": "pyout",
       "prompt_number": 8,
       "text": [
        "array([[ 2, -1,  0, -1],\n",
        "       [-1,  2, -1,  0],\n",
        "       [ 0, -1,  2, -1],\n",
        "       [-1,  0, -1,  2]])"
       ]
      }
     ],
     "prompt_number": 8
    },
    {
     "cell_type": "code",
     "collapsed": false,
     "input": [
      "def solve_node_voltages( G , ext_voltage_list ):\n",
      "    \"\"\"\n",
      "    Returns a vector of voltages at each node given,\n",
      "    G - a matrix of conductances where G_ij is the conductance between node i and node j\n",
      "    ext_voltage_list - list of tuples of the form (node_idx, voltage) given the external voltage set at node_idx\n",
      "    \"\"\"\n",
      "    D = form_eqns_matrix( G )\n",
      "    N = G.shape[0]\n",
      "    v_ext, G_ext = external_voltage( N, ext_voltage_list)\n",
      "    return np.linalg.solve( D + G_ext , np.dot( G_ext, v_ext) )\n",
      "    "
     ],
     "language": "python",
     "metadata": {},
     "outputs": [],
     "prompt_number": 13
    },
    {
     "cell_type": "code",
     "collapsed": false,
     "input": [
      "ext_volt = [(0, 1), (8, 0)]\n",
      "G = gen_adj_grid(3)\n",
      "v = solve_node_voltages( G, ext_volt)\n",
      "v"
     ],
     "language": "python",
     "metadata": {},
     "outputs": [
      {
       "metadata": {},
       "output_type": "pyout",
       "prompt_number": 16,
       "text": [
        "array([[  1.00000000e+00],\n",
        "       [  6.66666667e-01],\n",
        "       [  5.00000000e-01],\n",
        "       [  6.66666667e-01],\n",
        "       [  5.00000000e-01],\n",
        "       [  3.33333333e-01],\n",
        "       [  5.00000000e-01],\n",
        "       [  3.33333333e-01],\n",
        "       [  6.66666667e-11]])"
       ]
      }
     ],
     "prompt_number": 16
    },
    {
     "cell_type": "heading",
     "level": 4,
     "metadata": {},
     "source": [
      "Sparse Solver"
     ]
    },
    {
     "cell_type": "code",
     "collapsed": false,
     "input": [],
     "language": "python",
     "metadata": {},
     "outputs": []
    },
    {
     "cell_type": "heading",
     "level": 3,
     "metadata": {},
     "source": [
      "Displaying the Network"
     ]
    },
    {
     "cell_type": "markdown",
     "metadata": {},
     "source": [
      "I'd like to have some way of visualizing solutions to these networks.  For a grid, I think laying down squares or circles color coded by the voltage and placing lines between them colored by the conductance/current/power would give an appealing display of the network.  For plotting nearest neighbor networks etc. a ring with chords (or curves) between the nodes may be more appropriate."
     ]
    },
    {
     "cell_type": "code",
     "collapsed": false,
     "input": [],
     "language": "python",
     "metadata": {},
     "outputs": []
    },
    {
     "cell_type": "code",
     "collapsed": false,
     "input": [],
     "language": "python",
     "metadata": {},
     "outputs": [
      {
       "ename": "AttributeError",
       "evalue": "'NoneType' object has no attribute 'plot'",
       "output_type": "pyerr",
       "traceback": [
        "\u001b[1;31m---------------------------------------------------------------------------\u001b[0m\n\u001b[1;31mAttributeError\u001b[0m                            Traceback (most recent call last)",
        "\u001b[1;32m<ipython-input-18-6d61c8415762>\u001b[0m in \u001b[0;36m<module>\u001b[1;34m()\u001b[0m\n\u001b[0;32m      1\u001b[0m \u001b[0mfig\u001b[0m \u001b[1;33m=\u001b[0m \u001b[0mplt\u001b[0m\u001b[1;33m.\u001b[0m\u001b[0mfigure\u001b[0m\u001b[1;33m(\u001b[0m\u001b[1;33m)\u001b[0m\u001b[1;33m\u001b[0m\u001b[0m\n\u001b[0;32m      2\u001b[0m \u001b[0max\u001b[0m \u001b[1;33m=\u001b[0m \u001b[0mfig\u001b[0m\u001b[1;33m.\u001b[0m\u001b[0madd_axes\u001b[0m\u001b[1;33m(\u001b[0m\u001b[1;33m)\u001b[0m\u001b[1;33m\u001b[0m\u001b[0m\n\u001b[1;32m----> 3\u001b[1;33m \u001b[0max\u001b[0m\u001b[1;33m.\u001b[0m\u001b[0mplot\u001b[0m\u001b[1;33m(\u001b[0m\u001b[1;36m0\u001b[0m\u001b[1;33m,\u001b[0m\u001b[1;36m0\u001b[0m\u001b[1;33m)\u001b[0m\u001b[1;33m\u001b[0m\u001b[0m\n\u001b[0m",
        "\u001b[1;31mAttributeError\u001b[0m: 'NoneType' object has no attribute 'plot'"
       ]
      },
      {
       "metadata": {},
       "output_type": "display_data",
       "text": [
        "<matplotlib.figure.Figure at 0x28b6990>"
       ]
      }
     ],
     "prompt_number": 18
    },
    {
     "cell_type": "code",
     "collapsed": false,
     "input": [],
     "language": "python",
     "metadata": {},
     "outputs": []
    }
   ],
   "metadata": {}
  }
 ]
}