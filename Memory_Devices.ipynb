{
 "metadata": {
  "name": ""
 },
 "nbformat": 3,
 "nbformat_minor": 0,
 "worksheets": [
  {
   "cells": [
    {
     "cell_type": "heading",
     "level": 1,
     "metadata": {},
     "source": [
      "Circuit Elements with Memory"
     ]
    },
    {
     "cell_type": "code",
     "collapsed": false,
     "input": [
      "%pylab inline --no-import-all"
     ],
     "language": "python",
     "metadata": {},
     "outputs": [
      {
       "output_type": "stream",
       "stream": "stdout",
       "text": [
        "Populating the interactive namespace from numpy and matplotlib\n"
       ]
      }
     ],
     "prompt_number": 1
    },
    {
     "cell_type": "code",
     "collapsed": false,
     "input": [
      "import numpy as np\n",
      "import matplotlib.pyplot as plt"
     ],
     "language": "python",
     "metadata": {},
     "outputs": [],
     "prompt_number": 2
    },
    {
     "cell_type": "heading",
     "level": 2,
     "metadata": {},
     "source": [
      "Linear, Non-linear, and Memory Elements"
     ]
    },
    {
     "cell_type": "markdown",
     "metadata": {},
     "source": [
      "A resistor is a passive two-terminal electrical device where the current occurs in direct proportion to the applied voltage\n",
      "$$ I = \\frac{V}{R} = GV.$$\n",
      "Ideal resistors possess constant resistance for any applied voltage but real devices may vary over some range.  The current will thus be some function of the voltage\n",
      "$$ I = f(V).$$\n",
      "Expanding this function, $f(V) = g_0 + g_1 V + g_2 V^2 +...$, the require that the device be passive (no current should flow given no voltage, requires that the first coefficient $g_0 = 0$ and we can still characterize our device as\n",
      "$$I = G(V)\\cdot V$$\n",
      "or\n",
      "$$V = I\\cdot R(V).$$\n",
      "Such a device is a nonlinear resistor.  For both linear and nonlinear resistors, a given voltage will always elicit the same current.\n",
      "\n",
      "In contrast, memory elements have properties that are a function of the voltage *and* internal state variables.  Memristive systems, in particular, relate current to voltage as\n",
      "$$V(t) = R(\\vec{x}, I, t)I(t)$$\n",
      "$$\\frac{d\\vec{x}}{dt} = f(\\vec{x}, I, t).$$\n",
      "This is an example of *current-controlled* memristive system. A special class of these whose resistance is purely a function of the charge, $R(q(t))$ termed a *charge controlled memristor*.  We may similarly define a *voltage-controlled* memristive system by\n",
      "$$I(t) = G(x, V, t)V(t)$$\n",
      "$$\\frac{dx}{dt} = f(x, V, t)$$\n",
      "where $G$ is the memductance.\n",
      "\n",
      "Other memory elements are defined in analogy and may be discussed below (when I get to it)."
     ]
    },
    {
     "cell_type": "heading",
     "level": 4,
     "metadata": {},
     "source": [
      "Memristors and Memristive-Systems"
     ]
    },
    {
     "cell_type": "markdown",
     "metadata": {},
     "source": [
      "The memristor was originally posed by Chua as a device linking the charge $q(t)$ and idealized flux, $\\phi(t) = \\int_{-\\infty}^t V(\\tau) d\\tau$ as\n",
      "$$\\phi(t) = M(F(t))q(t)$$\n",
      "where $F(t)$ may be some time dependent quantity.  Plugging in the flux and taking the time derivative of both sides, gives\n",
      "$$V(t) = \\frac{dM}{dF}\\frac{dF}{dt}q(t) + M(F(t))I$$\n",
      "If $M$ is a function of the charge $q(t)$ alone, this becomes,\n",
      "$$V = R_{M_I} I$$\n",
      "$$R_{M_I} = \\frac{dM}{dt}q(t) + M(q(t)).$$\n",
      "If, instead we take $F(t) = \\phi(t)$ this gives\n",
      "$$R_{M_V} = \\frac{M(\\phi(t))}{1 - \\frac{dM}{d\\phi}q(t)}$$\n",
      "\n",
      "The word memristor is reserved for these two devices, called respectively the *ideal current-controlled* and *ideal voltage-controlled* memristors. In real systems (perhaps always) there are other variables at play that may affect the resistance of the device.  In these other systems, internal variables are gathered into some state vector whose evolution is specified by a set of differential equations.  The *order* of a memristive system may be considered the number of first order equations necessary to specify the state variables."
     ]
    },
    {
     "cell_type": "heading",
     "level": 4,
     "metadata": {},
     "source": [
      "Other memory devices"
     ]
    },
    {
     "cell_type": "markdown",
     "metadata": {},
     "source": [
      "Discrete memory devices are defined in analogy to their linear counterparts. We can give a general formulation for describing these elements as such: take $u(t)$ and $y(t)$ to be respectively the input and output of a device.  Memory devices may be characterized by the equations,\n",
      "$$ y(t) = g(\\vec{x}, u, t) u(t)$$\n",
      "$$ \\frac{d\\vec{x}}{dt} = f(\\vec{x}, u, t)$$\n",
      "where $\\vec{x}$ represents $n$ state variables and we take it that $f$ admits a unique solution. The devices are classified based on which input/output quantities they relate."
     ]
    },
    {
     "cell_type": "heading",
     "level": 2,
     "metadata": {},
     "source": [
      "Memristors"
     ]
    },
    {
     "cell_type": "heading",
     "level": 6,
     "metadata": {},
     "source": [
      "Properties"
     ]
    },
    {
     "cell_type": "markdown",
     "metadata": {},
     "source": [
      "* $R(x, I, t) > 0$ implies that the devices are passive.\n",
      "* $V = 0$ implies $I=0$ and vice versa\n",
      "* Periodic current inputs give rise to pinched hysteresis loop\n",
      "* Behaves as a linear resistor in the limit of infinite frequency and a nonlinear resistor in the limit of zero frequency provided that $\\dot{x} = f(x, I) = 0$ has some steady state solution\n",
      "* When current flows in a resistor, charges accumulate/deplete to either side of the device due to scattering at interfaces and form dipoles over length scales on the order of the screening length.  This takes some time and is accompanied by energy storage and thus has some capacitive behaviour.  This may cause the hysteresis loop to not exactly cross the origin at frequencies comparable to the characteristic time of charge equilibration."
     ]
    },
    {
     "cell_type": "heading",
     "level": 5,
     "metadata": {},
     "source": [
      "Example - Voltage Controlled Memristive System"
     ]
    },
    {
     "cell_type": "markdown",
     "metadata": {},
     "source": [
      "In this model, the resistance changes between two limiting values, $R_1$ and $R_2$ at a rate $\\alpha V$ if the applied voltage $|V|$ is less than some $V_T$ and $\\beta V$ if it is greater.  We might attempt to implement this as,"
     ]
    },
    {
     "cell_type": "code",
     "collapsed": false,
     "input": [
      "def vc_memR_xdot(x, V, t, V_T = 0.5, alpha = 100, beta = 1000, x_min = 20, x_max = 500):\n",
      "    return beta * V + 0.5 * (alpha - beta) * (np.abs(V + V_T) - np.abs(V - V_T))\n",
      "    \n",
      "V = np.linspace(-1, 1, 1000)\n",
      "fig, ax = plt.subplots(figsize=(4,6))\n",
      "ax.spines['right'].set_color('none')\n",
      "ax.spines['top'].set_color('none')\n",
      "\n",
      "ax.xaxis.set_ticks_position('bottom')\n",
      "ax.spines['bottom'].set_position(('data',0)) # set position of x spine to x=0\n",
      "\n",
      "ax.yaxis.set_ticks_position('left')\n",
      "ax.spines['left'].set_position(('data',0))   # set position of y spine to y=0\n",
      "\n",
      "ax.plot(V, map(vc_memR_xdot, [None], V, [None]))\n",
      "\n",
      "ax.set_xlabel(\"           Applied Voltage\", ha='left')\n",
      "ax.set_ylabel(r\"                          $\\dot{x}\\;(\\Omega/s)$\")\n",
      "ax.set_title(\"Resistance learning rule for Voltage Controlled Memristor\")"
     ],
     "language": "python",
     "metadata": {},
     "outputs": [
      {
       "metadata": {},
       "output_type": "pyout",
       "prompt_number": 3,
       "text": [
        "<matplotlib.text.Text at 0x4011dd0>"
       ]
      },
      {
       "metadata": {},
       "output_type": "display_data",
       "png": "[encoded data removed]",
       "text": [
        "<matplotlib.figure.Figure at 0x4000bd0>"
       ]
      }
     ],
     "prompt_number": 3
    },
    {
     "cell_type": "markdown",
     "metadata": {},
     "source": [
      "In order to integrate this system properly, here's a simple instantiation of RK4 for Voltage Controlled memristors with limited range of it's internal variable"
     ]
    },
    {
     "cell_type": "code",
     "collapsed": false,
     "input": [
      "def integrate_VC_memR(fun_R, fun_xdot, fun_v, t_vec, x_0, x_min, x_max):\n",
      "    \"\"\"\n",
      "    This is a general function to integrate a voltage controlled memristive system,\n",
      "    returning the resistance R(t) given the voltage (fun_v(t)) and the memristor model specified as\n",
      "    \n",
      "    V = IR(x, V, t)\n",
      "    xdot = f(x, v, t)\n",
      "    x(0) = x_0\n",
      "    \n",
      "    The arguements given are:\n",
      "    fun_R((x), V, t) - the resistance of the device for the given state variable values and voltage\n",
      "    fun_xdot(x, v, t) - a function returning the vector of first order derivatives of the state variables\n",
      "    fun_v(t) - The applied voltage\n",
      "    t_vec - the times over which we would like to evaluate the state of the system\n",
      "    x_0 - a tuple of initial conditions\n",
      "    x_min - a tuple of minimum allowed values of the state variables\n",
      "    x_max - a tuple of maximum allowed values of the state variables\n",
      "    \n",
      "    \"\"\"\n",
      "    # Redefine func_xdot to not require V which is explicitly given\n",
      "    # reducing it to the form xdot = f(x, t) which may be used for RK4\n",
      "    def xdot(x, t):\n",
      "        return fun_xdot(x, fun_v(t), t)\n",
      "    \n",
      "    x = np.zeros((len(x_0), len(t_vec)))\n",
      "    x[:, 0] = x_0\n",
      "        \n",
      "    #Now integrate using RK4\n",
      "    current_x = np.zeros_like(x_0)\n",
      "    next_x = np.zeros_like(x_0)\n",
      "    \n",
      "    # Loop over time, updating the next timestep (hence not using the last time point)\n",
      "    for idx, time in enumerate(t_vec[:-1]):\n",
      "        current_x = x[:,idx].copy()\n",
      "        h = t_vec[idx + 1] - time\n",
      "        next_x = current_x + 1. / 6. * h * (k1(xdot, current_x, time) + 2 * k2(xdot, current_x, time, h) +\n",
      "                                            2 * k3(xdot, current_x, time, h) + k4(xdot, current_x, time, h))\n",
      "        if next_x >= x_max:\n",
      "            next_x = x_max\n",
      "        elif next_x <= x_min:\n",
      "            next_x = x_min\n",
      "        x[:, idx + 1] = next_x.copy()\n",
      "    return x\n",
      "\n",
      "\n",
      "# Various intermediate derivatives used in RK4       \n",
      "def k1(deriv, y, t):\n",
      "    return deriv(y, t)\n",
      "\n",
      "def k2(deriv, y, t, h):\n",
      "    return deriv(y + 0.5 * h * k1(deriv, y, t), t + 0.5 * h)\n",
      "\n",
      "def k3(deriv, y, t, h):\n",
      "    return deriv(y + 0.5 * h * k2(deriv, y, t, h), t + 0.5 * h)\n",
      "\n",
      "def k4(deriv, y, t, h):\n",
      "    return deriv(y + h * k3(deriv, y, t, h), t + h)"
     ],
     "language": "python",
     "metadata": {},
     "outputs": [],
     "prompt_number": 4
    },
    {
     "cell_type": "markdown",
     "metadata": {},
     "source": [
      "Now to attempt an integration using $V=V_0\\sin{2\\pi f t}$."
     ]
    },
    {
     "cell_type": "code",
     "collapsed": false,
     "input": [
      "def RisX(x, v, t):\n",
      "    return x[0]\n",
      "\n",
      "fig, ax = plt.subplots(1, 3, figsize = (15, 5))\n",
      "\n",
      "for freq in [0.01, 0.4, 0.5, 4, 100]:\n",
      "    def voltage(t):\n",
      "        return 1 * np.sin(2 * np.pi * freq * t)\n",
      "    \n",
      "    t = np.linspace(0, 2. / freq, 1000)\n",
      "\n",
      "    x = integrate_VC_memR(RisX, vc_memR_xdot, voltage, t, np.array([20,]), 20, 500)\n",
      "    R = map(RisX, x, voltage(t), t)\n",
      "    I = voltage(t) / R\n",
      "\n",
      "    ax[0].plot(voltage(t), I, label='f='+str(freq))\n",
      "    ax[1].plot(t, R)\n",
      "    ax[2].plot(voltage(t), R)\n",
      "\n",
      "ax[0].legend(loc='upper left')\n",
      "ax[0].set_xlabel('V')\n",
      "ax[0].set_ylabel('I')\n",
      "ax[0].set_title(\"I-V curve\")\n",
      "\n",
      "ax[1].set_xlabel('t')\n",
      "ax[1].set_ylabel('R')\n",
      "ax[1].set_title('R(t)')\n",
      "ax[1].set_xlim(0, 6)\n",
      "\n",
      "\n",
      "ax[2].set_xlabel('V')\n",
      "ax[2].set_ylabel('R')\n",
      "ax[2].set_title('R-V curve')\n",
      "ax[2].set_ylim(-200, 700)\n",
      "\n"
     ],
     "language": "python",
     "metadata": {},
     "outputs": [
      {
       "ename": "AttributeError",
       "evalue": "'int' object has no attribute 'copy'",
       "output_type": "pyerr",
       "traceback": [
        "\u001b[1;31m---------------------------------------------------------------------------\u001b[0m\n\u001b[1;31mAttributeError\u001b[0m                            Traceback (most recent call last)",
        "\u001b[1;32m<ipython-input-11-733f71ba6a44>\u001b[0m in \u001b[0;36m<module>\u001b[1;34m()\u001b[0m\n\u001b[0;32m     10\u001b[0m     \u001b[0mt\u001b[0m \u001b[1;33m=\u001b[0m \u001b[0mnp\u001b[0m\u001b[1;33m.\u001b[0m\u001b[0mlinspace\u001b[0m\u001b[1;33m(\u001b[0m\u001b[1;36m0\u001b[0m\u001b[1;33m,\u001b[0m \u001b[1;36m2.\u001b[0m \u001b[1;33m/\u001b[0m \u001b[0mfreq\u001b[0m\u001b[1;33m,\u001b[0m \u001b[1;36m1000\u001b[0m\u001b[1;33m)\u001b[0m\u001b[1;33m\u001b[0m\u001b[0m\n\u001b[0;32m     11\u001b[0m \u001b[1;33m\u001b[0m\u001b[0m\n\u001b[1;32m---> 12\u001b[1;33m     \u001b[0mx\u001b[0m \u001b[1;33m=\u001b[0m \u001b[0mintegrate_VC_memR\u001b[0m\u001b[1;33m(\u001b[0m\u001b[0mRisX\u001b[0m\u001b[1;33m,\u001b[0m \u001b[0mvc_memR_xdot\u001b[0m\u001b[1;33m,\u001b[0m \u001b[0mvoltage\u001b[0m\u001b[1;33m,\u001b[0m \u001b[0mt\u001b[0m\u001b[1;33m,\u001b[0m \u001b[0mnp\u001b[0m\u001b[1;33m.\u001b[0m\u001b[0marray\u001b[0m\u001b[1;33m(\u001b[0m\u001b[1;33m[\u001b[0m\u001b[1;36m20\u001b[0m\u001b[1;33m,\u001b[0m\u001b[1;33m]\u001b[0m\u001b[1;33m)\u001b[0m\u001b[1;33m,\u001b[0m \u001b[1;36m20\u001b[0m\u001b[1;33m,\u001b[0m \u001b[1;36m500\u001b[0m\u001b[1;33m)\u001b[0m\u001b[1;33m\u001b[0m\u001b[0m\n\u001b[0m\u001b[0;32m     13\u001b[0m     \u001b[0mR\u001b[0m \u001b[1;33m=\u001b[0m \u001b[0mmap\u001b[0m\u001b[1;33m(\u001b[0m\u001b[0mRisX\u001b[0m\u001b[1;33m,\u001b[0m \u001b[0mx\u001b[0m\u001b[1;33m,\u001b[0m \u001b[0mvoltage\u001b[0m\u001b[1;33m(\u001b[0m\u001b[0mt\u001b[0m\u001b[1;33m)\u001b[0m\u001b[1;33m,\u001b[0m \u001b[0mt\u001b[0m\u001b[1;33m)\u001b[0m\u001b[1;33m\u001b[0m\u001b[0m\n\u001b[0;32m     14\u001b[0m     \u001b[0mI\u001b[0m \u001b[1;33m=\u001b[0m \u001b[0mvoltage\u001b[0m\u001b[1;33m(\u001b[0m\u001b[0mt\u001b[0m\u001b[1;33m)\u001b[0m \u001b[1;33m/\u001b[0m \u001b[0mR\u001b[0m\u001b[1;33m\u001b[0m\u001b[0m\n",
        "\u001b[1;32m<ipython-input-4-a8d4a2d5594b>\u001b[0m in \u001b[0;36mintegrate_VC_memR\u001b[1;34m(fun_R, fun_xdot, fun_v, t_vec, x_0, x_min, x_max)\u001b[0m\n\u001b[0;32m     40\u001b[0m         \u001b[1;32melif\u001b[0m \u001b[0mnext_x\u001b[0m \u001b[1;33m<=\u001b[0m \u001b[0mx_min\u001b[0m\u001b[1;33m:\u001b[0m\u001b[1;33m\u001b[0m\u001b[0m\n\u001b[0;32m     41\u001b[0m             \u001b[0mnext_x\u001b[0m \u001b[1;33m=\u001b[0m \u001b[0mx_min\u001b[0m\u001b[1;33m\u001b[0m\u001b[0m\n\u001b[1;32m---> 42\u001b[1;33m         \u001b[0mx\u001b[0m\u001b[1;33m[\u001b[0m\u001b[1;33m:\u001b[0m\u001b[1;33m,\u001b[0m \u001b[0midx\u001b[0m \u001b[1;33m+\u001b[0m \u001b[1;36m1\u001b[0m\u001b[1;33m]\u001b[0m \u001b[1;33m=\u001b[0m \u001b[0mnext_x\u001b[0m\u001b[1;33m.\u001b[0m\u001b[0mcopy\u001b[0m\u001b[1;33m(\u001b[0m\u001b[1;33m)\u001b[0m\u001b[1;33m\u001b[0m\u001b[0m\n\u001b[0m\u001b[0;32m     43\u001b[0m     \u001b[1;32mreturn\u001b[0m \u001b[0mx\u001b[0m\u001b[1;33m\u001b[0m\u001b[0m\n\u001b[0;32m     44\u001b[0m \u001b[1;33m\u001b[0m\u001b[0m\n",
        "\u001b[1;31mAttributeError\u001b[0m: 'int' object has no attribute 'copy'"
       ]
      },
      {
       "metadata": {},
       "output_type": "display_data",
       "png": "[encoded data removed]",
       "text": [
        "<matplotlib.figure.Figure at 0x457bd90>"
       ]
      }
     ],
     "prompt_number": 11
    },
    {
     "cell_type": "markdown",
     "metadata": {},
     "source": [
      "So we have found that for high frequencies, where the memristor does not have time to adjust, it will act as a resistor\n",
      "with it's initial resistance, varying slightly about this value as we see in pink. At low frequencies, where there is time to adjust, it will jump from it's maximum resistance value when positively biased to it's minimum value when negatively biased as we see in dark blue. Between, we have a smooth hysteresis loop which becomes 'kinked', when the change in the resistance is large enough to reach between the two threshholds.\n",
      "\n",
      "The hysteresis loops are a result of the memory in the system.  Noting that the loops move between the two slopes $R_{min}$ and $R_{max}$ and converge to a linear element when these values approach each other, we should expect that the *amount of memory* in the system should be dependent on the interval $R_{max}-R_{min}$."
     ]
    },
    {
     "cell_type": "heading",
     "level": 4,
     "metadata": {},
     "source": [
      "Hysteresis Loops"
     ]
    },
    {
     "cell_type": "markdown",
     "metadata": {},
     "source": [
      "We see that hysteresis loops are produced in the plots of the input output variables and the response function.  This is a common occurance and the types of loops can be catagorized into those that cross at the origin (type I) as above, and those that do not cross at the origin (type II) when plotted in the input/output variables."
     ]
    },
    {
     "cell_type": "heading",
     "level": 2,
     "metadata": {},
     "source": [
      "Memristors in parallel and series"
     ]
    },
    {
     "cell_type": "markdown",
     "metadata": {},
     "source": [
      "In analogy with linear devices, we can take two memory devices in parallel or in series and use them to define a new two terminal device.  This also gives us a way to symmetrize our devices.  Memristors are, in general, polar devices.  By placing two in opposite orientation, in parallel or in series, we obtain a new device symmetric under the exchange of terminals."
     ]
    },
    {
     "cell_type": "heading",
     "level": 4,
     "metadata": {},
     "source": [
      "Parallel"
     ]
    },
    {
     "cell_type": "markdown",
     "metadata": {},
     "source": [
      "Take two memristors with equations,\n",
      "$$V_1 = R_1(x_1, V_1, t) I_1$$\n",
      "$$x_1 = f(x_1, V_1,t)$$\n",
      "$$V_2 = R_2(x_2, V_2, t) I_2$$\n",
      "$$x_2 = f(x_2, V_2, t).$$\n",
      "Placed in parallel, in opposite orientations, these form a new higher order memristive system,\n",
      "$$R_P(x_1, x_2) = \\frac{R_1(x_1) R_2(x_2)}{R_1(x_1) + R_2(x_2)}$$\n",
      "with \n",
      "$$\\dot{\\vec{x}} = \\begin{pmatrix}\n",
      "             \\dot{x_1} \\\\\n",
      "             \\dot{x_2} \\\\\n",
      "             \\end{pmatrix} = \n",
      "             \\begin{pmatrix}\n",
      "             f(x_1, V, t) \\\\\n",
      "             f(x_2, -V, t) \\\\\n",
      "             \\end{pmatrix}$$\n",
      "For the simpler voltage controlled memristor model we have been using so far, this becomes,\n",
      "$$R_P(x_1, x_2) = \\frac{x_1 x_2}{x_1 + x_2}$$\n",
      "$$\\dot{\\vec{x}} = \\begin{pmatrix}\n",
      "             \\dot{x_1} \\\\\n",
      "             \\dot{x_2} \\\\\n",
      "             \\end{pmatrix} = \n",
      "             \\begin{pmatrix}\n",
      "             f(V) \\\\\n",
      "             -f(V) \\\\\n",
      "             \\end{pmatrix}$$\n",
      "which is symmetric on $V\\to -V$ and $x_1 \\leftrightarrow x_2$."
     ]
    },
    {
     "cell_type": "code",
     "collapsed": false,
     "input": [
      "np.array([20,])"
     ],
     "language": "python",
     "metadata": {},
     "outputs": [
      {
       "metadata": {},
       "output_type": "pyout",
       "prompt_number": 10,
       "text": [
        "array([20])"
       ]
      }
     ],
     "prompt_number": 10
    },
    {
     "cell_type": "code",
     "collapsed": false,
     "input": [],
     "language": "python",
     "metadata": {},
     "outputs": []
    }
   ],
   "metadata": {}
  }
 ]
}