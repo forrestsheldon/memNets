{
 "metadata": {
  "name": ""
 },
 "nbformat": 3,
 "nbformat_minor": 0,
 "worksheets": [
  {
   "cells": [
    {
     "cell_type": "heading",
     "level": 1,
     "metadata": {},
     "source": [
      "Circuit Elements with Memory"
     ]
    },
    {
     "cell_type": "code",
     "collapsed": false,
     "input": [
      "%pylab inline --no-import-all"
     ],
     "language": "python",
     "metadata": {},
     "outputs": [
      {
       "output_type": "stream",
       "stream": "stdout",
       "text": [
        "Populating the interactive namespace from numpy and matplotlib\n"
       ]
      }
     ],
     "prompt_number": 1
    },
    {
     "cell_type": "code",
     "collapsed": false,
     "input": [
      "import numpy as np\n",
      "import matplotlib.pyplot as plt"
     ],
     "language": "python",
     "metadata": {},
     "outputs": [],
     "prompt_number": 2
    },
    {
     "cell_type": "heading",
     "level": 2,
     "metadata": {},
     "source": [
      "General Description"
     ]
    },
    {
     "cell_type": "markdown",
     "metadata": {},
     "source": [
      "The concept of a memristor was first posed by Chua who suggested a quantity relating charge and flux,\n",
      "$$d\\phi = M dq$$\n",
      "in analogy to the 3 other electronic components linking charge, current, flux, and voltage. The flux was generalized to be the time integral of the voltage $\\phi = \\int dt v(t)$ and this has been further generalized to include any two terminal device whose resistance depends on the internal state of the system."
     ]
    },
    {
     "cell_type": "markdown",
     "metadata": {},
     "source": [
      "We can give a general formulation for describing these elements as such: take $u(t)$ and $y(t)$ to be respectively the input and output of a device.  Memristive devices may be characterized by the equations,\n",
      "$$ y(t) = g(\\vec{x}, u, t) u(t)$$\n",
      "$$ \\frac{d\\vec{x}}{dt} = f(\\vec{x}, u, t)$$\n",
      "where $\\vec{x}$ represents $n$ state variables and we take it that $f$ admits a unique solution. The devices are classified based on which quantities they relate."
     ]
    },
    {
     "cell_type": "heading",
     "level": 4,
     "metadata": {},
     "source": [
      "Memristors"
     ]
    },
    {
     "cell_type": "markdown",
     "metadata": {},
     "source": [
      "Memristors relate current to voltage as\n",
      "$$V(t) = R(\\vec{x}, I, t)I(t)$$\n",
      "$$\\frac{d\\vec{x}}{dt} = f(\\vec{x}, I, t).$$\n",
      "A special class of these is obtained by considering those whose resistance is purely a function of the charge, $R(q(t))$ termed a *charge controlled memristor*.  We may similarly we define a voltage-controlled memristive system by\n",
      "$$I(t) = G(x, V, t)V(t)$$\n",
      "$$\\frac{dx}{dt} = f(x, V, t)$$\n",
      "where $G$ is the memductance."
     ]
    },
    {
     "cell_type": "heading",
     "level": 6,
     "metadata": {},
     "source": [
      "Properties"
     ]
    },
    {
     "cell_type": "markdown",
     "metadata": {},
     "source": [
      "* $R(x, I, t) > 0$ implies that the devices are passive.\n",
      "* $V = 0$ implies $I=0$ and vice versa\n",
      "* Periodic current inputs give rise to pinched hysteresis loop\n",
      "* Behaves as a linear resistor in the limit of infinite frequency and a nonlinear resistor in the limit of zero frequency provided that $\\dot{x} = f(x, I) = 0$ has some steady state solution\n",
      "* When current flows in a resistor, charges accumulate/deplete to either side of the device due to scattering at interfaces and form dipoles over length scales on the order of the screening length.  This takes some time and is accompanied by energy storage and thus has some capacitive behaviour.  This may cause the hysteresis loop to not exactly cross the origin at frequencies comparable to the characteristic time of charge equilibration."
     ]
    },
    {
     "cell_type": "heading",
     "level": 5,
     "metadata": {},
     "source": [
      "Example - Voltage Controlled Memristive System"
     ]
    },
    {
     "cell_type": "markdown",
     "metadata": {},
     "source": [
      "In this model, the resistance changes between two limiting values, $R_1$ and $R_2$.  "
     ]
    }
   ],
   "metadata": {}
  }
 ]
}