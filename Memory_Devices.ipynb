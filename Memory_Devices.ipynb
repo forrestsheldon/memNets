{
 "metadata": {
  "name": ""
 },
 "nbformat": 3,
 "nbformat_minor": 0,
 "worksheets": [
  {
   "cells": [
    {
     "cell_type": "heading",
     "level": 1,
     "metadata": {},
     "source": [
      "Circuit Elements with Memory"
     ]
    },
    {
     "cell_type": "code",
     "collapsed": false,
     "input": [
      "%pylab inline --no-import-all"
     ],
     "language": "python",
     "metadata": {},
     "outputs": [
      {
       "output_type": "stream",
       "stream": "stdout",
       "text": [
        "Populating the interactive namespace from numpy and matplotlib\n"
       ]
      }
     ],
     "prompt_number": 1
    },
    {
     "cell_type": "code",
     "collapsed": false,
     "input": [
      "import numpy as np\n",
      "import matplotlib.pyplot as plt"
     ],
     "language": "python",
     "metadata": {},
     "outputs": [],
     "prompt_number": 2
    },
    {
     "cell_type": "heading",
     "level": 2,
     "metadata": {},
     "source": [
      "General Description"
     ]
    },
    {
     "cell_type": "markdown",
     "metadata": {},
     "source": [
      "The concept of a memristor was first posed by Chua who suggested a quantity relating charge and flux,\n",
      "$$d\\phi = M dq$$\n",
      "in analogy to the 3 other electronic components linking charge, current, flux, and voltage. I don't particularly understand the argument as each quantity serves a distinct physical role in my mind and I don't quite understand the analogy, but it doesn't matter as memristive systems have come to encompass any two terminal device whose resistance depends on its internal state."
     ]
    },
    {
     "cell_type": "markdown",
     "metadata": {},
     "source": [
      "We can give a general formulation for describing these elements as such: take $u(t)$ and $y(t)$ to be respectively the input and output of a device.  Memristive devices may be characterized by the equations,\n",
      "$$ y(t) = g(\\vec{x}, u, t) u(t)$$\n",
      "$$ \\frac{d\\vec{x}}{dt} = f(\\vec{x}, u, t)$$\n",
      "where $\\vec{x}$ represents $n$ state variables and we take it that $f$ admits a unique solution. The devices are classified based on which input/output quantities they relate."
     ]
    },
    {
     "cell_type": "heading",
     "level": 4,
     "metadata": {},
     "source": [
      "Memristors"
     ]
    },
    {
     "cell_type": "markdown",
     "metadata": {},
     "source": [
      "Memristors relate current to voltage as\n",
      "$$V(t) = R(\\vec{x}, I, t)I(t)$$\n",
      "$$\\frac{d\\vec{x}}{dt} = f(\\vec{x}, I, t).$$\n",
      "A special class of these is obtained by considering those whose resistance is purely a function of the charge, $R(q(t))$ termed a *charge controlled memristor*.  We may similarly we define a voltage-controlled memristive system by\n",
      "$$I(t) = G(x, V, t)V(t)$$\n",
      "$$\\frac{dx}{dt} = f(x, V, t)$$\n",
      "where $G$ is the memductance."
     ]
    },
    {
     "cell_type": "heading",
     "level": 6,
     "metadata": {},
     "source": [
      "Properties"
     ]
    },
    {
     "cell_type": "markdown",
     "metadata": {},
     "source": [
      "* $R(x, I, t) > 0$ implies that the devices are passive.\n",
      "* $V = 0$ implies $I=0$ and vice versa\n",
      "* Periodic current inputs give rise to pinched hysteresis loop\n",
      "* Behaves as a linear resistor in the limit of infinite frequency and a nonlinear resistor in the limit of zero frequency provided that $\\dot{x} = f(x, I) = 0$ has some steady state solution\n",
      "* When current flows in a resistor, charges accumulate/deplete to either side of the device due to scattering at interfaces and form dipoles over length scales on the order of the screening length.  This takes some time and is accompanied by energy storage and thus has some capacitive behaviour.  This may cause the hysteresis loop to not exactly cross the origin at frequencies comparable to the characteristic time of charge equilibration."
     ]
    },
    {
     "cell_type": "heading",
     "level": 5,
     "metadata": {},
     "source": [
      "Example - Voltage Controlled Memristive System"
     ]
    },
    {
     "cell_type": "markdown",
     "metadata": {},
     "source": [
      "In this model, the resistance changes between two limiting values, $R_1$ and $R_2$ at a rate $\\alpha V$ if the applied voltage $|V|$ is less than some $V_T$ and $\\beta V$ if it is greater.  We might attempt to implement this as,"
     ]
    },
    {
     "cell_type": "code",
     "collapsed": false,
     "input": [
      "def voltage_controlled_memris_dxdt(x, V, V_T = 0.5, alpha = 500, beta = 1000, x_min = 20, x_max = 500):\n",
      "    deriv = beta * V + 0.5 * (alpha - beta) * (np.abs(V + V_T) - np.abs(V - V_T))\n",
      "    if (x > x_min) and (x < x_max):\n",
      "        return deriv\n",
      "    elseif (x \n",
      "    \n",
      "V = np.linspace(-1, 1, 1000)\n",
      "fig, ax = plt.subplots(figsize=(4,5))\n",
      "ax.plot(V, map(vc_mem_dxdt, V))\n",
      "\n",
      "ax.set_xlabel(\"Applied Voltage\")\n",
      "ax.set_ylabel(r\"$\\dot{x}\\;(\\Omega/s)$\")\n",
      "ax.set_title(\"Resistance learning rule for Voltage Controlled Memristor\")"
     ],
     "language": "python",
     "metadata": {},
     "outputs": [
      {
       "metadata": {},
       "output_type": "pyout",
       "prompt_number": 17,
       "text": [
        "<matplotlib.text.Text at 0x5ab8250>"
       ]
      },
      {
       "metadata": {},
       "output_type": "display_data",
       "png": "[encoded data removed]",
       "text": [
        "<matplotlib.figure.Figure at 0x5001cd0>"
       ]
      }
     ],
     "prompt_number": 17
    },
    {
     "cell_type": "markdown",
     "metadata": {},
     "source": [
      "Suppose we drive this system at some AC voltage $V(t) = V_0 \\sin{2\\pi f t}$."
     ]
    },
    {
     "cell_type": "code",
     "collapsed": false,
     "input": [
      "V_0 = 1 # Volts\n",
      "\n",
      "def dR_dt(V, t):\n",
      "    dx = vc_mem_dxdt(V, t"
     ],
     "language": "python",
     "metadata": {},
     "outputs": []
    },
    {
     "cell_type": "code",
     "collapsed": false,
     "input": [
      "def integrate_memristor(func_R, func_xdot, func_v, x_0, t_vec):\n",
      "    \"\"\"\n",
      "    This is a general function to integrate a memristive, returning the current given the voltage (func_v(t))\n",
      "    and the memristor model specified as\n",
      "    V = IR(x,V, t)\n",
      "    xdot = f(x, v, t)\n",
      "    x_0\n",
      "    where x may be a vector of state variables.\n",
      "    R(t) is returned\n",
      "    \"\"\"\n",
      "    x = np.zeros(len(t_vec), len(x_0)))\n",
      "    x[0,:] = x_0\n",
      "    current_x = np.zeros_like(x_0)\n",
      "    next_x = np.zeros_like(x_0)\n",
      "    for idx, time in enumerate(t_vec[:-1]):\n",
      "        current_x = x[idx, :]\n",
      "        h = t_vec[idx + 1] - time\n",
      "        next_v = current_v + 1. / 6. * h * (k1(deriv, current_v, time) + 2 * k2(deriv, current_v, time, h) +\n",
      "                                            2 * k3(deriv, current_v, time, h) + k4(deriv, current_v, time, h))\n",
      "        next_v[next_v >= V_th] = V_reset\n",
      "        V[idx + 1, :] = next_v\n",
      "    return V\n",
      "\n",
      "\n",
      "        \n",
      "def k1(deriv, y, t):\n",
      "    return deriv(y, t)\n",
      "\n",
      "def k2(deriv, y, t, h):\n",
      "    return deriv(y + 0.5 * h * k1(deriv, y, t), t + 0.5 * h)\n",
      "\n",
      "def k3(deriv, y, t, h):\n",
      "    return deriv(y + 0.5 * h * k2(deriv, y, t, h), t + 0.5 * h)\n",
      "\n",
      "def k4(deriv, y, t, h):\n",
      "    return deriv(y + h * k3(deriv, y, t, h), t + h)"
     ],
     "language": "python",
     "metadata": {},
     "outputs": []
    },
    {
     "cell_type": "code",
     "collapsed": false,
     "input": [],
     "language": "python",
     "metadata": {},
     "outputs": []
    }
   ],
   "metadata": {}
  }
 ]
}