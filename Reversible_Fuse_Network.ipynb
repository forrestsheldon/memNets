{
 "metadata": {
  "name": "",
  "signature": "sha256:0c043fa6a9caef1754d2ffa5cbd950722dca8aabc6abe146c2457f1a783aca75"
 },
 "nbformat": 3,
 "nbformat_minor": 0,
 "worksheets": [
  {
   "cells": [
    {
     "cell_type": "heading",
     "level": 1,
     "metadata": {},
     "source": [
      "Reversible Fuse Network"
     ]
    },
    {
     "cell_type": "code",
     "collapsed": false,
     "input": [
      "%matplotlib inline"
     ],
     "language": "python",
     "metadata": {},
     "outputs": [],
     "prompt_number": 1
    },
    {
     "cell_type": "code",
     "collapsed": false,
     "input": [
      "import numpy as np\n",
      "import scipy as sp\n",
      "import scipy.sparse as sparse\n",
      "from scipy.sparse.linalg import spsolve, cg\n",
      "import generate_adjacency_matrix as gen_adj\n",
      "import resistor_networks as rnets\n",
      "from __future__ import division\n",
      "import sys"
     ],
     "language": "python",
     "metadata": {},
     "outputs": [],
     "prompt_number": 2
    },
    {
     "cell_type": "code",
     "collapsed": false,
     "input": [
      "import matplotlib.pyplot as plt"
     ],
     "language": "python",
     "metadata": {},
     "outputs": [],
     "prompt_number": 3
    },
    {
     "cell_type": "markdown",
     "metadata": {},
     "source": [
      "I want to consider a modification of the memristor fuse network where memristors transition from OFF to ON when above threshold, and from ON to OFF when below.  I hope to find a state in which we have persistent fluctuations."
     ]
    },
    {
     "cell_type": "code",
     "collapsed": false,
     "input": [
      "class ReversibleFuseNetwork(rnets.ResistorNetwork):\n",
      "    \"\"\"\n",
      "    This class inherits from ResistorNetwork with the aim of adding some dynamical behavior to the\n",
      "    resistors.  In particular, when a resistor has past a certain current threshold, the conductance\n",
      "    is switched from G_OFF to G_ON and vice versa when below. To initialize, we require:\n",
      "    \n",
      "        G                     - An NxN sparse CSR matrix containing the conductances in the network of N nodes\n",
      "        external_voltages     - An Nx1 dense vector of external voltages.  Nodes not set to an external voltages\n",
      "                                contain a Nan. The shape (N,) is preferred\n",
      "        I_threshold           - The current threshold at which the memristor will go from G_OFF to G_ON\n",
      "        G_OFF                 - The conductance in the low conductivity OFF state.  Generally set to 1.\n",
      "        G_ON                  - The conductance in the high conductivity ON state.  Set to 100 by default.\n",
      "    \n",
      "    Other available attributes after initialization are:\n",
      "        currents              - An NxN sparse matrix of currents in the network.  As many tasks in the network will\n",
      "                                require that the currents be calculated, it is best that we do this once and share.\n",
      "        G_percolating\n",
      "        rows_G_perc\n",
      "        cols_G_perc\n",
      "        rows_G\n",
      "        cols_G\n",
      "    \"\"\"\n",
      "    \n",
      "    def __init__(self, G, external_voltages, I_threshold, G_OFF=1, G_ON=100):\n",
      "        rnets.ResistorNetwork.__init__(self, G, external_voltages)\n",
      "        self.I_threshold = I_threshold\n",
      "        self.G_OFF = G_OFF\n",
      "        self.G_ON = G_ON\n",
      "        self.G_percolating = self.G[self.percolating_nodes, :][:, self.percolating_nodes]\n",
      "        self.rows_G_perc, self.cols_G_perc = self.G_percolating.nonzero()\n",
      "        self.rows_G = None  # These are the subsets of G.nonzero() that correspond to the percolating cluster\n",
      "        self.cols_G = None  # used for populating G with the changed values of G_percolating\n",
      "        self.build_rows_cols_G()\n",
      "        self.currents = None\n",
      "    \n",
      "    def build_rows_cols_G(self):\n",
      "        \"\"\"\n",
      "        create the referencing vectors for G that give elements in the percolating cluster.  These are required for populating G\n",
      "        with the values of G_percolating that have been switched.\n",
      "        \"\"\"\n",
      "        rows, cols = self.G.nonzero()\n",
      "        self.rows_G = []\n",
      "        self.cols_G = []\n",
      "        for i, j in zip(rows, cols):\n",
      "            if self.percolating_nodes[i] and self.percolating_nodes[j]:\n",
      "                self.rows_G.append(i)\n",
      "                self.cols_G.append(j)\n",
      "            \n",
      "    def calculate_currents(self):\n",
      "        \"\"\"\n",
      "        calculates a matrix of currents running through each memristor\n",
      "        \"\"\"\n",
      "        self.currents = sparse.lil_matrix(self.G_percolating.shape, dtype=float)\n",
      "        rows, cols = self.G_percolating.nonzero()\n",
      "        self.currents[rows, cols] = np.multiply( self.G_percolating[rows, cols], np.abs(self.voltages[self.percolating_nodes][rows]\n",
      "                                                                                 - self.voltages[self.percolating_nodes][cols]))\n",
      "        self.currents.tocsr()\n",
      "    \n",
      "    def max_unswitched_current(self):\n",
      "        try:\n",
      "            I_max = np.max(np.max(self.currents[self.G_percolating == self.G_OFF].data))\n",
      "        except ValueError:\n",
      "            return None\n",
      "        return I_max\n",
      "    \n",
      "    def min_switched_current(self):\n",
      "        try:\n",
      "            I_min = np.min(np.min(self.currents[self.G_percolating == self.G_ON].data))\n",
      "        except ValueError:\n",
      "            return None\n",
      "        return I_min\n",
      "        \n",
      "    def switch_memristors(self):\n",
      "        \"\"\"\n",
      "        Check the currents on each memristor.  Those that are in the low conductance state and that have a current\n",
      "        above I_thresh will have their conductance switched to G_ON.  Similarly, those that are in the high\n",
      "        conductance state and have a current below I_thresh will have their conductance switched to G_OFF.\n",
      "        \"\"\"\n",
      "        # I used to convert these to boolean but I don't think that's actually necessary\n",
      "        switching_ON_memristors = (self.currents >= self.I_threshold).multiply(self.G_percolating == self.G_OFF)\n",
      "        switching_OFF_memristors = (self.currents < self.I_threshold).multiply(self.G_percolating == self.G_ON)\n",
      "        self.G_percolating[switching_ON_memristors] = self.G_ON\n",
      "        self.G_percolating[switching_OFF_memristors] = self.G_OFF\n",
      "        return switching_ON_memristors.nnz / 2, switching_OFF_memristors.nnz / 2\n",
      "    \n",
      "    def fill_G(self):\n",
      "        self.G[self.rows_G, self.cols_G] = self.G_percolating[self.rows_G_perc, self.cols_G_perc]\n",
      "\n",
      "    def switching_step(self):\n",
      "        ON_counter = []\n",
      "        OFF_counter = []\n",
      "        self.solve_voltages_percolating('spsolve')\n",
      "        self.calculate_currents()\n",
      "        num_switched_ON, num_switched_OFF = self.switch_memristors()\n",
      "        while num_switched_ON != 0 or num_switched_OFF != 0:\n",
      "            ON_counter.append(num_switched_ON)\n",
      "            OFF_counter.append(num_switched_OFF)\n",
      "            self.fill_G()\n",
      "            self.solve_voltages_percolating('spsolve')\n",
      "            self.calculate_currents()\n",
      "            num_switched_ON, num_switched_OFF = self.switch_memristors()\n",
      "        return ON_counter, OFF_counter\n",
      "    \n",
      "    def new_voltage_ramp(self, prev_voltage):\n",
      "        return prev_voltage * self.I_threshold / self.max_unswitched_current() + 1e-15\n",
      "    \n",
      "    def new_voltage_nearest(self, prev_voltage):\n",
      "        \"\"\"\n",
      "        Calculate the external voltage required for the nearest memristor to be switched, either on or off.\n",
      "        \"\"\"\n",
      "        # Calculate the factor by which the voltage will have to be changed to switche the unswitched memristor with\n",
      "        # the largest current and the switched memristor with the lowest\n",
      "        \n",
      "        max_unswitched = self.max_unswitched_current()\n",
      "        min_switched = self.min_switched_current()\n",
      "        if min_switched == None and max_unswitched != None:\n",
      "            return prev_voltage * self.I_threshold / self.max_unswitched_current()\n",
      "        elif max_unswitched == None and min_switched != None:\n",
      "            return prev_voltage * self.I_threshold / self.min_unswitched_current()\n",
      "\n",
      "        up_ratio = self.I_threshold / max_unswitched\n",
      "        down_ratio = self.I_threshold / min_switched\n",
      "        \n",
      "        # Change the voltage by the smallest amount required to observe a switching \n",
      "        if (up_ratio - 1) < (1 - down_ratio):\n",
      "            return prev_voltage * up_ratio + 1e-15\n",
      "        else:\n",
      "            return prev_voltage * down_ratio - 1e-15\n",
      "\n",
      "    def update_voltage_busbar(self, voltage):\n",
      "        \"\"\"\n",
      "        Using bus bar topology, this takes the previous voltage at the zeroth node and updates it so that the next memristor\n",
      "        will flip\n",
      "        \"\"\"\n",
      "        self.external_voltages[0:int(np.sqrt(self.G.shape[0]))] = voltage"
     ],
     "language": "python",
     "metadata": {},
     "outputs": [],
     "prompt_number": 4
    },
    {
     "cell_type": "heading",
     "level": 3,
     "metadata": {},
     "source": [
      "Testing"
     ]
    },
    {
     "cell_type": "code",
     "collapsed": false,
     "input": [
      "L = 32\n",
      "p = 0.55\n",
      "G_init = gen_adj.cubic_2d_random((L, L), p)\n",
      "v_external = np.empty(L*L) * np.nan\n",
      "v_external[0:L] = 1e-5\n",
      "v_external[-L:] = 0\n",
      "I_thresh = 1\n",
      "testnet = ReversibleFuseNetwork(G_init, v_external, I_thresh, G_OFF=1, G_ON=100)"
     ],
     "language": "python",
     "metadata": {},
     "outputs": [
      {
       "output_type": "stream",
       "stream": "stderr",
       "text": [
        "/usr/local/lib/python2.7/dist-packages/numpy/lib/nanfunctions.py:319: RuntimeWarning: All-NaN slice encountered\n",
        "  warnings.warn(\"All-NaN slice encountered\", RuntimeWarning)\n",
        "/usr/local/lib/python2.7/dist-packages/numpy/lib/nanfunctions.py:220: RuntimeWarning: All-NaN axis encountered\n",
        "  warnings.warn(\"All-NaN axis encountered\", RuntimeWarning)\n"
       ]
      }
     ],
     "prompt_number": 5
    },
    {
     "cell_type": "code",
     "collapsed": false,
     "input": [
      "testnet.solve_voltages('spsolve')\n",
      "testnet.calculate_currents()\n",
      "total_memristors = testnet.G_percolating.nnz / 2\n",
      "\n",
      "conductivities = [testnet.conductivity()]\n",
      "voltages = [testnet.external_voltages[0]]\n",
      "switchings_on = []\n",
      "switchings_off = []"
     ],
     "language": "python",
     "metadata": {},
     "outputs": [],
     "prompt_number": 6
    },
    {
     "cell_type": "markdown",
     "metadata": {},
     "source": [
      "First, I would like to conclude that OFF switchings are not important if the voltage is simply ramped."
     ]
    },
    {
     "cell_type": "code",
     "collapsed": false,
     "input": [
      "while testnet.max_unswitched_current() != None:\n",
      "    voltages.append(testnet.new_voltage_ramp(testnet.external_voltages[0]))\n",
      "    testnet.update_voltage_busbar(voltages[-1])\n",
      "    on_list, off_list = testnet.switching_step()\n",
      "    switchings_on.append(on_list)\n",
      "    switchings_off.append(off_list)\n",
      "    conductivities.append(testnet.conductivity())\n",
      "    #print \"At voltage %0.4f we have switchings\" % (voltages[-1]),\n",
      "    #print on_list, off_list\n",
      "    #sys.stdout.flush()"
     ],
     "language": "python",
     "metadata": {},
     "outputs": [
      {
       "output_type": "stream",
       "stream": "stderr",
       "text": [
        "/usr/local/lib/python2.7/dist-packages/scipy/sparse/compressed.py:236: SparseEfficiencyWarning: Comparing a sparse matrix with a scalar greater than zero using < is inefficient, try using > instead.\n",
        "  \"zero using < is inefficient, try using > instead.\", SparseEfficiencyWarning)\n"
       ]
      },
      {
       "ename": "KeyboardInterrupt",
       "evalue": "",
       "output_type": "pyerr",
       "traceback": [
        "\u001b[1;31m---------------------------------------------------------------------------\u001b[0m\n\u001b[1;31mKeyboardInterrupt\u001b[0m                         Traceback (most recent call last)",
        "\u001b[1;32m<ipython-input-7-416d402c9f6d>\u001b[0m in \u001b[0;36m<module>\u001b[1;34m()\u001b[0m\n\u001b[0;32m      2\u001b[0m     \u001b[0mvoltages\u001b[0m\u001b[1;33m.\u001b[0m\u001b[0mappend\u001b[0m\u001b[1;33m(\u001b[0m\u001b[0mtestnet\u001b[0m\u001b[1;33m.\u001b[0m\u001b[0mnew_voltage_ramp\u001b[0m\u001b[1;33m(\u001b[0m\u001b[0mtestnet\u001b[0m\u001b[1;33m.\u001b[0m\u001b[0mexternal_voltages\u001b[0m\u001b[1;33m[\u001b[0m\u001b[1;36m0\u001b[0m\u001b[1;33m]\u001b[0m\u001b[1;33m)\u001b[0m\u001b[1;33m)\u001b[0m\u001b[1;33m\u001b[0m\u001b[0m\n\u001b[0;32m      3\u001b[0m     \u001b[0mtestnet\u001b[0m\u001b[1;33m.\u001b[0m\u001b[0mupdate_voltage_busbar\u001b[0m\u001b[1;33m(\u001b[0m\u001b[0mvoltages\u001b[0m\u001b[1;33m[\u001b[0m\u001b[1;33m-\u001b[0m\u001b[1;36m1\u001b[0m\u001b[1;33m]\u001b[0m\u001b[1;33m)\u001b[0m\u001b[1;33m\u001b[0m\u001b[0m\n\u001b[1;32m----> 4\u001b[1;33m     \u001b[0mon_list\u001b[0m\u001b[1;33m,\u001b[0m \u001b[0moff_list\u001b[0m \u001b[1;33m=\u001b[0m \u001b[0mtestnet\u001b[0m\u001b[1;33m.\u001b[0m\u001b[0mswitching_step\u001b[0m\u001b[1;33m(\u001b[0m\u001b[1;33m)\u001b[0m\u001b[1;33m\u001b[0m\u001b[0m\n\u001b[0m\u001b[0;32m      5\u001b[0m     \u001b[0mswitchings_on\u001b[0m\u001b[1;33m.\u001b[0m\u001b[0mappend\u001b[0m\u001b[1;33m(\u001b[0m\u001b[0mon_list\u001b[0m\u001b[1;33m)\u001b[0m\u001b[1;33m\u001b[0m\u001b[0m\n\u001b[0;32m      6\u001b[0m     \u001b[0mswitchings_off\u001b[0m\u001b[1;33m.\u001b[0m\u001b[0mappend\u001b[0m\u001b[1;33m(\u001b[0m\u001b[0moff_list\u001b[0m\u001b[1;33m)\u001b[0m\u001b[1;33m\u001b[0m\u001b[0m\n",
        "\u001b[1;32m<ipython-input-4-4c96d43bbfda>\u001b[0m in \u001b[0;36mswitching_step\u001b[1;34m(self)\u001b[0m\n\u001b[0;32m     96\u001b[0m             \u001b[0mON_counter\u001b[0m\u001b[1;33m.\u001b[0m\u001b[0mappend\u001b[0m\u001b[1;33m(\u001b[0m\u001b[0mnum_switched_ON\u001b[0m\u001b[1;33m)\u001b[0m\u001b[1;33m\u001b[0m\u001b[0m\n\u001b[0;32m     97\u001b[0m             \u001b[0mOFF_counter\u001b[0m\u001b[1;33m.\u001b[0m\u001b[0mappend\u001b[0m\u001b[1;33m(\u001b[0m\u001b[0mnum_switched_OFF\u001b[0m\u001b[1;33m)\u001b[0m\u001b[1;33m\u001b[0m\u001b[0m\n\u001b[1;32m---> 98\u001b[1;33m             \u001b[0mself\u001b[0m\u001b[1;33m.\u001b[0m\u001b[0mfill_G\u001b[0m\u001b[1;33m(\u001b[0m\u001b[1;33m)\u001b[0m\u001b[1;33m\u001b[0m\u001b[0m\n\u001b[0m\u001b[0;32m     99\u001b[0m             \u001b[0mself\u001b[0m\u001b[1;33m.\u001b[0m\u001b[0msolve_voltages_percolating\u001b[0m\u001b[1;33m(\u001b[0m\u001b[1;34m'spsolve'\u001b[0m\u001b[1;33m)\u001b[0m\u001b[1;33m\u001b[0m\u001b[0m\n\u001b[0;32m    100\u001b[0m             \u001b[0mself\u001b[0m\u001b[1;33m.\u001b[0m\u001b[0mcalculate_currents\u001b[0m\u001b[1;33m(\u001b[0m\u001b[1;33m)\u001b[0m\u001b[1;33m\u001b[0m\u001b[0m\n",
        "\u001b[1;32m<ipython-input-4-4c96d43bbfda>\u001b[0m in \u001b[0;36mfill_G\u001b[1;34m(self)\u001b[0m\n\u001b[0;32m     85\u001b[0m \u001b[1;33m\u001b[0m\u001b[0m\n\u001b[0;32m     86\u001b[0m     \u001b[1;32mdef\u001b[0m \u001b[0mfill_G\u001b[0m\u001b[1;33m(\u001b[0m\u001b[0mself\u001b[0m\u001b[1;33m)\u001b[0m\u001b[1;33m:\u001b[0m\u001b[1;33m\u001b[0m\u001b[0m\n\u001b[1;32m---> 87\u001b[1;33m         \u001b[0mself\u001b[0m\u001b[1;33m.\u001b[0m\u001b[0mG\u001b[0m\u001b[1;33m[\u001b[0m\u001b[0mself\u001b[0m\u001b[1;33m.\u001b[0m\u001b[0mrows_G\u001b[0m\u001b[1;33m,\u001b[0m \u001b[0mself\u001b[0m\u001b[1;33m.\u001b[0m\u001b[0mcols_G\u001b[0m\u001b[1;33m]\u001b[0m \u001b[1;33m=\u001b[0m \u001b[0mself\u001b[0m\u001b[1;33m.\u001b[0m\u001b[0mG_percolating\u001b[0m\u001b[1;33m[\u001b[0m\u001b[0mself\u001b[0m\u001b[1;33m.\u001b[0m\u001b[0mrows_G_perc\u001b[0m\u001b[1;33m,\u001b[0m \u001b[0mself\u001b[0m\u001b[1;33m.\u001b[0m\u001b[0mcols_G_perc\u001b[0m\u001b[1;33m]\u001b[0m\u001b[1;33m\u001b[0m\u001b[0m\n\u001b[0m\u001b[0;32m     88\u001b[0m \u001b[1;33m\u001b[0m\u001b[0m\n\u001b[0;32m     89\u001b[0m     \u001b[1;32mdef\u001b[0m \u001b[0mswitching_step\u001b[0m\u001b[1;33m(\u001b[0m\u001b[0mself\u001b[0m\u001b[1;33m)\u001b[0m\u001b[1;33m:\u001b[0m\u001b[1;33m\u001b[0m\u001b[0m\n",
        "\u001b[1;32m/usr/local/lib/python2.7/dist-packages/scipy/sparse/compressed.pyc\u001b[0m in \u001b[0;36m__setitem__\u001b[1;34m(self, index, x)\u001b[0m\n\u001b[0;32m    597\u001b[0m         \u001b[1;31m# Set values\u001b[0m\u001b[1;33m\u001b[0m\u001b[1;33m\u001b[0m\u001b[0m\n\u001b[0;32m    598\u001b[0m         \u001b[1;32mfor\u001b[0m \u001b[0mii\u001b[0m\u001b[1;33m,\u001b[0m \u001b[0mjj\u001b[0m\u001b[1;33m,\u001b[0m \u001b[0mxx\u001b[0m \u001b[1;32min\u001b[0m \u001b[0mzip\u001b[0m\u001b[1;33m(\u001b[0m\u001b[0mi\u001b[0m\u001b[1;33m.\u001b[0m\u001b[0mravel\u001b[0m\u001b[1;33m(\u001b[0m\u001b[1;33m)\u001b[0m\u001b[1;33m,\u001b[0m \u001b[0mj\u001b[0m\u001b[1;33m.\u001b[0m\u001b[0mravel\u001b[0m\u001b[1;33m(\u001b[0m\u001b[1;33m)\u001b[0m\u001b[1;33m,\u001b[0m \u001b[0mx\u001b[0m\u001b[1;33m.\u001b[0m\u001b[0mravel\u001b[0m\u001b[1;33m(\u001b[0m\u001b[1;33m)\u001b[0m\u001b[1;33m)\u001b[0m\u001b[1;33m:\u001b[0m\u001b[1;33m\u001b[0m\u001b[0m\n\u001b[1;32m--> 599\u001b[1;33m             \u001b[0mself\u001b[0m\u001b[1;33m.\u001b[0m\u001b[0m_set_one\u001b[0m\u001b[1;33m(\u001b[0m\u001b[0mii\u001b[0m\u001b[1;33m,\u001b[0m \u001b[0mjj\u001b[0m\u001b[1;33m,\u001b[0m \u001b[0mxx\u001b[0m\u001b[1;33m)\u001b[0m\u001b[1;33m\u001b[0m\u001b[0m\n\u001b[0m\u001b[0;32m    600\u001b[0m \u001b[1;33m\u001b[0m\u001b[0m\n\u001b[0;32m    601\u001b[0m     \u001b[1;32mdef\u001b[0m \u001b[0m_get_single_element\u001b[0m\u001b[1;33m(\u001b[0m\u001b[0mself\u001b[0m\u001b[1;33m,\u001b[0m\u001b[0mrow\u001b[0m\u001b[1;33m,\u001b[0m\u001b[0mcol\u001b[0m\u001b[1;33m)\u001b[0m\u001b[1;33m:\u001b[0m\u001b[1;33m\u001b[0m\u001b[0m\n",
        "\u001b[1;32m/usr/local/lib/python2.7/dist-packages/scipy/sparse/compressed.pyc\u001b[0m in \u001b[0;36m_set_one\u001b[1;34m(self, row, col, val)\u001b[0m\n\u001b[0;32m    751\u001b[0m                              % (row,col))\n\u001b[0;32m    752\u001b[0m \u001b[1;33m\u001b[0m\u001b[0m\n\u001b[1;32m--> 753\u001b[1;33m         \u001b[0mself\u001b[0m\u001b[1;33m.\u001b[0m\u001b[0mcheck_format\u001b[0m\u001b[1;33m(\u001b[0m\u001b[0mfull_check\u001b[0m\u001b[1;33m=\u001b[0m\u001b[0mTrue\u001b[0m\u001b[1;33m)\u001b[0m\u001b[1;33m\u001b[0m\u001b[0m\n\u001b[0m\u001b[0;32m    754\u001b[0m \u001b[1;33m\u001b[0m\u001b[0m\n\u001b[0;32m    755\u001b[0m     \u001b[1;31m######################\u001b[0m\u001b[1;33m\u001b[0m\u001b[1;33m\u001b[0m\u001b[0m\n",
        "\u001b[1;32m/usr/local/lib/python2.7/dist-packages/scipy/sparse/compressed.pyc\u001b[0m in \u001b[0;36mcheck_format\u001b[1;34m(self, full_check)\u001b[0m\n\u001b[0;32m    153\u001b[0m                     raise ValueError(\"%s index values must be < %d\" %\n\u001b[0;32m    154\u001b[0m                                         (minor_name,minor_dim))\n\u001b[1;32m--> 155\u001b[1;33m                 \u001b[1;32mif\u001b[0m \u001b[0mself\u001b[0m\u001b[1;33m.\u001b[0m\u001b[0mindices\u001b[0m\u001b[1;33m.\u001b[0m\u001b[0mmin\u001b[0m\u001b[1;33m(\u001b[0m\u001b[1;33m)\u001b[0m \u001b[1;33m<\u001b[0m \u001b[1;36m0\u001b[0m\u001b[1;33m:\u001b[0m\u001b[1;33m\u001b[0m\u001b[0m\n\u001b[0m\u001b[0;32m    156\u001b[0m                     raise ValueError(\"%s index values must be >= 0\" %\n\u001b[0;32m    157\u001b[0m                                         minor_name)\n",
        "\u001b[1;32m/usr/local/lib/python2.7/dist-packages/numpy/core/_methods.pyc\u001b[0m in \u001b[0;36m_amin\u001b[1;34m(a, axis, out, keepdims)\u001b[0m\n\u001b[0;32m     19\u001b[0m \u001b[1;32mdef\u001b[0m \u001b[0m_amin\u001b[0m\u001b[1;33m(\u001b[0m\u001b[0ma\u001b[0m\u001b[1;33m,\u001b[0m \u001b[0maxis\u001b[0m\u001b[1;33m=\u001b[0m\u001b[0mNone\u001b[0m\u001b[1;33m,\u001b[0m \u001b[0mout\u001b[0m\u001b[1;33m=\u001b[0m\u001b[0mNone\u001b[0m\u001b[1;33m,\u001b[0m \u001b[0mkeepdims\u001b[0m\u001b[1;33m=\u001b[0m\u001b[0mFalse\u001b[0m\u001b[1;33m)\u001b[0m\u001b[1;33m:\u001b[0m\u001b[1;33m\u001b[0m\u001b[0m\n\u001b[0;32m     20\u001b[0m     return um.minimum.reduce(a, axis=axis,\n\u001b[1;32m---> 21\u001b[1;33m                             out=out, keepdims=keepdims)\n\u001b[0m\u001b[0;32m     22\u001b[0m \u001b[1;33m\u001b[0m\u001b[0m\n\u001b[0;32m     23\u001b[0m \u001b[1;32mdef\u001b[0m \u001b[0m_sum\u001b[0m\u001b[1;33m(\u001b[0m\u001b[0ma\u001b[0m\u001b[1;33m,\u001b[0m \u001b[0maxis\u001b[0m\u001b[1;33m=\u001b[0m\u001b[0mNone\u001b[0m\u001b[1;33m,\u001b[0m \u001b[0mdtype\u001b[0m\u001b[1;33m=\u001b[0m\u001b[0mNone\u001b[0m\u001b[1;33m,\u001b[0m \u001b[0mout\u001b[0m\u001b[1;33m=\u001b[0m\u001b[0mNone\u001b[0m\u001b[1;33m,\u001b[0m \u001b[0mkeepdims\u001b[0m\u001b[1;33m=\u001b[0m\u001b[0mFalse\u001b[0m\u001b[1;33m)\u001b[0m\u001b[1;33m:\u001b[0m\u001b[1;33m\u001b[0m\u001b[0m\n",
        "\u001b[1;31mKeyboardInterrupt\u001b[0m: "
       ]
      }
     ],
     "prompt_number": 7
    },
    {
     "cell_type": "markdown",
     "metadata": {},
     "source": [
      "But this assumption appears to be false.  Switchings that turn memristors off are numerous, even under a ramped protocol. This may give some interesting phenomena in the conductivity of the network and the structure of the conducting cluster."
     ]
    },
    {
     "cell_type": "code",
     "collapsed": false,
     "input": [
      "on_avalanches = [np.sum(i) for i in switchings_on]\n",
      "off_avalanches = [np.sum(i) for i in switchings_off]\n",
      "total_avalanches = [np.sum(i) for i in zip(on_avalanches, off_avalanches)]\n",
      "\n",
      "fig, ax = plt.subplots()\n",
      "\n",
      "ax.scatter(on_avalanches)\n",
      "ax.scatter(off_avalanches)\n",
      "ax.scatter(total_avalanches)"
     ],
     "language": "python",
     "metadata": {},
     "outputs": []
    },
    {
     "cell_type": "code",
     "collapsed": false,
     "input": [],
     "language": "python",
     "metadata": {},
     "outputs": []
    }
   ],
   "metadata": {}
  }
 ]
}