{
 "metadata": {
  "name": "",
  "signature": "sha256:f0fd5b6b04c40430fcacf74fd06570d39453048ee55a4dbc97be8a52ba036859"
 },
 "nbformat": 3,
 "nbformat_minor": 0,
 "worksheets": [
  {
   "cells": [
    {
     "cell_type": "heading",
     "level": 1,
     "metadata": {},
     "source": [
      "Reversible Fuse Network"
     ]
    },
    {
     "cell_type": "code",
     "collapsed": false,
     "input": [
      "%matplotlib inline"
     ],
     "language": "python",
     "metadata": {},
     "outputs": [],
     "prompt_number": 56
    },
    {
     "cell_type": "code",
     "collapsed": false,
     "input": [
      "import numpy as np\n",
      "import scipy as sp\n",
      "import scipy.sparse as sparse\n",
      "from scipy.sparse.linalg import spsolve, cg\n",
      "import generate_adjacency_matrix as gen_adj\n",
      "import resistor_networks as rnets\n",
      "from __future__ import division\n",
      "import sys"
     ],
     "language": "python",
     "metadata": {},
     "outputs": [],
     "prompt_number": 122
    },
    {
     "cell_type": "code",
     "collapsed": false,
     "input": [
      "import matplotlib.pyplot as plt"
     ],
     "language": "python",
     "metadata": {},
     "outputs": [],
     "prompt_number": 123
    },
    {
     "cell_type": "markdown",
     "metadata": {},
     "source": [
      "I want to consider a modification of the memristor fuse network where memristors transition from OFF to ON when above threshold, and from ON to OFF when below.  I hope to find a state in which we have persistent fluctuations."
     ]
    },
    {
     "cell_type": "code",
     "collapsed": false,
     "input": [
      "class ReversibleFuseNetwork(rnets.ResistorNetwork):\n",
      "    \"\"\"\n",
      "    This class inherits from ResistorNetwork with the aim of adding some dynamical behavior to the\n",
      "    resistors.  In particular, when a resistor has past a certain current threshold, the conductance\n",
      "    is switched from G_OFF to G_ON and vice versa when below. To initialize, we require:\n",
      "    \n",
      "        G                     - An NxN sparse CSR matrix containing the conductances in the network of N nodes\n",
      "        external_voltages     - An Nx1 dense vector of external voltages.  Nodes not set to an external voltages\n",
      "                                contain a Nan. The shape (N,) is preferred\n",
      "        I_threshold           - The current threshold at which the memristor will go from G_OFF to G_ON\n",
      "        G_OFF                 - The conductance in the low conductivity OFF state.  Generally set to 1.\n",
      "        G_ON                  - The conductance in the high conductivity ON state.  Set to 100 by default.\n",
      "    \n",
      "    Other available attributes after initialization are:\n",
      "        currents              - An NxN sparse matrix of currents in the network.  As many tasks in the network will\n",
      "                                require that the currents be calculated, it is best that we do this once and share.\n",
      "        G_percolating\n",
      "        rows_G_perc\n",
      "        cols_G_perc\n",
      "        rows_G\n",
      "        cols_G\n",
      "    \"\"\"\n",
      "    \n",
      "    def __init__(self, G, external_voltages, I_threshold, G_OFF=1, G_ON=100):\n",
      "        rnets.ResistorNetwork.__init__(self, G, external_voltages)\n",
      "        self.I_threshold = I_threshold\n",
      "        self.G_OFF = G_OFF\n",
      "        self.G_ON = G_ON\n",
      "        self.G_percolating = self.G[self.percolating_nodes, :][:, self.percolating_nodes]\n",
      "        self.rows_G_perc, self.cols_G_perc = self.G_percolating.nonzero()\n",
      "        self.rows_G = None  # These are the subsets of G.nonzero() that correspond to the percolating cluster\n",
      "        self.cols_G = None  # used for populating G with the changed values of G_percolating\n",
      "        self.build_rows_cols_G()\n",
      "        self.currents = None\n",
      "    \n",
      "    def build_rows_cols_G(self):\n",
      "        \"\"\"\n",
      "        create the referencing vectors for G that give elements in the percolating cluster.  These are required for populating G\n",
      "        with the values of G_percolating that have been switched.\n",
      "        \"\"\"\n",
      "        rows, cols = self.G.nonzero()\n",
      "        self.rows_G = []\n",
      "        self.cols_G = []\n",
      "        for i, j in zip(rows, cols):\n",
      "            if self.percolating_nodes[i] and self.percolating_nodes[j]:\n",
      "                self.rows_G.append(i)\n",
      "                self.cols_G.append(j)\n",
      "            \n",
      "    def calculate_currents(self):\n",
      "        \"\"\"\n",
      "        calculates a matrix of currents running through each memristor\n",
      "        \"\"\"\n",
      "        self.currents = sparse.lil_matrix(self.G_percolating.shape, dtype=float)\n",
      "        rows, cols = self.G_percolating.nonzero()\n",
      "        self.currents[rows, cols] = np.multiply( self.G_percolating[rows, cols], np.abs(self.voltages[self.percolating_nodes][rows]\n",
      "                                                                                 - self.voltages[self.percolating_nodes][cols]))\n",
      "        self.currents.tocsr()\n",
      "    \n",
      "    def max_unswitched_current(self):\n",
      "        try:\n",
      "            I_max = np.max(np.max(self.currents[self.G_percolating == self.G_OFF].data))\n",
      "        except ValueError:\n",
      "            return None\n",
      "        return I_max\n",
      "    \n",
      "    def min_switched_current(self):\n",
      "        try:\n",
      "            I_min = np.min(np.min(self.currents[self.G_percolating == self.G_ON].data))\n",
      "        except ValueError:\n",
      "            return None\n",
      "        return I_min\n",
      "        \n",
      "    def switch_memristors(self):\n",
      "        \"\"\"\n",
      "        Check the currents on each memristor.  Those that are in the low conductance state and that have a current\n",
      "        above I_thresh will have their conductance switched to G_ON.  Similarly, those that are in the high\n",
      "        conductance state and have a current below I_thresh will have their conductance switched to G_OFF.\n",
      "        \"\"\"\n",
      "        # I used to convert these to boolean but I don't think that's actually necessary\n",
      "        switching_ON_memristors = (self.currents >= self.I_threshold).multiply(self.G_percolating == self.G_OFF)\n",
      "        switching_OFF_memristors = (self.currents < self.I_threshold).multiply(self.G_percolating == self.G_ON)\n",
      "        self.G_percolating[switching_ON_memristors] = self.G_ON\n",
      "        self.G_percolating[switching_OFF_memristors] = self.G_OFF\n",
      "        return switching_ON_memristors.nnz / 2, switching_OFF_memristors.nnz / 2\n",
      "    \n",
      "    def fill_G(self):\n",
      "        self.G[self.rows_G, self.cols_G] = self.G_percolating[self.rows_G_perc, self.cols_G_perc]\n",
      "\n",
      "    def switching_step(self):\n",
      "        ON_counter = []\n",
      "        OFF_counter = []\n",
      "        self.solve_voltages_percolating('spsolve')\n",
      "        self.calculate_currents()\n",
      "        num_switched_ON, num_switched_OFF = self.switch_memristors()\n",
      "        while num_switched_ON != 0 or num_switched_OFF != 0:\n",
      "            ON_counter.append(num_switched_ON)\n",
      "            OFF_counter.append(num_switched_OFF)\n",
      "            self.fill_G()\n",
      "            self.solve_voltages_percolating('spsolve')\n",
      "            self.calculate_currents()\n",
      "            num_switched_ON, num_switched_OFF = self.switch_memristors()\n",
      "        return ON_counter, OFF_counter\n",
      "    \n",
      "    def new_voltage_ramp(self, prev_voltage):\n",
      "        return prev_voltage * self.I_threshold / self.max_unswitched_current() + 1e-15\n",
      "    \n",
      "    def new_voltage_nearest(self, prev_voltage):\n",
      "        \"\"\"\n",
      "        Calculate the external voltage required for the nearest memristor to be switched, either on or off.\n",
      "        \"\"\"\n",
      "        # Calculate the factor by which the voltage will have to be changed to switche the unswitched memristor with\n",
      "        # the largest current and the switched memristor with the lowest\n",
      "        \n",
      "        max_unswitched = self.max_unswitched_current()\n",
      "        min_switched = self.min_switched_current()\n",
      "        if min_switched == None and max_unswitched != None:\n",
      "            return prev_voltage * self.I_threshold / self.max_unswitched_current()\n",
      "        elif max_unswitched == None and min_switched != None:\n",
      "            return prev_voltage * self.I_threshold / self.min_unswitched_current()\n",
      "\n",
      "        up_ratio = self.I_threshold / max_unswitched\n",
      "        down_ratio = self.I_threshold / min_switched\n",
      "        \n",
      "        # Change the voltage by the smallest amount required to observe a switching \n",
      "        if (up_ratio - 1) < (1 - down_ratio):\n",
      "            return prev_voltage * up_ratio + 1e-15\n",
      "        else:\n",
      "            return prev_voltage * down_ratio - 1e-15\n",
      "\n",
      "    def update_voltage_busbar(self, voltage):\n",
      "        \"\"\"\n",
      "        Using bus bar topology, this takes the previous voltage at the zeroth node and updates it so that the next memristor\n",
      "        will flip\n",
      "        \"\"\"\n",
      "        self.external_voltages[0:int(np.sqrt(self.G.shape[0]))] = voltage"
     ],
     "language": "python",
     "metadata": {},
     "outputs": [],
     "prompt_number": 138
    },
    {
     "cell_type": "heading",
     "level": 3,
     "metadata": {},
     "source": [
      "Testing"
     ]
    },
    {
     "cell_type": "code",
     "collapsed": false,
     "input": [
      "L = 64\n",
      "p = 0.55\n",
      "G_init = gen_adj.cubic_2d_random((L, L), p)\n",
      "v_external = np.empty(L*L) * np.nan\n",
      "v_external[0:L] = 1e-5\n",
      "v_external[-L:] = 0\n",
      "I_thresh = 1\n",
      "testnet = ReversibleFuseNetwork(G_init, v_external, I_thresh, G_OFF=1, G_ON=100)"
     ],
     "language": "python",
     "metadata": {},
     "outputs": [],
     "prompt_number": 139
    },
    {
     "cell_type": "code",
     "collapsed": false,
     "input": [
      "testnet.solve_voltages('spsolve')\n",
      "testnet.calculate_currents()\n",
      "total_memristors = testnet.G_percolating.nnz / 2\n",
      "\n",
      "conductivities = [testnet.conductivity()]\n",
      "voltages = [testnet.external_voltages[0]]\n",
      "switchings_on = []\n",
      "switchings_off = []"
     ],
     "language": "python",
     "metadata": {},
     "outputs": [],
     "prompt_number": 140
    },
    {
     "cell_type": "markdown",
     "metadata": {},
     "source": [
      "First, I would like to conclude that OFF switchings are not important if the voltage is simply ramped."
     ]
    },
    {
     "cell_type": "code",
     "collapsed": false,
     "input": [
      "while testnet.max_unswitched_current() != None:\n",
      "    voltages.append(testnet.new_voltage_ramp(testnet.external_voltages[0]))\n",
      "    testnet.update_voltage_busbar(voltages[-1])\n",
      "    on_list, off_list = testnet.switching_step()\n",
      "    switchings_on.append(on_list)\n",
      "    switchings_off.append(off_list)\n",
      "    conductivities.append(testnet.conductivity())\n",
      "    print \"At voltage %0.4f we have switchings\" % (voltages[-1]),\n",
      "    print on_list, off_list\n",
      "    sys.stdout.flush()"
     ],
     "language": "python",
     "metadata": {},
     "outputs": [
      {
       "output_type": "stream",
       "stream": "stdout",
       "text": [
        "At voltage 35.9166 we have switchings [1.0, 1.0] [0.0, 0.0]\n"
       ]
      },
      {
       "output_type": "stream",
       "stream": "stdout",
       "text": [
        "At voltage 41.2839 we have switchings [2.0, 4.0, 2.0] [0.0, 0.0, 0.0]\n"
       ]
      },
      {
       "output_type": "stream",
       "stream": "stdout",
       "text": [
        "At voltage 41.6982 we have switchings [1.0, 1.0] [0.0, 0.0]\n"
       ]
      },
      {
       "output_type": "stream",
       "stream": "stdout",
       "text": [
        "At voltage 42.9370 we have switchings [1.0, 2.0, 4.0, 2.0, 1.0, 1.0, 7.0, 7.0, 9.0, 15.0, 45.0, 89.0, 105.0, 19.0, 0.0] [0.0, 0.0, 0.0, 0.0, 0.0, 0.0, 0.0, 0.0, 0.0, 0.0, 0.0, 2.0, 3.0, 55.0, 8.0]\n"
       ]
      },
      {
       "output_type": "stream",
       "stream": "stdout",
       "text": [
        "At voltage 43.4002 we have switchings [2.0, 4.0, 1.0] [0.0, 0.0, 0.0]\n"
       ]
      },
      {
       "output_type": "stream",
       "stream": "stdout",
       "text": [
        "At voltage 44.0557 we have switchings [2.0, 12.0, 24.0, 30.0, 0.0, 0.0] [0.0, 0.0, 0.0, 0.0, 5.0, 2.0]\n"
       ]
      },
      {
       "output_type": "stream",
       "stream": "stdout",
       "text": [
        "At voltage 51.7635 we have switchings [1.0, 3.0] [0.0, 0.0]\n"
       ]
      },
      {
       "output_type": "stream",
       "stream": "stdout",
       "text": [
        "At voltage 54.4178 we have switchings [1.0] [0.0]\n"
       ]
      },
      {
       "output_type": "stream",
       "stream": "stdout",
       "text": [
        "At voltage 61.2377 we have switchings [1.0] [0.0]\n"
       ]
      },
      {
       "output_type": "stream",
       "stream": "stdout",
       "text": [
        "At voltage 61.8850 we have switchings [] []\n"
       ]
      },
      {
       "output_type": "stream",
       "stream": "stdout",
       "text": [
        "At voltage 61.8850 we have switchings [2.0] [0.0]\n"
       ]
      },
      {
       "output_type": "stream",
       "stream": "stdout",
       "text": [
        "At voltage 63.6685 we have switchings [1.0] [0.0]\n"
       ]
      },
      {
       "output_type": "stream",
       "stream": "stdout",
       "text": [
        "At voltage 72.3683 we have switchings [2.0, 3.0] [0.0, 0.0]\n"
       ]
      },
      {
       "output_type": "stream",
       "stream": "stdout",
       "text": [
        "At voltage 78.1773 we have switchings [1.0] [0.0]\n"
       ]
      },
      {
       "ename": "KeyboardInterrupt",
       "evalue": "",
       "output_type": "pyerr",
       "traceback": [
        "\u001b[1;31m---------------------------------------------------------------------------\u001b[0m\n\u001b[1;31mKeyboardInterrupt\u001b[0m                         Traceback (most recent call last)",
        "\u001b[1;32m<ipython-input-141-509db7c80717>\u001b[0m in \u001b[0;36m<module>\u001b[1;34m()\u001b[0m\n\u001b[0;32m      2\u001b[0m     \u001b[0mvoltages\u001b[0m\u001b[1;33m.\u001b[0m\u001b[0mappend\u001b[0m\u001b[1;33m(\u001b[0m\u001b[0mtestnet\u001b[0m\u001b[1;33m.\u001b[0m\u001b[0mnew_voltage_ramp\u001b[0m\u001b[1;33m(\u001b[0m\u001b[0mtestnet\u001b[0m\u001b[1;33m.\u001b[0m\u001b[0mexternal_voltages\u001b[0m\u001b[1;33m[\u001b[0m\u001b[1;36m0\u001b[0m\u001b[1;33m]\u001b[0m\u001b[1;33m)\u001b[0m\u001b[1;33m)\u001b[0m\u001b[1;33m\u001b[0m\u001b[0m\n\u001b[0;32m      3\u001b[0m     \u001b[0mtestnet\u001b[0m\u001b[1;33m.\u001b[0m\u001b[0mupdate_voltage_busbar\u001b[0m\u001b[1;33m(\u001b[0m\u001b[0mvoltages\u001b[0m\u001b[1;33m[\u001b[0m\u001b[1;33m-\u001b[0m\u001b[1;36m1\u001b[0m\u001b[1;33m]\u001b[0m\u001b[1;33m)\u001b[0m\u001b[1;33m\u001b[0m\u001b[0m\n\u001b[1;32m----> 4\u001b[1;33m     \u001b[0mon_list\u001b[0m\u001b[1;33m,\u001b[0m \u001b[0moff_list\u001b[0m \u001b[1;33m=\u001b[0m \u001b[0mtestnet\u001b[0m\u001b[1;33m.\u001b[0m\u001b[0mswitching_step\u001b[0m\u001b[1;33m(\u001b[0m\u001b[1;33m)\u001b[0m\u001b[1;33m\u001b[0m\u001b[0m\n\u001b[0m\u001b[0;32m      5\u001b[0m     \u001b[0mswitchings_on\u001b[0m\u001b[1;33m.\u001b[0m\u001b[0mappend\u001b[0m\u001b[1;33m(\u001b[0m\u001b[0mon_list\u001b[0m\u001b[1;33m)\u001b[0m\u001b[1;33m\u001b[0m\u001b[0m\n\u001b[0;32m      6\u001b[0m     \u001b[0mswitchings_off\u001b[0m\u001b[1;33m.\u001b[0m\u001b[0mappend\u001b[0m\u001b[1;33m(\u001b[0m\u001b[0moff_list\u001b[0m\u001b[1;33m)\u001b[0m\u001b[1;33m\u001b[0m\u001b[0m\n",
        "\u001b[1;32m<ipython-input-138-4c96d43bbfda>\u001b[0m in \u001b[0;36mswitching_step\u001b[1;34m(self)\u001b[0m\n\u001b[0;32m     99\u001b[0m             \u001b[0mself\u001b[0m\u001b[1;33m.\u001b[0m\u001b[0msolve_voltages_percolating\u001b[0m\u001b[1;33m(\u001b[0m\u001b[1;34m'spsolve'\u001b[0m\u001b[1;33m)\u001b[0m\u001b[1;33m\u001b[0m\u001b[0m\n\u001b[0;32m    100\u001b[0m             \u001b[0mself\u001b[0m\u001b[1;33m.\u001b[0m\u001b[0mcalculate_currents\u001b[0m\u001b[1;33m(\u001b[0m\u001b[1;33m)\u001b[0m\u001b[1;33m\u001b[0m\u001b[0m\n\u001b[1;32m--> 101\u001b[1;33m             \u001b[0mnum_switched_ON\u001b[0m\u001b[1;33m,\u001b[0m \u001b[0mnum_switched_OFF\u001b[0m \u001b[1;33m=\u001b[0m \u001b[0mself\u001b[0m\u001b[1;33m.\u001b[0m\u001b[0mswitch_memristors\u001b[0m\u001b[1;33m(\u001b[0m\u001b[1;33m)\u001b[0m\u001b[1;33m\u001b[0m\u001b[0m\n\u001b[0m\u001b[0;32m    102\u001b[0m         \u001b[1;32mreturn\u001b[0m \u001b[0mON_counter\u001b[0m\u001b[1;33m,\u001b[0m \u001b[0mOFF_counter\u001b[0m\u001b[1;33m\u001b[0m\u001b[0m\n\u001b[0;32m    103\u001b[0m \u001b[1;33m\u001b[0m\u001b[0m\n",
        "\u001b[1;32m<ipython-input-138-4c96d43bbfda>\u001b[0m in \u001b[0;36mswitch_memristors\u001b[1;34m(self)\u001b[0m\n\u001b[0;32m     79\u001b[0m         \u001b[1;31m# I used to convert these to boolean but I don't think that's actually necessary\u001b[0m\u001b[1;33m\u001b[0m\u001b[1;33m\u001b[0m\u001b[0m\n\u001b[0;32m     80\u001b[0m         \u001b[0mswitching_ON_memristors\u001b[0m \u001b[1;33m=\u001b[0m \u001b[1;33m(\u001b[0m\u001b[0mself\u001b[0m\u001b[1;33m.\u001b[0m\u001b[0mcurrents\u001b[0m \u001b[1;33m>=\u001b[0m \u001b[0mself\u001b[0m\u001b[1;33m.\u001b[0m\u001b[0mI_threshold\u001b[0m\u001b[1;33m)\u001b[0m\u001b[1;33m.\u001b[0m\u001b[0mmultiply\u001b[0m\u001b[1;33m(\u001b[0m\u001b[0mself\u001b[0m\u001b[1;33m.\u001b[0m\u001b[0mG_percolating\u001b[0m \u001b[1;33m==\u001b[0m \u001b[0mself\u001b[0m\u001b[1;33m.\u001b[0m\u001b[0mG_OFF\u001b[0m\u001b[1;33m)\u001b[0m\u001b[1;33m\u001b[0m\u001b[0m\n\u001b[1;32m---> 81\u001b[1;33m         \u001b[0mswitching_OFF_memristors\u001b[0m \u001b[1;33m=\u001b[0m \u001b[1;33m(\u001b[0m\u001b[0mself\u001b[0m\u001b[1;33m.\u001b[0m\u001b[0mcurrents\u001b[0m \u001b[1;33m<\u001b[0m \u001b[0mself\u001b[0m\u001b[1;33m.\u001b[0m\u001b[0mI_threshold\u001b[0m\u001b[1;33m)\u001b[0m\u001b[1;33m.\u001b[0m\u001b[0mmultiply\u001b[0m\u001b[1;33m(\u001b[0m\u001b[0mself\u001b[0m\u001b[1;33m.\u001b[0m\u001b[0mG_percolating\u001b[0m \u001b[1;33m==\u001b[0m \u001b[0mself\u001b[0m\u001b[1;33m.\u001b[0m\u001b[0mG_ON\u001b[0m\u001b[1;33m)\u001b[0m\u001b[1;33m\u001b[0m\u001b[0m\n\u001b[0m\u001b[0;32m     82\u001b[0m         \u001b[0mself\u001b[0m\u001b[1;33m.\u001b[0m\u001b[0mG_percolating\u001b[0m\u001b[1;33m[\u001b[0m\u001b[0mswitching_ON_memristors\u001b[0m\u001b[1;33m]\u001b[0m \u001b[1;33m=\u001b[0m \u001b[0mself\u001b[0m\u001b[1;33m.\u001b[0m\u001b[0mG_ON\u001b[0m\u001b[1;33m\u001b[0m\u001b[0m\n\u001b[0;32m     83\u001b[0m         \u001b[0mself\u001b[0m\u001b[1;33m.\u001b[0m\u001b[0mG_percolating\u001b[0m\u001b[1;33m[\u001b[0m\u001b[0mswitching_OFF_memristors\u001b[0m\u001b[1;33m]\u001b[0m \u001b[1;33m=\u001b[0m \u001b[0mself\u001b[0m\u001b[1;33m.\u001b[0m\u001b[0mG_OFF\u001b[0m\u001b[1;33m\u001b[0m\u001b[0m\n",
        "\u001b[1;32m/usr/local/lib/python2.7/dist-packages/scipy/sparse/base.pyc\u001b[0m in \u001b[0;36m__lt__\u001b[1;34m(self, other)\u001b[0m\n\u001b[0;32m    247\u001b[0m \u001b[1;33m\u001b[0m\u001b[0m\n\u001b[0;32m    248\u001b[0m     \u001b[1;32mdef\u001b[0m \u001b[0m__lt__\u001b[0m\u001b[1;33m(\u001b[0m\u001b[0mself\u001b[0m\u001b[1;33m,\u001b[0m\u001b[0mother\u001b[0m\u001b[1;33m)\u001b[0m\u001b[1;33m:\u001b[0m\u001b[1;33m\u001b[0m\u001b[0m\n\u001b[1;32m--> 249\u001b[1;33m         \u001b[1;32mreturn\u001b[0m \u001b[0mself\u001b[0m\u001b[1;33m.\u001b[0m\u001b[0mtocsr\u001b[0m\u001b[1;33m(\u001b[0m\u001b[1;33m)\u001b[0m\u001b[1;33m.\u001b[0m\u001b[0m__lt__\u001b[0m\u001b[1;33m(\u001b[0m\u001b[0mother\u001b[0m\u001b[1;33m)\u001b[0m\u001b[1;33m\u001b[0m\u001b[0m\n\u001b[0m\u001b[0;32m    250\u001b[0m \u001b[1;33m\u001b[0m\u001b[0m\n\u001b[0;32m    251\u001b[0m     \u001b[1;32mdef\u001b[0m \u001b[0m__gt__\u001b[0m\u001b[1;33m(\u001b[0m\u001b[0mself\u001b[0m\u001b[1;33m,\u001b[0m\u001b[0mother\u001b[0m\u001b[1;33m)\u001b[0m\u001b[1;33m:\u001b[0m\u001b[1;33m\u001b[0m\u001b[0m\n",
        "\u001b[1;32m/usr/local/lib/python2.7/dist-packages/scipy/sparse/compressed.pyc\u001b[0m in \u001b[0;36m__lt__\u001b[1;34m(self, other)\u001b[0m\n\u001b[0;32m    237\u001b[0m                 \u001b[0mother_arr\u001b[0m \u001b[1;33m=\u001b[0m \u001b[0mnp\u001b[0m\u001b[1;33m.\u001b[0m\u001b[0mempty\u001b[0m\u001b[1;33m(\u001b[0m\u001b[0mself\u001b[0m\u001b[1;33m.\u001b[0m\u001b[0mshape\u001b[0m\u001b[1;33m)\u001b[0m\u001b[1;33m\u001b[0m\u001b[0m\n\u001b[0;32m    238\u001b[0m                 \u001b[0mother_arr\u001b[0m\u001b[1;33m.\u001b[0m\u001b[0mfill\u001b[0m\u001b[1;33m(\u001b[0m\u001b[0mother\u001b[0m\u001b[1;33m)\u001b[0m\u001b[1;33m\u001b[0m\u001b[0m\n\u001b[1;32m--> 239\u001b[1;33m                 \u001b[0mother_arr\u001b[0m \u001b[1;33m=\u001b[0m \u001b[0mself\u001b[0m\u001b[1;33m.\u001b[0m\u001b[0m__class__\u001b[0m\u001b[1;33m(\u001b[0m\u001b[0mother_arr\u001b[0m\u001b[1;33m)\u001b[0m\u001b[1;33m\u001b[0m\u001b[0m\n\u001b[0m\u001b[0;32m    240\u001b[0m                 \u001b[1;32mreturn\u001b[0m \u001b[0mself\u001b[0m\u001b[1;33m.\u001b[0m\u001b[0m_binopt\u001b[0m\u001b[1;33m(\u001b[0m\u001b[0mother_arr\u001b[0m\u001b[1;33m,\u001b[0m \u001b[1;34m'_lt_'\u001b[0m\u001b[1;33m)\u001b[0m\u001b[1;33m\u001b[0m\u001b[0m\n\u001b[0;32m    241\u001b[0m             \u001b[1;32melse\u001b[0m\u001b[1;33m:\u001b[0m\u001b[1;33m\u001b[0m\u001b[0m\n",
        "\u001b[1;32m/usr/local/lib/python2.7/dist-packages/scipy/sparse/compressed.pyc\u001b[0m in \u001b[0;36m__init__\u001b[1;34m(self, arg1, shape, dtype, copy)\u001b[0m\n\u001b[0;32m     63\u001b[0m                         self.format)\n\u001b[0;32m     64\u001b[0m             \u001b[1;32mfrom\u001b[0m \u001b[1;33m.\u001b[0m\u001b[0mcoo\u001b[0m \u001b[1;32mimport\u001b[0m \u001b[0mcoo_matrix\u001b[0m\u001b[1;33m\u001b[0m\u001b[0m\n\u001b[1;32m---> 65\u001b[1;33m             \u001b[0mself\u001b[0m\u001b[1;33m.\u001b[0m\u001b[0m_set_self\u001b[0m\u001b[1;33m(\u001b[0m\u001b[0mself\u001b[0m\u001b[1;33m.\u001b[0m\u001b[0m__class__\u001b[0m\u001b[1;33m(\u001b[0m\u001b[0mcoo_matrix\u001b[0m\u001b[1;33m(\u001b[0m\u001b[0marg1\u001b[0m\u001b[1;33m,\u001b[0m \u001b[0mdtype\u001b[0m\u001b[1;33m=\u001b[0m\u001b[0mdtype\u001b[0m\u001b[1;33m)\u001b[0m\u001b[1;33m)\u001b[0m\u001b[1;33m)\u001b[0m\u001b[1;33m\u001b[0m\u001b[0m\n\u001b[0m\u001b[0;32m     66\u001b[0m \u001b[1;33m\u001b[0m\u001b[0m\n\u001b[0;32m     67\u001b[0m         \u001b[1;31m# Read matrix dimensions given, if any\u001b[0m\u001b[1;33m\u001b[0m\u001b[1;33m\u001b[0m\u001b[0m\n",
        "\u001b[1;32m/usr/local/lib/python2.7/dist-packages/scipy/sparse/coo.pyc\u001b[0m in \u001b[0;36m__init__\u001b[1;34m(self, arg1, shape, dtype, copy)\u001b[0m\n\u001b[0;32m    186\u001b[0m \u001b[1;33m\u001b[0m\u001b[0m\n\u001b[0;32m    187\u001b[0m                 \u001b[0mself\u001b[0m\u001b[1;33m.\u001b[0m\u001b[0mrow\u001b[0m\u001b[1;33m,\u001b[0m \u001b[0mself\u001b[0m\u001b[1;33m.\u001b[0m\u001b[0mcol\u001b[0m \u001b[1;33m=\u001b[0m \u001b[0mM\u001b[0m\u001b[1;33m.\u001b[0m\u001b[0mnonzero\u001b[0m\u001b[1;33m(\u001b[0m\u001b[1;33m)\u001b[0m\u001b[1;33m\u001b[0m\u001b[0m\n\u001b[1;32m--> 188\u001b[1;33m                 \u001b[0mself\u001b[0m\u001b[1;33m.\u001b[0m\u001b[0mdata\u001b[0m \u001b[1;33m=\u001b[0m \u001b[0mM\u001b[0m\u001b[1;33m[\u001b[0m\u001b[0mself\u001b[0m\u001b[1;33m.\u001b[0m\u001b[0mrow\u001b[0m\u001b[1;33m,\u001b[0m \u001b[0mself\u001b[0m\u001b[1;33m.\u001b[0m\u001b[0mcol\u001b[0m\u001b[1;33m]\u001b[0m\u001b[1;33m\u001b[0m\u001b[0m\n\u001b[0m\u001b[0;32m    189\u001b[0m \u001b[1;33m\u001b[0m\u001b[0m\n\u001b[0;32m    190\u001b[0m         \u001b[1;32mif\u001b[0m \u001b[0mdtype\u001b[0m \u001b[1;32mis\u001b[0m \u001b[1;32mnot\u001b[0m \u001b[0mNone\u001b[0m\u001b[1;33m:\u001b[0m\u001b[1;33m\u001b[0m\u001b[0m\n",
        "\u001b[1;31mKeyboardInterrupt\u001b[0m: "
       ]
      }
     ],
     "prompt_number": 141
    },
    {
     "cell_type": "markdown",
     "metadata": {},
     "source": [
      "But this assumption appears to be false.  Switchings that turn memristors off are numerous, even under a ramped protocol. This may give some interesting phenomena in the conductivity of the network and the structure of the conducting cluster."
     ]
    },
    {
     "cell_type": "code",
     "collapsed": false,
     "input": [],
     "language": "python",
     "metadata": {},
     "outputs": []
    },
    {
     "cell_type": "code",
     "collapsed": false,
     "input": [],
     "language": "python",
     "metadata": {},
     "outputs": []
    }
   ],
   "metadata": {}
  }
 ]
}